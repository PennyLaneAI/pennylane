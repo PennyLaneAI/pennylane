{
 "cells": [
  {
   "cell_type": "markdown",
   "metadata": {},
   "source": [
    "# Tutorial CV3 - Function fitting with a quantum neural network"
   ]
  },
  {
   "cell_type": "markdown",
   "metadata": {},
   "source": [
    "In this tutorial we show how a variational circuit can be used to extrapolate a one-dimensional function when being trained with noisy samples from that function. \n",
    "\n",
    "The variational circuit we use is the continuous-variable quantum neural network model described in Killoran et al. 2018 (arxiv 1806.06871). "
   ]
  },
  {
   "cell_type": "markdown",
   "metadata": {},
   "source": [
    "### Imports"
   ]
  },
  {
   "cell_type": "markdown",
   "metadata": {},
   "source": [
    "This time we will use the Adam optimizer. \n",
    "\n",
    "*Note: For convenience, we use Penny Lane's numpy library for all numpy processing. Strictly speaking, one only needs this library for numpy operations inside the cost function or functions called therein, and can use numpy imported via the usual `import numpy as np` everywhere else.*"
   ]
  },
  {
   "cell_type": "code",
   "execution_count": 1,
   "metadata": {},
   "outputs": [],
   "source": [
    "import pennylane as qm\n",
    "from pennylane import numpy as np\n",
    "from pennylane.optimize import AdamOptimizer"
   ]
  },
  {
   "cell_type": "markdown",
   "metadata": {},
   "source": [
    "The device we use is the Strawberry Fields simulator, this time with only one quantum mode or \"wire\". You need to have the Strawberry Fields plugin to Penny Lane installed."
   ]
  },
  {
   "cell_type": "code",
   "execution_count": 2,
   "metadata": {},
   "outputs": [],
   "source": [
    "try:\n",
    "    dev = qml.device('strawberryfields.fock', wires=1, cutoff_dim=10)    \n",
    "    \n",
    "except:\n",
    "    print(\"To run this tutorial you need to install the strawberryfields plugin...\")"
   ]
  },
  {
   "cell_type": "markdown",
   "metadata": {},
   "source": [
    "### Quantum node\n",
    "\n",
    "A single mode layer of the variational circuit is defined as:"
   ]
  },
  {
   "cell_type": "code",
   "execution_count": 3,
   "metadata": {},
   "outputs": [],
   "source": [
    "def layer(v):\n",
    "\n",
    "    # Matrix multiplication of input layer\n",
    "    qml.Rotation(v[0], wires=[0])\n",
    "    qml.Squeezing(v[1], 0., wires=[0])\n",
    "    qml.Rotation(v[2], wires=[0])\n",
    "\n",
    "    # Bias\n",
    "    qml.Displacement(v[3], 0., wires=[0])\n",
    "\n",
    "    # Element-wise nonlinear transformation\n",
    "    qml.Kerr(v[4], [0])"
   ]
  },
  {
   "cell_type": "markdown",
   "metadata": {},
   "source": [
    "The variational circuit in the quantum node first encodes the input into the displacement of the mode, and then executes the layers. The output is the expectation of the x-quadrature."
   ]
  },
  {
   "cell_type": "code",
   "execution_count": 4,
   "metadata": {},
   "outputs": [],
   "source": [
    "@qml.qnode(dev)\n",
    "def quantum_neural_net(var, x=None):\n",
    "    \n",
    "    # Encode input x into quantum state\n",
    "    qml.Displacement(x, 0., wires=[0])\n",
    "\n",
    "    # execute \"layers\"\n",
    "    for v in var:\n",
    "        layer(v)\n",
    "\n",
    "    return qml.expval.X(0)"
   ]
  },
  {
   "cell_type": "markdown",
   "metadata": {},
   "source": [
    "### Objective"
   ]
  },
  {
   "cell_type": "markdown",
   "metadata": {},
   "source": [
    "As an objective we take the square loss between target labels and model predictions."
   ]
  },
  {
   "cell_type": "code",
   "execution_count": 5,
   "metadata": {},
   "outputs": [],
   "source": [
    "def square_loss(labels, predictions):\n",
    "\n",
    "    loss = 0\n",
    "    for l, p in zip(labels, predictions):\n",
    "        loss += (l-p)**2\n",
    "    loss = loss/len(labels)\n",
    "\n",
    "    return loss"
   ]
  },
  {
   "cell_type": "markdown",
   "metadata": {},
   "source": [
    "In the cost function, we compute the outputs from the variational circuit. Function fitting is a regression problem, and we interpret the expectations from the quantum node as predictions (i.e. without applying postprocessing such as thresholding)."
   ]
  },
  {
   "cell_type": "code",
   "execution_count": 6,
   "metadata": {},
   "outputs": [],
   "source": [
    "def cost(var, features, labels):\n",
    "\n",
    "    preds = [quantum_neural_net(var, x=x) for x in features]\n",
    "\n",
    "    return square_loss(labels, preds)"
   ]
  },
  {
   "cell_type": "markdown",
   "metadata": {},
   "source": [
    "### Optimization"
   ]
  },
  {
   "cell_type": "markdown",
   "metadata": {},
   "source": [
    "We load noisy data samples of a sine function."
   ]
  },
  {
   "cell_type": "code",
   "execution_count": 7,
   "metadata": {},
   "outputs": [],
   "source": [
    "data = np.loadtxt(\"sine.txt\")\n",
    "X = data[:, 0]\n",
    "Y = data[:, 1]"
   ]
  },
  {
   "cell_type": "markdown",
   "metadata": {},
   "source": [
    "The data looks as follows. \n",
    "\n",
    "*Note: For the next cell to work you need python's matplotlib library.* "
   ]
  },
  {
   "cell_type": "code",
   "execution_count": 8,
   "metadata": {},
   "outputs": [
    {
     "data": {
      "image/png": "[encoded data removed]",
      "text/plain": [
       "<Figure size 432x288 with 1 Axes>"
      ]
     },
     "metadata": {},
     "output_type": "display_data"
    }
   ],
   "source": [
    "import matplotlib.pyplot as plt\n",
    "%matplotlib inline  \n",
    "\n",
    "plt.figure()\n",
    "plt.scatter(X, Y)\n",
    "plt.xlabel('x', fontsize=18)\n",
    "plt.ylabel('f(x)', fontsize=18)\n",
    "plt.tick_params(axis='both', which='major', labelsize=16)\n",
    "plt.tick_params(axis='both', which='minor', labelsize=16)\n",
    "plt.show()"
   ]
  },
  {
   "cell_type": "markdown",
   "metadata": {},
   "source": [
    "The network's weights, which we call variables here, are initialized with values sampled from a normal distribution. We use 4 layers, although performance has been found to plateau at around 6 layers."
   ]
  },
  {
   "cell_type": "code",
   "execution_count": 9,
   "metadata": {},
   "outputs": [
    {
     "data": {
      "text/plain": [
       "array([[-0.00059975,  0.02703709,  0.10753069, -0.01404406,  0.00701316,\n",
       "        -0.09267455, -0.01636058],\n",
       "       [ 0.00736721,  0.02360485, -0.06415404,  0.10136537,  0.09282207,\n",
       "        -0.12027798,  0.03443421],\n",
       "       [-0.0473637 ,  0.04568577,  0.03190277, -0.03296799,  0.00394201,\n",
       "         0.0368665 , -0.02131034],\n",
       "       [-0.02192684,  0.01490227,  0.04251858, -0.04899001, -0.10825417,\n",
       "        -0.02728108,  0.05813111]])"
      ]
     },
     "execution_count": 9,
     "metadata": {},
     "output_type": "execute_result"
    }
   ],
   "source": [
    "num_layers = 4\n",
    "var_init = 0.05*np.random.randn(num_layers, 7)\n",
    "\n",
    "var_init"
   ]
  },
  {
   "cell_type": "markdown",
   "metadata": {},
   "source": [
    "We choose the Adam optimizer and update the weights for 10 steps."
   ]
  },
  {
   "cell_type": "code",
   "execution_count": 10,
   "metadata": {},
   "outputs": [
    {
     "name": "stdout",
     "output_type": "stream",
     "text": [
      "Iter:     1 | Cost: 0.3090922 \n",
      "Iter:     2 | Cost: 0.3032331 \n",
      "Iter:     3 | Cost: 0.2978827 \n",
      "Iter:     4 | Cost: 0.2925242 \n",
      "Iter:     5 | Cost: 0.2868469 \n",
      "Iter:     6 | Cost: 0.2806203 \n",
      "Iter:     7 | Cost: 0.2736549 \n",
      "Iter:     8 | Cost: 0.2657934 \n",
      "Iter:     9 | Cost: 0.2569197 \n",
      "Iter:    10 | Cost: 0.2469741 \n"
     ]
    }
   ],
   "source": [
    "o = AdamOptimizer(0.005, beta1=0.9, beta2=0.999)\n",
    "\n",
    "var = var_init\n",
    "for it in range(10):\n",
    "    var = o.step(lambda v: cost(v, X, Y), var)\n",
    "    \n",
    "    print(\"Iter: {:5d} | Cost: {:0.7f} \".format(it+1, cost(var, X, Y)))"
   ]
  },
  {
   "cell_type": "markdown",
   "metadata": {},
   "source": [
    "We can continue training for another 50 steps (although this takes some time)."
   ]
  },
  {
   "cell_type": "code",
   "execution_count": 11,
   "metadata": {},
   "outputs": [
    {
     "name": "stdout",
     "output_type": "stream",
     "text": [
      "Iter:    11 | Cost: 0.2359730\n",
      "Iter:    12 | Cost: 0.2240299\n",
      "Iter:    13 | Cost: 0.2113741\n",
      "Iter:    14 | Cost: 0.1983652\n",
      "Iter:    15 | Cost: 0.1854955\n",
      "Iter:    16 | Cost: 0.1733741\n",
      "Iter:    17 | Cost: 0.1626840\n",
      "Iter:    18 | Cost: 0.1541021\n",
      "Iter:    19 | Cost: 0.1481801\n",
      "Iter:    20 | Cost: 0.1451937\n",
      "Iter:    21 | Cost: 0.1449971\n",
      "Iter:    22 | Cost: 0.1469549\n",
      "Iter:    23 | Cost: 0.1500366\n",
      "Iter:    24 | Cost: 0.1530849\n",
      "Iter:    25 | Cost: 0.1551347\n",
      "Iter:    26 | Cost: 0.1556214\n",
      "Iter:    27 | Cost: 0.1544181\n",
      "Iter:    28 | Cost: 0.1517488\n",
      "Iter:    29 | Cost: 0.1480526\n",
      "Iter:    30 | Cost: 0.1438493\n",
      "Iter:    31 | Cost: 0.1396313\n",
      "Iter:    32 | Cost: 0.1357891\n",
      "Iter:    33 | Cost: 0.1325718\n",
      "Iter:    34 | Cost: 0.1300786\n",
      "Iter:    35 | Cost: 0.1282778\n",
      "Iter:    36 | Cost: 0.1270411\n",
      "Iter:    37 | Cost: 0.1261868\n",
      "Iter:    38 | Cost: 0.1255199\n",
      "Iter:    39 | Cost: 0.1248645\n",
      "Iter:    40 | Cost: 0.1240840\n",
      "Iter:    41 | Cost: 0.1230917\n",
      "Iter:    42 | Cost: 0.1218512\n",
      "Iter:    43 | Cost: 0.1203712\n",
      "Iter:    44 | Cost: 0.1186965\n",
      "Iter:    45 | Cost: 0.1168954\n",
      "Iter:    46 | Cost: 0.1150479\n",
      "Iter:    47 | Cost: 0.1132328\n",
      "Iter:    48 | Cost: 0.1115166\n",
      "Iter:    49 | Cost: 0.1099453\n",
      "Iter:    50 | Cost: 0.1085395\n"
     ]
    }
   ],
   "source": [
    "for it in range(40):\n",
    "    var = o.step(lambda v: cost(v, X, Y), var)\n",
    "    \n",
    "    print(\"Iter: {:5d} | Cost: {:0.7f}\".format(it+11, cost(var, X, Y)))"
   ]
  },
  {
   "cell_type": "markdown",
   "metadata": {},
   "source": [
    "Finally, we collect the predictions of the trained model for 50 values in $[-1,1]$..."
   ]
  },
  {
   "cell_type": "code",
   "execution_count": 12,
   "metadata": {},
   "outputs": [],
   "source": [
    "x_pred = np.linspace(-1, 1, 50)\n",
    "predictions = [quantum_neural_net(var, x=x_) for x_ in x_pred]"
   ]
  },
  {
   "cell_type": "markdown",
   "metadata": {},
   "source": [
    "...and plot the shape of the function that the model has \"learned\" from the noisy data (green dots)."
   ]
  },
  {
   "cell_type": "code",
   "execution_count": 13,
   "metadata": {},
   "outputs": [
    {
     "data": {
      "image/png": "[encoded data removed]",
      "text/plain": [
       "<Figure size 432x288 with 1 Axes>"
      ]
     },
     "metadata": {},
     "output_type": "display_data"
    }
   ],
   "source": [
    "plt.figure()\n",
    "plt.scatter(X, Y)\n",
    "plt.scatter(x_pred, predictions, color='green')\n",
    "plt.xlabel('x')\n",
    "plt.ylabel('f(x)')\n",
    "plt.tick_params(axis='both', which='major')\n",
    "plt.tick_params(axis='both', which='minor')\n",
    "plt.show()"
   ]
  },
  {
   "cell_type": "markdown",
   "metadata": {},
   "source": [
    "The model has learned to smoothen the noisy data.\n",
    "\n",
    "In fact, we can use Penny Lane to look at typical functions that the model produces without being trained at all. The shape of these functions varies significantly with the variance hyperparameter for the weight initialization. \n",
    "\n",
    "Setting this hyperparameter to a small value produces almost linear functions, since all quantum gates in the variational circuit are almost performing an identity. Larger values produces smoothly oscillating functions with a period that depends on the number of layers used (the more layers the smaller the period)."
   ]
  },
  {
   "cell_type": "code",
   "execution_count": 14,
   "metadata": {},
   "outputs": [
    {
     "data": {
      "image/png": "[encoded data removed]",
      "text/plain": [
       "<Figure size 432x288 with 1 Axes>"
      ]
     },
     "metadata": {},
     "output_type": "display_data"
    }
   ],
   "source": [
    "variance = 1.\n",
    "\n",
    "plt.figure()\n",
    "x_pred = np.linspace(-2, 2, 50)\n",
    "for i in range(7):\n",
    "    rnd_var = variance*np.random.randn(num_layers, 7)\n",
    "    predictions = [quantum_neural_net(rnd_var, x=x_) for x_ in x_pred]\n",
    "    plt.plot(x_pred, predictions, color='black')\n",
    "plt.xlabel('x')\n",
    "plt.ylabel('f(x)')\n",
    "plt.tick_params(axis='both', which='major')\n",
    "plt.tick_params(axis='both', which='minor')\n",
    "plt.show()"
   ]
  }
 ],
 "metadata": {
  "kernelspec": {
   "display_name": "Python 3",
   "language": "python",
   "name": "python3"
  },
  "language_info": {
   "codemirror_mode": {
    "name": "ipython",
    "version": 3
   },
   "file_extension": ".py",
   "mimetype": "text/x-python",
   "name": "python",
   "nbconvert_exporter": "python",
   "pygments_lexer": "ipython3",
   "version": "3.6.6"
  }
 },
 "nbformat": 4,
 "nbformat_minor": 2
}
