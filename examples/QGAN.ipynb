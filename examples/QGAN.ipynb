{
 "cells": [
  {
   "cell_type": "code",
   "execution_count": 1,
   "metadata": {},
   "outputs": [],
   "source": [
    "import pennylane as qml\n",
    "from pennylane import numpy as np\n",
    "np.random.seed(0)\n",
    "dev = qml.device('default.qubit', wires=3)"
   ]
  },
  {
   "cell_type": "code",
   "execution_count": 2,
   "metadata": {},
   "outputs": [],
   "source": [
    "def true(phi, theta, omega):\n",
    "    qml.Rot(phi, theta, omega, wires=0)\n",
    "\n",
    "def generator(w):\n",
    "    qml.RX(w[0], wires=0)\n",
    "    qml.RX(w[1], wires=1)\n",
    "    qml.RY(w[2], wires=0)\n",
    "    qml.RY(w[3], wires=1)\n",
    "    qml.RZ(w[4], wires=0)\n",
    "    qml.RZ(w[5], wires=1)\n",
    "    qml.CNOT(wires=[0,1])\n",
    "    qml.RX(w[6], wires=0)\n",
    "    qml.RY(w[7], wires=0)\n",
    "    qml.RZ(w[8], wires=0)\n",
    "    \n",
    "def discriminator(w):\n",
    "    qml.RX(w[0], wires=1)\n",
    "    qml.RX(w[1], wires=2)\n",
    "    qml.RY(w[2], wires=1)\n",
    "    qml.RY(w[3], wires=2)\n",
    "    qml.RZ(w[4], wires=1)\n",
    "    qml.RZ(w[5], wires=2)\n",
    "    qml.CNOT(wires=[1,2])\n",
    "    qml.RX(w[6], wires=2)\n",
    "    qml.RY(w[7], wires=2)\n",
    "    qml.RZ(w[8], wires=2)"
   ]
  },
  {
   "cell_type": "code",
   "execution_count": 3,
   "metadata": {},
   "outputs": [],
   "source": [
    "@qml.qnode(dev)\n",
    "def true_disc_circuit(phi, theta, omega, disc_weights):\n",
    "    true(phi, theta, omega)\n",
    "    discriminator(disc_weights)\n",
    "    return qml.expval.PauliZ(2)\n",
    "\n",
    "@qml.qnode(dev)\n",
    "def gen_disc_circuit(gen_weights, disc_weights):\n",
    "    generator(gen_weights)\n",
    "    discriminator(disc_weights)\n",
    "    return qml.expval.PauliZ(2)"
   ]
  },
  {
   "cell_type": "code",
   "execution_count": 4,
   "metadata": {},
   "outputs": [],
   "source": [
    "def prob_real_true(disc_weights):\n",
    "    true_disc_output = true_disc_circuit(phi, theta, omega, disc_weights)\n",
    "    # convert to probability\n",
    "    prob_real_true = (true_disc_output + 1) / 2\n",
    "    return prob_real_true\n",
    "\n",
    "def prob_fake_true(gen_weights, disc_weights):\n",
    "    fake_disc_output = gen_disc_circuit(gen_weights, disc_weights)\n",
    "    # convert to probability\n",
    "    prob_fake_true = (fake_disc_output + 1) / 2\n",
    "    return prob_fake_true # want to minimize this prob\n",
    "\n",
    "def disc_cost(disc_weights):\n",
    "    cost = prob_fake_true(gen_weights, disc_weights) - prob_real_true(disc_weights) \n",
    "    return cost\n",
    "\n",
    "def gen_cost(gen_weights):\n",
    "    return -prob_fake_true(gen_weights, disc_weights)"
   ]
  },
  {
   "cell_type": "code",
   "execution_count": 5,
   "metadata": {},
   "outputs": [],
   "source": [
    "phi = np.pi / 6\n",
    "theta = np.pi / 2\n",
    "omega = np.pi / 7\n",
    "gen_weights = np.array([0] + [np.pi] + [0] * 7) #np.random.normal(size=[9])\n",
    "disc_weights = np.random.normal(size=[9])\n",
    "\n",
    "opt = qml.GradientDescentOptimizer(0.1)"
   ]
  },
  {
   "cell_type": "code",
   "execution_count": 6,
   "metadata": {
    "scrolled": true
   },
   "outputs": [
    {
     "name": "stdout",
     "output_type": "stream",
     "text": [
      "Step 0: cost = -0.137730022663541\n",
      "Step 5: cost = -0.3367526510285579\n",
      "Step 10: cost = -0.585151083980837\n",
      "Step 15: cost = -0.7969873118422433\n",
      "Step 20: cost = -0.9173028901210573\n",
      "Step 25: cost = -0.9693490653475476\n",
      "Step 30: cost = -0.9890722640015006\n",
      "Step 35: cost = -0.996159686262827\n",
      "Step 40: cost = -0.998657292396343\n",
      "Step 45: cost = -0.9995313820751317\n"
     ]
    }
   ],
   "source": [
    "# train discriminator\n",
    "for t in range(50):\n",
    "    disc_weights = opt.step(disc_cost, disc_weights) \n",
    "    cost = disc_cost(disc_weights)\n",
    "    if t % 5 == 0:\n",
    "        print(\"Step {}: cost = {}\".format(t, cost))"
   ]
  },
  {
   "cell_type": "code",
   "execution_count": 7,
   "metadata": {},
   "outputs": [
    {
     "data": {
      "text/plain": [
       "0.9998991972004028"
      ]
     },
     "execution_count": 7,
     "metadata": {},
     "output_type": "execute_result"
    }
   ],
   "source": [
    " # should be close to one at D's optimum\n",
    "prob_real_true(disc_weights)"
   ]
  },
  {
   "cell_type": "code",
   "execution_count": 8,
   "metadata": {},
   "outputs": [
    {
     "data": {
      "text/plain": [
       "0.00010097970601180561"
      ]
     },
     "execution_count": 8,
     "metadata": {},
     "output_type": "execute_result"
    }
   ],
   "source": [
    " # should be close to zero at D's optimum\n",
    "prob_fake_true(gen_weights, disc_weights)"
   ]
  },
  {
   "cell_type": "code",
   "execution_count": null,
   "metadata": {},
   "outputs": [
    {
     "name": "stdout",
     "output_type": "stream",
     "text": [
      "Step 0: cost = 0.0001111725580498768\n",
      "Step 5: cost = 0.0001801160491280429\n",
      "Step 10: cost = 0.00029239498524308294\n",
      "Step 15: cost = 0.00047521866636485166\n",
      "Step 20: cost = 0.000772825807871691\n",
      "Step 25: cost = 0.0012570467293505083\n",
      "Step 30: cost = 0.0020442522638955962\n",
      "Step 35: cost = 0.003322274302820949\n",
      "Step 40: cost = 0.005392429925702935\n",
      "Step 45: cost = 0.008733191002601282\n",
      "Step 50: cost = 0.014091627082812974\n",
      "Step 55: cost = 0.02260187967872407\n",
      "Step 60: cost = 0.035906228900611625\n",
      "Step 65: cost = 0.056196582869428746\n",
      "Step 70: cost = 0.08599243935071765\n",
      "Step 75: cost = 0.12738322648944866\n",
      "Step 80: cost = 0.18062024537591864\n",
      "Step 85: cost = 0.24265965252654598\n",
      "Step 90: cost = 0.30715952995007484\n",
      "Step 95: cost = 0.3668894149216077\n",
      "Step 100: cost = 0.4170547460917875\n",
      "Step 105: cost = 0.45687678221658495\n",
      "Step 110: cost = 0.4888328276617608\n",
      "Step 115: cost = 0.5170499817642464\n",
      "Step 120: cost = 0.5461056090964542\n"
     ]
    }
   ],
   "source": [
    "# train generator\n",
    "for t in range(200):\n",
    "    gen_weights = opt.step(gen_cost, gen_weights)\n",
    "    cost = -gen_cost(gen_weights)\n",
    "    if t % 5 == 0:\n",
    "        print(\"Step {}: cost = {}\".format(t, cost))"
   ]
  },
  {
   "cell_type": "code",
   "execution_count": null,
   "metadata": {},
   "outputs": [],
   "source": [
    "# should be close to one at G's optimum\n",
    "prob_real_true(disc_weights)"
   ]
  },
  {
   "cell_type": "code",
   "execution_count": null,
   "metadata": {},
   "outputs": [],
   "source": [
    "# hasn't changed from D's turn, putting here for comparison\n",
    "prob_fake_true(gen_weights, disc_weights)"
   ]
  },
  {
   "cell_type": "code",
   "execution_count": null,
   "metadata": {},
   "outputs": [],
   "source": [
    " # should be close to zero at joint optimum\n",
    "disc_cost(disc_weights)"
   ]
  },
  {
   "cell_type": "code",
   "execution_count": null,
   "metadata": {},
   "outputs": [],
   "source": []
  }
 ],
 "metadata": {
  "kernelspec": {
   "display_name": "Python 3",
   "language": "python",
   "name": "python3"
  },
  "language_info": {
   "codemirror_mode": {
    "name": "ipython",
    "version": 3
   },
   "file_extension": ".py",
   "mimetype": "text/x-python",
   "name": "python",
   "nbconvert_exporter": "python",
   "pygments_lexer": "ipython3",
   "version": "3.6.5"
  }
 },
 "nbformat": 4,
 "nbformat_minor": 2
}
