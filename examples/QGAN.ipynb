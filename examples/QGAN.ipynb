{
 "cells": [
  {
   "cell_type": "code",
   "execution_count": 1,
   "metadata": {},
   "outputs": [],
   "source": [
    "import pennylane as qml\n",
    "from pennylane import numpy as np\n",
    "np.random.seed(0)\n",
    "dev = qml.device('default.qubit', wires=3)"
   ]
  },
  {
   "cell_type": "code",
   "execution_count": 2,
   "metadata": {},
   "outputs": [],
   "source": [
    "def true(phi, theta, omega):\n",
    "    qml.Rot(phi, theta, omega, wires=0)\n",
    "\n",
    "def generator(w):\n",
    "    qml.RX(w[0], wires=0)\n",
    "    qml.RX(w[1], wires=1)\n",
    "    qml.RY(w[2], wires=0)\n",
    "    qml.RY(w[3], wires=1)\n",
    "    qml.RZ(w[4], wires=0)\n",
    "    qml.RZ(w[5], wires=1)\n",
    "    qml.CNOT(wires=[0,1])\n",
    "    qml.RX(w[6], wires=0)\n",
    "    qml.RY(w[7], wires=0)\n",
    "    qml.RZ(w[8], wires=0)\n",
    "    \n",
    "def discriminator(w):\n",
    "    qml.RX(w[0], wires=0)\n",
    "    qml.RX(w[1], wires=2)\n",
    "    qml.RY(w[2], wires=0)\n",
    "    qml.RY(w[3], wires=2)\n",
    "    qml.RZ(w[4], wires=0)\n",
    "    qml.RZ(w[5], wires=2)\n",
    "    qml.CNOT(wires=[1,2])\n",
    "    qml.RX(w[6], wires=2)\n",
    "    qml.RY(w[7], wires=2)\n",
    "    qml.RZ(w[8], wires=2)"
   ]
  },
  {
   "cell_type": "code",
   "execution_count": 3,
   "metadata": {},
   "outputs": [],
   "source": [
    "@qml.qnode(dev)\n",
    "def true_disc_circuit(phi, theta, omega, disc_weights):\n",
    "    true(phi, theta, omega)\n",
    "    discriminator(disc_weights)\n",
    "    return qml.expval.PauliZ(2)\n",
    "\n",
    "@qml.qnode(dev)\n",
    "def gen_disc_circuit(gen_weights, disc_weights):\n",
    "    generator(gen_weights)\n",
    "    discriminator(disc_weights)\n",
    "    return qml.expval.PauliZ(2)"
   ]
  },
  {
   "cell_type": "code",
   "execution_count": 4,
   "metadata": {},
   "outputs": [],
   "source": [
    "def prob_real_true(disc_weights):\n",
    "    true_disc_output = true_disc_circuit(phi, theta, omega, disc_weights)\n",
    "    # convert to probability\n",
    "    prob_real_true = (true_disc_output + 1) / 2\n",
    "    return prob_real_true\n",
    "\n",
    "def prob_fake_true(gen_weights, disc_weights):\n",
    "    fake_disc_output = gen_disc_circuit(gen_weights, disc_weights)\n",
    "    # convert to probability\n",
    "    prob_fake_true = (fake_disc_output + 1) / 2\n",
    "    return prob_fake_true # want to minimize this prob\n",
    "\n",
    "def disc_cost(disc_weights):\n",
    "    cost = prob_fake_true(gen_weights, disc_weights) - prob_real_true(disc_weights) \n",
    "    return cost\n",
    "\n",
    "def gen_cost(gen_weights):\n",
    "    return -prob_fake_true(gen_weights, disc_weights)"
   ]
  },
  {
   "cell_type": "code",
   "execution_count": 5,
   "metadata": {},
   "outputs": [],
   "source": [
    "phi = np.pi / 6\n",
    "theta = np.pi / 2\n",
    "omega = np.pi / 7\n",
    "eps = 1e-2\n",
    "gen_weights = np.array([0] + [np.pi] + [0] * 7) + eps * np.random.normal(size=[9])\n",
    "disc_weights = np.random.normal(size=[9])\n",
    "\n",
    "opt = qml.GradientDescentOptimizer(0.1)"
   ]
  },
  {
   "cell_type": "code",
   "execution_count": 6,
   "metadata": {
    "scrolled": true
   },
   "outputs": [
    {
     "name": "stdout",
     "output_type": "stream",
     "text": [
      "Step 0: cost = -0.1094201780578915\n",
      "Step 5: cost = -0.3899884226490312\n",
      "Step 10: cost = -0.6660191175815631\n",
      "Step 15: cost = -0.8550839212078475\n",
      "Step 20: cost = -0.9454459581664487\n",
      "Step 25: cost = -0.9805878247866405\n",
      "Step 30: cost = -0.993137132834275\n",
      "Step 35: cost = -0.997489676491659\n",
      "Step 40: cost = -0.9989863506630714\n",
      "Step 45: cost = -0.9995000463932013\n"
     ]
    }
   ],
   "source": [
    "# train discriminator\n",
    "for t in range(50):\n",
    "    disc_weights = opt.step(disc_cost, disc_weights) \n",
    "    cost = disc_cost(disc_weights)\n",
    "    if t % 5 == 0:\n",
    "        print(\"Step {}: cost = {}\".format(t, cost))"
   ]
  },
  {
   "cell_type": "code",
   "execution_count": 7,
   "metadata": {},
   "outputs": [
    {
     "data": {
      "text/plain": [
       "0.9998971951842262"
      ]
     },
     "execution_count": 7,
     "metadata": {},
     "output_type": "execute_result"
    }
   ],
   "source": [
    " # should be close to one at D's optimum\n",
    "prob_real_true(disc_weights)"
   ]
  },
  {
   "cell_type": "code",
   "execution_count": 8,
   "metadata": {},
   "outputs": [
    {
     "data": {
      "text/plain": [
       "0.00024278396180027473"
      ]
     },
     "execution_count": 8,
     "metadata": {},
     "output_type": "execute_result"
    }
   ],
   "source": [
    " # should be close to zero at D's optimum\n",
    "prob_fake_true(gen_weights, disc_weights)"
   ]
  },
  {
   "cell_type": "code",
   "execution_count": 9,
   "metadata": {},
   "outputs": [
    {
     "data": {
      "text/plain": [
       "array([-8.81608860e-03, -1.99964264e-03, -4.89102336e-03, -1.11998779e-02,\n",
       "        8.32667268e-17, -1.66533454e-16, -2.77555756e-17, -0.00000000e+00,\n",
       "        5.55111512e-17])"
      ]
     },
     "execution_count": 9,
     "metadata": {},
     "output_type": "execute_result"
    }
   ],
   "source": [
    "qml.grad(gen_cost, argnum=0)(gen_weights)"
   ]
  },
  {
   "cell_type": "code",
   "execution_count": 10,
   "metadata": {},
   "outputs": [
    {
     "name": "stdout",
     "output_type": "stream",
     "text": [
      "Step 0: cost = 0.0002664691382996409\n",
      "Step 5: cost = 0.0004266200858930036\n",
      "Step 10: cost = 0.0006872486146982104\n",
      "Step 15: cost = 0.0011111626380133632\n",
      "Step 20: cost = 0.0018000510248329937\n",
      "Step 25: cost = 0.0029179304125441785\n",
      "Step 30: cost = 0.004727717539773968\n",
      "Step 35: cost = 0.007646628881031847\n",
      "Step 40: cost = 0.01232586673573638\n",
      "Step 45: cost = 0.019754518934527177\n",
      "Step 50: cost = 0.03136834673567118\n",
      "Step 55: cost = 0.04909734599307797\n",
      "Step 60: cost = 0.07520378135265438\n",
      "Step 65: cost = 0.11169015288702155\n",
      "Step 70: cost = 0.15917286333740976\n",
      "Step 75: cost = 0.21566031343947284\n",
      "Step 80: cost = 0.27637357210452695\n",
      "Step 85: cost = 0.33541691865274725\n",
      "Step 90: cost = 0.3883501266928646\n",
      "Step 95: cost = 0.4337177212014884\n",
      "Step 100: cost = 0.4728490188392854\n",
      "Step 105: cost = 0.5087778323625882\n",
      "Step 110: cost = 0.5451977336157728\n",
      "Step 115: cost = 0.5856632916397977\n",
      "Step 120: cost = 0.632789783508533\n",
      "Step 125: cost = 0.687246922110676\n",
      "Step 130: cost = 0.7468453348018583\n",
      "Step 135: cost = 0.8066413637587804\n",
      "Step 140: cost = 0.8607353038575958\n",
      "Step 145: cost = 0.9048413990478936\n",
      "Step 150: cost = 0.9376687441862418\n",
      "Step 155: cost = 0.9604104860258137\n",
      "Step 160: cost = 0.9753711478478369\n",
      "Step 165: cost = 0.9848746701786004\n",
      "Step 170: cost = 0.9907765008479268\n",
      "Step 175: cost = 0.9943898535953376\n",
      "Step 180: cost = 0.9965827747752591\n",
      "Step 185: cost = 0.9979065439048096\n",
      "Step 190: cost = 0.9987030608439531\n",
      "Step 195: cost = 0.9991813935606384\n"
     ]
    }
   ],
   "source": [
    "# train generator\n",
    "for t in range(200):\n",
    "    gen_weights = opt.step(gen_cost, gen_weights)\n",
    "    cost = -gen_cost(gen_weights)\n",
    "    if t % 5 == 0:\n",
    "        print(\"Step {}: cost = {}\".format(t, cost))"
   ]
  },
  {
   "cell_type": "code",
   "execution_count": 11,
   "metadata": {},
   "outputs": [
    {
     "data": {
      "text/plain": [
       "0.9994220324420162"
      ]
     },
     "execution_count": 11,
     "metadata": {},
     "output_type": "execute_result"
    }
   ],
   "source": [
    "# should be close to one at G's optimum\n",
    "prob_fake_true(gen_weights, disc_weights)"
   ]
  },
  {
   "cell_type": "code",
   "execution_count": 12,
   "metadata": {},
   "outputs": [
    {
     "data": {
      "text/plain": [
       "0.9998971951842262"
      ]
     },
     "execution_count": 12,
     "metadata": {},
     "output_type": "execute_result"
    }
   ],
   "source": [
    "# hasn't changed from D's turn, putting here for comparison\n",
    "prob_real_true(disc_weights)"
   ]
  },
  {
   "cell_type": "code",
   "execution_count": 13,
   "metadata": {},
   "outputs": [
    {
     "data": {
      "text/plain": [
       "-0.0004751627422099336"
      ]
     },
     "execution_count": 13,
     "metadata": {},
     "output_type": "execute_result"
    }
   ],
   "source": [
    " # should be close to zero at joint optimum\n",
    "disc_cost(disc_weights)"
   ]
  },
  {
   "cell_type": "code",
   "execution_count": null,
   "metadata": {},
   "outputs": [],
   "source": []
  }
 ],
 "metadata": {
  "kernelspec": {
   "display_name": "Python 3",
   "language": "python",
   "name": "python3"
  },
  "language_info": {
   "codemirror_mode": {
    "name": "ipython",
    "version": 3
   },
   "file_extension": ".py",
   "mimetype": "text/x-python",
   "name": "python",
   "nbconvert_exporter": "python",
   "pygments_lexer": "ipython3",
   "version": "3.6.5"
  }
 },
 "nbformat": 4,
 "nbformat_minor": 2
}
