{
 "cells": [
  {
   "cell_type": "markdown",
   "metadata": {},
   "source": [
    "# Tutorial CV1 - Photon redirection"
   ]
  },
  {
   "cell_type": "markdown",
   "metadata": {},
   "source": [
    "This tutorial runs Penny Lane's \"hello world\" example of continuous-variable quantum computation with the Strawberry Fields plugin. Starting with a photon in Mode 1, the goal is to optimize a beam splitter to redirect the photon to Mode 2. \n",
    "\n",
    "We compare the gradient descent optimizer without and with momentum for this task."
   ]
  },
  {
   "cell_type": "markdown",
   "metadata": {},
   "source": [
    "### Imports"
   ]
  },
  {
   "cell_type": "markdown",
   "metadata": {},
   "source": [
    "First we need to import Penny Lane. This allows us to automatically compute gradients for functions that manipulate numpy arrays, including quantum functions."
   ]
  },
  {
   "cell_type": "code",
   "execution_count": 9,
   "metadata": {},
   "outputs": [
    {
     "ename": "ModuleNotFoundError",
     "evalue": "No module named 'pennylane_sf'",
     "output_type": "error",
     "traceback": [
      "\u001b[0;31m---------------------------------------------------------------------------\u001b[0m",
      "\u001b[0;31mModuleNotFoundError\u001b[0m                       Traceback (most recent call last)",
      "\u001b[0;32m<ipython-input-9-abda6489bf11>\u001b[0m in \u001b[0;36m<module>\u001b[0;34m()\u001b[0m\n\u001b[1;32m      3\u001b[0m \u001b[0;32mfrom\u001b[0m \u001b[0mpennylane\u001b[0m\u001b[0;34m.\u001b[0m\u001b[0moptimize\u001b[0m \u001b[0;32mimport\u001b[0m \u001b[0mGradientDescentOptimizer\u001b[0m\u001b[0;34m,\u001b[0m \u001b[0mMomentumOptimizer\u001b[0m\u001b[0;34m\u001b[0m\u001b[0m\n\u001b[1;32m      4\u001b[0m \u001b[0;34m\u001b[0m\u001b[0m\n\u001b[0;32m----> 5\u001b[0;31m \u001b[0;32mimport\u001b[0m \u001b[0mpennylane_sf\u001b[0m\u001b[0;34m\u001b[0m\u001b[0m\n\u001b[0m",
      "\u001b[0;31mModuleNotFoundError\u001b[0m: No module named 'pennylane_sf'"
     ]
    }
   ],
   "source": [
    "import pennylane as qml\n",
    "import numpy as np\n",
    "from pennylane.optimize import GradientDescentOptimizer, MomentumOptimizer"
   ]
  },
  {
   "cell_type": "markdown",
   "metadata": {},
   "source": [
    "Next, create a \"device\" to run the quantum node. We use StrawberryFields to simulate a photonic quantum processor with two quantum modes."
   ]
  },
  {
   "cell_type": "code",
   "execution_count": 8,
   "metadata": {},
   "outputs": [
    {
     "name": "stdout",
     "output_type": "stream",
     "text": [
      "To run this tutorial you need to install the strawberryfields plugin...\n"
     ]
    }
   ],
   "source": [
    "try:\n",
    "    dev = qml.device('strawberryfields.fock', wires=2, cutoff_dim=10)\n",
    "    \n",
    "except:\n",
    "    print(\"To run this tutorial you need to install the strawberryfields plugin...\")"
   ]
  },
  {
   "cell_type": "markdown",
   "metadata": {},
   "source": [
    "### Quantum node\n",
    "\n",
    "We define a quantum circuit which starts with one photon into the first mode and sends both modes through a beam splitter. \n",
    " \n",
    "*Note: The `qml.qnode(dev)` decorator does the same as creating a qnode via `circuit = qml.qnode.QNode(circuit, dev)`.*"
   ]
  },
  {
   "cell_type": "code",
   "execution_count": null,
   "metadata": {},
   "outputs": [],
   "source": [
    "@qml.qnode(dev)\n",
    "def circuit(var):\n",
    "\n",
    "    qml.FockState(1, [0])\n",
    "    qml.Beamsplitter(var[0], var[1], [0, 1])\n",
    "\n",
    "    return qml.expval.MeanPhoton(0)"
   ]
  },
  {
   "cell_type": "markdown",
   "metadata": {},
   "source": [
    "This function uses Penny Lane to run the following quantum circuit:"
   ]
  },
  {
   "cell_type": "markdown",
   "metadata": {},
   "source": [
    "<img src=\"figures/redirection_circuit.png\">"
   ]
  },
  {
   "cell_type": "markdown",
   "metadata": {},
   "source": [
    "Depending on the variable $v_1$, the transmission parameter of the beam splitter, the photon remains in the first mode (for $v_1 = n \\pi$ with integer $n$), gets redirected to the second mode (for $v_2 = n\\pi / 2$) or is in a superposition of being in both modes. The phase parameter $v_2$ does not have any influence on the result, so we expect it to have a zero gradient and not to get updated at all."
   ]
  },
  {
   "cell_type": "markdown",
   "metadata": {},
   "source": [
    "### Objective"
   ]
  },
  {
   "cell_type": "markdown",
   "metadata": {},
   "source": [
    "Next, we define a cost that quantifies whether the redirection is successful. Since we want to maximize the expectation of the photon number in the second mode, we can minize expectation of the photon number in the first mode. (Alternatively, we could also minimize the negative of the photon number in the second mode.)"
   ]
  },
  {
   "cell_type": "code",
   "execution_count": null,
   "metadata": {},
   "outputs": [],
   "source": [
    "def objective(var):\n",
    "    return circuit(var)"
   ]
  },
  {
   "cell_type": "markdown",
   "metadata": {},
   "source": [
    "This objective has the following optimization landscape. *Note: To run the following cell you need the matplotlib library.*"
   ]
  },
  {
   "cell_type": "code",
   "execution_count": null,
   "metadata": {},
   "outputs": [],
   "source": [
    "import matplotlib.pyplot as plt\n",
    "%matplotlib inline  \n",
    "from mpl_toolkits.mplot3d import Axes3D\n",
    "from matplotlib import cm\n",
    "from matplotlib.ticker import MaxNLocator\n",
    "\n",
    "fig = plt.figure(figsize = (6, 4))\n",
    "ax = fig.gca(projection='3d')\n",
    "\n",
    "X = np.arange(-3.1, 1.6, 0.2)\n",
    "Y = np.arange(-1., 1.25, 0.25)\n",
    "\n",
    "xx, yy = np.meshgrid(X, Y)\n",
    "Z = np.array([[objective([x, y]) for x in X] for y in Y]).reshape(len(Y), len(X))\n",
    "surf = ax.plot_surface(xx, yy, Z, cmap=cm.coolwarm, antialiased=False)\n",
    "\n",
    "ax.set_xlabel(\"v1\")\n",
    "ax.set_ylabel(\"v2\")\n",
    "ax.zaxis.set_major_locator(MaxNLocator(nbins = 5, prune = 'lower'))\n",
    "ax.yaxis.set_major_locator(MaxNLocator(nbins = 4, prune = 'lower'))\n",
    "\n",
    "plt.show()"
   ]
  },
  {
   "cell_type": "markdown",
   "metadata": {},
   "source": [
    "As stated above, the gradient does not depend on the phase parameter $v_2$. "
   ]
  },
  {
   "cell_type": "markdown",
   "metadata": {},
   "source": [
    "### Optimization"
   ]
  },
  {
   "cell_type": "markdown",
   "metadata": {},
   "source": [
    "We choose a simple Gradient Descent Optimizer with a step size of 0.1."
   ]
  },
  {
   "cell_type": "code",
   "execution_count": null,
   "metadata": {},
   "outputs": [],
   "source": [
    "gd = GradientDescentOptimizer(stepsize=0.1)"
   ]
  },
  {
   "cell_type": "markdown",
   "metadata": {},
   "source": [
    "The initial values of the variabels are set to near-zero. This corresponds to an identity gate, in other words, the circuit leaves the photon in the first mode. *Note that at zero exactly the gradient vanishes and the optimization algorithm will not descent from the maximum.*"
   ]
  },
  {
   "cell_type": "code",
   "execution_count": null,
   "metadata": {},
   "outputs": [],
   "source": [
    "var_init = np.array([0.01, -0.5])"
   ]
  },
  {
   "cell_type": "markdown",
   "metadata": {},
   "source": [
    "We optimize the weights for 100 steps."
   ]
  },
  {
   "cell_type": "code",
   "execution_count": null,
   "metadata": {},
   "outputs": [],
   "source": [
    "var = var_init\n",
    "var_gd = []\n",
    "\n",
    "for iteration in range(100):\n",
    "    var = gd.step(objective, var)\n",
    "    var_gd.append(var)\n",
    "    \n",
    "    if iteration % 10 == 0:\n",
    "        print('Cost after step {:3d}: {:0.7f} | Variables [{:0.7f}, {:0.7f}]'\n",
    "              ''.format(iteration, objective(var), var[0], var[1]))"
   ]
  },
  {
   "cell_type": "markdown",
   "metadata": {},
   "source": [
    "Starting at a different offset, we train the MomentumOptimizer, which improves on gradient descent by making an update dependent on the previous gradient."
   ]
  },
  {
   "cell_type": "code",
   "execution_count": null,
   "metadata": {},
   "outputs": [],
   "source": [
    "mm = MomentumOptimizer(stepsize=0.1, momentum=0.5)\n",
    "\n",
    "var_init = np.array([0.01, 0.5])\n",
    "\n",
    "var = var_init\n",
    "var_mm = []\n",
    "\n",
    "for iteration in range(100):\n",
    "    var = mm.step(objective, var)\n",
    "    var_mm.append(var)\n",
    "\n",
    "    if iteration % 10 == 0:\n",
    "        print('Cost after step {:3d}: {:0.7f} | Variables [{:0.7f}, {:0.7f}]'\n",
    "              ''.format(iteration, objective(var), var[0], var[1]))"
   ]
  },
  {
   "cell_type": "code",
   "execution_count": null,
   "metadata": {},
   "outputs": [],
   "source": [
    "fig = plt.figure(figsize = (6, 4))\n",
    "ax = fig.gca(projection='3d')\n",
    "\n",
    "X = np.arange(-3.1, 1.6, 0.2)\n",
    "Y = np.arange(-1., 1.25, 0.25)\n",
    "\n",
    "xx, yy = np.meshgrid(X, Y)\n",
    "Z = np.array([[objective([x, y]) for x in X] for y in Y]).reshape(len(Y), len(X))\n",
    "surf = ax.plot_surface(xx, yy, Z, cmap=cm.coolwarm, antialiased=False)\n",
    "\n",
    "path_z = [objective(var)+1e-8 for var in var_gd]\n",
    "path_x = [var[0] for var in var_gd]\n",
    "path_y = [var[1] for var in var_gd]\n",
    "ax.plot(path_x, path_y, path_z, c='green', marker='.', label=\"graddesc\")\n",
    "\n",
    "path_z = [objective(var)+1e-8 for var in var_mm]\n",
    "path_x = [var[0] for var in var_mm]\n",
    "path_y = [var[1] for var in var_mm]\n",
    "ax.plot(path_x, path_y, path_z, c='purple', marker='.', label=\"momentum\")\n",
    "\n",
    "ax.set_xlabel(\"v1\")\n",
    "ax.set_ylabel(\"v2\")\n",
    "ax.zaxis.set_major_locator(MaxNLocator(nbins = 5, prune = 'lower'))\n",
    "ax.yaxis.set_major_locator(MaxNLocator(nbins = 4, prune = 'lower'))\n",
    "\n",
    "plt.legend()\n",
    "plt.show()"
   ]
  }
 ],
 "metadata": {
  "kernelspec": {
   "display_name": "Python 3",
   "language": "python",
   "name": "python3"
  },
  "language_info": {
   "codemirror_mode": {
    "name": "ipython",
    "version": 3
   },
   "file_extension": ".py",
   "mimetype": "text/x-python",
   "name": "python",
   "nbconvert_exporter": "python",
   "pygments_lexer": "ipython3",
   "version": "3.6.6"
  }
 },
 "nbformat": 4,
 "nbformat_minor": 2
}
