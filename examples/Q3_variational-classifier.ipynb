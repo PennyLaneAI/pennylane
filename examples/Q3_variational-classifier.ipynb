{
 "cells": [
  {
   "cell_type": "markdown",
   "metadata": {},
   "source": [
    "# Example Q3 - Variational classifier"
   ]
  },
  {
   "cell_type": "markdown",
   "metadata": {},
   "source": [
    "In example Q3 we show how to use PennyLane to implement variational quantum classifiers - quantum circuits that can be trained from labelled data to classify new data samples. The architecture is inspired by [Farhi and Neven (2018)](https://arxiv.org/abs/1802.06002) as well as [Schuld et al. (2018)](https://arxiv.org/abs/1804.00633). \n",
    "\n",
    "We will first show that the variational quantum classifier can reproduce the parity function\n",
    "\n",
    "$$ f: x \\in \\{0,1\\}^{\\otimes n} \\rightarrow y = \\begin{cases} 1 \\text{  if uneven number of ones in } x \\\\ 0 \\text{ otherwise} \\end{cases}.$$\n",
    "\n",
    "This optimization example demonstrates how to encode binary inputs into the initial state of the variational circuit, which is simply a computational basis state.\n",
    "\n",
    "We then show how to encode real vectors as amplitude vectors (*amplitude encoding*) and train the model to recognize the first two classes of flowers in the Iris dataset."
   ]
  },
  {
   "cell_type": "markdown",
   "metadata": {},
   "source": [
    "## 1. Fitting the parity function "
   ]
  },
  {
   "cell_type": "markdown",
   "metadata": {},
   "source": [
    "### Imports\n",
    "As before, we import PennyLane, the PennyLane-provided version of NumPy, and an optimizer. "
   ]
  },
  {
   "cell_type": "code",
   "execution_count": 1,
   "metadata": {
    "collapsed": true
   },
   "outputs": [],
   "source": [
    "import pennylane as qml\n",
    "from pennylane import numpy as np\n",
    "from pennylane.optimize import NesterovMomentumOptimizer"
   ]
  },
  {
   "cell_type": "markdown",
   "metadata": {},
   "source": [
    "### Quantum and classical nodes"
   ]
  },
  {
   "cell_type": "markdown",
   "metadata": {},
   "source": [
    "We create a quantum device with four \"wires\" (or qubits)."
   ]
  },
  {
   "cell_type": "code",
   "execution_count": 2,
   "metadata": {
    "collapsed": true
   },
   "outputs": [],
   "source": [
    "dev = qml.device('default.qubit', wires=4)"
   ]
  },
  {
   "cell_type": "markdown",
   "metadata": {},
   "source": [
    "Variational classifiers usually define a \"layer\" or \"block\", which is an elementary circuit architecture that gets repeated to build the variational circuit.\n",
    "\n",
    "<IMage>\n",
    "\n",
    "Our circuit layer consists of an arbitrary rotation on every qubit, as well as CNOTs that entangle each qubit with its neighbour.\n",
    "\n",
    "<IMage>"
   ]
  },
  {
   "cell_type": "code",
   "execution_count": 3,
   "metadata": {
    "collapsed": true
   },
   "outputs": [],
   "source": [
    "def layer(W):\n",
    "\n",
    "    qml.Rot(W[0, 0], W[0, 1], W[0, 2], wires=0)\n",
    "    qml.Rot(W[1, 0], W[1, 1], W[1, 2], wires=1)\n",
    "    qml.Rot(W[2, 0], W[2, 1], W[2, 2], wires=2)\n",
    "    qml.Rot(W[3, 0], W[3, 1], W[3, 2], wires=3)\n",
    "\n",
    "    qml.CNOT(wires=[0, 1])\n",
    "    qml.CNOT(wires=[1, 2])\n",
    "    qml.CNOT(wires=[2, 3])\n",
    "    qml.CNOT(wires=[3, 0])"
   ]
  },
  {
   "cell_type": "markdown",
   "metadata": {},
   "source": [
    "We also need a way to encode data inputs $x$ into the circuit, so that the measured output depends on the inputs. In this first example, the inputs are bitstrings, which we encode into the state of the qubits. The quantum state $|\\psi \\rangle $ after state preparation is a computational basis state that has 1s where $x$ has 1s, for example\n",
    "\n",
    "$$ x = 0101 \\rightarrow |\\psi \\rangle = |0101 \\rangle . $$\n",
    "\n",
    "We use the `BasisState` function provided by PennyLane, which expects `x` to be a list of zeros and ones, i.e. `[0,1,0,1]`."
   ]
  },
  {
   "cell_type": "code",
   "execution_count": 4,
   "metadata": {
    "collapsed": true
   },
   "outputs": [],
   "source": [
    "def statepreparation(x):\n",
    "\n",
    "    qml.BasisState(x, wires=[0, 1, 2, 3])"
   ]
  },
  {
   "cell_type": "markdown",
   "metadata": {},
   "source": [
    "Now we define the quantum node as a state preparation routine, followed by a repetition of the layer structure. Borrowing from machine learning, we call the parameters `weights`."
   ]
  },
  {
   "cell_type": "code",
   "execution_count": 5,
   "metadata": {
    "collapsed": true
   },
   "outputs": [],
   "source": [
    "@qml.qnode(dev)\n",
    "def circuit(weights, x=None):\n",
    "\n",
    "    statepreparation(x)\n",
    "\n",
    "    for W in weights:\n",
    "        layer(W)\n",
    "\n",
    "    return qml.expval.PauliZ(0)"
   ]
  },
  {
   "cell_type": "markdown",
   "metadata": {},
   "source": [
    "Different from previous examples, the quantum node takes the data as a keyword argument `x` (with the default value `None`). Keyword arguments of a quantum node are considered as fixed when calculating a gradient; they are never trained."
   ]
  },
  {
   "cell_type": "markdown",
   "metadata": {},
   "source": [
    "If we want to add a \"classical\" bias parameter, the variational quantum classifer also needs some post-processing. We define the final model by a classical node that uses the first variable, and feeds the remainder into the quantum node. Before this, we reshape the list of remaining variables for easy use in the quantum node."
   ]
  },
  {
   "cell_type": "code",
   "execution_count": 6,
   "metadata": {
    "collapsed": true
   },
   "outputs": [],
   "source": [
    "def variational_classifier(var, x=None):\n",
    "\n",
    "    weights = var[0]\n",
    "    bias = var[1]\n",
    "\n",
    "    return circuit(weights, x=x) + bias"
   ]
  },
  {
   "cell_type": "markdown",
   "metadata": {},
   "source": [
    "### Cost"
   ]
  },
  {
   "cell_type": "markdown",
   "metadata": {},
   "source": [
    "In supervised learning, the cost function is usually the sum of a loss function and a regularizer. We use the standard square loss that measures the distance between target labels and model predictions. "
   ]
  },
  {
   "cell_type": "code",
   "execution_count": 7,
   "metadata": {
    "collapsed": true
   },
   "outputs": [],
   "source": [
    "def square_loss(labels, predictions):\n",
    "\n",
    "    loss = 0\n",
    "    for l, p in zip(labels, predictions):\n",
    "        loss += (l - p) ** 2\n",
    "    loss = loss / len(labels)\n",
    "\n",
    "    return loss"
   ]
  },
  {
   "cell_type": "markdown",
   "metadata": {},
   "source": [
    "To monitor how many inputs the current classifier predicted correctly, we also define the accuracy given target labels and model predictions. "
   ]
  },
  {
   "cell_type": "code",
   "execution_count": 8,
   "metadata": {
    "collapsed": true
   },
   "outputs": [],
   "source": [
    "def accuracy(labels, predictions):\n",
    "\n",
    "    loss = 0\n",
    "    for l, p in zip(labels, predictions):\n",
    "        if abs(l - p) < 1e-5:\n",
    "            loss += 1\n",
    "    loss = loss / len(labels)\n",
    "\n",
    "    return loss"
   ]
  },
  {
   "cell_type": "markdown",
   "metadata": {},
   "source": [
    "For learning tasks, the cost depends on the data - here the features and labels considered in the iteration of the optimization routine."
   ]
  },
  {
   "cell_type": "code",
   "execution_count": 9,
   "metadata": {
    "collapsed": true
   },
   "outputs": [],
   "source": [
    "def cost(var, X, Y):\n",
    "\n",
    "    predictions = [variational_classifier(var, x=x) for x in X]\n",
    "\n",
    "    return square_loss(Y, predictions) "
   ]
  },
  {
   "cell_type": "markdown",
   "metadata": {},
   "source": [
    "### Optimization"
   ]
  },
  {
   "cell_type": "markdown",
   "metadata": {},
   "source": [
    "Let's now load and preprocess some data. "
   ]
  },
  {
   "cell_type": "code",
   "execution_count": 10,
   "metadata": {},
   "outputs": [
    {
     "name": "stdout",
     "output_type": "stream",
     "text": [
      "X = [0. 0. 0. 0.], Y = -1\n",
      "X = [0. 0. 0. 1.], Y =  1\n",
      "X = [0. 0. 1. 0.], Y =  1\n",
      "X = [0. 0. 1. 1.], Y = -1\n",
      "X = [0. 1. 0. 0.], Y =  1\n",
      "...\n"
     ]
    }
   ],
   "source": [
    "data = np.loadtxt(\"data/parity.txt\")\n",
    "X = data[:, :-1]\n",
    "Y = data[:, -1]\n",
    "Y = Y * 2 - np.ones(len(Y))  # shift label from {0, 1} to {-1, 1}\n",
    "\n",
    "for i in range(5):\n",
    "    print('X = {}, Y = {: d}'.format(X[i], int(Y[i])))\n",
    "print('...')"
   ]
  },
  {
   "cell_type": "markdown",
   "metadata": {},
   "source": [
    "We initialize the variables randomly (but fix a seed for reproducability). The first variable in the list is used as a bias, while the rest is fed into the gates of the variational circuit."
   ]
  },
  {
   "cell_type": "code",
   "execution_count": 11,
   "metadata": {},
   "outputs": [
    {
     "data": {
      "text/plain": [
       "(array([[[ 0.01764052,  0.00400157,  0.00978738],\n",
       "         [ 0.02240893,  0.01867558, -0.00977278],\n",
       "         [ 0.00950088, -0.00151357, -0.00103219],\n",
       "         [ 0.00410599,  0.00144044,  0.01454274]],\n",
       " \n",
       "        [[ 0.00761038,  0.00121675,  0.00443863],\n",
       "         [ 0.00333674,  0.01494079, -0.00205158],\n",
       "         [ 0.00313068, -0.00854096, -0.0255299 ],\n",
       "         [ 0.00653619,  0.00864436, -0.00742165]]]), 0.0)"
      ]
     },
     "execution_count": 11,
     "metadata": {},
     "output_type": "execute_result"
    }
   ],
   "source": [
    "np.random.seed(0)\n",
    "num_qubits = 4\n",
    "num_layers = 2\n",
    "var_init = (0.01 * np.random.randn(num_layers, num_qubits, 3), 0.0)\n",
    "\n",
    "var_init"
   ]
  },
  {
   "cell_type": "markdown",
   "metadata": {},
   "source": [
    "Next we create an optimizer and choose a batch size..."
   ]
  },
  {
   "cell_type": "code",
   "execution_count": 12,
   "metadata": {
    "collapsed": true
   },
   "outputs": [],
   "source": [
    "opt = NesterovMomentumOptimizer(0.5)\n",
    "batch_size = 5"
   ]
  },
  {
   "cell_type": "markdown",
   "metadata": {},
   "source": [
    "...and train the optimizer. We track the accuracy - the share of correctly classified data samples. For this we compute the outputs of the variational classifier and turn them into predictions in $\\{-1,1\\}$ by taking the sign of the output."
   ]
  },
  {
   "cell_type": "code",
   "execution_count": 13,
   "metadata": {},
   "outputs": [
    {
     "name": "stdout",
     "output_type": "stream",
     "text": [
      "Iter:     1 | Cost: 1.9970547 | Accuracy: 0.5000000 \n",
      "Iter:     2 | Cost: 1.9756040 | Accuracy: 0.5000000 \n",
      "Iter:     3 | Cost: 1.7871873 | Accuracy: 0.5000000 \n",
      "Iter:     4 | Cost: 1.1822745 | Accuracy: 0.5000000 \n",
      "Iter:     5 | Cost: 0.9856613 | Accuracy: 0.7500000 \n"
     ]
    }
   ],
   "source": [
    "var = var_init\n",
    "for it in range(5):\n",
    "\n",
    "    # Update the weights by one optimizer step\n",
    "    batch_index = np.random.randint(0, len(X), (batch_size, ))\n",
    "    X_batch = X[batch_index]\n",
    "    Y_batch = Y[batch_index]\n",
    "    var = opt.step(lambda v: cost(v, X, Y), var)\n",
    "\n",
    "    # Compute accuracy\n",
    "    predictions = [np.sign(variational_classifier(var, x=x)) for x in X]\n",
    "    acc = accuracy(Y, predictions)\n",
    "\n",
    "    print(\"Iter: {:5d} | Cost: {:0.7f} | Accuracy: {:0.7f} \".format(it + 1, cost(var, X, Y), acc))"
   ]
  },
  {
   "cell_type": "markdown",
   "metadata": {},
   "source": [
    "## 2. Iris classification"
   ]
  },
  {
   "cell_type": "markdown",
   "metadata": {},
   "source": [
    "### Quantum and classical nodes"
   ]
  },
  {
   "cell_type": "markdown",
   "metadata": {},
   "source": [
    "To encode real-valued vectors into the amplitudes of a quantum state, we use a 2-qubit simulator."
   ]
  },
  {
   "cell_type": "code",
   "execution_count": 14,
   "metadata": {
    "collapsed": true
   },
   "outputs": [],
   "source": [
    "dev = qml.device('default.qubit', wires=2)"
   ]
  },
  {
   "cell_type": "markdown",
   "metadata": {},
   "source": [
    "State preparation is not as simple as when we represent a bitstring with a basis state. Every input x has to be translated into a set of angles which can get fed into a small routine for state preparation. To simplify things a bit, we will work with data from the positive subspace, so that we can ignore signs (which would require another cascade of rotations around the z axis).\n",
    "\n",
    "The circuit is coded according to the scheme in [Möttönen, et al. (2004)](https://arxiv.org/abs/quant-ph/0407010), or - as presented for positive vectors only - in [Schuld and Petruccione (2018)](https://link.springer.com/book/10.1007/978-3-319-96424-9). We had to also decompose controlled Y-axis rotations into more basic circuits following [Nielsen and Chuang (2010)](http://www.michaelnielsen.org/qcqi/). "
   ]
  },
  {
   "cell_type": "code",
   "execution_count": 15,
   "metadata": {
    "collapsed": true
   },
   "outputs": [],
   "source": [
    "def get_angles(x):\n",
    "\n",
    "    beta0 = 2 * np.arcsin(np.sqrt(x[1]) ** 2 / np.sqrt(x[0] ** 2 + x[1] ** 2 + 1e-12) )\n",
    "    beta1 = 2 * np.arcsin(np.sqrt(x[3]) ** 2 / np.sqrt(x[2] ** 2 + x[3] ** 2 + 1e-12) )\n",
    "    beta2 = 2 * np.arcsin(np.sqrt(x[2] ** 2 + x[3] ** 2) / np.sqrt(x[0] ** 2 + x[1] ** 2 + x[2] ** 2 + x[3] ** 2))\n",
    "\n",
    "    return np.array([beta2, -beta1 / 2, beta1 / 2, -beta0 / 2, beta0 / 2])\n",
    "\n",
    "\n",
    "def statepreparation(a):\n",
    "\n",
    "    qml.RY(a[0], wires=0)\n",
    "\n",
    "    qml.CNOT(wires=[0, 1])\n",
    "    qml.RY(a[1], wires=1)\n",
    "    qml.CNOT(wires=[0, 1])\n",
    "    qml.RY(a[2], wires=1)\n",
    "\n",
    "    qml.PauliX(wires=0)\n",
    "    qml.CNOT(wires=[0, 1])\n",
    "    qml.RY(a[3], wires=1)\n",
    "    qml.CNOT(wires=[0, 1])\n",
    "    qml.RY(a[4], wires=1)\n",
    "    qml.PauliX(wires=0)"
   ]
  },
  {
   "cell_type": "markdown",
   "metadata": {},
   "source": [
    "Let's test if this routine actually works."
   ]
  },
  {
   "cell_type": "code",
   "execution_count": 16,
   "metadata": {},
   "outputs": [
    {
     "name": "stdout",
     "output_type": "stream",
     "text": [
      "x               :  [0.53896774 0.79503606 0.27826503 0.        ]\n",
      "angles          :  [ 0.56397465 -0.          0.         -0.97504604  0.97504604]\n",
      "amplitude vector:  [ 5.38967743e-01  7.95036065e-01  2.78265032e-01 -1.38777878e-17]\n"
     ]
    }
   ],
   "source": [
    "x = np.array([0.53896774, 0.79503606, 0.27826503, 0.])\n",
    "ang = get_angles(x)\n",
    "\n",
    "@qml.qnode(dev)\n",
    "def test(angles=None):\n",
    "\n",
    "    statepreparation(angles)\n",
    "\n",
    "    return qml.expval.PauliZ(0)\n",
    "\n",
    "test(angles=ang)\n",
    "\n",
    "print(\"x               : \", x)\n",
    "print(\"angles          : \", ang)\n",
    "print(\"amplitude vector: \", np.real(dev._state))"
   ]
  },
  {
   "cell_type": "markdown",
   "metadata": {},
   "source": [
    "Note that the `default.qubit` simulator provides a shortcut to `statepreparation` with the command `qml.QubitStateVector(x, wires=[0, 1])`. However, some devices may not support an arbitrary state-preparation routine."
   ]
  },
  {
   "cell_type": "markdown",
   "metadata": {},
   "source": [
    "Since we are working with only 2 qubits now, we need to update the layer function as well."
   ]
  },
  {
   "cell_type": "code",
   "execution_count": 17,
   "metadata": {
    "collapsed": true
   },
   "outputs": [],
   "source": [
    "def layer(W):\n",
    "\n",
    "    qml.Rot(W[0, 0], W[0, 1], W[0, 2], wires=0)\n",
    "    qml.Rot(W[1, 0], W[1, 1], W[1, 2], wires=1)\n",
    "\n",
    "    qml.CNOT(wires=[0, 1])"
   ]
  },
  {
   "cell_type": "markdown",
   "metadata": {},
   "source": [
    "The variational classifier model and its cost remain essentially the same, but we have to reload them with the new state preparation and layer functions."
   ]
  },
  {
   "cell_type": "code",
   "execution_count": 18,
   "metadata": {
    "collapsed": true
   },
   "outputs": [],
   "source": [
    "@qml.qnode(dev)\n",
    "def circuit(weights, angles=None):\n",
    "\n",
    "    statepreparation(angles)\n",
    "    \n",
    "    for W in weights:\n",
    "        layer(W)\n",
    "\n",
    "    return qml.expval.PauliZ(0)\n",
    "\n",
    "\n",
    "def variational_classifier(var, angles=None):\n",
    "\n",
    "    weights = var[0]\n",
    "    bias = var[1]\n",
    "\n",
    "    return circuit(weights, angles=angles) + bias\n",
    "\n",
    "def cost(weights, features, labels):\n",
    "\n",
    "    predictions = [variational_classifier(weights, angles=f) for f in features]\n",
    "\n",
    "    return square_loss(labels, predictions)"
   ]
  },
  {
   "cell_type": "markdown",
   "metadata": {},
   "source": [
    "### Data"
   ]
  },
  {
   "cell_type": "markdown",
   "metadata": {},
   "source": [
    "We then load the Iris data set. There is a bit of preprocessing to do in order to encode the inputs into the amplitudes of a quantum state. In the last preprocessing step, we translate the inputs x to rotation angles using the `get_angles` function we defined above. "
   ]
  },
  {
   "cell_type": "code",
   "execution_count": 19,
   "metadata": {},
   "outputs": [
    {
     "name": "stdout",
     "output_type": "stream",
     "text": [
      "First X sample (original)  : [0.4  0.75]\n",
      "First X sample (padded)    : [0.4  0.75 0.3  0.  ]\n",
      "First X sample (normalized): [0.44376016 0.83205029 0.33282012 0.        ]\n",
      "First features sample      : [ 0.67858523 -0.          0.         -1.080839    1.080839  ]\n"
     ]
    }
   ],
   "source": [
    "data = np.loadtxt(\"data/iris_classes1and2_scaled.txt\")\n",
    "X = data[:, 0:2]\n",
    "print(\"First X sample (original)  :\", X[0])\n",
    "\n",
    "# pad the vectors to size 2^2 with constant values\n",
    "padding = 0.3*np.ones((len(X), 1))\n",
    "X_pad = np.c_[np.c_[X, padding], np.zeros((len(X), 1)) ] \n",
    "print(\"First X sample (padded)    :\", X_pad[0])\n",
    "\n",
    "# normalize each input\n",
    "normalization = np.sqrt(np.sum(X_pad** 2, -1))\n",
    "X_norm = (X_pad.T / normalization).T  \n",
    "print(\"First X sample (normalized):\", X_norm[0])\n",
    "\n",
    "# angles for state preparation are new features\n",
    "features = np.array([get_angles(x) for x in X_norm])  \n",
    "print(\"First features sample      :\", features[0])\n",
    "\n",
    "Y= data[:, -1]"
   ]
  },
  {
   "cell_type": "markdown",
   "metadata": {},
   "source": [
    "These angles are our new features, which is why we have renamed X to \"features\" above. Let's plot the stages of preprocessing and play around with the dimensions (dim1, dim2). Some of them still separate the classes well, while others are less informative.\n",
    "\n",
    "*Note: To run the following cell you need the matplotlib library.*"
   ]
  },
  {
   "cell_type": "code",
   "execution_count": 20,
   "metadata": {},
   "outputs": [
    {
     "data": {
      "image/png": "[encoded data removed]",
      "text/plain": [
       "<matplotlib.figure.Figure at 0x7fc842c89a90>"
      ]
     },
     "metadata": {},
     "output_type": "display_data"
    },
    {
     "data": {
      "image/png": "[encoded data removed]",
      "text/plain": [
       "<matplotlib.figure.Figure at 0x7fc83dffd940>"
      ]
     },
     "metadata": {},
     "output_type": "display_data"
    },
    {
     "data": {
      "image/png": "[encoded data removed]",
      "text/plain": [
       "<matplotlib.figure.Figure at 0x7fc83dec5e48>"
      ]
     },
     "metadata": {},
     "output_type": "display_data"
    }
   ],
   "source": [
    "import matplotlib.pyplot as plt\n",
    "%matplotlib inline\n",
    "\n",
    "plt.figure()\n",
    "plt.scatter(X[:,0][Y== 1], X[:,1][Y== 1], c='r', marker='o', edgecolors='k')\n",
    "plt.scatter(X[:,0][Y==-1], X[:,1][Y==-1], c='b', marker='o', edgecolors='k')\n",
    "plt.title(\"Original data\")\n",
    "plt.show()\n",
    "\n",
    "plt.figure()\n",
    "dim1 = 0\n",
    "dim2 = 1\n",
    "plt.scatter(X_norm[:,dim1][Y== 1], X_norm[:,dim2][Y== 1], c='r', marker='o', edgecolors='k')\n",
    "plt.scatter(X_norm[:,dim1][Y==-1], X_norm[:,dim2][Y==-1], c='b', marker='o', edgecolors='k')\n",
    "plt.title(\"Padded and normalised data (dims {} and {})\".format(dim1, dim2))\n",
    "plt.show()\n",
    "\n",
    "plt.figure()\n",
    "dim1 = 0\n",
    "dim2 = 3\n",
    "plt.scatter(features[:,dim1][Y== 1], features[:,dim2][Y== 1], c='r', marker='o', edgecolors='k')\n",
    "plt.scatter(features[:,dim1][Y==-1], features[:,dim2][Y==-1], c='b', marker='o', edgecolors='k')\n",
    "plt.title(\"Feature vectors (dims {} and {})\".format(dim1, dim2))\n",
    "plt.show()"
   ]
  },
  {
   "cell_type": "markdown",
   "metadata": {},
   "source": [
    "This time we want to generalize from the data samples. To monitor the generalization performance, the data is split into training and validation set."
   ]
  },
  {
   "cell_type": "code",
   "execution_count": 21,
   "metadata": {
    "collapsed": true
   },
   "outputs": [],
   "source": [
    "num_data = len(Y)\n",
    "num_train = int(0.75 * num_data)\n",
    "index = np.random.permutation(range(num_data))\n",
    "feats_train = features[index[: num_train]]\n",
    "Y_train = Y[index[: num_train]]\n",
    "feats_val = features[index[num_train: ]]\n",
    "Y_val = Y[index[num_train: ]]\n",
    "\n",
    "# We need these later for plotting\n",
    "X_train = X[index[: num_train]]\n",
    "X_val   = X[index[num_train :]]"
   ]
  },
  {
   "cell_type": "markdown",
   "metadata": {},
   "source": [
    "### Optimization"
   ]
  },
  {
   "cell_type": "markdown",
   "metadata": {},
   "source": [
    "First we initialize the variables."
   ]
  },
  {
   "cell_type": "code",
   "execution_count": 22,
   "metadata": {
    "collapsed": true
   },
   "outputs": [],
   "source": [
    "num_qubits = 2\n",
    "num_layers = 6\n",
    "var_init = (0.01 * np.random.randn(num_layers, num_qubits, 3), 0.0)"
   ]
  },
  {
   "cell_type": "markdown",
   "metadata": {},
   "source": [
    "Again we optimize the cost. This may take a little patience."
   ]
  },
  {
   "cell_type": "code",
   "execution_count": 23,
   "metadata": {
    "scrolled": true
   },
   "outputs": [
    {
     "name": "stdout",
     "output_type": "stream",
     "text": [
      "Iter:     1 | Cost: 1.4360890 | Acc train: 0.5333333 | Acc validation: 0.4400000 \n",
      "Iter:     2 | Cost: 1.2665997 | Acc train: 0.5200000 | Acc validation: 0.4400000 \n",
      "Iter:     3 | Cost: 1.1081421 | Acc train: 0.4933333 | Acc validation: 0.4400000 \n",
      "Iter:     4 | Cost: 0.9561239 | Acc train: 0.5333333 | Acc validation: 0.5600000 \n",
      "Iter:     5 | Cost: 0.8828004 | Acc train: 0.6666667 | Acc validation: 0.7200000 \n",
      "Iter:     6 | Cost: 0.8681953 | Acc train: 0.6800000 | Acc validation: 0.7600000 \n",
      "Iter:     7 | Cost: 0.8741360 | Acc train: 0.6000000 | Acc validation: 0.7600000 \n",
      "Iter:     8 | Cost: 0.8626414 | Acc train: 0.5866667 | Acc validation: 0.7600000 \n",
      "Iter:     9 | Cost: 0.8482506 | Acc train: 0.5866667 | Acc validation: 0.7600000 \n",
      "Iter:    10 | Cost: 0.8088393 | Acc train: 0.6000000 | Acc validation: 0.7600000 \n",
      "Iter:    11 | Cost: 0.7653239 | Acc train: 0.6933333 | Acc validation: 0.7600000 \n",
      "Iter:    12 | Cost: 0.7361027 | Acc train: 0.7600000 | Acc validation: 0.9200000 \n",
      "Iter:    13 | Cost: 0.7179167 | Acc train: 0.8800000 | Acc validation: 0.8800000 \n",
      "Iter:    14 | Cost: 0.7412130 | Acc train: 0.7733333 | Acc validation: 0.7200000 \n",
      "Iter:    15 | Cost: 0.7661807 | Acc train: 0.6933333 | Acc validation: 0.7200000 \n",
      "Iter:    16 | Cost: 0.7903939 | Acc train: 0.6800000 | Acc validation: 0.7200000 \n",
      "Iter:    17 | Cost: 0.7938786 | Acc train: 0.6800000 | Acc validation: 0.7200000 \n",
      "Iter:    18 | Cost: 0.7622345 | Acc train: 0.7466667 | Acc validation: 0.7200000 \n",
      "Iter:    19 | Cost: 0.7376202 | Acc train: 0.8666667 | Acc validation: 0.8400000 \n",
      "Iter:    20 | Cost: 0.7270693 | Acc train: 0.9200000 | Acc validation: 0.8800000 \n",
      "Iter:    21 | Cost: 0.7222535 | Acc train: 0.9333333 | Acc validation: 0.8800000 \n",
      "Iter:    22 | Cost: 0.7141706 | Acc train: 0.9333333 | Acc validation: 0.8800000 \n",
      "Iter:    23 | Cost: 0.7042056 | Acc train: 0.9066667 | Acc validation: 0.9200000 \n",
      "Iter:    24 | Cost: 0.6923548 | Acc train: 0.9066667 | Acc validation: 0.9200000 \n",
      "Iter:    25 | Cost: 0.6800408 | Acc train: 0.8933333 | Acc validation: 0.9200000 \n",
      "Iter:    26 | Cost: 0.6661806 | Acc train: 0.9200000 | Acc validation: 0.9200000 \n",
      "Iter:    27 | Cost: 0.6512207 | Acc train: 0.9466667 | Acc validation: 0.9200000 \n",
      "Iter:    28 | Cost: 0.6433203 | Acc train: 0.9600000 | Acc validation: 0.9600000 \n",
      "Iter:    29 | Cost: 0.6416943 | Acc train: 0.9333333 | Acc validation: 0.8800000 \n",
      "Iter:    30 | Cost: 0.6384864 | Acc train: 0.9066667 | Acc validation: 0.8800000 \n",
      "Iter:    31 | Cost: 0.6224045 | Acc train: 0.9066667 | Acc validation: 0.8800000 \n",
      "Iter:    32 | Cost: 0.5884247 | Acc train: 0.9733333 | Acc validation: 0.9600000 \n",
      "Iter:    33 | Cost: 0.5615168 | Acc train: 0.9866667 | Acc validation: 1.0000000 \n",
      "Iter:    34 | Cost: 0.5334670 | Acc train: 0.9333333 | Acc validation: 0.9200000 \n",
      "Iter:    35 | Cost: 0.5188034 | Acc train: 0.8933333 | Acc validation: 0.9200000 \n",
      "Iter:    36 | Cost: 0.5111131 | Acc train: 0.8533333 | Acc validation: 0.9200000 \n",
      "Iter:    37 | Cost: 0.4920623 | Acc train: 0.8533333 | Acc validation: 0.9200000 \n",
      "Iter:    38 | Cost: 0.4589191 | Acc train: 0.8666667 | Acc validation: 0.9200000 \n",
      "Iter:    39 | Cost: 0.4170665 | Acc train: 0.9200000 | Acc validation: 0.9200000 \n",
      "Iter:    40 | Cost: 0.3823137 | Acc train: 0.9466667 | Acc validation: 0.9200000 \n",
      "Iter:    41 | Cost: 0.3528897 | Acc train: 1.0000000 | Acc validation: 0.9600000 \n",
      "Iter:    42 | Cost: 0.3294881 | Acc train: 1.0000000 | Acc validation: 1.0000000 \n",
      "Iter:    43 | Cost: 0.3202765 | Acc train: 1.0000000 | Acc validation: 1.0000000 \n",
      "Iter:    44 | Cost: 0.3222670 | Acc train: 1.0000000 | Acc validation: 1.0000000 \n",
      "Iter:    45 | Cost: 0.3338104 | Acc train: 0.9733333 | Acc validation: 0.9600000 \n",
      "Iter:    46 | Cost: 0.3346210 | Acc train: 0.9600000 | Acc validation: 0.9600000 \n",
      "Iter:    47 | Cost: 0.3312932 | Acc train: 0.9600000 | Acc validation: 0.9200000 \n",
      "Iter:    48 | Cost: 0.3014523 | Acc train: 0.9733333 | Acc validation: 0.9600000 \n",
      "Iter:    49 | Cost: 0.2779036 | Acc train: 1.0000000 | Acc validation: 1.0000000 \n",
      "Iter:    50 | Cost: 0.2581942 | Acc train: 1.0000000 | Acc validation: 1.0000000 \n",
      "Iter:    51 | Cost: 0.2443881 | Acc train: 1.0000000 | Acc validation: 1.0000000 \n",
      "Iter:    52 | Cost: 0.2384088 | Acc train: 1.0000000 | Acc validation: 1.0000000 \n",
      "Iter:    53 | Cost: 0.2352356 | Acc train: 1.0000000 | Acc validation: 1.0000000 \n",
      "Iter:    54 | Cost: 0.2336368 | Acc train: 1.0000000 | Acc validation: 1.0000000 \n",
      "Iter:    55 | Cost: 0.2324851 | Acc train: 1.0000000 | Acc validation: 1.0000000 \n",
      "Iter:    56 | Cost: 0.2318572 | Acc train: 1.0000000 | Acc validation: 1.0000000 \n",
      "Iter:    57 | Cost: 0.2313882 | Acc train: 1.0000000 | Acc validation: 1.0000000 \n",
      "Iter:    58 | Cost: 0.2316752 | Acc train: 1.0000000 | Acc validation: 1.0000000 \n",
      "Iter:    59 | Cost: 0.2351313 | Acc train: 1.0000000 | Acc validation: 1.0000000 \n",
      "Iter:    60 | Cost: 0.2399376 | Acc train: 1.0000000 | Acc validation: 1.0000000 \n",
      "Iter:    61 | Cost: 0.2378246 | Acc train: 1.0000000 | Acc validation: 1.0000000 \n",
      "Iter:    62 | Cost: 0.2365784 | Acc train: 1.0000000 | Acc validation: 1.0000000 \n",
      "Iter:    63 | Cost: 0.2355851 | Acc train: 1.0000000 | Acc validation: 1.0000000 \n",
      "Iter:    64 | Cost: 0.2359259 | Acc train: 1.0000000 | Acc validation: 1.0000000 \n",
      "Iter:    65 | Cost: 0.2363502 | Acc train: 1.0000000 | Acc validation: 1.0000000 \n",
      "Iter:    66 | Cost: 0.2362784 | Acc train: 1.0000000 | Acc validation: 1.0000000 \n",
      "Iter:    67 | Cost: 0.2368287 | Acc train: 1.0000000 | Acc validation: 1.0000000 \n",
      "Iter:    68 | Cost: 0.2371684 | Acc train: 1.0000000 | Acc validation: 1.0000000 \n",
      "Iter:    69 | Cost: 0.2358832 | Acc train: 1.0000000 | Acc validation: 1.0000000 \n",
      "Iter:    70 | Cost: 0.2353697 | Acc train: 1.0000000 | Acc validation: 1.0000000 \n",
      "Iter:    71 | Cost: 0.2347944 | Acc train: 1.0000000 | Acc validation: 1.0000000 \n",
      "Iter:    72 | Cost: 0.2341708 | Acc train: 1.0000000 | Acc validation: 1.0000000 \n",
      "Iter:    73 | Cost: 0.2338506 | Acc train: 1.0000000 | Acc validation: 1.0000000 \n",
      "Iter:    74 | Cost: 0.2350365 | Acc train: 1.0000000 | Acc validation: 1.0000000 \n",
      "Iter:    75 | Cost: 0.2342899 | Acc train: 1.0000000 | Acc validation: 1.0000000 \n",
      "Iter:    76 | Cost: 0.2323162 | Acc train: 1.0000000 | Acc validation: 1.0000000 \n",
      "Iter:    77 | Cost: 0.2331499 | Acc train: 1.0000000 | Acc validation: 1.0000000 \n",
      "Iter:    78 | Cost: 0.2361096 | Acc train: 1.0000000 | Acc validation: 1.0000000 \n",
      "Iter:    79 | Cost: 0.2353824 | Acc train: 1.0000000 | Acc validation: 1.0000000 \n",
      "Iter:    80 | Cost: 0.2326626 | Acc train: 1.0000000 | Acc validation: 1.0000000 \n",
      "Iter:    81 | Cost: 0.2297553 | Acc train: 1.0000000 | Acc validation: 1.0000000 \n",
      "Iter:    82 | Cost: 0.2294884 | Acc train: 1.0000000 | Acc validation: 1.0000000 \n",
      "Iter:    83 | Cost: 0.2298073 | Acc train: 1.0000000 | Acc validation: 1.0000000 \n",
      "Iter:    84 | Cost: 0.2299101 | Acc train: 1.0000000 | Acc validation: 1.0000000 \n",
      "Iter:    85 | Cost: 0.2306039 | Acc train: 1.0000000 | Acc validation: 1.0000000 \n",
      "Iter:    86 | Cost: 0.2340819 | Acc train: 1.0000000 | Acc validation: 1.0000000 \n",
      "Iter:    87 | Cost: 0.2350579 | Acc train: 1.0000000 | Acc validation: 1.0000000 \n",
      "Iter:    88 | Cost: 0.2315898 | Acc train: 1.0000000 | Acc validation: 1.0000000 \n",
      "Iter:    89 | Cost: 0.2300575 | Acc train: 1.0000000 | Acc validation: 1.0000000 \n",
      "Iter:    90 | Cost: 0.2293854 | Acc train: 1.0000000 | Acc validation: 1.0000000 \n",
      "Iter:    91 | Cost: 0.2315004 | Acc train: 1.0000000 | Acc validation: 1.0000000 \n",
      "Iter:    92 | Cost: 0.2330714 | Acc train: 1.0000000 | Acc validation: 1.0000000 \n",
      "Iter:    93 | Cost: 0.2323549 | Acc train: 1.0000000 | Acc validation: 1.0000000 \n",
      "Iter:    94 | Cost: 0.2305930 | Acc train: 1.0000000 | Acc validation: 1.0000000 \n",
      "Iter:    95 | Cost: 0.2300705 | Acc train: 1.0000000 | Acc validation: 1.0000000 \n",
      "Iter:    96 | Cost: 0.2293868 | Acc train: 1.0000000 | Acc validation: 1.0000000 \n",
      "Iter:    97 | Cost: 0.2298204 | Acc train: 1.0000000 | Acc validation: 1.0000000 \n",
      "Iter:    98 | Cost: 0.2300597 | Acc train: 1.0000000 | Acc validation: 1.0000000 \n",
      "Iter:    99 | Cost: 0.2301238 | Acc train: 1.0000000 | Acc validation: 1.0000000 \n",
      "Iter:   100 | Cost: 0.2312107 | Acc train: 1.0000000 | Acc validation: 1.0000000 \n"
     ]
    }
   ],
   "source": [
    "opt = NesterovMomentumOptimizer(0.01)\n",
    "batch_size = 5\n",
    "\n",
    "# train the variational classifier\n",
    "var = var_init\n",
    "for it in range(60):\n",
    "\n",
    "    # Update the weights by one optimizer step\n",
    "    batch_index = np.random.randint(0, num_train, (batch_size, ))\n",
    "    feats_train_batch = feats_train[batch_index]\n",
    "    Y_train_batch = Y_train[batch_index]\n",
    "    var = opt.step(lambda v: cost(v, feats_train_batch, Y_train_batch), var)\n",
    "\n",
    "    # Compute predictions on train and validation set\n",
    "    predictions_train = [np.sign(variational_classifier(var, angles=f)) for f in feats_train]\n",
    "    predictions_val = [np.sign(variational_classifier(var, angles=f)) for f in feats_val]\n",
    "\n",
    "    # Compute accuracy on train and validation set\n",
    "    acc_train = accuracy(Y_train, predictions_train)\n",
    "    acc_val = accuracy(Y_val, predictions_val)\n",
    "\n",
    "    print(\"Iter: {:5d} | Cost: {:0.7f} | Acc train: {:0.7f} | Acc validation: {:0.7f} \"\n",
    "          \"\".format(it+1, cost(var, features, Y), acc_train, acc_val))"
   ]
  },
  {
   "cell_type": "markdown",
   "metadata": {},
   "source": [
    "*To continue training, comment out the line `var = var_init` and run the cell again.*"
   ]
  },
  {
   "cell_type": "markdown",
   "metadata": {},
   "source": [
    "We can plot the continuous output of the variational classifier for the first two dimensions of the Iris data set."
   ]
  },
  {
   "cell_type": "code",
   "execution_count": 24,
   "metadata": {},
   "outputs": [
    {
     "data": {
      "image/png": "[encoded data removed]",
      "text/plain": [
       "<matplotlib.figure.Figure at 0x7fc83ded5240>"
      ]
     },
     "metadata": {},
     "output_type": "display_data"
    }
   ],
   "source": [
    "plt.figure()\n",
    "cm = plt.cm.RdBu\n",
    "\n",
    "# make data for decision regions\n",
    "xx, yy = np.meshgrid(np.linspace(0.0, 1.5, 20), np.linspace(0.0, 1.5, 20))\n",
    "X_grid = [np.array([x, y]) for x, y in zip(xx.flatten(), yy.flatten())] \n",
    "\n",
    "# preprocess grid points like data inputs above\n",
    "padding = 0.3 * np.ones((len(X_grid), 1))\n",
    "X_grid = np.c_[np.c_[X_grid, padding], np.zeros((len(X_grid), 1)) ]  # pad each input\n",
    "normalization = np.sqrt(np.sum(X_grid ** 2, -1))\n",
    "X_grid = (X_grid.T / normalization).T  # normalize each input\n",
    "features_grid = np.array([get_angles(x) for x in X_grid])  # angles for state preparation are new features\n",
    "predictions_grid = [variational_classifier(var, angles=f) for f in features_grid]\n",
    "Z = np.reshape(predictions_grid, xx.shape)\n",
    "\n",
    "# plot decision regions\n",
    "cnt = plt.contourf(xx, yy, Z, levels=np.arange(-1, 1.1, 0.1), cmap=cm, alpha=.8, extend='both')\n",
    "plt.contour(xx, yy, Z, levels=[0.0], colors=('black',), linestyles=('--',), linewidths=(0.8,))\n",
    "plt.colorbar(cnt, ticks=[-1, 0, 1])\n",
    "\n",
    "# plot data\n",
    "plt.scatter(X_train[:,0][Y_train==1], X_train[:,1][Y_train==1], c='b', marker='o', edgecolors='k', label=\"class 1 train\")\n",
    "plt.scatter(X_val[:,0][Y_val==1], X_val[:,1][Y_val==1], c='b', marker='^', edgecolors='k', label=\"class 1 validation\")\n",
    "plt.scatter(X_train[:,0][Y_train==-1], X_train[:,1][Y_train==-1], c='r', marker='o', edgecolors='k', label=\"class -1 train\")\n",
    "plt.scatter(X_val[:,0][Y_val==-1], X_val[:,1][Y_val==-1], c='r', marker='^', edgecolors='k', label=\"class -1 validation\")\n",
    "\n",
    "plt.legend()\n",
    "plt.show()"
   ]
  }
 ],
 "metadata": {
  "kernelspec": {
   "display_name": "Python 3",
   "language": "python",
   "name": "python3"
  },
  "language_info": {
   "codemirror_mode": {
    "name": "ipython",
    "version": 3
   },
   "file_extension": ".py",
   "mimetype": "text/x-python",
   "name": "python",
   "nbconvert_exporter": "python",
   "pygments_lexer": "ipython3",
   "version": "3.6.1"
  }
 },
 "nbformat": 4,
 "nbformat_minor": 2
}
