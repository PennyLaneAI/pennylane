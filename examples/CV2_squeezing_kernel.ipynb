{
 "cells": [
  {
   "cell_type": "markdown",
   "metadata": {},
   "source": [
    "# Example CV2 - Classification with a squeezing feature map"
   ]
  },
  {
   "cell_type": "markdown",
   "metadata": {},
   "source": [
    "In this example we implement the squeezing feature map together with the implicit linear classifier inspired by [Schuld and Killoran (2018)](https://arxiv.org/abs/1803.07128). "
   ]
  },
  {
   "cell_type": "markdown",
   "metadata": {},
   "source": [
    "### Imports"
   ]
  },
  {
   "cell_type": "markdown",
   "metadata": {},
   "source": [
    "We import PennyLane, the wrapped version of NumPy provided by PennyLane, as well as an optimizer. "
   ]
  },
  {
   "cell_type": "code",
   "execution_count": 1,
   "metadata": {
    "collapsed": true
   },
   "outputs": [],
   "source": [
    "import pennylane as qml\n",
    "from pennylane import numpy as np\n",
    "from pennylane.optimize import AdamOptimizer"
   ]
  },
  {
   "cell_type": "markdown",
   "metadata": {},
   "source": [
    "The device is the Strawberry Fields simulator with two quantum modes or \"wires\". You need to have the Strawberry Fields plugin for PennyLane installed."
   ]
  },
  {
   "cell_type": "code",
   "execution_count": 2,
   "metadata": {},
   "outputs": [],
   "source": [
    "try:\n",
    "    dev = qml.device('strawberryfields.fock', wires=2, cutoff_dim=20)\n",
    "except:\n",
    "    print(\"To run this demo you need to install the strawberryfields plugin...\")"
   ]
  },
  {
   "cell_type": "markdown",
   "metadata": {},
   "source": [
    "### Quantum node\n",
    "\n",
    "The variational circuit which defines the quantum node consists of two parts. First, the input is \"encoded into Hilbert space\" by a squeezing feature map."
   ]
  },
  {
   "cell_type": "code",
   "execution_count": 3,
   "metadata": {
    "collapsed": true
   },
   "outputs": [],
   "source": [
    "def featuremap(x):\n",
    "\n",
    "    qml.Squeezing(1.9, x[0], wires=0)\n",
    "    qml.Squeezing(1.9, x[1], wires=1)"
   ]
  },
  {
   "cell_type": "markdown",
   "metadata": {},
   "source": [
    "Next, a layered circuit serves as a trainable linear classifier in Hilbert space. A single layer is defined as:"
   ]
  },
  {
   "cell_type": "code",
   "execution_count": 4,
   "metadata": {
    "collapsed": true
   },
   "outputs": [],
   "source": [
    "def layer(v):\n",
    "\n",
    "    qml.Beamsplitter(v[0], v[1], wires=[0, 1])\n",
    "\n",
    "    # linear gates in quadrature representation\n",
    "    qml.Displacement(v[2], 0., wires=0)\n",
    "    qml.Displacement(v[3], 0., wires=1)\n",
    "\n",
    "    # quadratic gates in quadrature representation\n",
    "    qml.QuadraticPhase(v[4], wires=0)\n",
    "    qml.QuadraticPhase(v[5], wires=1)\n",
    "\n",
    "    # cubic gates in quadrature representation\n",
    "    qml.CubicPhase(v[6], wires=0)\n",
    "    qml.CubicPhase(v[7], wires=1)"
   ]
  },
  {
   "cell_type": "markdown",
   "metadata": {},
   "source": [
    "We use two variational circuits encapsulated within quantum nodes. Both first encode the input via the feature map and then execute the layers of the classifier. The first quantum node returns the expectation of measuring 2 photons in mode 0 and 0 photons in mode 1 (Fock state |2,0>); the second quantum node returns the expectation of Fock state |0,2>."
   ]
  },
  {
   "cell_type": "code",
   "execution_count": 5,
   "metadata": {
    "collapsed": true
   },
   "outputs": [],
   "source": [
    "@qml.qnode(dev)\n",
    "def circuit1(var, x=None):\n",
    "\n",
    "    featuremap(x)\n",
    "\n",
    "    for v in var:\n",
    "        layer(v)\n",
    "\n",
    "    return qml.expval.NumberState(np.array([2, 0]), wires=[0, 1])\n",
    "\n",
    "\n",
    "@qml.qnode(dev)\n",
    "def circuit2(var, x=None):\n",
    "\n",
    "    featuremap(x)\n",
    "\n",
    "    for v in var:\n",
    "        layer(v)\n",
    "\n",
    "    return qml.expval.NumberState(np.array([0, 2]), wires=[0, 1])"
   ]
  },
  {
   "cell_type": "markdown",
   "metadata": {},
   "source": [
    "The quantum classifier executes these circuits and computes the renormalized probability of measuring Fock state  |2,0> instead of |0,2>."
   ]
  },
  {
   "cell_type": "code",
   "execution_count": 6,
   "metadata": {
    "collapsed": true
   },
   "outputs": [],
   "source": [
    "def qclassifier(var, x=None):\n",
    "\n",
    "    p1 = circuit1(var, x=x)\n",
    "    p2 = circuit2(var, x=x)\n",
    "\n",
    "    return p1 / (p1 + p2)"
   ]
  },
  {
   "cell_type": "markdown",
   "metadata": {},
   "source": [
    "### Objective"
   ]
  },
  {
   "cell_type": "markdown",
   "metadata": {},
   "source": [
    "As an objective we take the square loss between target labels and model predictions. To check the quality of the classifier, we also define the accuracy, or the percentage of correctly classified samples."
   ]
  },
  {
   "cell_type": "code",
   "execution_count": 7,
   "metadata": {
    "collapsed": true
   },
   "outputs": [],
   "source": [
    "def square_loss(labels, predictions):\n",
    "\n",
    "    loss = 0\n",
    "    for l, p in zip(labels, predictions):\n",
    "        loss += (l - p) ** 2\n",
    "    loss = loss / len(labels)\n",
    "\n",
    "    return loss\n",
    "\n",
    "\n",
    "def accuracy(labels, predictions):\n",
    "\n",
    "    acc = 0\n",
    "    for l, p in zip(labels, predictions):\n",
    "        if abs(l - p) < 1e-5:\n",
    "            acc += 1\n",
    "    acc = acc / len(labels)\n",
    "\n",
    "    return acc"
   ]
  },
  {
   "cell_type": "markdown",
   "metadata": {},
   "source": [
    "We also add a regularizer term."
   ]
  },
  {
   "cell_type": "code",
   "execution_count": 8,
   "metadata": {
    "collapsed": true
   },
   "outputs": [],
   "source": [
    "def regularizer(var):\n",
    "\n",
    "    reg = np.sum(np.inner(var, var))\n",
    "\n",
    "    return reg"
   ]
  },
  {
   "cell_type": "markdown",
   "metadata": {},
   "source": [
    "In the cost function we compute the outputs from the variational circuit and compute the square loss."
   ]
  },
  {
   "cell_type": "code",
   "execution_count": 9,
   "metadata": {
    "collapsed": true
   },
   "outputs": [],
   "source": [
    "def cost(var, X, Y):\n",
    "\n",
    "    regul = regularizer(var)\n",
    "\n",
    "    outpts = [qclassifier(var, x=x) for x in X]\n",
    "\n",
    "    loss = square_loss(Y, outpts)\n",
    "\n",
    "    return loss + 0.001 * regul"
   ]
  },
  {
   "cell_type": "markdown",
   "metadata": {},
   "source": [
    "### Optimization"
   ]
  },
  {
   "cell_type": "markdown",
   "metadata": {},
   "source": [
    "We load data samples from the moons dataset and split it into a training and validation set."
   ]
  },
  {
   "cell_type": "code",
   "execution_count": 10,
   "metadata": {},
   "outputs": [],
   "source": [
    "# load function data\n",
    "data = np.loadtxt(\"data/moons.txt\")\n",
    "X = data[:, 0:2]\n",
    "Y = data[:, 2]\n",
    "\n",
    "# split into training and validation set\n",
    "num_data = len(Y)\n",
    "num_train = int(0.5 * num_data)\n",
    "index = np.random.permutation(range(num_data))\n",
    "X_train = X[index[: num_train]]\n",
    "Y_train = Y[index[: num_train]]\n",
    "X_val = X[index[num_train: ]]\n",
    "Y_val = Y[index[num_train: ]]"
   ]
  },
  {
   "cell_type": "markdown",
   "metadata": {},
   "source": [
    "Before we train a model, let's take an initial look at the data.\n",
    "\n",
    "*Note: For the next cell to work you need the matplotlib library.* "
   ]
  },
  {
   "cell_type": "code",
   "execution_count": 11,
   "metadata": {},
   "outputs": [
    {
     "data": {
      "image/png": "[encoded data removed]",
      "text/plain": [
       "<matplotlib.figure.Figure at 0x7f65aa2ee2b0>"
      ]
     },
     "metadata": {},
     "output_type": "display_data"
    }
   ],
   "source": [
    "import matplotlib.pyplot as plt\n",
    "\n",
    "plt.figure()\n",
    "plt.scatter(X_train[:,0][Y_train==0], X_train[:,1][Y_train==0], marker='o', color='red', label='train 0')\n",
    "plt.scatter(X_val[:,0][Y_val==0], X_val[:,1][Y_val==0], marker='^', color='red', label='validation 0')\n",
    "plt.scatter(X_train[:,0][Y_train==1], X_train[:,1][Y_train==1], marker='^', color='blue', label='train 1')\n",
    "plt.scatter(X_val[:,0][Y_val==1], X_val[:,1][Y_val==1], marker='o', color='blue', label='validation 1')\n",
    "plt.xlabel('x1')\n",
    "plt.ylabel('x2')\n",
    "\n",
    "plt.legend()\n",
    "plt.show()"
   ]
  },
  {
   "cell_type": "markdown",
   "metadata": {},
   "source": [
    "The trainable circuit parameters (called variables internally in PennyLane) are initialized with values sampled from a normal distribution. We use 4 layers."
   ]
  },
  {
   "cell_type": "code",
   "execution_count": 12,
   "metadata": {},
   "outputs": [
    {
     "data": {
      "text/plain": [
       "array([[-0.26277494,  0.03547452, -0.33370214, -0.26648418, -0.60035194,\n",
       "        -0.58527866,  0.2832054 ,  0.52451353],\n",
       "       [ 0.14296337,  0.37770582,  0.86734904, -0.46506052, -0.00321058,\n",
       "         0.97866998, -0.32799805, -0.03862424],\n",
       "       [-0.24071806, -0.44600409, -0.18464598, -0.34675528, -0.05544027,\n",
       "        -0.64643551, -0.10072454, -0.07199096],\n",
       "       [ 0.01411686, -0.60594657, -0.13878945, -0.07793586,  0.3523184 ,\n",
       "         0.15417245, -0.23130933,  0.12119917]])"
      ]
     },
     "execution_count": 12,
     "metadata": {},
     "output_type": "execute_result"
    }
   ],
   "source": [
    "# initialize weights\n",
    "num_layers = 4\n",
    "var_init = 0.5 * np.random.randn(num_layers, 8)\n",
    "\n",
    "var_init"
   ]
  },
  {
   "cell_type": "markdown",
   "metadata": {},
   "source": [
    "We choose the Adam optimizer and update the weights for 50 steps with a batch size of 5. In every step the accuracy is computed for the entire training set. \n",
    "\n",
    "*You will see that while the cost is going down on average, there are fluctuations in the training. You could choose a smaller stepsize to make training smoother. Eventually, the accuracy of the training and validation set should be close to 1.0.*"
   ]
  },
  {
   "cell_type": "code",
   "execution_count": 13,
   "metadata": {
    "scrolled": true
   },
   "outputs": [
    {
     "name": "stdout",
     "output_type": "stream",
     "text": [
      "Iter:     1 | Cost: 0.5464092 | Acc train: 0.4200000 | Acc validation: 0.5400000 \n",
      "Iter:     2 | Cost: 0.5428974 | Acc train: 0.4200000 | Acc validation: 0.5400000 \n",
      "Iter:     3 | Cost: 0.5394593 | Acc train: 0.4200000 | Acc validation: 0.5400000 \n",
      "Iter:     4 | Cost: 0.5358669 | Acc train: 0.4200000 | Acc validation: 0.5400000 \n",
      "Iter:     5 | Cost: 0.5324927 | Acc train: 0.4200000 | Acc validation: 0.5400000 \n",
      "Iter:     6 | Cost: 0.5292338 | Acc train: 0.4200000 | Acc validation: 0.5400000 \n",
      "Iter:     7 | Cost: 0.5258918 | Acc train: 0.4200000 | Acc validation: 0.5400000 \n",
      "Iter:     8 | Cost: 0.5220247 | Acc train: 0.4200000 | Acc validation: 0.5400000 \n",
      "Iter:     9 | Cost: 0.5186299 | Acc train: 0.4200000 | Acc validation: 0.5400000 \n",
      "Iter:    10 | Cost: 0.5145932 | Acc train: 0.4200000 | Acc validation: 0.5400000 \n",
      "Iter:    11 | Cost: 0.5097728 | Acc train: 0.4200000 | Acc validation: 0.5400000 \n",
      "Iter:    12 | Cost: 0.5042893 | Acc train: 0.4200000 | Acc validation: 0.5400000 \n",
      "Iter:    13 | Cost: 0.4985362 | Acc train: 0.4200000 | Acc validation: 0.5400000 \n",
      "Iter:    14 | Cost: 0.4925586 | Acc train: 0.4200000 | Acc validation: 0.5400000 \n",
      "Iter:    15 | Cost: 0.4865976 | Acc train: 0.4200000 | Acc validation: 0.5400000 \n",
      "Iter:    16 | Cost: 0.4798566 | Acc train: 0.4200000 | Acc validation: 0.5400000 \n",
      "Iter:    17 | Cost: 0.4724393 | Acc train: 0.4200000 | Acc validation: 0.5400000 \n",
      "Iter:    18 | Cost: 0.4644544 | Acc train: 0.4200000 | Acc validation: 0.5400000 \n",
      "Iter:    19 | Cost: 0.4569797 | Acc train: 0.4200000 | Acc validation: 0.5200000 \n",
      "Iter:    20 | Cost: 0.4501780 | Acc train: 0.3800000 | Acc validation: 0.4800000 \n",
      "Iter:    21 | Cost: 0.4442270 | Acc train: 0.3600000 | Acc validation: 0.4200000 \n",
      "Iter:    22 | Cost: 0.4391872 | Acc train: 0.3200000 | Acc validation: 0.4000000 \n",
      "Iter:    23 | Cost: 0.4346398 | Acc train: 0.3200000 | Acc validation: 0.4000000 \n",
      "Iter:    24 | Cost: 0.4300793 | Acc train: 0.3200000 | Acc validation: 0.4000000 \n",
      "Iter:    25 | Cost: 0.4250598 | Acc train: 0.3200000 | Acc validation: 0.4200000 \n",
      "Iter:    26 | Cost: 0.4195936 | Acc train: 0.3000000 | Acc validation: 0.4200000 \n",
      "Iter:    27 | Cost: 0.4151748 | Acc train: 0.2800000 | Acc validation: 0.3400000 \n",
      "Iter:    28 | Cost: 0.4109971 | Acc train: 0.2400000 | Acc validation: 0.3000000 \n",
      "Iter:    29 | Cost: 0.4071533 | Acc train: 0.2400000 | Acc validation: 0.2800000 \n",
      "Iter:    30 | Cost: 0.4016105 | Acc train: 0.2600000 | Acc validation: 0.2800000 \n",
      "Iter:    31 | Cost: 0.3962139 | Acc train: 0.2400000 | Acc validation: 0.3000000 \n",
      "Iter:    32 | Cost: 0.3919095 | Acc train: 0.2400000 | Acc validation: 0.3000000 \n",
      "Iter:    33 | Cost: 0.3882185 | Acc train: 0.2400000 | Acc validation: 0.3200000 \n",
      "Iter:    34 | Cost: 0.3854017 | Acc train: 0.2800000 | Acc validation: 0.3400000 \n",
      "Iter:    35 | Cost: 0.3837324 | Acc train: 0.3200000 | Acc validation: 0.3800000 \n",
      "Iter:    36 | Cost: 0.3839520 | Acc train: 0.3600000 | Acc validation: 0.4200000 \n",
      "Iter:    37 | Cost: 0.3841848 | Acc train: 0.4000000 | Acc validation: 0.5000000 \n",
      "Iter:    38 | Cost: 0.3836053 | Acc train: 0.4200000 | Acc validation: 0.5200000 \n",
      "Iter:    39 | Cost: 0.3808467 | Acc train: 0.4200000 | Acc validation: 0.5200000 \n",
      "Iter:    40 | Cost: 0.3767906 | Acc train: 0.4200000 | Acc validation: 0.5200000 \n",
      "Iter:    41 | Cost: 0.3703488 | Acc train: 0.4200000 | Acc validation: 0.5200000 \n",
      "Iter:    42 | Cost: 0.3644993 | Acc train: 0.4200000 | Acc validation: 0.5200000 \n",
      "Iter:    43 | Cost: 0.3579748 | Acc train: 0.4000000 | Acc validation: 0.5200000 \n",
      "Iter:    44 | Cost: 0.3516527 | Acc train: 0.3600000 | Acc validation: 0.4800000 \n",
      "Iter:    45 | Cost: 0.3459725 | Acc train: 0.3800000 | Acc validation: 0.4600000 \n",
      "Iter:    46 | Cost: 0.3415068 | Acc train: 0.3800000 | Acc validation: 0.4800000 \n",
      "Iter:    47 | Cost: 0.3379337 | Acc train: 0.4000000 | Acc validation: 0.6000000 \n",
      "Iter:    48 | Cost: 0.3353312 | Acc train: 0.4400000 | Acc validation: 0.6000000 \n",
      "Iter:    49 | Cost: 0.3313277 | Acc train: 0.4200000 | Acc validation: 0.6000000 \n",
      "Iter:    50 | Cost: 0.3269954 | Acc train: 0.4000000 | Acc validation: 0.5800000 \n"
     ]
    }
   ],
   "source": [
    "# create optimizer\n",
    "opt = AdamOptimizer(stepsize=0.005)\n",
    "\n",
    "# train\n",
    "batch_size = 5\n",
    "var = var_init\n",
    "\n",
    "for it in range(50):\n",
    "\n",
    "    # select minibatch of training samples\n",
    "    batch_index = np.random.randint(0, num_train, (batch_size,))\n",
    "    X_train_batch = X_train[batch_index]\n",
    "    Y_train_batch = Y_train[batch_index]\n",
    "\n",
    "    var = opt.step(lambda v: cost(v, X_train_batch, Y_train_batch), var)\n",
    "\n",
    "    # Compute accuracy on train and validation set\n",
    "    pred_train = [np.round(qclassifier(var, x=x_)) for x_ in X_train]\n",
    "    pred_val = [np.round(qclassifier(var, x=x_)) for x_ in X_val]\n",
    "    acc_train = accuracy(Y_train, pred_train)\n",
    "    acc_val = accuracy(Y_val, pred_val)\n",
    "     \n",
    "    print(\"Iter: {:5d} | Cost: {:0.7f} | Acc train: {:0.7f} | Acc validation: {:0.7f} \"\n",
    "     \"\".format(it + 1, cost(var, X_train, Y_train), acc_train, acc_val))"
   ]
  },
  {
   "cell_type": "markdown",
   "metadata": {},
   "source": [
    "With the last predictions we can plot the classification of the model for the data. \n",
    "\n",
    "*For the following cell you need to have imported matplotlib's pyplot above.*"
   ]
  },
  {
   "cell_type": "code",
   "execution_count": 14,
   "metadata": {},
   "outputs": [
    {
     "data": {
      "image/png": "[encoded data removed]",
      "text/plain": [
       "<matplotlib.figure.Figure at 0x7f65a86cb8d0>"
      ]
     },
     "metadata": {},
     "output_type": "display_data"
    }
   ],
   "source": [
    "# make data for plot\n",
    "xx, yy = np.meshgrid(np.linspace(-0.1, 1.1, 20), np.linspace(-0.1, 1.1, 20))\n",
    "X_grid = [np.array([x, y]) for x, y in zip(xx.flatten(), yy.flatten())]\n",
    "\n",
    "# start plot\n",
    "plt.figure()\n",
    "cm = plt.cm.RdBu  \n",
    "\n",
    "# plot decision regions\n",
    "predictions_grid = [qclassifier(var, x=x) for x in X_grid]\n",
    "Z = np.reshape(predictions_grid, xx.shape)\n",
    "cnt = plt.contourf(xx, yy, Z, levels=np.arange(0., 1.1, 0.1), cmap=cm, alpha=.8)\n",
    "plt.colorbar(cnt, ticks=[0, 0.5, 1])\n",
    "\n",
    "# plot data\n",
    "plt.scatter(X_train[:, 0][Y_train==0], X_train[:, 1][Y_train==0], c='r', marker='^', edgecolors='k')\n",
    "plt.scatter(X_train[:, 0][Y_train==1], X_train[:, 1][Y_train==1], c='b', marker='^', edgecolors='k')\n",
    "plt.scatter(X_val[:, 0][Y_val==0], X_val[:, 1][Y_val==0], c='r', marker='o', edgecolors='k')\n",
    "plt.scatter(X_val[:, 0][Y_val==1], X_val[:, 1][Y_val==1], c='b', marker='o', edgecolors='k')\n",
    "\n",
    "plt.xlim(0., 1)\n",
    "plt.ylim(0., 1)\n",
    "plt.show()"
   ]
  }
 ],
 "metadata": {
  "kernelspec": {
   "display_name": "Python 3",
   "language": "python",
   "name": "python3"
  },
  "language_info": {
   "codemirror_mode": {
    "name": "ipython",
    "version": 3
   },
   "file_extension": ".py",
   "mimetype": "text/x-python",
   "name": "python",
   "nbconvert_exporter": "python",
   "pygments_lexer": "ipython3",
   "version": "3.6.1"
  }
 },
 "nbformat": 4,
 "nbformat_minor": 2
}
