{
 "cells": [
  {
   "cell_type": "markdown",
   "metadata": {},
   "source": [
    "# Example CV2 - Classification with a squeezing feature map"
   ]
  },
  {
   "cell_type": "markdown",
   "metadata": {},
   "source": [
    "In this example we implement the squeezing feature map together with the implicit linear classifier inspired by [Schuld and Killoran (2018)](https://arxiv.org/abs/1803.07128). "
   ]
  },
  {
   "cell_type": "markdown",
   "metadata": {},
   "source": [
    "### Imports"
   ]
  },
  {
   "cell_type": "markdown",
   "metadata": {},
   "source": [
    "We import PennyLane, the wrapped version of NumPy provided by PennyLane, as well as an optimizer. "
   ]
  },
  {
   "cell_type": "code",
   "execution_count": 1,
   "metadata": {
    "collapsed": true
   },
   "outputs": [],
   "source": [
    "import pennylane as qml\n",
    "from pennylane import numpy as np\n",
    "from pennylane.optimize import AdamOptimizer"
   ]
  },
  {
   "cell_type": "markdown",
   "metadata": {},
   "source": [
    "The device is the Strawberry Fields simulator with two quantum modes or \"wires\". You need to have the Strawberry Fields plugin for PennyLane installed."
   ]
  },
  {
   "cell_type": "code",
   "execution_count": 2,
   "metadata": {
    "collapsed": true
   },
   "outputs": [],
   "source": [
    "try:\n",
    "    dev = qml.device('strawberryfields.fock', wires=2, cutoff_dim=20)\n",
    "except:\n",
    "    print(\"To run this demo you need to install the strawberryfields plugin...\")"
   ]
  },
  {
   "cell_type": "markdown",
   "metadata": {},
   "source": [
    "### Quantum node\n",
    "\n",
    "The variational circuit which defines the quantum node consists of two parts. First, the input is \"encoded into Hilbert space\" by a squeezing feature map."
   ]
  },
  {
   "cell_type": "code",
   "execution_count": 3,
   "metadata": {
    "collapsed": true
   },
   "outputs": [],
   "source": [
    "def featuremap(x):\n",
    "\n",
    "    qml.Squeezing(1.9, x[0], wires=0)\n",
    "    qml.Squeezing(1.9, x[1], wires=1)"
   ]
  },
  {
   "cell_type": "markdown",
   "metadata": {},
   "source": [
    "Next, a layered circuit serves as a trainable linear classifier in Hilbert space. A single layer is defined as:"
   ]
  },
  {
   "cell_type": "code",
   "execution_count": 4,
   "metadata": {
    "collapsed": true
   },
   "outputs": [],
   "source": [
    "def layer(v):\n",
    "\n",
    "    qml.Beamsplitter(v[0], v[1], wires=[0, 1])\n",
    "\n",
    "    # linear gates in quadrature representation\n",
    "    qml.Displacement(v[2], 0., wires=0)\n",
    "    qml.Displacement(v[3], 0., wires=1)\n",
    "\n",
    "    # quadratic gates in quadrature representation\n",
    "    qml.QuadraticPhase(v[4], wires=0)\n",
    "    qml.QuadraticPhase(v[5], wires=1)\n",
    "\n",
    "    # cubic gates in quadrature representation\n",
    "    qml.CubicPhase(v[6], wires=0)\n",
    "    qml.CubicPhase(v[7], wires=1)"
   ]
  },
  {
   "cell_type": "markdown",
   "metadata": {},
   "source": [
    "We use two variational circuits encapsulated within quantum nodes. Both first encode the input via the feature map and then execute the layers of the classifier. The first quantum node returns the expectation of measuring 2 photons in mode 0 and 0 photons in mode 1 (Fock state |2,0>); the second quantum node returns the expectation of Fock state |0,2>."
   ]
  },
  {
   "cell_type": "code",
   "execution_count": 5,
   "metadata": {
    "collapsed": true
   },
   "outputs": [],
   "source": [
    "@qml.qnode(dev)\n",
    "def circuit1(var, x=None):\n",
    "\n",
    "    featuremap(x)\n",
    "\n",
    "    for v in var:\n",
    "        layer(v)\n",
    "\n",
    "    return qml.expval.NumberState(np.array([2, 0]), wires=[0, 1])\n",
    "\n",
    "\n",
    "@qml.qnode(dev)\n",
    "def circuit2(var, x=None):\n",
    "\n",
    "    featuremap(x)\n",
    "\n",
    "    for v in var:\n",
    "        layer(v)\n",
    "\n",
    "    return qml.expval.NumberState(np.array([0, 2]), wires=[0, 1])"
   ]
  },
  {
   "cell_type": "markdown",
   "metadata": {},
   "source": [
    "The quantum classifier executes these circuits and computes the renormalized probability of measuring Fock state  |2,0> instead of |0,2>."
   ]
  },
  {
   "cell_type": "code",
   "execution_count": 6,
   "metadata": {
    "collapsed": true
   },
   "outputs": [],
   "source": [
    "def qclassifier(var, x=None):\n",
    "\n",
    "    p1 = circuit1(var, x=x)\n",
    "    p2 = circuit2(var, x=x)\n",
    "\n",
    "    return p1 / (p1 + p2)"
   ]
  },
  {
   "cell_type": "markdown",
   "metadata": {},
   "source": [
    "### Objective"
   ]
  },
  {
   "cell_type": "markdown",
   "metadata": {},
   "source": [
    "As an objective we take the square loss between target labels and model predictions. To check the quality of the classifier, we also define the accuracy, or the percentage of correctly classified samples."
   ]
  },
  {
   "cell_type": "code",
   "execution_count": 7,
   "metadata": {
    "collapsed": true
   },
   "outputs": [],
   "source": [
    "def square_loss(labels, predictions):\n",
    "\n",
    "    loss = 0\n",
    "    for l, p in zip(labels, predictions):\n",
    "        loss += (l - p) ** 2\n",
    "    loss = loss / len(labels)\n",
    "\n",
    "    return loss\n",
    "\n",
    "\n",
    "def accuracy(labels, predictions):\n",
    "\n",
    "    acc = 0\n",
    "    for l, p in zip(labels, predictions):\n",
    "        if abs(l - p) < 1e-5:\n",
    "            acc += 1\n",
    "    acc = acc / len(labels)\n",
    "\n",
    "    return acc"
   ]
  },
  {
   "cell_type": "markdown",
   "metadata": {},
   "source": [
    "We also add a regularizer term."
   ]
  },
  {
   "cell_type": "code",
   "execution_count": 8,
   "metadata": {
    "collapsed": true
   },
   "outputs": [],
   "source": [
    "def regularizer(var):\n",
    "\n",
    "    reg = np.sum(np.inner(var, var))\n",
    "\n",
    "    return reg"
   ]
  },
  {
   "cell_type": "markdown",
   "metadata": {},
   "source": [
    "In the cost function we compute the outputs from the variational circuit and compute the square loss."
   ]
  },
  {
   "cell_type": "code",
   "execution_count": 9,
   "metadata": {
    "collapsed": true
   },
   "outputs": [],
   "source": [
    "def cost(var, X, Y):\n",
    "\n",
    "    regul = regularizer(var)\n",
    "\n",
    "    outpts = [qclassifier(var, x=x) for x in X]\n",
    "\n",
    "    loss = square_loss(Y, outpts)\n",
    "\n",
    "    return loss + 0.001 * regul"
   ]
  },
  {
   "cell_type": "markdown",
   "metadata": {},
   "source": [
    "### Optimization"
   ]
  },
  {
   "cell_type": "markdown",
   "metadata": {},
   "source": [
    "We load data samples from the moons dataset and split it into a training and validation set."
   ]
  },
  {
   "cell_type": "code",
   "execution_count": 10,
   "metadata": {
    "collapsed": true
   },
   "outputs": [],
   "source": [
    "# load function data\n",
    "data = np.loadtxt(\"data/moons.txt\")\n",
    "X = data[:, 0:2]\n",
    "Y = data[:, 2]\n",
    "\n",
    "# split into training and validation set\n",
    "num_data = len(Y)\n",
    "num_train = int(0.5 * num_data)\n",
    "index = np.random.permutation(range(num_data))\n",
    "X_train = X[index[: num_train]]\n",
    "Y_train = Y[index[: num_train]]\n",
    "X_val = X[index[num_train: ]]\n",
    "Y_val = Y[index[num_train: ]]"
   ]
  },
  {
   "cell_type": "markdown",
   "metadata": {},
   "source": [
    "Before we train a model, let's take an initial look at the data.\n",
    "\n",
    "*Note: For the next cell to work you need the matplotlib library.* "
   ]
  },
  {
   "cell_type": "code",
   "execution_count": 11,
   "metadata": {},
   "outputs": [
    {
     "data": {
      "image/png": "[encoded data removed]",
      "text/plain": [
       "<matplotlib.figure.Figure at 0x7f08b5e2e320>"
      ]
     },
     "metadata": {},
     "output_type": "display_data"
    }
   ],
   "source": [
    "import matplotlib.pyplot as plt\n",
    "\n",
    "plt.figure()\n",
    "plt.scatter(X_train[:,0][Y_train==0], X_train[:,1][Y_train==0], marker='o', color='red', label='train 0')\n",
    "plt.scatter(X_val[:,0][Y_val==0], X_val[:,1][Y_val==0], marker='^', color='red', label='validation 0')\n",
    "plt.scatter(X_train[:,0][Y_train==1], X_train[:,1][Y_train==1], marker='^', color='blue', label='train 1')\n",
    "plt.scatter(X_val[:,0][Y_val==1], X_val[:,1][Y_val==1], marker='o', color='blue', label='validation 1')\n",
    "plt.xlabel('x1')\n",
    "plt.ylabel('x2')\n",
    "\n",
    "plt.legend()\n",
    "plt.show()"
   ]
  },
  {
   "cell_type": "markdown",
   "metadata": {},
   "source": [
    "The trainable circuit parameters (called variables internally in PennyLane) are initialized with values sampled from a normal distribution. We use 4 layers."
   ]
  },
  {
   "cell_type": "code",
   "execution_count": 12,
   "metadata": {},
   "outputs": [
    {
     "data": {
      "text/plain": [
       "array([[ 0.88202617,  0.2000786 ,  0.48936899,  1.1204466 ,  0.933779  ,\n",
       "        -0.48863894,  0.47504421, -0.0756786 ],\n",
       "       [-0.05160943,  0.20529925,  0.07202179,  0.72713675,  0.38051886,\n",
       "         0.06083751,  0.22193162,  0.16683716],\n",
       "       [ 0.74703954, -0.10257913,  0.15653385, -0.42704787, -1.27649491,\n",
       "         0.3268093 ,  0.4322181 , -0.37108251],\n",
       "       [ 1.13487731, -0.72718284,  0.02287926, -0.09359193,  0.76638961,\n",
       "         0.73467938,  0.07747371,  0.18908126]])"
      ]
     },
     "execution_count": 12,
     "metadata": {},
     "output_type": "execute_result"
    }
   ],
   "source": [
    "np.random.seed(0)\n",
    "num_layers = 4\n",
    "var_init = 0.5 * np.random.randn(num_layers, 8)\n",
    "\n",
    "var_init"
   ]
  },
  {
   "cell_type": "markdown",
   "metadata": {},
   "source": [
    "We choose the Adam optimizer and update the weights for 150 steps with a batch size of 5. Every 5 steps the accuracy is computed for the entire training set. \n",
    "\n",
    "*Depending on the learning rate you may see fluctuations in the training, and besides a decreasing cost the accuracy takes some time to increase. Choose a smaller stepsize to make training smoother - albeit slower. Eventually, the accuracy of the training and validation set should be close to 1.0.*"
   ]
  },
  {
   "cell_type": "code",
   "execution_count": 13,
   "metadata": {
    "scrolled": true
   },
   "outputs": [
    {
     "name": "stdout",
     "output_type": "stream",
     "text": [
      "Iter:     1 | Cost: 0.4772025 | Acc train: 0.5200000 | Acc validation: 0.5200000 \n",
      "Iter:     2 | Cost: 0.4733630 \n",
      "Iter:     3 | Cost: 0.4699100 \n",
      "Iter:     4 | Cost: 0.4665753 \n",
      "Iter:     5 | Cost: 0.4632986 \n",
      "Iter:     6 | Cost: 0.4601867 | Acc train: 0.5200000 | Acc validation: 0.5200000 \n",
      "Iter:     7 | Cost: 0.4572327 \n",
      "Iter:     8 | Cost: 0.4540523 \n",
      "Iter:     9 | Cost: 0.4513519 \n",
      "Iter:    10 | Cost: 0.4445390 \n",
      "Iter:    11 | Cost: 0.4369002 | Acc train: 0.5200000 | Acc validation: 0.5200000 \n",
      "Iter:    12 | Cost: 0.4285423 \n",
      "Iter:    13 | Cost: 0.4187152 \n",
      "Iter:    14 | Cost: 0.4068669 \n",
      "Iter:    15 | Cost: 0.3910166 \n",
      "Iter:    16 | Cost: 0.3747818 | Acc train: 0.5200000 | Acc validation: 0.5200000 \n",
      "Iter:    17 | Cost: 0.3513118 \n",
      "Iter:    18 | Cost: 0.3191464 \n",
      "Iter:    19 | Cost: 0.2775744 \n",
      "Iter:    20 | Cost: 0.2280054 \n",
      "Iter:    21 | Cost: 0.1903710 | Acc train: 0.7200000 | Acc validation: 0.7400000 \n",
      "Iter:    22 | Cost: 0.1581350 \n",
      "Iter:    23 | Cost: 0.1394868 \n",
      "Iter:    24 | Cost: 0.1345407 \n",
      "Iter:    25 | Cost: 0.1395425 \n",
      "Iter:    26 | Cost: 0.1490349 | Acc train: 0.8200000 | Acc validation: 0.8400000 \n",
      "Iter:    27 | Cost: 0.1596741 \n",
      "Iter:    28 | Cost: 0.1694578 \n",
      "Iter:    29 | Cost: 0.1745699 \n",
      "Iter:    30 | Cost: 0.1715074 \n",
      "Iter:    31 | Cost: 0.1636201 | Acc train: 0.8200000 | Acc validation: 0.8000000 \n",
      "Iter:    32 | Cost: 0.1532001 \n",
      "Iter:    33 | Cost: 0.1435606 \n",
      "Iter:    34 | Cost: 0.1313976 \n",
      "Iter:    35 | Cost: 0.1208810 \n",
      "Iter:    36 | Cost: 0.1141007 | Acc train: 0.8600000 | Acc validation: 0.8600000 \n",
      "Iter:    37 | Cost: 0.1097781 \n",
      "Iter:    38 | Cost: 0.1076774 \n",
      "Iter:    39 | Cost: 0.1082248 \n",
      "Iter:    40 | Cost: 0.1106161 \n",
      "Iter:    41 | Cost: 0.1140353 | Acc train: 0.8800000 | Acc validation: 0.8400000 \n",
      "Iter:    42 | Cost: 0.1187307 \n",
      "Iter:    43 | Cost: 0.1188722 \n",
      "Iter:    44 | Cost: 0.1179694 \n",
      "Iter:    45 | Cost: 0.1162365 \n",
      "Iter:    46 | Cost: 0.1154831 | Acc train: 0.8800000 | Acc validation: 0.7800000 \n",
      "Iter:    47 | Cost: 0.1204248 \n",
      "Iter:    48 | Cost: 0.1312158 \n",
      "Iter:    49 | Cost: 0.1217278 \n",
      "Iter:    50 | Cost: 0.1165040 \n",
      "Iter:    51 | Cost: 0.1136548 | Acc train: 0.8600000 | Acc validation: 0.8200000 \n",
      "Iter:    52 | Cost: 0.1028749 \n",
      "Iter:    53 | Cost: 0.0982699 \n",
      "Iter:    54 | Cost: 0.0967277 \n",
      "Iter:    55 | Cost: 0.0954813 \n",
      "Iter:    56 | Cost: 0.0939095 | Acc train: 0.8800000 | Acc validation: 0.8800000 \n",
      "Iter:    57 | Cost: 0.0919986 \n",
      "Iter:    58 | Cost: 0.0887922 \n",
      "Iter:    59 | Cost: 0.0863571 \n",
      "Iter:    60 | Cost: 0.0857461 \n",
      "Iter:    61 | Cost: 0.0869531 | Acc train: 0.9800000 | Acc validation: 0.9000000 \n",
      "Iter:    62 | Cost: 0.0913204 \n",
      "Iter:    63 | Cost: 0.0946682 \n",
      "Iter:    64 | Cost: 0.0977679 \n",
      "Iter:    65 | Cost: 0.0974677 \n",
      "Iter:    66 | Cost: 0.0914825 | Acc train: 0.9600000 | Acc validation: 0.9200000 \n",
      "Iter:    67 | Cost: 0.0866559 \n",
      "Iter:    68 | Cost: 0.0825629 \n",
      "Iter:    69 | Cost: 0.0781278 \n",
      "Iter:    70 | Cost: 0.0752947 \n",
      "Iter:    71 | Cost: 0.0737656 | Acc train: 0.9800000 | Acc validation: 0.9400000 \n",
      "Iter:    72 | Cost: 0.0710475 \n",
      "Iter:    73 | Cost: 0.0685347 \n",
      "Iter:    74 | Cost: 0.0656722 \n",
      "Iter:    75 | Cost: 0.0625167 \n",
      "Iter:    76 | Cost: 0.0593581 | Acc train: 0.9800000 | Acc validation: 0.9400000 \n",
      "Iter:    77 | Cost: 0.0565720 \n",
      "Iter:    78 | Cost: 0.0540144 \n",
      "Iter:    79 | Cost: 0.0514952 \n",
      "Iter:    80 | Cost: 0.0487041 \n",
      "Iter:    81 | Cost: 0.0448736 | Acc train: 1.0000000 | Acc validation: 0.9400000 \n",
      "Iter:    82 | Cost: 0.0414891 \n",
      "Iter:    83 | Cost: 0.0397966 \n",
      "Iter:    84 | Cost: 0.0396611 \n",
      "Iter:    85 | Cost: 0.0412680 \n",
      "Iter:    86 | Cost: 0.0441796 | Acc train: 0.9800000 | Acc validation: 0.9600000 \n",
      "Iter:    87 | Cost: 0.0487157 \n",
      "Iter:    88 | Cost: 0.0520306 \n",
      "Iter:    89 | Cost: 0.0494094 \n",
      "Iter:    90 | Cost: 0.0457851 \n",
      "Iter:    91 | Cost: 0.0460190 | Acc train: 0.9800000 | Acc validation: 0.9200000 \n",
      "Iter:    92 | Cost: 0.0443103 \n",
      "Iter:    93 | Cost: 0.0444888 \n",
      "Iter:    94 | Cost: 0.0422977 \n",
      "Iter:    95 | Cost: 0.0413828 \n",
      "Iter:    96 | Cost: 0.0378568 | Acc train: 0.9800000 | Acc validation: 0.9200000 \n",
      "Iter:    97 | Cost: 0.0333488 \n",
      "Iter:    98 | Cost: 0.0319300 \n",
      "Iter:    99 | Cost: 0.0325205 \n",
      "Iter:   100 | Cost: 0.0339988 \n",
      "Iter:   101 | Cost: 0.0361284 | Acc train: 0.9600000 | Acc validation: 0.9600000 \n",
      "Iter:   102 | Cost: 0.0383365 \n",
      "Iter:   103 | Cost: 0.0388570 \n",
      "Iter:   104 | Cost: 0.0397782 \n",
      "Iter:   105 | Cost: 0.0407888 \n",
      "Iter:   106 | Cost: 0.0375542 | Acc train: 0.9800000 | Acc validation: 0.9400000 \n",
      "Iter:   107 | Cost: 0.0330912 \n",
      "Iter:   108 | Cost: 0.0318676 \n",
      "Iter:   109 | Cost: 0.0344940 \n",
      "Iter:   110 | Cost: 0.0410082 \n",
      "Iter:   111 | Cost: 0.0489505 | Acc train: 1.0000000 | Acc validation: 0.9000000 \n",
      "Iter:   112 | Cost: 0.0517207 \n",
      "Iter:   113 | Cost: 0.0516164 \n",
      "Iter:   114 | Cost: 0.0509260 \n",
      "Iter:   115 | Cost: 0.0522432 \n",
      "Iter:   116 | Cost: 0.0548799 | Acc train: 0.9400000 | Acc validation: 0.9000000 \n",
      "Iter:   117 | Cost: 0.0535670 \n",
      "Iter:   118 | Cost: 0.0528227 \n",
      "Iter:   119 | Cost: 0.0507564 \n",
      "Iter:   120 | Cost: 0.0490786 \n",
      "Iter:   121 | Cost: 0.0481308 | Acc train: 0.9800000 | Acc validation: 0.9200000 \n",
      "Iter:   122 | Cost: 0.0474568 \n",
      "Iter:   123 | Cost: 0.0427811 \n",
      "Iter:   124 | Cost: 0.0387685 \n",
      "Iter:   125 | Cost: 0.0356117 \n",
      "Iter:   126 | Cost: 0.0309322 | Acc train: 1.0000000 | Acc validation: 0.9800000 \n",
      "Iter:   127 | Cost: 0.0274737 \n",
      "Iter:   128 | Cost: 0.0276926 \n",
      "Iter:   129 | Cost: 0.0270134 \n",
      "Iter:   130 | Cost: 0.0262412 \n",
      "Iter:   131 | Cost: 0.0257127 | Acc train: 1.0000000 | Acc validation: 0.9600000 \n",
      "Iter:   132 | Cost: 0.0255083 \n",
      "Iter:   133 | Cost: 0.0254820 \n",
      "Iter:   134 | Cost: 0.0245868 \n",
      "Iter:   135 | Cost: 0.0257556 \n",
      "Iter:   136 | Cost: 0.0301673 | Acc train: 1.0000000 | Acc validation: 0.9800000 \n",
      "Iter:   137 | Cost: 0.0350849 \n",
      "Iter:   138 | Cost: 0.0367341 \n",
      "Iter:   139 | Cost: 0.0287842 \n",
      "Iter:   140 | Cost: 0.0251193 \n",
      "Iter:   141 | Cost: 0.0242264 | Acc train: 1.0000000 | Acc validation: 0.9800000 \n",
      "Iter:   142 | Cost: 0.0250184 \n",
      "Iter:   143 | Cost: 0.0271140 \n",
      "Iter:   144 | Cost: 0.0293626 \n",
      "Iter:   145 | Cost: 0.0321442 \n",
      "Iter:   146 | Cost: 0.0351932 | Acc train: 0.9800000 | Acc validation: 0.9600000 \n",
      "Iter:   147 | Cost: 0.0389251 \n",
      "Iter:   148 | Cost: 0.0428234 \n",
      "Iter:   149 | Cost: 0.0398575 \n",
      "Iter:   150 | Cost: 0.0348476 \n"
     ]
    }
   ],
   "source": [
    "# create optimizer\n",
    "opt = AdamOptimizer(stepsize=0.01)\n",
    "\n",
    "# train\n",
    "batch_size = 5\n",
    "var = var_init\n",
    "\n",
    "for it in range(150):\n",
    "\n",
    "    # select minibatch of training samples\n",
    "    batch_index = np.random.randint(0, num_train, (batch_size,))\n",
    "    X_train_batch = X_train[batch_index]\n",
    "    Y_train_batch = Y_train[batch_index]\n",
    "\n",
    "    var = opt.step(lambda v: cost(v, X_train_batch, Y_train_batch), var)\n",
    "\n",
    "    if it % 5 == 0:\n",
    "        # Compute accuracy on train and validation set\n",
    "        pred_train = [np.round(qclassifier(var, x=x_)) for x_ in X_train]\n",
    "        pred_val = [np.round(qclassifier(var, x=x_)) for x_ in X_val]\n",
    "        acc_train = accuracy(Y_train, pred_train)\n",
    "        acc_val = accuracy(Y_val, pred_val)\n",
    "        print(\"Iter: {:5d} | Cost: {:0.7f} | Acc train: {:0.7f} | Acc validation: {:0.7f} \"\n",
    "         \"\".format(it + 1, cost(var, X_train, Y_train), acc_train, acc_val))\n",
    "    else:\n",
    "        print(\"Iter: {:5d} | Cost: {:0.7f} \".format(it + 1, cost(var, X_train, Y_train)))"
   ]
  },
  {
   "cell_type": "markdown",
   "metadata": {},
   "source": [
    "With the last predictions we can plot the classification of the model for the data. \n",
    "\n",
    "*For the following cell you need to have imported matplotlib's pyplot above.*"
   ]
  },
  {
   "cell_type": "code",
   "execution_count": 14,
   "metadata": {},
   "outputs": [
    {
     "data": {
      "image/png": "[encoded data removed]",
      "text/plain": [
       "<matplotlib.figure.Figure at 0x7f08b41f1278>"
      ]
     },
     "metadata": {},
     "output_type": "display_data"
    }
   ],
   "source": [
    "# make data for plot\n",
    "xx, yy = np.meshgrid(np.linspace(-0.1, 1.1, 20), np.linspace(-0.1, 1.1, 20))\n",
    "X_grid = [np.array([x, y]) for x, y in zip(xx.flatten(), yy.flatten())]\n",
    "\n",
    "# start plot\n",
    "plt.figure()\n",
    "cm = plt.cm.RdBu  \n",
    "\n",
    "# plot decision regions\n",
    "predictions_grid = [qclassifier(var, x=x) for x in X_grid]\n",
    "Z = np.reshape(predictions_grid, xx.shape)\n",
    "cnt = plt.contourf(xx, yy, Z, levels=np.arange(0., 1.1, 0.1), cmap=cm, alpha=.8)\n",
    "plt.colorbar(cnt, ticks=[0, 0.5, 1])\n",
    "\n",
    "# plot data\n",
    "plt.scatter(X_train[:, 0][Y_train==0], X_train[:, 1][Y_train==0], c='r', marker='^', edgecolors='k')\n",
    "plt.scatter(X_train[:, 0][Y_train==1], X_train[:, 1][Y_train==1], c='b', marker='^', edgecolors='k')\n",
    "plt.scatter(X_val[:, 0][Y_val==0], X_val[:, 1][Y_val==0], c='r', marker='o', edgecolors='k')\n",
    "plt.scatter(X_val[:, 0][Y_val==1], X_val[:, 1][Y_val==1], c='b', marker='o', edgecolors='k')\n",
    "\n",
    "plt.xlim(0., 1)\n",
    "plt.ylim(0., 1)\n",
    "plt.show()"
   ]
  }
 ],
 "metadata": {
  "kernelspec": {
   "display_name": "Python 3",
   "language": "python",
   "name": "python3"
  },
  "language_info": {
   "codemirror_mode": {
    "name": "ipython",
    "version": 3
   },
   "file_extension": ".py",
   "mimetype": "text/x-python",
   "name": "python",
   "nbconvert_exporter": "python",
   "pygments_lexer": "ipython3",
   "version": "3.6.1"
  }
 },
 "nbformat": 4,
 "nbformat_minor": 2
}
