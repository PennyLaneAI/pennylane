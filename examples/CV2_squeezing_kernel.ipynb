{
 "cells": [
  {
   "cell_type": "markdown",
   "metadata": {},
   "source": [
    "# Example CV2 - Classification with a squeezing feature map"
   ]
  },
  {
   "cell_type": "markdown",
   "metadata": {},
   "source": [
    "In this example we implement the squeezing feature map together with the implicit linear classifier inspired by [Schuld and Killoran (2018)](https://arxiv.org/abs/1803.07128). "
   ]
  },
  {
   "cell_type": "markdown",
   "metadata": {},
   "source": [
    "### Imports"
   ]
  },
  {
   "cell_type": "markdown",
   "metadata": {},
   "source": [
    "We import PennyLane, the wrapped version of NumPy provided by PennyLane, as well as an optimizer. "
   ]
  },
  {
   "cell_type": "code",
   "execution_count": 1,
   "metadata": {},
   "outputs": [],
   "source": [
    "import pennylane as qml\n",
    "from pennylane import numpy as np\n",
    "from pennylane.optimize import AdamOptimizer"
   ]
  },
  {
   "cell_type": "markdown",
   "metadata": {},
   "source": [
    "The device is the Strawberry Fields simulator with two quantum modes or \"wires\". You need to have the Strawberry Fields plugin for PennyLane installed."
   ]
  },
  {
   "cell_type": "code",
   "execution_count": 2,
   "metadata": {},
   "outputs": [],
   "source": [
    "try:\n",
    "    dev = qml.device('strawberryfields.fock', wires=2, cutoff_dim=20)\n",
    "except:\n",
    "    print(\"To run this demo you need to install the strawberryfields plugin...\")"
   ]
  },
  {
   "cell_type": "markdown",
   "metadata": {},
   "source": [
    "### Quantum node\n",
    "\n",
    "The variational circuit which defines the quantum node consists of two parts. First, the input is \"encoded into Hilbert space\" by a squeezing feature map."
   ]
  },
  {
   "cell_type": "code",
   "execution_count": 3,
   "metadata": {},
   "outputs": [],
   "source": [
    "def featuremap(x):\n",
    "\n",
    "    qml.Squeezing(1.9, x[0], wires=0)\n",
    "    qml.Squeezing(1.9, x[1], wires=1)"
   ]
  },
  {
   "cell_type": "markdown",
   "metadata": {},
   "source": [
    "Next, a layered circuit serves as a trainable linear classifier in Hilbert space. A single layer is defined as:"
   ]
  },
  {
   "cell_type": "code",
   "execution_count": 4,
   "metadata": {},
   "outputs": [],
   "source": [
    "def layer(v):\n",
    "\n",
    "    qml.Beamsplitter(v[0], v[1], wires=[0, 1])\n",
    "\n",
    "    # linear gates in quadrature representation\n",
    "    qml.Displacement(v[2], 0., wires=0)\n",
    "    qml.Displacement(v[3], 0., wires=1)\n",
    "\n",
    "    # quadratic gates in quadrature representation\n",
    "    qml.QuadraticPhase(v[4], wires=0)\n",
    "    qml.QuadraticPhase(v[5], wires=1)\n",
    "\n",
    "    # cubic gates in quadrature representation\n",
    "    qml.CubicPhase(v[6], wires=0)\n",
    "    qml.CubicPhase(v[7], wires=1)"
   ]
  },
  {
   "cell_type": "markdown",
   "metadata": {},
   "source": [
    "We use two variational circuits encapsulated within quantum nodes. Both first encode the input via the feature map and then execute the layers of the classifier. The first quantum node returns the expectation of measuring 2 photons in mode 0 and 0 photons in mode 1 (Fock state |2,0>); the second quantum node returns the expectation of Fock state |0,2>."
   ]
  },
  {
   "cell_type": "code",
   "execution_count": 5,
   "metadata": {},
   "outputs": [],
   "source": [
    "@qml.qnode(dev)\n",
    "def circuit1(var, x=None):\n",
    "\n",
    "    featuremap(x)\n",
    "\n",
    "    for v in var:\n",
    "        layer(v)\n",
    "\n",
    "    return qml.expval.NumberState(np.array([2, 0]), wires=[0, 1])\n",
    "\n",
    "\n",
    "@qml.qnode(dev)\n",
    "def circuit2(var, x=None):\n",
    "\n",
    "    featuremap(x)\n",
    "\n",
    "    for v in var:\n",
    "        layer(v)\n",
    "\n",
    "    return qml.expval.NumberState(np.array([0, 2]), wires=[0, 1])"
   ]
  },
  {
   "cell_type": "markdown",
   "metadata": {},
   "source": [
    "The quantum classifier executes these circuits and computes the renormalized probability of measuring Fock state  |2,0> instead of |0,2>."
   ]
  },
  {
   "cell_type": "code",
   "execution_count": 6,
   "metadata": {},
   "outputs": [],
   "source": [
    "def qclassifier(var, x=None):\n",
    "\n",
    "    p1 = circuit1(var, x=x)\n",
    "    p2 = circuit2(var, x=x)\n",
    "\n",
    "    return p1 / (p1 + p2)"
   ]
  },
  {
   "cell_type": "markdown",
   "metadata": {},
   "source": [
    "### Objective"
   ]
  },
  {
   "cell_type": "markdown",
   "metadata": {},
   "source": [
    "As an objective we take the square loss between target labels and model predictions. To check the quality of the classifier, we also define the accuracy, or the percentage of correctly classified samples."
   ]
  },
  {
   "cell_type": "code",
   "execution_count": 7,
   "metadata": {},
   "outputs": [],
   "source": [
    "def square_loss(labels, predictions):\n",
    "\n",
    "    loss = 0\n",
    "    for l, p in zip(labels, predictions):\n",
    "        loss += (l - p) ** 2\n",
    "    loss = loss / len(labels)\n",
    "\n",
    "    return loss\n",
    "\n",
    "\n",
    "def accuracy(labels, predictions):\n",
    "\n",
    "    acc = 0\n",
    "    for l, p in zip(labels, predictions):\n",
    "        if abs(l - p) < 1e-5:\n",
    "            acc += 1\n",
    "    acc = acc / len(labels)\n",
    "\n",
    "    return acc"
   ]
  },
  {
   "cell_type": "markdown",
   "metadata": {},
   "source": [
    "We also add a regularizer term."
   ]
  },
  {
   "cell_type": "code",
   "execution_count": 8,
   "metadata": {},
   "outputs": [],
   "source": [
    "def regularizer(var):\n",
    "\n",
    "    reg = np.sum(np.inner(var, var))\n",
    "\n",
    "    return reg"
   ]
  },
  {
   "cell_type": "markdown",
   "metadata": {},
   "source": [
    "In the cost function we compute the outputs from the variational circuit and compute the square loss."
   ]
  },
  {
   "cell_type": "code",
   "execution_count": 9,
   "metadata": {},
   "outputs": [],
   "source": [
    "def cost(var, X, Y):\n",
    "\n",
    "    regul = regularizer(var)\n",
    "\n",
    "    outpts = [qclassifier(var, x=x) for x in X]\n",
    "\n",
    "    loss = square_loss(Y, outpts)\n",
    "\n",
    "    return loss + 0.001 * regul"
   ]
  },
  {
   "cell_type": "markdown",
   "metadata": {},
   "source": [
    "### Optimization"
   ]
  },
  {
   "cell_type": "markdown",
   "metadata": {},
   "source": [
    "We load data samples from the moons dataset and split it into a training and validation set."
   ]
  },
  {
   "cell_type": "code",
   "execution_count": 10,
   "metadata": {},
   "outputs": [],
   "source": [
    "# load function data\n",
    "data = np.loadtxt(\"data/moons.txt\")\n",
    "X = data[:, 0:2]\n",
    "Y = data[:, 2]\n",
    "\n",
    "# split into training and validation set\n",
    "num_data = len(Y)\n",
    "num_train = int(0.5 * num_data)\n",
    "index = np.random.permutation(range(num_data))\n",
    "X_train = X[index[: num_train]]\n",
    "Y_train = Y[index[: num_train]]\n",
    "X_val = X[index[num_train: ]]\n",
    "Y_val = Y[index[num_train: ]]"
   ]
  },
  {
   "cell_type": "markdown",
   "metadata": {},
   "source": [
    "Before we train a model, let's take an initial look at the data.\n",
    "\n",
    "*Note: For the next cell to work you need the matplotlib library.* "
   ]
  },
  {
   "cell_type": "code",
   "execution_count": 11,
   "metadata": {},
   "outputs": [
    {
     "data": {
      "text/plain": [
       "<Figure size 640x480 with 1 Axes>"
      ]
     },
     "metadata": {},
     "output_type": "display_data"
    }
   ],
   "source": [
    "import matplotlib.pyplot as plt\n",
    "\n",
    "plt.figure()\n",
    "plt.scatter(X_train[:,0][Y_train==0], X_train[:,1][Y_train==0], marker='o', color='red', label='train 0')\n",
    "plt.scatter(X_val[:,0][Y_val==0], X_val[:,1][Y_val==0], marker='^', color='red', label='validation 0')\n",
    "plt.scatter(X_train[:,0][Y_train==1], X_train[:,1][Y_train==1], marker='^', color='blue', label='train 1')\n",
    "plt.scatter(X_val[:,0][Y_val==1], X_val[:,1][Y_val==1], marker='o', color='blue', label='validation 1')\n",
    "plt.xlabel('x1')\n",
    "plt.ylabel('x2')\n",
    "\n",
    "plt.legend()\n",
    "plt.show()"
   ]
  },
  {
   "cell_type": "markdown",
   "metadata": {},
   "source": [
    "The trainable circuit parameters (called variables internally in PennyLane) are initialized with values sampled from a normal distribution. We use 4 layers."
   ]
  },
  {
   "cell_type": "code",
   "execution_count": 12,
   "metadata": {},
   "outputs": [
    {
     "data": {
      "text/plain": [
       "array([[ 0.88202617,  0.2000786 ,  0.48936899,  1.1204466 ,  0.933779  ,\n",
       "        -0.48863894,  0.47504421, -0.0756786 ],\n",
       "       [-0.05160943,  0.20529925,  0.07202179,  0.72713675,  0.38051886,\n",
       "         0.06083751,  0.22193162,  0.16683716],\n",
       "       [ 0.74703954, -0.10257913,  0.15653385, -0.42704787, -1.27649491,\n",
       "         0.3268093 ,  0.4322181 , -0.37108251],\n",
       "       [ 1.13487731, -0.72718284,  0.02287926, -0.09359193,  0.76638961,\n",
       "         0.73467938,  0.07747371,  0.18908126]])"
      ]
     },
     "execution_count": 12,
     "metadata": {},
     "output_type": "execute_result"
    }
   ],
   "source": [
    "np.random.seed(0)\n",
    "num_layers = 4\n",
    "var_init = 0.5 * np.random.randn(num_layers, 8)\n",
    "\n",
    "var_init"
   ]
  },
  {
   "cell_type": "markdown",
   "metadata": {},
   "source": [
    "We choose the Adam optimizer and update the weights for 150 steps with a batch size of 5. Every 5 steps the accuracy is computed for the entire training set. \n",
    "\n",
    "*Depending on the learning rate you may see fluctuations in the training, and besides a decreasing cost the accuracy takes some time to increase. Choose a smaller stepsize to make training smoother - albeit slower. Eventually, the accuracy of the training and validation set should be close to 1.0.*"
   ]
  },
  {
   "cell_type": "code",
   "execution_count": 13,
   "metadata": {
    "scrolled": true
   },
   "outputs": [
    {
     "name": "stdout",
     "output_type": "stream",
     "text": [
      "Iter:     1 | Cost: 0.4758290 | Acc train: 0.5200000 | Acc validation: 0.5200000 \n",
      "Iter:     2 | Cost: 0.4716230 \n",
      "Iter:     3 | Cost: 0.4682556 \n",
      "Iter:     4 | Cost: 0.4664731 \n",
      "Iter:     5 | Cost: 0.4636446 \n",
      "Iter:     6 | Cost: 0.4609405 | Acc train: 0.5200000 | Acc validation: 0.5200000 \n",
      "Iter:     7 | Cost: 0.4574936 \n",
      "Iter:     8 | Cost: 0.4538588 \n",
      "Iter:     9 | Cost: 0.4503489 \n",
      "Iter:    10 | Cost: 0.4467718 \n",
      "Iter:    11 | Cost: 0.4423648 | Acc train: 0.5200000 | Acc validation: 0.5200000 \n",
      "Iter:    12 | Cost: 0.4361381 \n",
      "Iter:    13 | Cost: 0.4284892 \n",
      "Iter:    14 | Cost: 0.4199245 \n",
      "Iter:    15 | Cost: 0.4106510 \n",
      "Iter:    16 | Cost: 0.3992213 | Acc train: 0.5200000 | Acc validation: 0.5200000 \n",
      "Iter:    17 | Cost: 0.3831792 \n",
      "Iter:    18 | Cost: 0.3641469 \n",
      "Iter:    19 | Cost: 0.3408842 \n",
      "Iter:    20 | Cost: 0.3122084 \n",
      "Iter:    21 | Cost: 0.2783637 | Acc train: 0.5200000 | Acc validation: 0.5200000 \n",
      "Iter:    22 | Cost: 0.2413387 \n",
      "Iter:    23 | Cost: 0.2080947 \n",
      "Iter:    24 | Cost: 0.1871684 \n",
      "Iter:    25 | Cost: 0.1718906 \n",
      "Iter:    26 | Cost: 0.1597654 | Acc train: 0.9200000 | Acc validation: 0.8800000 \n",
      "Iter:    27 | Cost: 0.1498189 \n",
      "Iter:    28 | Cost: 0.1417823 \n",
      "Iter:    29 | Cost: 0.1361492 \n",
      "Iter:    30 | Cost: 0.1324654 \n",
      "Iter:    31 | Cost: 0.1302987 | Acc train: 0.8600000 | Acc validation: 0.8200000 \n",
      "Iter:    32 | Cost: 0.1301671 \n",
      "Iter:    33 | Cost: 0.1290584 \n",
      "Iter:    34 | Cost: 0.1272199 \n",
      "Iter:    35 | Cost: 0.1248704 \n",
      "Iter:    36 | Cost: 0.1219247 | Acc train: 0.8600000 | Acc validation: 0.8400000 \n",
      "Iter:    37 | Cost: 0.1212927 \n",
      "Iter:    38 | Cost: 0.1213170 \n",
      "Iter:    39 | Cost: 0.1217384 \n",
      "Iter:    40 | Cost: 0.1208092 \n",
      "Iter:    41 | Cost: 0.1185772 | Acc train: 0.8800000 | Acc validation: 0.8000000 \n",
      "Iter:    42 | Cost: 0.1165697 \n",
      "Iter:    43 | Cost: 0.1149005 \n",
      "Iter:    44 | Cost: 0.1138192 \n",
      "Iter:    45 | Cost: 0.1125216 \n",
      "Iter:    46 | Cost: 0.1114266 | Acc train: 0.9000000 | Acc validation: 0.8200000 \n",
      "Iter:    47 | Cost: 0.1104822 \n",
      "Iter:    48 | Cost: 0.1089941 \n",
      "Iter:    49 | Cost: 0.1074481 \n",
      "Iter:    50 | Cost: 0.1065622 \n",
      "Iter:    51 | Cost: 0.1064980 | Acc train: 0.9000000 | Acc validation: 0.8200000 \n",
      "Iter:    52 | Cost: 0.1062231 \n",
      "Iter:    53 | Cost: 0.1053581 \n",
      "Iter:    54 | Cost: 0.1048271 \n",
      "Iter:    55 | Cost: 0.1046978 \n",
      "Iter:    56 | Cost: 0.1018451 | Acc train: 0.9200000 | Acc validation: 0.8200000 \n",
      "Iter:    57 | Cost: 0.1007147 \n",
      "Iter:    58 | Cost: 0.1017364 \n",
      "Iter:    59 | Cost: 0.1037947 \n",
      "Iter:    60 | Cost: 0.1060678 \n",
      "Iter:    61 | Cost: 0.1093062 | Acc train: 0.9200000 | Acc validation: 0.8000000 \n",
      "Iter:    62 | Cost: 0.1117884 \n",
      "Iter:    63 | Cost: 0.1139130 \n",
      "Iter:    64 | Cost: 0.1110055 \n",
      "Iter:    65 | Cost: 0.1073271 \n",
      "Iter:    66 | Cost: 0.1030379 | Acc train: 0.9200000 | Acc validation: 0.8000000 \n",
      "Iter:    67 | Cost: 0.0990975 \n",
      "Iter:    68 | Cost: 0.0947008 \n",
      "Iter:    69 | Cost: 0.0917770 \n",
      "Iter:    70 | Cost: 0.0911115 \n",
      "Iter:    71 | Cost: 0.0904007 | Acc train: 0.9400000 | Acc validation: 0.8400000 \n",
      "Iter:    72 | Cost: 0.0888869 \n",
      "Iter:    73 | Cost: 0.0884675 \n",
      "Iter:    74 | Cost: 0.0884373 \n",
      "Iter:    75 | Cost: 0.0874516 \n",
      "Iter:    76 | Cost: 0.0850225 | Acc train: 0.9400000 | Acc validation: 0.9000000 \n",
      "Iter:    77 | Cost: 0.0826541 \n",
      "Iter:    78 | Cost: 0.0809324 \n",
      "Iter:    79 | Cost: 0.0801202 \n",
      "Iter:    80 | Cost: 0.0802344 \n",
      "Iter:    81 | Cost: 0.0792553 | Acc train: 0.9400000 | Acc validation: 0.8000000 \n",
      "Iter:    82 | Cost: 0.0784912 \n",
      "Iter:    83 | Cost: 0.0779320 \n",
      "Iter:    84 | Cost: 0.0776511 \n",
      "Iter:    85 | Cost: 0.0761457 \n",
      "Iter:    86 | Cost: 0.0748674 | Acc train: 0.9600000 | Acc validation: 0.8200000 \n",
      "Iter:    87 | Cost: 0.0729041 \n",
      "Iter:    88 | Cost: 0.0713683 \n",
      "Iter:    89 | Cost: 0.0705816 \n",
      "Iter:    90 | Cost: 0.0708754 \n",
      "Iter:    91 | Cost: 0.0680175 | Acc train: 0.9600000 | Acc validation: 0.9000000 \n",
      "Iter:    92 | Cost: 0.0675649 \n",
      "Iter:    93 | Cost: 0.0682872 \n",
      "Iter:    94 | Cost: 0.0695105 \n",
      "Iter:    95 | Cost: 0.0712182 \n",
      "Iter:    96 | Cost: 0.0720066 | Acc train: 0.9800000 | Acc validation: 0.8800000 \n",
      "Iter:    97 | Cost: 0.0718341 \n",
      "Iter:    98 | Cost: 0.0709208 \n",
      "Iter:    99 | Cost: 0.0690273 \n",
      "Iter:   100 | Cost: 0.0672899 \n"
     ]
    }
   ],
   "source": [
    "# create optimizer\n",
    "opt = AdamOptimizer(stepsize=0.01)\n",
    "\n",
    "# train\n",
    "batch_size = 5\n",
    "var = var_init\n",
    "\n",
    "for it in range(100):\n",
    "\n",
    "    # select minibatch of training samples\n",
    "    batch_index = np.random.randint(0, num_train, (batch_size,))\n",
    "    X_train_batch = X_train[batch_index]\n",
    "    Y_train_batch = Y_train[batch_index]\n",
    "\n",
    "    var = opt.step(lambda v: cost(v, X_train_batch, Y_train_batch), var)\n",
    "\n",
    "    if it % 5 == 0:\n",
    "        # Compute accuracy on train and validation set\n",
    "        pred_train = [np.round(qclassifier(var, x=x_)) for x_ in X_train]\n",
    "        pred_val = [np.round(qclassifier(var, x=x_)) for x_ in X_val]\n",
    "        acc_train = accuracy(Y_train, pred_train)\n",
    "        acc_val = accuracy(Y_val, pred_val)\n",
    "        print(\"Iter: {:5d} | Cost: {:0.7f} | Acc train: {:0.7f} | Acc validation: {:0.7f} \"\n",
    "         \"\".format(it + 1, cost(var, X_train, Y_train), acc_train, acc_val))\n",
    "    else:\n",
    "        print(\"Iter: {:5d} | Cost: {:0.7f} \".format(it + 1, cost(var, X_train, Y_train)))"
   ]
  },
  {
   "cell_type": "markdown",
   "metadata": {},
   "source": [
    "With the last predictions we can plot the classification of the model for the data. \n",
    "\n",
    "*For the following cell you need to have imported matplotlib's pyplot above.*"
   ]
  },
  {
   "cell_type": "code",
   "execution_count": 15,
   "metadata": {},
   "outputs": [
    {
     "data": {
      "image/png": "[encoded data removed]",
      "text/plain": [
       "<Figure size 432x288 with 2 Axes>"
      ]
     },
     "metadata": {},
     "output_type": "display_data"
    }
   ],
   "source": [
    "# make data for plot\n",
    "xx, yy = np.meshgrid(np.linspace(-0.1, 1.1, 20), np.linspace(-0.1, 1.1, 20))\n",
    "X_grid = [np.array([x, y]) for x, y in zip(xx.flatten(), yy.flatten())]\n",
    "\n",
    "# start plot\n",
    "plt.figure()\n",
    "cm = plt.cm.RdBu  \n",
    "\n",
    "# plot decision regions\n",
    "predictions_grid = [qclassifier(var, x=x) for x in X_grid]\n",
    "Z = np.reshape(predictions_grid, xx.shape)\n",
    "cnt = plt.contourf(xx, yy, Z, levels=np.arange(0., 1.1, 0.1), cmap=cm, alpha=.8)\n",
    "plt.colorbar(cnt, ticks=[0, 0.5, 1])\n",
    "\n",
    "# plot data\n",
    "plt.scatter(X_train[:, 0][Y_train==0], X_train[:, 1][Y_train==0], c='r', marker='^', edgecolors='k')\n",
    "plt.scatter(X_train[:, 0][Y_train==1], X_train[:, 1][Y_train==1], c='b', marker='^', edgecolors='k')\n",
    "plt.scatter(X_val[:, 0][Y_val==0], X_val[:, 1][Y_val==0], c='r', marker='o', edgecolors='k')\n",
    "plt.scatter(X_val[:, 0][Y_val==1], X_val[:, 1][Y_val==1], c='b', marker='o', edgecolors='k')\n",
    "\n",
    "plt.xlim(0., 1)\n",
    "plt.ylim(0., 1)\n",
    "plt.show()"
   ]
  },
  {
   "cell_type": "code",
   "execution_count": null,
   "metadata": {},
   "outputs": [],
   "source": []
  }
 ],
 "metadata": {
  "kernelspec": {
   "display_name": "Python 3",
   "language": "python",
   "name": "python3"
  },
  "language_info": {
   "codemirror_mode": {
    "name": "ipython",
    "version": 3
   },
   "file_extension": ".py",
   "mimetype": "text/x-python",
   "name": "python",
   "nbconvert_exporter": "python",
   "pygments_lexer": "ipython3",
   "version": "3.6.6"
  }
 },
 "nbformat": 4,
 "nbformat_minor": 2
}
