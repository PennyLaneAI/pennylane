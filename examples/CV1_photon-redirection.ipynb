{
 "cells": [
  {
   "cell_type": "markdown",
   "metadata": {},
   "source": [
    "# Example CV1 - Photon redirection"
   ]
  },
  {
   "cell_type": "markdown",
   "metadata": {},
   "source": [
    "This example notebook runs PennyLane's version of \"Hello world!\" for continuous-variable quantum computation, making use of the Strawberry Fields plugin. Starting with a photon in mode 0, the goal is to optimize a beamsplitter to redirect the photon to mode 1. \n",
    "\n",
    "We will compare the gradient-descent optimizer with and without momentum for this task."
   ]
  },
  {
   "cell_type": "markdown",
   "metadata": {},
   "source": [
    "### Imports"
   ]
  },
  {
   "cell_type": "markdown",
   "metadata": {},
   "source": [
    "First we need to import PennyLane. PennyLane allows us to automatically compute gradients for functions that manipulate NumPy arrays, including quantum functions. To do this, we should always *import the wrapped version of NumPy provided by PennyLane*."
   ]
  },
  {
   "cell_type": "code",
   "execution_count": 1,
   "metadata": {},
   "outputs": [],
   "source": [
    "import pennylane as qml\n",
    "from pennylane import numpy as np\n",
    "from pennylane.optimize import GradientDescentOptimizer, MomentumOptimizer"
   ]
  },
  {
   "cell_type": "markdown",
   "metadata": {},
   "source": [
    "Next, we create a \"device\" to run the photon redirection circuit. We use StrawberryFields to simulate a photonic quantum processor with two quantum modes (or `wires`)."
   ]
  },
  {
   "cell_type": "code",
   "execution_count": 2,
   "metadata": {},
   "outputs": [],
   "source": [
    "try:\n",
    "    dev = qml.device('strawberryfields.fock', wires=2, cutoff_dim=10)\n",
    "except:\n",
    "    print(\"To run this example you need to install the strawberryfields plugin...\")"
   ]
  },
  {
   "cell_type": "markdown",
   "metadata": {},
   "source": [
    "### Quantum node\n",
    "\n",
    "We define a quantum circuit which starts with one photon into the first mode and interferes both modes on a beamsplitter. "
   ]
  },
  {
   "cell_type": "code",
   "execution_count": 3,
   "metadata": {},
   "outputs": [],
   "source": [
    "@qml.qnode(dev)\n",
    "def circuit(var):\n",
    "    qml.FockState(1, wires=0)\n",
    "    qml.Beamsplitter(var[0], var[1], wires=[0, 1])\n",
    "\n",
    "    return qml.expval(qml.MeanPhoton(0))"
   ]
  },
  {
   "cell_type": "markdown",
   "metadata": {},
   "source": [
    "*Note: The `qml.qnode` decorator is a shortcut for declaring a QNode and binding it to a device. The same thing can be achieved with the code `circuit = qml.qnode.QNode(circuit, dev)`.*"
   ]
  },
  {
   "cell_type": "markdown",
   "metadata": {},
   "source": [
    "The function `circuit` uses the device `dev` to evaluate the following quantum circuit:"
   ]
  },
  {
   "cell_type": "markdown",
   "metadata": {},
   "source": [
    "<img src=\"figures/redirection_circuit.png\">"
   ]
  },
  {
   "cell_type": "markdown",
   "metadata": {},
   "source": [
    "Depending on the variable $v_1$ (the transmission parameter of the beamsplitter), the photon remains in mode 0 (for $v_1 = n \\pi$ with integer $n$), gets redirected to mode 1 (for $v_2 = n\\pi / 2$), or is in a superposition of being in both modes. The phase parameter $v_2$ does not have any influence on the result, so we expect the gradient of `circuit` with respect to this parameter to be zero, and hence not get updated when we optimize the circuit."
   ]
  },
  {
   "cell_type": "markdown",
   "metadata": {},
   "source": [
    "### Objective"
   ]
  },
  {
   "cell_type": "markdown",
   "metadata": {},
   "source": [
    "Next, we define a cost that quantifies whether the redirection is successful. Since we want to maximize the expectation of the photon number in mode 1, we can minimize the expectation of the photon number in mode 0 (alternatively, we could minimize the negative of the photon number in mode 1)."
   ]
  },
  {
   "cell_type": "code",
   "execution_count": 4,
   "metadata": {},
   "outputs": [],
   "source": [
    "def objective(var):\n",
    "    return circuit(var)"
   ]
  },
  {
   "cell_type": "markdown",
   "metadata": {},
   "source": [
    "This objective has the following optimization landscape. \n",
    "\n",
    "*Note: To run the following cell you need the matplotlib library.*"
   ]
  },
  {
   "cell_type": "code",
   "execution_count": 5,
   "metadata": {},
   "outputs": [
    {
     "data": {
      "image/png": "[encoded data removed]",
      "text/plain": [
       "<Figure size 432x288 with 1 Axes>"
      ]
     },
     "metadata": {},
     "output_type": "display_data"
    }
   ],
   "source": [
    "import matplotlib.pyplot as plt\n",
    "%matplotlib inline  \n",
    "from mpl_toolkits.mplot3d import Axes3D\n",
    "from matplotlib import cm\n",
    "from matplotlib.ticker import MaxNLocator\n",
    "\n",
    "fig = plt.figure(figsize = (6, 4))\n",
    "ax = fig.gca(projection='3d')\n",
    "\n",
    "X = np.arange(-3.1, 1.6, 0.1)\n",
    "Y = np.arange(-1., 1.25, 0.25)\n",
    "\n",
    "xx, yy = np.meshgrid(X, Y)\n",
    "Z = np.array([[objective([x, y]) for x in X] for y in Y]).reshape(len(Y), len(X))\n",
    "surf = ax.plot_surface(xx, yy, Z, cmap=cm.coolwarm, antialiased=False)\n",
    "\n",
    "ax.set_xlabel(\"v1\")\n",
    "ax.set_ylabel(\"v2\")\n",
    "ax.zaxis.set_major_locator(MaxNLocator(nbins = 5, prune = 'lower'))\n",
    "ax.yaxis.set_major_locator(MaxNLocator(nbins = 4, prune = 'lower'))\n",
    "\n",
    "plt.show()"
   ]
  },
  {
   "cell_type": "markdown",
   "metadata": {},
   "source": [
    "As stated above, the gradient does not depend on the phase parameter $v_2$; hence, the landscape is flat along lines parallel to the $v_2$-axis."
   ]
  },
  {
   "cell_type": "markdown",
   "metadata": {},
   "source": [
    "### Optimization"
   ]
  },
  {
   "cell_type": "markdown",
   "metadata": {},
   "source": [
    "We choose a simple GradientDescentOptimizer with a step size of 0.1."
   ]
  },
  {
   "cell_type": "code",
   "execution_count": 6,
   "metadata": {},
   "outputs": [],
   "source": [
    "opt = GradientDescentOptimizer(stepsize=0.1)"
   ]
  },
  {
   "cell_type": "markdown",
   "metadata": {},
   "source": [
    "The initial values of the variabels are set to near-zero. This corresponds to an identity gate, in other words, the circuit leaves the photon in the first mode. \n",
    "\n",
    "*Note that at exactly zero the gradient vanishes, and the optimization algorithm will not descend from the starting point. We therefore add some small offsets to avoid this critical point.* "
   ]
  },
  {
   "cell_type": "code",
   "execution_count": 7,
   "metadata": {},
   "outputs": [],
   "source": [
    "var_init = np.array([0.01, 0.01])"
   ]
  },
  {
   "cell_type": "markdown",
   "metadata": {},
   "source": [
    "We optimize the weights for 100 steps."
   ]
  },
  {
   "cell_type": "code",
   "execution_count": 8,
   "metadata": {},
   "outputs": [
    {
     "name": "stdout",
     "output_type": "stream",
     "text": [
      "Cost after step   0: 0.9998560 | Variables [0.0119999, 0.0100000]\n",
      "Cost after step  10: 0.9945046 | Variables [0.0741993, 0.0100000]\n",
      "Cost after step  20: 0.8206168 | Variables [0.4373458, 0.0100000]\n",
      "Cost after step  30: 0.0723227 | Variables [1.2985156, 0.0100000]\n",
      "Cost after step  40: 0.0009153 | Variables [1.5405375, 0.0100000]\n",
      "Cost after step  50: 0.0000106 | Variables [1.5675459, 0.0100000]\n",
      "Cost after step  60: 0.0000001 | Variables [1.5704473, 0.0100000]\n",
      "Cost after step  70: 0.0000000 | Variables [1.5707589, 0.0100000]\n",
      "Cost after step  80: 0.0000000 | Variables [1.5707923, 0.0100000]\n",
      "Cost after step  90: 0.0000000 | Variables [1.5707959, 0.0100000]\n"
     ]
    }
   ],
   "source": [
    "var = var_init\n",
    "var_gd = []\n",
    "\n",
    "for iteration in range(100):\n",
    "    var = opt.step(objective, var)\n",
    "    var_gd.append(var)\n",
    "    \n",
    "    if iteration % 10 == 0:\n",
    "        print('Cost after step {:3d}: {:0.7f} | Variables [{:0.7f}, {:0.7f}]'\n",
    "              ''.format(iteration, objective(var), var[0], var[1]))"
   ]
  },
  {
   "cell_type": "markdown",
   "metadata": {},
   "source": [
    "Starting at a different offset, we train the MomentumOptimizer, which improves on gradient descent by making each update dependent on the previous gradient, like how a ball rolling down a hill accumulates momentum."
   ]
  },
  {
   "cell_type": "code",
   "execution_count": 9,
   "metadata": {},
   "outputs": [
    {
     "name": "stdout",
     "output_type": "stream",
     "text": [
      "Cost after step   0: 0.9998560 | Variables [0.0119999, 0.5000000]\n",
      "Cost after step  10: 0.9657205 | Variables [0.1862217, 0.5000000]\n",
      "Cost after step  20: 0.0055535 | Variables [1.4962052, 0.5000000]\n",
      "Cost after step  30: 0.0000064 | Variables [1.5682634, 0.5000000]\n",
      "Cost after step  40: 0.0000000 | Variables [1.5709673, 0.5000000]\n",
      "Cost after step  50: 0.0000000 | Variables [1.5707922, 0.5000000]\n",
      "Cost after step  60: 0.0000000 | Variables [1.5707963, 0.5000000]\n",
      "Cost after step  70: 0.0000000 | Variables [1.5707963, 0.5000000]\n",
      "Cost after step  80: 0.0000000 | Variables [1.5707963, 0.5000000]\n",
      "Cost after step  90: 0.0000000 | Variables [1.5707963, 0.5000000]\n"
     ]
    }
   ],
   "source": [
    "mm = MomentumOptimizer(stepsize=0.1, momentum=0.5)\n",
    "\n",
    "var_init = np.array([0.01, 0.5])\n",
    "\n",
    "var = var_init\n",
    "var_mm = []\n",
    "\n",
    "for iteration in range(100):\n",
    "    var = mm.step(objective, var)\n",
    "    var_mm.append(var)\n",
    "\n",
    "    if iteration % 10 == 0:\n",
    "        print('Cost after step {:3d}: {:0.7f} | Variables [{:0.7f}, {:0.7f}]'\n",
    "              ''.format(iteration, objective(var), var[0], var[1]))"
   ]
  },
  {
   "cell_type": "code",
   "execution_count": 10,
   "metadata": {
    "scrolled": true
   },
   "outputs": [
    {
     "data": {
      "image/png": "[encoded data removed]",
      "text/plain": [
       "<Figure size 432x288 with 1 Axes>"
      ]
     },
     "metadata": {},
     "output_type": "display_data"
    }
   ],
   "source": [
    "fig = plt.figure(figsize = (6, 4))\n",
    "ax = fig.gca(projection='3d')\n",
    "\n",
    "X = np.arange(-3.1, 1.6, 0.1)\n",
    "Y = np.arange(-1., 1.25, 0.25)\n",
    "\n",
    "xx, yy = np.meshgrid(X, Y)\n",
    "Z = np.array([[objective([x, y]) for x in X] for y in Y]).reshape(len(Y), len(X))\n",
    "surf = ax.plot_surface(xx, yy, Z, cmap=cm.coolwarm, antialiased=False)\n",
    "\n",
    "path_z = [objective(var)+1e-8 for var in var_gd]\n",
    "path_x = [var[0] for var in var_gd]\n",
    "path_y = [var[1] for var in var_gd]\n",
    "ax.plot(path_x, path_y, path_z, c='green', marker='.', label=\"graddesc\")\n",
    "\n",
    "path_z = [objective(var)+1e-8 for var in var_mm]\n",
    "path_x = [var[0] for var in var_mm]\n",
    "path_y = [var[1] for var in var_mm]\n",
    "ax.plot(path_x, path_y, path_z, c='purple', marker='.', label=\"momentum\")\n",
    "\n",
    "ax.set_xlabel(\"v1\")\n",
    "ax.set_ylabel(\"v2\")\n",
    "ax.zaxis.set_major_locator(MaxNLocator(nbins = 5, prune = 'lower'))\n",
    "ax.yaxis.set_major_locator(MaxNLocator(nbins = 4, prune = 'lower'))\n",
    "\n",
    "plt.legend()\n",
    "plt.show()"
   ]
  }
 ],
 "metadata": {
  "kernelspec": {
   "display_name": "Python 3",
   "language": "python",
   "name": "python3"
  },
  "language_info": {
   "codemirror_mode": {
    "name": "ipython",
    "version": 3
   },
   "file_extension": ".py",
   "mimetype": "text/x-python",
   "name": "python",
   "nbconvert_exporter": "python",
   "pygments_lexer": "ipython3",
   "version": "3.7.1"
  }
 },
 "nbformat": 4,
 "nbformat_minor": 2
}
