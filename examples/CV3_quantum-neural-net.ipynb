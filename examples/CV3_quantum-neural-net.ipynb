{
 "cells": [
  {
   "cell_type": "markdown",
   "metadata": {},
   "source": [
    "# Example CV3 - Function fitting with a quantum neural network"
   ]
  },
  {
   "cell_type": "markdown",
   "metadata": {},
   "source": [
    "In this example we show how a variational circuit can be used to learn a fit for a one-dimensional function when being trained with noisy samples from that function. \n",
    "\n",
    "The variational circuit we use is the continuous-variable quantum neural network model described in [Killoran et al. (2018)](https://arxiv.org/abs/1806.06871). "
   ]
  },
  {
   "cell_type": "markdown",
   "metadata": {},
   "source": [
    "### Imports"
   ]
  },
  {
   "cell_type": "markdown",
   "metadata": {},
   "source": [
    "We import PennyLane, the wrapped version of NumPy provided by PennyLane, and an optimizer. "
   ]
  },
  {
   "cell_type": "code",
   "execution_count": 1,
   "metadata": {},
   "outputs": [],
   "source": [
    "import pennylane as qml\n",
    "from pennylane import numpy as np\n",
    "from pennylane.optimize import AdamOptimizer"
   ]
  },
  {
   "cell_type": "markdown",
   "metadata": {},
   "source": [
    "The device we use is the Strawberry Fields simulator, this time with only one quantum mode (or `wire`). You will need to have the Strawberry Fields plugin for PennyLane installed."
   ]
  },
  {
   "cell_type": "code",
   "execution_count": 2,
   "metadata": {},
   "outputs": [],
   "source": [
    "try:\n",
    "    dev = qml.device('strawberryfields.fock', wires=1, cutoff_dim=10)    \n",
    "except:\n",
    "    print(\"To run this demo you need to install the strawberryfields plugin...\")"
   ]
  },
  {
   "cell_type": "markdown",
   "metadata": {},
   "source": [
    "### Quantum node\n",
    "\n",
    "For a single quantum mode, each layer of the variational circuit is defined as:"
   ]
  },
  {
   "cell_type": "code",
   "execution_count": 3,
   "metadata": {},
   "outputs": [],
   "source": [
    "def layer(v):\n",
    "\n",
    "    # Matrix multiplication of input layer\n",
    "    qml.Rotation(v[0], wires=0)\n",
    "    qml.Squeezing(v[1], 0., wires=0)\n",
    "    qml.Rotation(v[2], wires=0)\n",
    "\n",
    "    # Bias\n",
    "    qml.Displacement(v[3], 0., wires=0)\n",
    "\n",
    "    # Element-wise nonlinear transformation\n",
    "    qml.Kerr(v[4], wires=0)"
   ]
  },
  {
   "cell_type": "markdown",
   "metadata": {},
   "source": [
    "The variational circuit in the quantum node first encodes the input into the displacement of the mode, and then executes the layers. The output is the expectation of the x-quadrature."
   ]
  },
  {
   "cell_type": "code",
   "execution_count": 4,
   "metadata": {},
   "outputs": [],
   "source": [
    "@qml.qnode(dev)\n",
    "def quantum_neural_net(var, x=None):\n",
    "    \n",
    "    # Encode input x into quantum state\n",
    "    qml.Displacement(x, 0., wires=0)\n",
    "\n",
    "    # \"layer\" subcircuits\n",
    "    for v in var:\n",
    "        layer(v)\n",
    "\n",
    "    return qml.expval.X(0)"
   ]
  },
  {
   "cell_type": "markdown",
   "metadata": {},
   "source": [
    "### Objective"
   ]
  },
  {
   "cell_type": "markdown",
   "metadata": {},
   "source": [
    "As an objective we take the square loss between target labels and model predictions."
   ]
  },
  {
   "cell_type": "code",
   "execution_count": 5,
   "metadata": {},
   "outputs": [],
   "source": [
    "def square_loss(labels, predictions):\n",
    "\n",
    "    loss = 0\n",
    "    for l, p in zip(labels, predictions):\n",
    "        loss += (l - p) ** 2\n",
    "    loss = loss / len(labels)\n",
    "\n",
    "    return loss"
   ]
  },
  {
   "cell_type": "markdown",
   "metadata": {},
   "source": [
    "In the cost function, we compute the outputs from the variational circuit. Function fitting is a regression problem, and we interpret the expectations from the quantum node as predictions (i.e., without applying postprocessing such as thresholding)."
   ]
  },
  {
   "cell_type": "code",
   "execution_count": 6,
   "metadata": {},
   "outputs": [],
   "source": [
    "def cost(var, features, labels):\n",
    "\n",
    "    preds = [quantum_neural_net(var, x=x) for x in features]\n",
    "\n",
    "    return square_loss(labels, preds)"
   ]
  },
  {
   "cell_type": "markdown",
   "metadata": {},
   "source": [
    "### Optimization"
   ]
  },
  {
   "cell_type": "markdown",
   "metadata": {},
   "source": [
    "We load noisy data samples of a sine function."
   ]
  },
  {
   "cell_type": "code",
   "execution_count": 7,
   "metadata": {},
   "outputs": [],
   "source": [
    "data = np.loadtxt(\"data/sine.txt\")\n",
    "X = data[:, 0]\n",
    "Y = data[:, 1]"
   ]
  },
  {
   "cell_type": "markdown",
   "metadata": {},
   "source": [
    "Before training a model, let's examine the data.\n",
    "\n",
    "*Note: For the next cell to work you need the matplotlib library.* "
   ]
  },
  {
   "cell_type": "code",
   "execution_count": 8,
   "metadata": {},
   "outputs": [
    {
     "data": {
      "image/png": "[encoded data removed]",
      "text/plain": [
       "<Figure size 432x288 with 1 Axes>"
      ]
     },
     "metadata": {},
     "output_type": "display_data"
    }
   ],
   "source": [
    "import matplotlib.pyplot as plt\n",
    "%matplotlib inline  \n",
    "\n",
    "plt.figure()\n",
    "plt.scatter(X, Y)\n",
    "plt.xlabel('x', fontsize=18)\n",
    "plt.ylabel('f(x)', fontsize=18)\n",
    "plt.tick_params(axis='both', which='major', labelsize=16)\n",
    "plt.tick_params(axis='both', which='minor', labelsize=16)\n",
    "plt.show()"
   ]
  },
  {
   "cell_type": "markdown",
   "metadata": {},
   "source": [
    "The network's weights (called `var` here) are initialized with values sampled from a normal distribution. We use 4 layers; performance has been found to plateau at around 6 layers."
   ]
  },
  {
   "cell_type": "code",
   "execution_count": 9,
   "metadata": {},
   "outputs": [
    {
     "data": {
      "text/plain": [
       "array([[ 0.02206137, -0.01654351,  0.12153856, -0.01260461,  0.00548049,\n",
       "         0.07912406, -0.04546162],\n",
       "       [-0.02958183,  0.00938016, -0.0164935 , -0.05963823, -0.01024383,\n",
       "        -0.01794145,  0.03017358],\n",
       "       [-0.08323943, -0.03500895,  0.05756955,  0.09286655, -0.07555898,\n",
       "         0.03224238, -0.04903039],\n",
       "       [-0.04284266, -0.04359396, -0.0211254 ,  0.04982199,  0.03562106,\n",
       "         0.00295721, -0.01816554]])"
      ]
     },
     "execution_count": 9,
     "metadata": {},
     "output_type": "execute_result"
    }
   ],
   "source": [
    "num_layers = 4\n",
    "np.random.seed(5)\n",
    "var_init = 0.05 * np.random.randn(num_layers, 7)\n",
    "\n",
    "var_init"
   ]
  },
  {
   "cell_type": "markdown",
   "metadata": {},
   "source": [
    "Using the Adam optimizer, we update the weights for 10 steps."
   ]
  },
  {
   "cell_type": "code",
   "execution_count": 10,
   "metadata": {},
   "outputs": [
    {
     "name": "stdout",
     "output_type": "stream",
     "text": [
      "Iter:     1 | Cost: 0.4903563 \n",
      "Iter:     2 | Cost: 0.4617620 \n",
      "Iter:     3 | Cost: 0.4367777 \n",
      "Iter:     4 | Cost: 0.4135471 \n",
      "Iter:     5 | Cost: 0.3911694 \n",
      "Iter:     6 | Cost: 0.3691356 \n",
      "Iter:     7 | Cost: 0.3471503 \n",
      "Iter:     8 | Cost: 0.3250655 \n",
      "Iter:     9 | Cost: 0.3028538 \n",
      "Iter:    10 | Cost: 0.2806003 \n"
     ]
    }
   ],
   "source": [
    "opt = AdamOptimizer(0.01, beta1=0.9, beta2=0.999)\n",
    "\n",
    "var = var_init\n",
    "for it in range(10):\n",
    "    var = opt.step(lambda v: cost(v, X, Y), var)\n",
    "    \n",
    "    print(\"Iter: {:5d} | Cost: {:0.7f} \".format(it+1, cost(var, X, Y)))"
   ]
  },
  {
   "cell_type": "markdown",
   "metadata": {},
   "source": [
    "We can continue training up to 100 total steps (this takes some time). To get a good result, up to 500 steps are necessary."
   ]
  },
  {
   "cell_type": "code",
   "execution_count": 11,
   "metadata": {
    "scrolled": true
   },
   "outputs": [
    {
     "name": "stdout",
     "output_type": "stream",
     "text": [
      "Iter:     1 | Cost: 0.2584973\n",
      "Iter:     2 | Cost: 0.2368399\n",
      "Iter:     3 | Cost: 0.2160133\n",
      "Iter:     4 | Cost: 0.1964712\n",
      "Iter:     5 | Cost: 0.1787017\n",
      "Iter:     6 | Cost: 0.1631813\n",
      "Iter:     7 | Cost: 0.1503201\n",
      "Iter:     8 | Cost: 0.1404050\n",
      "Iter:     9 | Cost: 0.1335495\n",
      "Iter:    10 | Cost: 0.1296610\n",
      "Iter:    11 | Cost: 0.1284334\n",
      "Iter:    12 | Cost: 0.1293713\n",
      "Iter:    13 | Cost: 0.1318416\n",
      "Iter:    14 | Cost: 0.1351466\n",
      "Iter:    15 | Cost: 0.1386043\n",
      "Iter:    16 | Cost: 0.1416223\n",
      "Iter:    17 | Cost: 0.1437538\n",
      "Iter:    18 | Cost: 0.1447285\n",
      "Iter:    19 | Cost: 0.1444577\n",
      "Iter:    20 | Cost: 0.1430154\n",
      "Iter:    21 | Cost: 0.1406029\n",
      "Iter:    22 | Cost: 0.1375035\n",
      "Iter:    23 | Cost: 0.1340352\n",
      "Iter:    24 | Cost: 0.1305066\n",
      "Iter:    25 | Cost: 0.1271833\n",
      "Iter:    26 | Cost: 0.1242640\n",
      "Iter:    27 | Cost: 0.1218703\n",
      "Iter:    28 | Cost: 0.1200475\n",
      "Iter:    29 | Cost: 0.1187744\n",
      "Iter:    30 | Cost: 0.1179784\n",
      "Iter:    31 | Cost: 0.1175543\n",
      "Iter:    32 | Cost: 0.1173812\n",
      "Iter:    33 | Cost: 0.1173387\n",
      "Iter:    34 | Cost: 0.1173184\n",
      "Iter:    35 | Cost: 0.1172323\n",
      "Iter:    36 | Cost: 0.1170168\n",
      "Iter:    37 | Cost: 0.1166343\n",
      "Iter:    38 | Cost: 0.1160719\n",
      "Iter:    39 | Cost: 0.1153380\n",
      "Iter:    40 | Cost: 0.1144578\n",
      "Iter:    41 | Cost: 0.1134684\n",
      "Iter:    42 | Cost: 0.1124134\n",
      "Iter:    43 | Cost: 0.1113371\n",
      "Iter:    44 | Cost: 0.1102801\n",
      "Iter:    45 | Cost: 0.1092757\n",
      "Iter:    46 | Cost: 0.1083468\n",
      "Iter:    47 | Cost: 0.1075051\n",
      "Iter:    48 | Cost: 0.1067512\n",
      "Iter:    49 | Cost: 0.1060755\n",
      "Iter:    50 | Cost: 0.1054616\n",
      "Iter:    51 | Cost: 0.1048882\n",
      "Iter:    52 | Cost: 0.1043332\n",
      "Iter:    53 | Cost: 0.1037761\n",
      "Iter:    54 | Cost: 0.1032003\n",
      "Iter:    55 | Cost: 0.1025948\n",
      "Iter:    56 | Cost: 0.1019544\n",
      "Iter:    57 | Cost: 0.1012798\n",
      "Iter:    58 | Cost: 0.1005760\n",
      "Iter:    59 | Cost: 0.0998513\n",
      "Iter:    60 | Cost: 0.0991154\n",
      "Iter:    61 | Cost: 0.0983781\n",
      "Iter:    62 | Cost: 0.0976479\n",
      "Iter:    63 | Cost: 0.0969309\n",
      "Iter:    64 | Cost: 0.0962309\n",
      "Iter:    65 | Cost: 0.0955488\n",
      "Iter:    66 | Cost: 0.0948836\n",
      "Iter:    67 | Cost: 0.0942324\n",
      "Iter:    68 | Cost: 0.0935914\n",
      "Iter:    69 | Cost: 0.0929565\n",
      "Iter:    70 | Cost: 0.0923239\n",
      "Iter:    71 | Cost: 0.0916908\n",
      "Iter:    72 | Cost: 0.0910551\n",
      "Iter:    73 | Cost: 0.0904162\n",
      "Iter:    74 | Cost: 0.0897743\n",
      "Iter:    75 | Cost: 0.0891304\n",
      "Iter:    76 | Cost: 0.0884863\n",
      "Iter:    77 | Cost: 0.0878438\n",
      "Iter:    78 | Cost: 0.0872048\n",
      "Iter:    79 | Cost: 0.0865710\n",
      "Iter:    80 | Cost: 0.0859436\n",
      "Iter:    81 | Cost: 0.0853232\n",
      "Iter:    82 | Cost: 0.0847100\n",
      "Iter:    83 | Cost: 0.0841038\n",
      "Iter:    84 | Cost: 0.0835041\n",
      "Iter:    85 | Cost: 0.0829102\n",
      "Iter:    86 | Cost: 0.0823213\n",
      "Iter:    87 | Cost: 0.0817368\n",
      "Iter:    88 | Cost: 0.0811564\n",
      "Iter:    89 | Cost: 0.0805796\n",
      "Iter:    90 | Cost: 0.0800066\n",
      "Iter:    91 | Cost: 0.0794375\n",
      "Iter:    92 | Cost: 0.0788726\n",
      "Iter:    93 | Cost: 0.0783124\n",
      "Iter:    94 | Cost: 0.0777572\n",
      "Iter:    95 | Cost: 0.0772076\n",
      "Iter:    96 | Cost: 0.0766637\n",
      "Iter:    97 | Cost: 0.0761259\n",
      "Iter:    98 | Cost: 0.0755943\n",
      "Iter:    99 | Cost: 0.0750689\n",
      "Iter:   100 | Cost: 0.0745497\n"
     ]
    }
   ],
   "source": [
    "for it in range(100):\n",
    "    var = opt.step(lambda v: cost(v, X, Y), var)\n",
    "    \n",
    "    print(\"Iter: {:5d} | Cost: {:0.7f}\".format(it+1, cost(var, X, Y)))"
   ]
  },
  {
   "cell_type": "markdown",
   "metadata": {},
   "source": [
    "Finally, we collect the predictions of the trained model for 50 values in the range $[-1,1]$..."
   ]
  },
  {
   "cell_type": "code",
   "execution_count": 12,
   "metadata": {},
   "outputs": [],
   "source": [
    "x_pred = np.linspace(-1, 1, 50)\n",
    "predictions = [quantum_neural_net(var, x=x_) for x_ in x_pred]"
   ]
  },
  {
   "cell_type": "markdown",
   "metadata": {},
   "source": [
    "...and plot the shape of the function that the model has \"learned\" from the noisy data (green dots)."
   ]
  },
  {
   "cell_type": "code",
   "execution_count": 13,
   "metadata": {},
   "outputs": [
    {
     "data": {
      "image/png": "[encoded data removed]",
      "text/plain": [
       "<Figure size 432x288 with 1 Axes>"
      ]
     },
     "metadata": {},
     "output_type": "display_data"
    }
   ],
   "source": [
    "plt.figure()\n",
    "plt.scatter(X, Y)\n",
    "plt.scatter(x_pred, predictions, color='green')\n",
    "plt.xlabel('x')\n",
    "plt.ylabel('f(x)')\n",
    "plt.tick_params(axis='both', which='major')\n",
    "plt.tick_params(axis='both', which='minor')\n",
    "plt.show()"
   ]
  },
  {
   "cell_type": "markdown",
   "metadata": {},
   "source": [
    "The model has learned to smooth the noisy data.\n",
    "\n",
    "In fact, we can use PennyLane to look at typical functions that the model produces without being trained at all. The shape of these functions varies significantly with the variance hyperparameter for the weight initialization. \n",
    "\n",
    "Setting this hyperparameter to a small value produces almost linear functions, since all quantum gates in the variational circuit approximately perform the identity transformation in that case. Larger values produce smoothly oscillating functions with a period that depends on the number of layers used (generically, the more layers, the smaller the period)."
   ]
  },
  {
   "cell_type": "code",
   "execution_count": 14,
   "metadata": {},
   "outputs": [
    {
     "data": {
      "image/png": "[encoded data removed]",
      "text/plain": [
       "<Figure size 432x288 with 1 Axes>"
      ]
     },
     "metadata": {},
     "output_type": "display_data"
    }
   ],
   "source": [
    "variance = 1.\n",
    "\n",
    "plt.figure()\n",
    "x_pred = np.linspace(-2, 2, 50)\n",
    "for i in range(7):\n",
    "    rnd_var = variance * np.random.randn(num_layers, 7)\n",
    "    predictions = [quantum_neural_net(rnd_var, x=x_) for x_ in x_pred]\n",
    "    plt.plot(x_pred, predictions, color='black')\n",
    "plt.xlabel('x')\n",
    "plt.ylabel('f(x)')\n",
    "plt.tick_params(axis='both', which='major')\n",
    "plt.tick_params(axis='both', which='minor')\n",
    "plt.show()"
   ]
  }
 ],
 "metadata": {
  "kernelspec": {
   "display_name": "Python 3",
   "language": "python",
   "name": "python3"
  },
  "language_info": {
   "codemirror_mode": {
    "name": "ipython",
    "version": 3
   },
   "file_extension": ".py",
   "mimetype": "text/x-python",
   "name": "python",
   "nbconvert_exporter": "python",
   "pygments_lexer": "ipython3",
   "version": "3.6.6"
  }
 },
 "nbformat": 4,
 "nbformat_minor": 2
}
