{
 "cells": [
  {
   "cell_type": "markdown",
   "metadata": {},
   "source": [
    "# Example CV3 - Function fitting with a quantum neural network"
   ]
  },
  {
   "cell_type": "markdown",
   "metadata": {},
   "source": [
    "In this example we show how a variational circuit can be used to learn a fit for a one-dimensional function when being trained with noisy samples from that function. \n",
    "\n",
    "The variational circuit we use is the continuous-variable quantum neural network model described in [Killoran et al. (2018)](https://arxiv.org/abs/1806.06871). "
   ]
  },
  {
   "cell_type": "markdown",
   "metadata": {},
   "source": [
    "### Imports"
   ]
  },
  {
   "cell_type": "markdown",
   "metadata": {},
   "source": [
    "We import PennyLane, the wrapped version of NumPy provided by PennyLane, and an optimizer. "
   ]
  },
  {
   "cell_type": "code",
   "execution_count": 1,
   "metadata": {
    "collapsed": true
   },
   "outputs": [],
   "source": [
    "import pennylane as qml\n",
    "from pennylane import numpy as np\n",
    "from pennylane.optimize import AdamOptimizer"
   ]
  },
  {
   "cell_type": "markdown",
   "metadata": {},
   "source": [
    "The device we use is the Strawberry Fields simulator, this time with only one quantum mode (or `wire`). You will need to have the Strawberry Fields plugin for PennyLane installed."
   ]
  },
  {
   "cell_type": "code",
   "execution_count": 2,
   "metadata": {},
   "outputs": [],
   "source": [
    "try:\n",
    "    dev = qml.device('strawberryfields.fock', wires=1, cutoff_dim=10)    \n",
    "except:\n",
    "    print(\"To run this demo you need to install the strawberryfields plugin...\")"
   ]
  },
  {
   "cell_type": "markdown",
   "metadata": {},
   "source": [
    "### Quantum node\n",
    "\n",
    "For a single quantum mode, each layer of the variational circuit is defined as:"
   ]
  },
  {
   "cell_type": "code",
   "execution_count": 3,
   "metadata": {
    "collapsed": true
   },
   "outputs": [],
   "source": [
    "def layer(v):\n",
    "\n",
    "    # Matrix multiplication of input layer\n",
    "    qml.Rotation(v[0], wires=0)\n",
    "    qml.Squeezing(v[1], 0., wires=0)\n",
    "    qml.Rotation(v[2], wires=0)\n",
    "\n",
    "    # Bias\n",
    "    qml.Displacement(v[3], 0., wires=0)\n",
    "\n",
    "    # Element-wise nonlinear transformation\n",
    "    qml.Kerr(v[4], wires=0)"
   ]
  },
  {
   "cell_type": "markdown",
   "metadata": {},
   "source": [
    "The variational circuit in the quantum node first encodes the input into the displacement of the mode, and then executes the layers. The output is the expectation of the x-quadrature."
   ]
  },
  {
   "cell_type": "code",
   "execution_count": 4,
   "metadata": {},
   "outputs": [],
   "source": [
    "@qml.qnode(dev)\n",
    "def quantum_neural_net(var, x=None):\n",
    "    \n",
    "    # Encode input x into quantum state\n",
    "    qml.Displacement(x, 0., wires=0)\n",
    "\n",
    "    # \"layer\" subcircuits\n",
    "    for v in var:\n",
    "        layer(v)\n",
    "\n",
    "    return qml.expval.X(0)"
   ]
  },
  {
   "cell_type": "markdown",
   "metadata": {},
   "source": [
    "### Objective"
   ]
  },
  {
   "cell_type": "markdown",
   "metadata": {},
   "source": [
    "As an objective we take the square loss between target labels and model predictions."
   ]
  },
  {
   "cell_type": "code",
   "execution_count": 5,
   "metadata": {
    "collapsed": true
   },
   "outputs": [],
   "source": [
    "def square_loss(labels, predictions):\n",
    "\n",
    "    loss = 0\n",
    "    for l, p in zip(labels, predictions):\n",
    "        loss += (l - p) ** 2\n",
    "    loss = loss / len(labels)\n",
    "\n",
    "    return loss"
   ]
  },
  {
   "cell_type": "markdown",
   "metadata": {},
   "source": [
    "In the cost function, we compute the outputs from the variational circuit. Function fitting is a regression problem, and we interpret the expectations from the quantum node as predictions (i.e., without applying postprocessing such as thresholding)."
   ]
  },
  {
   "cell_type": "code",
   "execution_count": 6,
   "metadata": {
    "collapsed": true
   },
   "outputs": [],
   "source": [
    "def cost(var, features, labels):\n",
    "\n",
    "    preds = [quantum_neural_net(var, x=x) for x in features]\n",
    "\n",
    "    return square_loss(labels, preds)"
   ]
  },
  {
   "cell_type": "markdown",
   "metadata": {},
   "source": [
    "### Optimization"
   ]
  },
  {
   "cell_type": "markdown",
   "metadata": {},
   "source": [
    "We load noisy data samples of a sine function."
   ]
  },
  {
   "cell_type": "code",
   "execution_count": 7,
   "metadata": {
    "collapsed": true
   },
   "outputs": [],
   "source": [
    "data = np.loadtxt(\"data/sine.txt\")\n",
    "X = data[:, 0]\n",
    "Y = data[:, 1]"
   ]
  },
  {
   "cell_type": "markdown",
   "metadata": {},
   "source": [
    "Before training a model, let's examine the data.\n",
    "\n",
    "*Note: For the next cell to work you need the matplotlib library.* "
   ]
  },
  {
   "cell_type": "code",
   "execution_count": 8,
   "metadata": {},
   "outputs": [
    {
     "data": {
      "image/png": "[encoded data removed]",
      "text/plain": [
       "<matplotlib.figure.Figure at 0x7f2778cd1f60>"
      ]
     },
     "metadata": {},
     "output_type": "display_data"
    }
   ],
   "source": [
    "import matplotlib.pyplot as plt\n",
    "%matplotlib inline  \n",
    "\n",
    "plt.figure()\n",
    "plt.scatter(X, Y)\n",
    "plt.xlabel('x', fontsize=18)\n",
    "plt.ylabel('f(x)', fontsize=18)\n",
    "plt.tick_params(axis='both', which='major', labelsize=16)\n",
    "plt.tick_params(axis='both', which='minor', labelsize=16)\n",
    "plt.show()"
   ]
  },
  {
   "cell_type": "markdown",
   "metadata": {},
   "source": [
    "The network's weights (called `var` here) are initialized with values sampled from a normal distribution. We use 4 layers; performance has been found to plateau at around 6 layers."
   ]
  },
  {
   "cell_type": "code",
   "execution_count": 9,
   "metadata": {},
   "outputs": [
    {
     "data": {
      "text/plain": [
       "array([[ 0.02206137, -0.01654351,  0.12153856, -0.01260461,  0.00548049,\n",
       "         0.07912406, -0.04546162],\n",
       "       [-0.02958183,  0.00938016, -0.0164935 , -0.05963823, -0.01024383,\n",
       "        -0.01794145,  0.03017358],\n",
       "       [-0.08323943, -0.03500895,  0.05756955,  0.09286655, -0.07555898,\n",
       "         0.03224238, -0.04903039],\n",
       "       [-0.04284266, -0.04359396, -0.0211254 ,  0.04982199,  0.03562106,\n",
       "         0.00295721, -0.01816554]])"
      ]
     },
     "execution_count": 9,
     "metadata": {},
     "output_type": "execute_result"
    }
   ],
   "source": [
    "num_layers = 4\n",
    "np.random.seed(5)\n",
    "var_init = 0.05 * np.random.randn(num_layers, 7)\n",
    "\n",
    "var_init"
   ]
  },
  {
   "cell_type": "markdown",
   "metadata": {},
   "source": [
    "Using the Adam optimizer, we update the weights for 500 steps (this takes some time). More steps will lead to a better fit."
   ]
  },
  {
   "cell_type": "code",
   "execution_count": 10,
   "metadata": {},
   "outputs": [
    {
     "name": "stdout",
     "output_type": "stream",
     "text": [
      "Iter:     1 | Cost: 0.4903563 \n",
      "Iter:     2 | Cost: 0.4617620 \n",
      "Iter:     3 | Cost: 0.4367777 \n",
      "Iter:     4 | Cost: 0.4135471 \n",
      "Iter:     5 | Cost: 0.3911694 \n",
      "Iter:     6 | Cost: 0.3691356 \n",
      "Iter:     7 | Cost: 0.3471503 \n",
      "Iter:     8 | Cost: 0.3250655 \n",
      "Iter:     9 | Cost: 0.3028538 \n",
      "Iter:    10 | Cost: 0.2806003 \n",
      "Iter:    11 | Cost: 0.2584973 \n",
      "Iter:    12 | Cost: 0.2368399 \n",
      "Iter:    13 | Cost: 0.2160133 \n",
      "Iter:    14 | Cost: 0.1964712 \n",
      "Iter:    15 | Cost: 0.1787017 \n",
      "Iter:    16 | Cost: 0.1631813 \n",
      "Iter:    17 | Cost: 0.1503201 \n",
      "Iter:    18 | Cost: 0.1404050 \n",
      "Iter:    19 | Cost: 0.1335495 \n",
      "Iter:    20 | Cost: 0.1296610 \n",
      "Iter:    21 | Cost: 0.1284334 \n",
      "Iter:    22 | Cost: 0.1293713 \n",
      "Iter:    23 | Cost: 0.1318416 \n",
      "Iter:    24 | Cost: 0.1351466 \n",
      "Iter:    25 | Cost: 0.1386043 \n",
      "Iter:    26 | Cost: 0.1416223 \n",
      "Iter:    27 | Cost: 0.1437538 \n",
      "Iter:    28 | Cost: 0.1447285 \n",
      "Iter:    29 | Cost: 0.1444577 \n",
      "Iter:    30 | Cost: 0.1430154 \n",
      "Iter:    31 | Cost: 0.1406029 \n",
      "Iter:    32 | Cost: 0.1375035 \n",
      "Iter:    33 | Cost: 0.1340352 \n",
      "Iter:    34 | Cost: 0.1305066 \n",
      "Iter:    35 | Cost: 0.1271833 \n",
      "Iter:    36 | Cost: 0.1242640 \n",
      "Iter:    37 | Cost: 0.1218703 \n",
      "Iter:    38 | Cost: 0.1200475 \n",
      "Iter:    39 | Cost: 0.1187744 \n",
      "Iter:    40 | Cost: 0.1179784 \n",
      "Iter:    41 | Cost: 0.1175543 \n",
      "Iter:    42 | Cost: 0.1173812 \n",
      "Iter:    43 | Cost: 0.1173387 \n",
      "Iter:    44 | Cost: 0.1173184 \n",
      "Iter:    45 | Cost: 0.1172323 \n",
      "Iter:    46 | Cost: 0.1170168 \n",
      "Iter:    47 | Cost: 0.1166343 \n",
      "Iter:    48 | Cost: 0.1160719 \n",
      "Iter:    49 | Cost: 0.1153380 \n",
      "Iter:    50 | Cost: 0.1144578 \n",
      "Iter:    51 | Cost: 0.1134684 \n",
      "Iter:    52 | Cost: 0.1124134 \n",
      "Iter:    53 | Cost: 0.1113371 \n",
      "Iter:    54 | Cost: 0.1102801 \n",
      "Iter:    55 | Cost: 0.1092757 \n",
      "Iter:    56 | Cost: 0.1083468 \n",
      "Iter:    57 | Cost: 0.1075051 \n",
      "Iter:    58 | Cost: 0.1067512 \n",
      "Iter:    59 | Cost: 0.1060755 \n",
      "Iter:    60 | Cost: 0.1054616 \n",
      "Iter:    61 | Cost: 0.1048882 \n",
      "Iter:    62 | Cost: 0.1043332 \n",
      "Iter:    63 | Cost: 0.1037761 \n",
      "Iter:    64 | Cost: 0.1032003 \n",
      "Iter:    65 | Cost: 0.1025948 \n",
      "Iter:    66 | Cost: 0.1019544 \n",
      "Iter:    67 | Cost: 0.1012798 \n",
      "Iter:    68 | Cost: 0.1005760 \n",
      "Iter:    69 | Cost: 0.0998513 \n",
      "Iter:    70 | Cost: 0.0991154 \n",
      "Iter:    71 | Cost: 0.0983781 \n",
      "Iter:    72 | Cost: 0.0976479 \n",
      "Iter:    73 | Cost: 0.0969309 \n",
      "Iter:    74 | Cost: 0.0962309 \n",
      "Iter:    75 | Cost: 0.0955488 \n",
      "Iter:    76 | Cost: 0.0948836 \n",
      "Iter:    77 | Cost: 0.0942324 \n",
      "Iter:    78 | Cost: 0.0935914 \n",
      "Iter:    79 | Cost: 0.0929565 \n",
      "Iter:    80 | Cost: 0.0923239 \n",
      "Iter:    81 | Cost: 0.0916908 \n",
      "Iter:    82 | Cost: 0.0910551 \n",
      "Iter:    83 | Cost: 0.0904162 \n",
      "Iter:    84 | Cost: 0.0897743 \n",
      "Iter:    85 | Cost: 0.0891304 \n",
      "Iter:    86 | Cost: 0.0884863 \n",
      "Iter:    87 | Cost: 0.0878438 \n",
      "Iter:    88 | Cost: 0.0872048 \n",
      "Iter:    89 | Cost: 0.0865710 \n",
      "Iter:    90 | Cost: 0.0859436 \n",
      "Iter:    91 | Cost: 0.0853232 \n",
      "Iter:    92 | Cost: 0.0847100 \n",
      "Iter:    93 | Cost: 0.0841038 \n",
      "Iter:    94 | Cost: 0.0835041 \n",
      "Iter:    95 | Cost: 0.0829102 \n",
      "Iter:    96 | Cost: 0.0823213 \n",
      "Iter:    97 | Cost: 0.0817368 \n",
      "Iter:    98 | Cost: 0.0811564 \n",
      "Iter:    99 | Cost: 0.0805796 \n",
      "Iter:   100 | Cost: 0.0800066 \n",
      "Iter:   101 | Cost: 0.0794375 \n",
      "Iter:   102 | Cost: 0.0788726 \n",
      "Iter:   103 | Cost: 0.0783124 \n",
      "Iter:   104 | Cost: 0.0777572 \n",
      "Iter:   105 | Cost: 0.0772076 \n",
      "Iter:   106 | Cost: 0.0766637 \n",
      "Iter:   107 | Cost: 0.0761259 \n",
      "Iter:   108 | Cost: 0.0755943 \n",
      "Iter:   109 | Cost: 0.0750689 \n",
      "Iter:   110 | Cost: 0.0745497 \n",
      "Iter:   111 | Cost: 0.0740366 \n",
      "Iter:   112 | Cost: 0.0735295 \n",
      "Iter:   113 | Cost: 0.0730284 \n",
      "Iter:   114 | Cost: 0.0725331 \n",
      "Iter:   115 | Cost: 0.0720437 \n",
      "Iter:   116 | Cost: 0.0715601 \n",
      "Iter:   117 | Cost: 0.0710824 \n",
      "Iter:   118 | Cost: 0.0706106 \n",
      "Iter:   119 | Cost: 0.0701448 \n",
      "Iter:   120 | Cost: 0.0696851 \n",
      "Iter:   121 | Cost: 0.0692316 \n",
      "Iter:   122 | Cost: 0.0687842 \n",
      "Iter:   123 | Cost: 0.0683430 \n",
      "Iter:   124 | Cost: 0.0679080 \n",
      "Iter:   125 | Cost: 0.0674792 \n",
      "Iter:   126 | Cost: 0.0670565 \n",
      "Iter:   127 | Cost: 0.0666400 \n",
      "Iter:   128 | Cost: 0.0662295 \n",
      "Iter:   129 | Cost: 0.0658250 \n",
      "Iter:   130 | Cost: 0.0654264 \n",
      "Iter:   131 | Cost: 0.0650337 \n",
      "Iter:   132 | Cost: 0.0646468 \n",
      "Iter:   133 | Cost: 0.0642657 \n",
      "Iter:   134 | Cost: 0.0638904 \n",
      "Iter:   135 | Cost: 0.0635207 \n",
      "Iter:   136 | Cost: 0.0631568 \n",
      "Iter:   137 | Cost: 0.0627985 \n",
      "Iter:   138 | Cost: 0.0624458 \n",
      "Iter:   139 | Cost: 0.0620987 \n",
      "Iter:   140 | Cost: 0.0617570 \n",
      "Iter:   141 | Cost: 0.0614208 \n",
      "Iter:   142 | Cost: 0.0610900 \n",
      "Iter:   143 | Cost: 0.0607645 \n",
      "Iter:   144 | Cost: 0.0604442 \n",
      "Iter:   145 | Cost: 0.0601291 \n",
      "Iter:   146 | Cost: 0.0598191 \n",
      "Iter:   147 | Cost: 0.0595142 \n",
      "Iter:   148 | Cost: 0.0592142 \n",
      "Iter:   149 | Cost: 0.0589191 \n",
      "Iter:   150 | Cost: 0.0586289 \n",
      "Iter:   151 | Cost: 0.0583434 \n",
      "Iter:   152 | Cost: 0.0580626 \n",
      "Iter:   153 | Cost: 0.0577863 \n",
      "Iter:   154 | Cost: 0.0575147 \n",
      "Iter:   155 | Cost: 0.0572475 \n",
      "Iter:   156 | Cost: 0.0569846 \n",
      "Iter:   157 | Cost: 0.0567261 \n",
      "Iter:   158 | Cost: 0.0564719 \n",
      "Iter:   159 | Cost: 0.0562218 \n",
      "Iter:   160 | Cost: 0.0559757 \n",
      "Iter:   161 | Cost: 0.0557337 \n",
      "Iter:   162 | Cost: 0.0554956 \n",
      "Iter:   163 | Cost: 0.0552614 \n",
      "Iter:   164 | Cost: 0.0550310 \n",
      "Iter:   165 | Cost: 0.0548042 \n",
      "Iter:   166 | Cost: 0.0545811 \n",
      "Iter:   167 | Cost: 0.0543616 \n",
      "Iter:   168 | Cost: 0.0541455 \n",
      "Iter:   169 | Cost: 0.0539329 \n",
      "Iter:   170 | Cost: 0.0537236 \n",
      "Iter:   171 | Cost: 0.0535176 \n",
      "Iter:   172 | Cost: 0.0533148 \n",
      "Iter:   173 | Cost: 0.0531152 \n",
      "Iter:   174 | Cost: 0.0529186 \n",
      "Iter:   175 | Cost: 0.0527251 \n",
      "Iter:   176 | Cost: 0.0525344 \n",
      "Iter:   177 | Cost: 0.0523467 \n",
      "Iter:   178 | Cost: 0.0521618 \n",
      "Iter:   179 | Cost: 0.0519796 \n",
      "Iter:   180 | Cost: 0.0518001 \n",
      "Iter:   181 | Cost: 0.0516232 \n",
      "Iter:   182 | Cost: 0.0514489 \n",
      "Iter:   183 | Cost: 0.0512770 \n",
      "Iter:   184 | Cost: 0.0511077 \n",
      "Iter:   185 | Cost: 0.0509407 \n",
      "Iter:   186 | Cost: 0.0507760 \n",
      "Iter:   187 | Cost: 0.0506136 \n",
      "Iter:   188 | Cost: 0.0504534 \n",
      "Iter:   189 | Cost: 0.0502954 \n",
      "Iter:   190 | Cost: 0.0501395 \n",
      "Iter:   191 | Cost: 0.0499857 \n",
      "Iter:   192 | Cost: 0.0498338 \n",
      "Iter:   193 | Cost: 0.0496839 \n",
      "Iter:   194 | Cost: 0.0495359 \n",
      "Iter:   195 | Cost: 0.0493898 \n",
      "Iter:   196 | Cost: 0.0492455 \n",
      "Iter:   197 | Cost: 0.0491029 \n",
      "Iter:   198 | Cost: 0.0489620 \n",
      "Iter:   199 | Cost: 0.0488228 \n",
      "Iter:   200 | Cost: 0.0486853 \n",
      "Iter:   201 | Cost: 0.0485493 \n",
      "Iter:   202 | Cost: 0.0484149 \n",
      "Iter:   203 | Cost: 0.0482820 \n",
      "Iter:   204 | Cost: 0.0481505 \n",
      "Iter:   205 | Cost: 0.0480204 \n",
      "Iter:   206 | Cost: 0.0478918 \n",
      "Iter:   207 | Cost: 0.0477645 \n",
      "Iter:   208 | Cost: 0.0476384 \n",
      "Iter:   209 | Cost: 0.0475137 \n",
      "Iter:   210 | Cost: 0.0473902 \n",
      "Iter:   211 | Cost: 0.0472679 \n",
      "Iter:   212 | Cost: 0.0471468 \n",
      "Iter:   213 | Cost: 0.0470268 \n",
      "Iter:   214 | Cost: 0.0469079 \n",
      "Iter:   215 | Cost: 0.0467901 \n",
      "Iter:   216 | Cost: 0.0466733 \n",
      "Iter:   217 | Cost: 0.0465575 \n",
      "Iter:   218 | Cost: 0.0464427 \n",
      "Iter:   219 | Cost: 0.0463289 \n",
      "Iter:   220 | Cost: 0.0462160 \n",
      "Iter:   221 | Cost: 0.0461040 \n",
      "Iter:   222 | Cost: 0.0459929 \n",
      "Iter:   223 | Cost: 0.0458826 \n",
      "Iter:   224 | Cost: 0.0457732 \n",
      "Iter:   225 | Cost: 0.0456645 \n",
      "Iter:   226 | Cost: 0.0455566 \n",
      "Iter:   227 | Cost: 0.0454495 \n",
      "Iter:   228 | Cost: 0.0453431 \n",
      "Iter:   229 | Cost: 0.0452374 \n",
      "Iter:   230 | Cost: 0.0451324 \n",
      "Iter:   231 | Cost: 0.0450280 \n",
      "Iter:   232 | Cost: 0.0449243 \n",
      "Iter:   233 | Cost: 0.0448213 \n",
      "Iter:   234 | Cost: 0.0447188 \n",
      "Iter:   235 | Cost: 0.0446169 \n",
      "Iter:   236 | Cost: 0.0445155 \n",
      "Iter:   237 | Cost: 0.0444148 \n",
      "Iter:   238 | Cost: 0.0443145 \n",
      "Iter:   239 | Cost: 0.0442148 \n",
      "Iter:   240 | Cost: 0.0441155 \n",
      "Iter:   241 | Cost: 0.0440168 \n",
      "Iter:   242 | Cost: 0.0439185 \n",
      "Iter:   243 | Cost: 0.0438207 \n",
      "Iter:   244 | Cost: 0.0437233 \n",
      "Iter:   245 | Cost: 0.0436263 \n",
      "Iter:   246 | Cost: 0.0435297 \n",
      "Iter:   247 | Cost: 0.0434335 \n",
      "Iter:   248 | Cost: 0.0433377 \n",
      "Iter:   249 | Cost: 0.0432423 \n",
      "Iter:   250 | Cost: 0.0431472 \n",
      "Iter:   251 | Cost: 0.0430525 \n",
      "Iter:   252 | Cost: 0.0429581 \n",
      "Iter:   253 | Cost: 0.0428640 \n",
      "Iter:   254 | Cost: 0.0427702 \n",
      "Iter:   255 | Cost: 0.0426768 \n",
      "Iter:   256 | Cost: 0.0425836 \n",
      "Iter:   257 | Cost: 0.0424907 \n",
      "Iter:   258 | Cost: 0.0423981 \n",
      "Iter:   259 | Cost: 0.0423057 \n",
      "Iter:   260 | Cost: 0.0422136 \n",
      "Iter:   261 | Cost: 0.0421217 \n",
      "Iter:   262 | Cost: 0.0420301 \n",
      "Iter:   263 | Cost: 0.0419386 \n",
      "Iter:   264 | Cost: 0.0418474 \n",
      "Iter:   265 | Cost: 0.0417564 \n"
     ]
    },
    {
     "name": "stdout",
     "output_type": "stream",
     "text": [
      "Iter:   266 | Cost: 0.0416657 \n",
      "Iter:   267 | Cost: 0.0415751 \n",
      "Iter:   268 | Cost: 0.0414847 \n",
      "Iter:   269 | Cost: 0.0413944 \n",
      "Iter:   270 | Cost: 0.0413044 \n",
      "Iter:   271 | Cost: 0.0412145 \n",
      "Iter:   272 | Cost: 0.0411248 \n",
      "Iter:   273 | Cost: 0.0410352 \n",
      "Iter:   274 | Cost: 0.0409458 \n",
      "Iter:   275 | Cost: 0.0408566 \n",
      "Iter:   276 | Cost: 0.0407674 \n",
      "Iter:   277 | Cost: 0.0406785 \n",
      "Iter:   278 | Cost: 0.0405896 \n",
      "Iter:   279 | Cost: 0.0405009 \n",
      "Iter:   280 | Cost: 0.0404123 \n",
      "Iter:   281 | Cost: 0.0403238 \n",
      "Iter:   282 | Cost: 0.0402354 \n",
      "Iter:   283 | Cost: 0.0401472 \n",
      "Iter:   284 | Cost: 0.0400590 \n",
      "Iter:   285 | Cost: 0.0399710 \n",
      "Iter:   286 | Cost: 0.0398830 \n",
      "Iter:   287 | Cost: 0.0397952 \n",
      "Iter:   288 | Cost: 0.0397074 \n",
      "Iter:   289 | Cost: 0.0396198 \n",
      "Iter:   290 | Cost: 0.0395322 \n",
      "Iter:   291 | Cost: 0.0394447 \n",
      "Iter:   292 | Cost: 0.0393573 \n",
      "Iter:   293 | Cost: 0.0392700 \n",
      "Iter:   294 | Cost: 0.0391827 \n",
      "Iter:   295 | Cost: 0.0390956 \n",
      "Iter:   296 | Cost: 0.0390085 \n",
      "Iter:   297 | Cost: 0.0389215 \n",
      "Iter:   298 | Cost: 0.0388345 \n",
      "Iter:   299 | Cost: 0.0387476 \n",
      "Iter:   300 | Cost: 0.0386608 \n",
      "Iter:   301 | Cost: 0.0385741 \n",
      "Iter:   302 | Cost: 0.0384874 \n",
      "Iter:   303 | Cost: 0.0384008 \n",
      "Iter:   304 | Cost: 0.0383143 \n",
      "Iter:   305 | Cost: 0.0382278 \n",
      "Iter:   306 | Cost: 0.0381414 \n",
      "Iter:   307 | Cost: 0.0380550 \n",
      "Iter:   308 | Cost: 0.0379687 \n",
      "Iter:   309 | Cost: 0.0378825 \n",
      "Iter:   310 | Cost: 0.0377963 \n",
      "Iter:   311 | Cost: 0.0377102 \n",
      "Iter:   312 | Cost: 0.0376241 \n",
      "Iter:   313 | Cost: 0.0375381 \n",
      "Iter:   314 | Cost: 0.0374522 \n",
      "Iter:   315 | Cost: 0.0373663 \n",
      "Iter:   316 | Cost: 0.0372805 \n",
      "Iter:   317 | Cost: 0.0371947 \n",
      "Iter:   318 | Cost: 0.0371090 \n",
      "Iter:   319 | Cost: 0.0370233 \n",
      "Iter:   320 | Cost: 0.0369377 \n",
      "Iter:   321 | Cost: 0.0368522 \n",
      "Iter:   322 | Cost: 0.0367667 \n",
      "Iter:   323 | Cost: 0.0366813 \n",
      "Iter:   324 | Cost: 0.0365959 \n",
      "Iter:   325 | Cost: 0.0365106 \n",
      "Iter:   326 | Cost: 0.0364254 \n",
      "Iter:   327 | Cost: 0.0363402 \n",
      "Iter:   328 | Cost: 0.0362551 \n",
      "Iter:   329 | Cost: 0.0361700 \n",
      "Iter:   330 | Cost: 0.0360850 \n",
      "Iter:   331 | Cost: 0.0360001 \n",
      "Iter:   332 | Cost: 0.0359152 \n",
      "Iter:   333 | Cost: 0.0358304 \n",
      "Iter:   334 | Cost: 0.0357456 \n",
      "Iter:   335 | Cost: 0.0356609 \n",
      "Iter:   336 | Cost: 0.0355763 \n",
      "Iter:   337 | Cost: 0.0354918 \n",
      "Iter:   338 | Cost: 0.0354073 \n",
      "Iter:   339 | Cost: 0.0353229 \n",
      "Iter:   340 | Cost: 0.0352385 \n",
      "Iter:   341 | Cost: 0.0351543 \n",
      "Iter:   342 | Cost: 0.0350701 \n",
      "Iter:   343 | Cost: 0.0349859 \n",
      "Iter:   344 | Cost: 0.0349019 \n",
      "Iter:   345 | Cost: 0.0348179 \n",
      "Iter:   346 | Cost: 0.0347340 \n",
      "Iter:   347 | Cost: 0.0346501 \n",
      "Iter:   348 | Cost: 0.0345664 \n",
      "Iter:   349 | Cost: 0.0344827 \n",
      "Iter:   350 | Cost: 0.0343991 \n",
      "Iter:   351 | Cost: 0.0343156 \n",
      "Iter:   352 | Cost: 0.0342321 \n",
      "Iter:   353 | Cost: 0.0341487 \n",
      "Iter:   354 | Cost: 0.0340655 \n",
      "Iter:   355 | Cost: 0.0339823 \n",
      "Iter:   356 | Cost: 0.0338992 \n",
      "Iter:   357 | Cost: 0.0338162 \n",
      "Iter:   358 | Cost: 0.0337332 \n",
      "Iter:   359 | Cost: 0.0336504 \n",
      "Iter:   360 | Cost: 0.0335676 \n",
      "Iter:   361 | Cost: 0.0334850 \n",
      "Iter:   362 | Cost: 0.0334024 \n",
      "Iter:   363 | Cost: 0.0333199 \n",
      "Iter:   364 | Cost: 0.0332375 \n",
      "Iter:   365 | Cost: 0.0331552 \n",
      "Iter:   366 | Cost: 0.0330731 \n",
      "Iter:   367 | Cost: 0.0329910 \n",
      "Iter:   368 | Cost: 0.0329090 \n",
      "Iter:   369 | Cost: 0.0328271 \n",
      "Iter:   370 | Cost: 0.0327453 \n",
      "Iter:   371 | Cost: 0.0326636 \n",
      "Iter:   372 | Cost: 0.0325820 \n",
      "Iter:   373 | Cost: 0.0325006 \n",
      "Iter:   374 | Cost: 0.0324192 \n",
      "Iter:   375 | Cost: 0.0323379 \n",
      "Iter:   376 | Cost: 0.0322568 \n",
      "Iter:   377 | Cost: 0.0321757 \n",
      "Iter:   378 | Cost: 0.0320948 \n",
      "Iter:   379 | Cost: 0.0320140 \n",
      "Iter:   380 | Cost: 0.0319333 \n",
      "Iter:   381 | Cost: 0.0318527 \n",
      "Iter:   382 | Cost: 0.0317723 \n",
      "Iter:   383 | Cost: 0.0316919 \n",
      "Iter:   384 | Cost: 0.0316117 \n",
      "Iter:   385 | Cost: 0.0315316 \n",
      "Iter:   386 | Cost: 0.0314516 \n",
      "Iter:   387 | Cost: 0.0313718 \n",
      "Iter:   388 | Cost: 0.0312920 \n",
      "Iter:   389 | Cost: 0.0312124 \n",
      "Iter:   390 | Cost: 0.0311329 \n",
      "Iter:   391 | Cost: 0.0310536 \n",
      "Iter:   392 | Cost: 0.0309744 \n",
      "Iter:   393 | Cost: 0.0308953 \n",
      "Iter:   394 | Cost: 0.0308163 \n",
      "Iter:   395 | Cost: 0.0307375 \n",
      "Iter:   396 | Cost: 0.0306588 \n",
      "Iter:   397 | Cost: 0.0305802 \n",
      "Iter:   398 | Cost: 0.0305018 \n",
      "Iter:   399 | Cost: 0.0304236 \n",
      "Iter:   400 | Cost: 0.0303454 \n",
      "Iter:   401 | Cost: 0.0302674 \n",
      "Iter:   402 | Cost: 0.0301896 \n",
      "Iter:   403 | Cost: 0.0301119 \n",
      "Iter:   404 | Cost: 0.0300343 \n",
      "Iter:   405 | Cost: 0.0299569 \n",
      "Iter:   406 | Cost: 0.0298796 \n",
      "Iter:   407 | Cost: 0.0298025 \n",
      "Iter:   408 | Cost: 0.0297255 \n",
      "Iter:   409 | Cost: 0.0296487 \n",
      "Iter:   410 | Cost: 0.0295720 \n",
      "Iter:   411 | Cost: 0.0294955 \n",
      "Iter:   412 | Cost: 0.0294191 \n",
      "Iter:   413 | Cost: 0.0293429 \n",
      "Iter:   414 | Cost: 0.0292669 \n",
      "Iter:   415 | Cost: 0.0291910 \n",
      "Iter:   416 | Cost: 0.0291152 \n",
      "Iter:   417 | Cost: 0.0290397 \n",
      "Iter:   418 | Cost: 0.0289642 \n",
      "Iter:   419 | Cost: 0.0288890 \n",
      "Iter:   420 | Cost: 0.0288139 \n",
      "Iter:   421 | Cost: 0.0287390 \n",
      "Iter:   422 | Cost: 0.0286642 \n",
      "Iter:   423 | Cost: 0.0285896 \n",
      "Iter:   424 | Cost: 0.0285152 \n",
      "Iter:   425 | Cost: 0.0284409 \n",
      "Iter:   426 | Cost: 0.0283668 \n",
      "Iter:   427 | Cost: 0.0282929 \n",
      "Iter:   428 | Cost: 0.0282192 \n",
      "Iter:   429 | Cost: 0.0281456 \n",
      "Iter:   430 | Cost: 0.0280722 \n",
      "Iter:   431 | Cost: 0.0279989 \n",
      "Iter:   432 | Cost: 0.0279259 \n",
      "Iter:   433 | Cost: 0.0278530 \n",
      "Iter:   434 | Cost: 0.0277803 \n",
      "Iter:   435 | Cost: 0.0277078 \n",
      "Iter:   436 | Cost: 0.0276354 \n",
      "Iter:   437 | Cost: 0.0275632 \n",
      "Iter:   438 | Cost: 0.0274912 \n",
      "Iter:   439 | Cost: 0.0274194 \n",
      "Iter:   440 | Cost: 0.0273478 \n",
      "Iter:   441 | Cost: 0.0272763 \n",
      "Iter:   442 | Cost: 0.0272051 \n",
      "Iter:   443 | Cost: 0.0271340 \n",
      "Iter:   444 | Cost: 0.0270631 \n",
      "Iter:   445 | Cost: 0.0269923 \n",
      "Iter:   446 | Cost: 0.0269218 \n",
      "Iter:   447 | Cost: 0.0268515 \n",
      "Iter:   448 | Cost: 0.0267813 \n",
      "Iter:   449 | Cost: 0.0267113 \n",
      "Iter:   450 | Cost: 0.0266415 \n",
      "Iter:   451 | Cost: 0.0265719 \n",
      "Iter:   452 | Cost: 0.0265025 \n",
      "Iter:   453 | Cost: 0.0264333 \n",
      "Iter:   454 | Cost: 0.0263642 \n",
      "Iter:   455 | Cost: 0.0262954 \n",
      "Iter:   456 | Cost: 0.0262267 \n",
      "Iter:   457 | Cost: 0.0261582 \n",
      "Iter:   458 | Cost: 0.0260900 \n",
      "Iter:   459 | Cost: 0.0260219 \n",
      "Iter:   460 | Cost: 0.0259540 \n",
      "Iter:   461 | Cost: 0.0258863 \n",
      "Iter:   462 | Cost: 0.0258187 \n",
      "Iter:   463 | Cost: 0.0257514 \n",
      "Iter:   464 | Cost: 0.0256843 \n",
      "Iter:   465 | Cost: 0.0256173 \n",
      "Iter:   466 | Cost: 0.0255506 \n",
      "Iter:   467 | Cost: 0.0254840 \n",
      "Iter:   468 | Cost: 0.0254177 \n",
      "Iter:   469 | Cost: 0.0253515 \n",
      "Iter:   470 | Cost: 0.0252855 \n",
      "Iter:   471 | Cost: 0.0252198 \n",
      "Iter:   472 | Cost: 0.0251542 \n",
      "Iter:   473 | Cost: 0.0250888 \n",
      "Iter:   474 | Cost: 0.0250236 \n",
      "Iter:   475 | Cost: 0.0249586 \n",
      "Iter:   476 | Cost: 0.0248938 \n",
      "Iter:   477 | Cost: 0.0248291 \n",
      "Iter:   478 | Cost: 0.0247647 \n",
      "Iter:   479 | Cost: 0.0247005 \n",
      "Iter:   480 | Cost: 0.0246365 \n",
      "Iter:   481 | Cost: 0.0245726 \n",
      "Iter:   482 | Cost: 0.0245090 \n",
      "Iter:   483 | Cost: 0.0244455 \n",
      "Iter:   484 | Cost: 0.0243823 \n",
      "Iter:   485 | Cost: 0.0243192 \n",
      "Iter:   486 | Cost: 0.0242563 \n",
      "Iter:   487 | Cost: 0.0241937 \n",
      "Iter:   488 | Cost: 0.0241312 \n",
      "Iter:   489 | Cost: 0.0240689 \n",
      "Iter:   490 | Cost: 0.0240068 \n",
      "Iter:   491 | Cost: 0.0239449 \n",
      "Iter:   492 | Cost: 0.0238832 \n",
      "Iter:   493 | Cost: 0.0238217 \n",
      "Iter:   494 | Cost: 0.0237603 \n",
      "Iter:   495 | Cost: 0.0236992 \n",
      "Iter:   496 | Cost: 0.0236383 \n",
      "Iter:   497 | Cost: 0.0235775 \n",
      "Iter:   498 | Cost: 0.0235170 \n",
      "Iter:   499 | Cost: 0.0234566 \n",
      "Iter:   500 | Cost: 0.0233965 \n"
     ]
    }
   ],
   "source": [
    "opt = AdamOptimizer(0.01, beta1=0.9, beta2=0.999)\n",
    "\n",
    "var = var_init\n",
    "for it in range(500):\n",
    "    var = opt.step(lambda v: cost(v, X, Y), var)\n",
    "    \n",
    "    print(\"Iter: {:5d} | Cost: {:0.7f} \".format(it + 1, cost(var, X, Y)))"
   ]
  },
  {
   "cell_type": "markdown",
   "metadata": {},
   "source": [
    "Finally, we collect the predictions of the trained model for 50 values in the range $[-1,1]$..."
   ]
  },
  {
   "cell_type": "code",
   "execution_count": 11,
   "metadata": {
    "collapsed": true
   },
   "outputs": [],
   "source": [
    "x_pred = np.linspace(-1, 1, 50)\n",
    "predictions = [quantum_neural_net(var, x=x_) for x_ in x_pred]"
   ]
  },
  {
   "cell_type": "markdown",
   "metadata": {},
   "source": [
    "...and plot the shape of the function that the model has \"learned\" from the noisy data (green dots)."
   ]
  },
  {
   "cell_type": "code",
   "execution_count": 12,
   "metadata": {},
   "outputs": [
    {
     "data": {
      "image/png": "[encoded data removed]",
      "text/plain": [
       "<matplotlib.figure.Figure at 0x7f2773808668>"
      ]
     },
     "metadata": {},
     "output_type": "display_data"
    }
   ],
   "source": [
    "plt.figure()\n",
    "plt.scatter(X, Y)\n",
    "plt.scatter(x_pred, predictions, color='green')\n",
    "plt.xlabel('x')\n",
    "plt.ylabel('f(x)')\n",
    "plt.tick_params(axis='both', which='major')\n",
    "plt.tick_params(axis='both', which='minor')\n",
    "plt.show()"
   ]
  },
  {
   "cell_type": "markdown",
   "metadata": {},
   "source": [
    "The model has learned to smooth the noisy data.\n",
    "\n",
    "In fact, we can use PennyLane to look at typical functions that the model produces without being trained at all. The shape of these functions varies significantly with the variance hyperparameter for the weight initialization. \n",
    "\n",
    "Setting this hyperparameter to a small value produces almost linear functions, since all quantum gates in the variational circuit approximately perform the identity transformation in that case. Larger values produce smoothly oscillating functions with a period that depends on the number of layers used (generically, the more layers, the smaller the period)."
   ]
  },
  {
   "cell_type": "code",
   "execution_count": 13,
   "metadata": {
    "scrolled": true
   },
   "outputs": [
    {
     "data": {
      "image/png": "[encoded data removed]",
      "text/plain": [
       "<matplotlib.figure.Figure at 0x7f27737af048>"
      ]
     },
     "metadata": {},
     "output_type": "display_data"
    }
   ],
   "source": [
    "variance = 1.\n",
    "\n",
    "plt.figure()\n",
    "x_pred = np.linspace(-2, 2, 50)\n",
    "for i in range(7):\n",
    "    rnd_var = variance * np.random.randn(num_layers, 7)\n",
    "    predictions = [quantum_neural_net(rnd_var, x=x_) for x_ in x_pred]\n",
    "    plt.plot(x_pred, predictions, color='black')\n",
    "plt.xlabel('x')\n",
    "plt.ylabel('f(x)')\n",
    "plt.tick_params(axis='both', which='major')\n",
    "plt.tick_params(axis='both', which='minor')\n",
    "plt.show()"
   ]
  }
 ],
 "metadata": {
  "kernelspec": {
   "display_name": "Python 3",
   "language": "python",
   "name": "python3"
  },
  "language_info": {
   "codemirror_mode": {
    "name": "ipython",
    "version": 3
   },
   "file_extension": ".py",
   "mimetype": "text/x-python",
   "name": "python",
   "nbconvert_exporter": "python",
   "pygments_lexer": "ipython3",
   "version": "3.6.1"
  }
 },
 "nbformat": 4,
 "nbformat_minor": 2
}
