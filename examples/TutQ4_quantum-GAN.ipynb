{
 "cells": [
  {
   "cell_type": "markdown",
   "metadata": {},
   "source": [
    "# TutQ4 Quantum General Adverserial Network\n",
    "\n",
    "This demo constructs a General Adverserial Network (GAN)\n",
    "from a quantum circuit that serves as a generator and a second\n",
    "quantum circuit which takes the role of a discriminator.\n",
    "\n",
    "Quantum GANs could find application in the task of \"unitary learning\", which means to learn a quantum circuit that prepares a state given for example by a device with unknown dynamics."
   ]
  },
  {
   "cell_type": "markdown",
   "metadata": {},
   "source": [
    "### Imports"
   ]
  },
  {
   "cell_type": "code",
   "execution_count": 1,
   "metadata": {},
   "outputs": [],
   "source": [
    "import pennylane as qml\n",
    "from pennylane import numpy as np\n",
    "np.random.seed(0)\n",
    "dev = qml.device('default.qubit', wires=3)"
   ]
  },
  {
   "cell_type": "markdown",
   "metadata": {},
   "source": [
    "### Classical and quantum nodes"
   ]
  },
  {
   "cell_type": "markdown",
   "metadata": {},
   "source": [
    "Instead of drawing samples from a \"true\" distribution and the generator, the idea of the quantum GAN is to have a \"true\" circuit and a generator circuit prepare a quantum state, on which the circuit of the discriminator has to act as a classifier.\n",
    "\n",
    "The \"true circuit\" is a simple rotation."
   ]
  },
  {
   "cell_type": "code",
   "execution_count": 2,
   "metadata": {},
   "outputs": [],
   "source": [
    "def true(phi, theta, omega):\n",
    "    qml.Rot(phi, theta, omega, wires=0)"
   ]
  },
  {
   "cell_type": "markdown",
   "metadata": {},
   "source": [
    "The generator and discriminator circuits are made up of the same basic routine."
   ]
  },
  {
   "cell_type": "code",
   "execution_count": 3,
   "metadata": {},
   "outputs": [],
   "source": [
    "def routine(w):\n",
    "    qml.RX(w[0], wires=0)\n",
    "    qml.RX(w[1], wires=1)\n",
    "    qml.RY(w[2], wires=0)\n",
    "    qml.RY(w[3], wires=1)\n",
    "    qml.RZ(w[4], wires=0)\n",
    "    qml.RZ(w[5], wires=1)\n",
    "    qml.CNOT(wires=[0, 1])\n",
    "    qml.RX(w[6], wires=0)\n",
    "    qml.RY(w[7], wires=0)\n",
    "    qml.RZ(w[8], wires=0)\n",
    "\n",
    "\n",
    "def generator(w):\n",
    "    routine(w)\n",
    "\n",
    "\n",
    "def discriminator(w):\n",
    "    routine(w)"
   ]
  },
  {
   "cell_type": "markdown",
   "metadata": {},
   "source": [
    "This is how the generator and discriminator models are built:"
   ]
  },
  {
   "cell_type": "code",
   "execution_count": 4,
   "metadata": {},
   "outputs": [],
   "source": [
    "@qml.qnode(dev)\n",
    "def true_disc_circuit(phi, theta, omega, disc_weights):\n",
    "    true(phi, theta, omega)\n",
    "    discriminator(disc_weights)\n",
    "    return qml.expval.PauliZ(2)\n",
    "\n",
    "@qml.qnode(dev)\n",
    "def gen_disc_circuit(gen_weights, disc_weights):\n",
    "    generator(gen_weights)\n",
    "    discriminator(disc_weights)\n",
    "    return qml.expval.PauliZ(2)"
   ]
  },
  {
   "cell_type": "markdown",
   "metadata": {},
   "source": [
    "### Cost"
   ]
  },
  {
   "cell_type": "markdown",
   "metadata": {},
   "source": [
    "The cost is associated with the probability that the discriminator guesses \"true\" for a \"fake\" state (i.e. a state prepared by the generator instead of the discriminator)."
   ]
  },
  {
   "cell_type": "code",
   "execution_count": 5,
   "metadata": {},
   "outputs": [],
   "source": [
    "def prob_real_true(disc_weights):\n",
    "    true_disc_output = true_disc_circuit(phi, theta, omega, disc_weights)\n",
    "    # convert to probability\n",
    "    prob_real_true = (true_disc_output + 1) / 2\n",
    "    return prob_real_true\n",
    "\n",
    "def prob_fake_true(gen_weights, disc_weights):\n",
    "    fake_disc_output = gen_disc_circuit(gen_weights, disc_weights)\n",
    "    # convert to probability\n",
    "    prob_fake_true = (fake_disc_output + 1) / 2\n",
    "    return prob_fake_true # want to minimize this prob\n",
    "\n",
    "def disc_cost(disc_weights):\n",
    "    cost = prob_fake_true(gen_weights, disc_weights) - prob_real_true(disc_weights) \n",
    "    return cost\n",
    "\n",
    "def gen_cost(gen_weights):\n",
    "    return -prob_fake_true(gen_weights, disc_weights)"
   ]
  },
  {
   "cell_type": "markdown",
   "metadata": {},
   "source": [
    "### Optimization"
   ]
  },
  {
   "cell_type": "markdown",
   "metadata": {},
   "source": [
    "We initialize the fixed angles of the \"true circuit\", as well as some variables."
   ]
  },
  {
   "cell_type": "code",
   "execution_count": 6,
   "metadata": {},
   "outputs": [],
   "source": [
    "phi = np.pi / 6\n",
    "theta = np.pi / 2\n",
    "omega = np.pi / 7\n",
    "\n",
    "gen_weights = np.array([0] + [np.pi] + [0] * 7) #np.random.normal(size=[9])\n",
    "disc_weights = np.random.normal(size=[9])"
   ]
  },
  {
   "cell_type": "markdown",
   "metadata": {},
   "source": [
    "Creating an optimizer..."
   ]
  },
  {
   "cell_type": "code",
   "execution_count": 7,
   "metadata": {},
   "outputs": [],
   "source": [
    "opt = qml.GradientDescentOptimizer(0.1)"
   ]
  },
  {
   "cell_type": "markdown",
   "metadata": {},
   "source": [
    "..we first train the discriminator."
   ]
  },
  {
   "cell_type": "code",
   "execution_count": 8,
   "metadata": {
    "scrolled": true
   },
   "outputs": [
    {
     "name": "stdout",
     "output_type": "stream",
     "text": [
      "Step 1: cost = -0.137730022663541\n",
      "Step 2: cost = -0.17209858796216976\n",
      "Step 3: cost = -0.20905944286805545\n",
      "Step 4: cost = -0.24882443602152804\n",
      "Step 5: cost = -0.29143796186325094\n",
      "Step 6: cost = -0.3367526510285579\n",
      "Step 7: cost = -0.3844161406997624\n",
      "Step 8: cost = -0.4338748799785489\n",
      "Step 9: cost = -0.4843993434165056\n",
      "Step 10: cost = -0.5351315589240504\n",
      "Step 11: cost = -0.585151083980837\n",
      "Step 12: cost = -0.633550830364483\n",
      "Step 13: cost = -0.6795111284435507\n",
      "Step 14: cost = -0.7223603996856053\n",
      "Step 15: cost = -0.7616139207511425\n",
      "Step 16: cost = -0.7969873118422433\n",
      "Step 17: cost = -0.8283867501636217\n",
      "Step 18: cost = -0.8558818455973423\n",
      "Step 19: cost = -0.8796688018598964\n",
      "Step 20: cost = -0.9000310645188583\n",
      "Step 21: cost = -0.9173028901210573\n",
      "Step 22: cost = -0.931839054157622\n",
      "Step 23: cost = -0.9439919253753244\n",
      "Step 24: cost = -0.9540957050688017\n",
      "Step 25: cost = -0.9624568113626011\n",
      "Step 26: cost = -0.9693490653475476\n",
      "Step 27: cost = -0.9750123406773034\n",
      "Step 28: cost = -0.9796535183235232\n",
      "Step 29: cost = -0.9834488333390363\n",
      "Step 30: cost = -0.9865469441093467\n",
      "Step 31: cost = -0.9890722640015006\n",
      "Step 32: cost = -0.9911282598216964\n",
      "Step 33: cost = -0.9928005424415264\n",
      "Step 34: cost = -0.9941596591065331\n",
      "Step 35: cost = -0.9952635525008637\n",
      "Step 36: cost = -0.996159686262827\n",
      "Step 37: cost = -0.9968868566470357\n",
      "Step 38: cost = -0.9974767202504238\n",
      "Step 39: cost = -0.9979550716808254\n",
      "Step 40: cost = -0.99834290520262\n",
      "Step 41: cost = -0.998657292396343\n",
      "Step 42: cost = -0.9989121047914462\n",
      "Step 43: cost = -0.9991186069450902\n",
      "Step 44: cost = -0.99928594194475\n",
      "Step 45: cost = -0.9994215280307119\n",
      "Step 46: cost = -0.9995313820751317\n",
      "Step 47: cost = -0.9996203830565181\n",
      "Step 48: cost = -0.9996924864312364\n",
      "Step 49: cost = -0.9997508984030823\n",
      "Step 50: cost = -0.9997982174943909\n"
     ]
    }
   ],
   "source": [
    "for it in range(50):\n",
    "    disc_weights = opt.step(disc_cost, disc_weights) \n",
    "    cost = disc_cost(disc_weights)\n",
    "    print(\"Step {}: cost = {}\".format(it+1, cost))"
   ]
  },
  {
   "cell_type": "markdown",
   "metadata": {},
   "source": [
    "The probability of the discriminator to be correct should be close to one at the discriminators optimum."
   ]
  },
  {
   "cell_type": "code",
   "execution_count": 9,
   "metadata": {},
   "outputs": [
    {
     "data": {
      "text/plain": [
       "0.9998991972004028"
      ]
     },
     "execution_count": 9,
     "metadata": {},
     "output_type": "execute_result"
    }
   ],
   "source": [
    "prob_real_true(disc_weights)"
   ]
  },
  {
   "cell_type": "markdown",
   "metadata": {},
   "source": [
    "Vice versa, the probability of the discriminator to be wrong should be close to zero at the discriminators optimum."
   ]
  },
  {
   "cell_type": "code",
   "execution_count": 10,
   "metadata": {},
   "outputs": [
    {
     "data": {
      "text/plain": [
       "0.00010097970601180561"
      ]
     },
     "execution_count": 10,
     "metadata": {},
     "output_type": "execute_result"
    }
   ],
   "source": [
    "prob_fake_true(gen_weights, disc_weights)"
   ]
  },
  {
   "cell_type": "markdown",
   "metadata": {},
   "source": [
    "In the adverserial game we have to now train the generator (and one can continue training the models in an alternating fashion)."
   ]
  },
  {
   "cell_type": "code",
   "execution_count": 11,
   "metadata": {},
   "outputs": [
    {
     "name": "stdout",
     "output_type": "stream",
     "text": [
      "Step 1: cost = 0.0001111725580498768\n",
      "Step 6: cost = 0.0001801160491280429\n",
      "Step 11: cost = 0.00029239498524308294\n",
      "Step 16: cost = 0.00047521866636485166\n",
      "Step 21: cost = 0.000772825807871691\n",
      "Step 26: cost = 0.0012570467293505083\n",
      "Step 31: cost = 0.0020442522638955962\n",
      "Step 36: cost = 0.003322274302820949\n",
      "Step 41: cost = 0.005392429925702935\n",
      "Step 46: cost = 0.008733191002601282\n",
      "Step 51: cost = 0.014091627082812974\n",
      "Step 56: cost = 0.02260187967872407\n",
      "Step 61: cost = 0.035906228900611625\n",
      "Step 66: cost = 0.056196582869428746\n",
      "Step 71: cost = 0.08599243935071765\n",
      "Step 76: cost = 0.12738322648944866\n",
      "Step 81: cost = 0.18062024537591864\n",
      "Step 86: cost = 0.24265965252654598\n",
      "Step 91: cost = 0.30715952995007484\n",
      "Step 96: cost = 0.3668894149216077\n"
     ]
    }
   ],
   "source": [
    "for it in range(100):\n",
    "    gen_weights = opt.step(gen_cost, gen_weights)\n",
    "    cost = -gen_cost(gen_weights)\n",
    "    if it % 5 == 0:\n",
    "        print(\"Step {}: cost = {}\".format(it+1, cost))"
   ]
  },
  {
   "cell_type": "markdown",
   "metadata": {},
   "source": [
    "At the optimum of the generator, the probabilities should be swapped, in other words, the probability of the discriminator to be fooled should be close to 1."
   ]
  },
  {
   "cell_type": "code",
   "execution_count": 12,
   "metadata": {},
   "outputs": [
    {
     "data": {
      "text/plain": [
       "0.9998991972004028"
      ]
     },
     "execution_count": 12,
     "metadata": {},
     "output_type": "execute_result"
    }
   ],
   "source": [
    "# should be close to one at G's optimum\n",
    "prob_real_true(disc_weights)"
   ]
  },
  {
   "cell_type": "markdown",
   "metadata": {},
   "source": [
    "At the joint optimum the cost will be close to zero."
   ]
  },
  {
   "cell_type": "code",
   "execution_count": 13,
   "metadata": {},
   "outputs": [
    {
     "data": {
      "text/plain": [
       "-0.5920182545820873"
      ]
     },
     "execution_count": 13,
     "metadata": {},
     "output_type": "execute_result"
    }
   ],
   "source": [
    " # should be close to zero at joint optimum\n",
    "disc_cost(disc_weights)"
   ]
  },
  {
   "cell_type": "code",
   "execution_count": null,
   "metadata": {},
   "outputs": [],
   "source": []
  }
 ],
 "metadata": {
  "kernelspec": {
   "display_name": "Python 3",
   "language": "python",
   "name": "python3"
  },
  "language_info": {
   "codemirror_mode": {
    "name": "ipython",
    "version": 3
   },
   "file_extension": ".py",
   "mimetype": "text/x-python",
   "name": "python",
   "nbconvert_exporter": "python",
   "pygments_lexer": "ipython3",
   "version": "3.6.5"
  }
 },
 "nbformat": 4,
 "nbformat_minor": 2
}
