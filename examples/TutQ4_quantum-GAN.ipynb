{
 "cells": [
  {
   "cell_type": "markdown",
   "metadata": {},
   "source": [
    "# TutQ4 Quantum General Adverserial Network\n",
    "\n",
    "This demo constructs a General Adverserial Network (GAN)\n",
    "from a quantum circuit that serves as a generator and a second\n",
    "quantum circuit which takes the role of a discriminator.\n",
    "\n",
    "Quantum GANs could find application in the task of \"unitary learning\", which means to learn a quantum circuit that prepares a state given for example by a device with unknown dynamics."
   ]
  },
  {
   "cell_type": "markdown",
   "metadata": {},
   "source": [
    "### Imports"
   ]
  },
  {
   "cell_type": "code",
   "execution_count": 1,
   "metadata": {},
   "outputs": [],
   "source": [
    "import pennylane as qml\n",
    "from pennylane import numpy as np\n",
    "np.random.seed(0)\n",
    "dev = qml.device('default.qubit', wires=3)"
   ]
  },
  {
   "cell_type": "markdown",
   "metadata": {},
   "source": [
    "### Classical and quantum nodes"
   ]
  },
  {
   "cell_type": "markdown",
   "metadata": {},
   "source": [
    "Instead of drawing samples from a \"true\" distribution and the generator, the idea of the quantum GAN is to have a \"true\" circuit and a generator circuit prepare a quantum state, on which the circuit of the discriminator has to act as a classifier.\n",
    "\n",
    "The \"true circuit\" is a simple rotation."
   ]
  },
  {
   "cell_type": "code",
   "execution_count": 2,
   "metadata": {},
   "outputs": [],
   "source": [
    "def true(phi, theta, omega):\n",
    "    qml.Rot(phi, theta, omega, wires=0)"
   ]
  },
  {
   "cell_type": "markdown",
   "metadata": {},
   "source": [
    "The generator and discriminator circuits are made up of the same basic routine."
   ]
  },
  {
   "cell_type": "code",
   "execution_count": 3,
   "metadata": {},
   "outputs": [],
   "source": [
    "def generator(w):\n",
    "    qml.RX(w[0], wires=0)\n",
    "    qml.RX(w[1], wires=1)\n",
    "    qml.RY(w[2], wires=0)\n",
    "    qml.RY(w[3], wires=1)\n",
    "    qml.RZ(w[4], wires=0)\n",
    "    qml.RZ(w[5], wires=1)\n",
    "    qml.CNOT(wires=[0,1])\n",
    "    qml.RX(w[6], wires=0)\n",
    "    qml.RY(w[7], wires=0)\n",
    "    qml.RZ(w[8], wires=0)\n",
    "    \n",
    "def discriminator(w):\n",
    "    qml.RX(w[0], wires=0)\n",
    "    qml.RX(w[1], wires=2)\n",
    "    qml.RY(w[2], wires=0)\n",
    "    qml.RY(w[3], wires=2)\n",
    "    qml.RZ(w[4], wires=0)\n",
    "    qml.RZ(w[5], wires=2)\n",
    "    qml.CNOT(wires=[1,2])\n",
    "    qml.RX(w[6], wires=2)\n",
    "    qml.RY(w[7], wires=2)\n",
    "    qml.RZ(w[8], wires=2)"
   ]
  },
  {
   "cell_type": "markdown",
   "metadata": {},
   "source": [
    "This is how the generator and discriminator models are built:"
   ]
  },
  {
   "cell_type": "code",
   "execution_count": 4,
   "metadata": {},
   "outputs": [],
   "source": [
    "@qml.qnode(dev)\n",
    "def true_disc_circuit(phi, theta, omega, disc_weights):\n",
    "    true(phi, theta, omega)\n",
    "    discriminator(disc_weights)\n",
    "    return qml.expval.PauliZ(2)\n",
    "\n",
    "@qml.qnode(dev)\n",
    "def gen_disc_circuit(gen_weights, disc_weights):\n",
    "    generator(gen_weights)\n",
    "    discriminator(disc_weights)\n",
    "    return qml.expval.PauliZ(2)"
   ]
  },
  {
   "cell_type": "markdown",
   "metadata": {},
   "source": [
    "### Cost"
   ]
  },
  {
   "cell_type": "markdown",
   "metadata": {},
   "source": [
    "The cost is associated with the probability that the discriminator guesses \"true\" for a \"fake\" state (i.e. a state prepared by the generator instead of the discriminator)."
   ]
  },
  {
   "cell_type": "code",
   "execution_count": 5,
   "metadata": {},
   "outputs": [],
   "source": [
    "def prob_real_true(disc_weights):\n",
    "    true_disc_output = true_disc_circuit(phi, theta, omega, disc_weights)\n",
    "    # convert to probability\n",
    "    prob_real_true = (true_disc_output + 1) / 2\n",
    "    return prob_real_true\n",
    "\n",
    "def prob_fake_true(gen_weights, disc_weights):\n",
    "    fake_disc_output = gen_disc_circuit(gen_weights, disc_weights)\n",
    "    # convert to probability\n",
    "    prob_fake_true = (fake_disc_output + 1) / 2\n",
    "    return prob_fake_true # want to minimize this prob\n",
    "\n",
    "def disc_cost(disc_weights):\n",
    "    cost = prob_fake_true(gen_weights, disc_weights) - prob_real_true(disc_weights) \n",
    "    return cost\n",
    "\n",
    "def gen_cost(gen_weights):\n",
    "    return -prob_fake_true(gen_weights, disc_weights)"
   ]
  },
  {
   "cell_type": "markdown",
   "metadata": {},
   "source": [
    "### Optimization"
   ]
  },
  {
   "cell_type": "markdown",
   "metadata": {},
   "source": [
    "We initialize the fixed angles of the \"true circuit\", as well as some variables."
   ]
  },
  {
   "cell_type": "code",
   "execution_count": 6,
   "metadata": {},
   "outputs": [],
   "source": [
    "phi = np.pi / 6\n",
    "theta = np.pi / 2\n",
    "omega = np.pi / 7\n",
    "eps = 1e-2\n",
    "gen_weights = np.array([0] + [np.pi] + [0] * 7) + eps * np.random.normal(size=[9])\n",
    "disc_weights = np.random.normal(size=[9])"
   ]
  },
  {
   "cell_type": "markdown",
   "metadata": {},
   "source": [
    "Creating an optimizer..."
   ]
  },
  {
   "cell_type": "code",
   "execution_count": 7,
   "metadata": {},
   "outputs": [],
   "source": [
    "opt = qml.GradientDescentOptimizer(0.1)"
   ]
  },
  {
   "cell_type": "markdown",
   "metadata": {},
   "source": [
    "..we first train the discriminator."
   ]
  },
  {
   "cell_type": "code",
   "execution_count": 8,
   "metadata": {
    "scrolled": true
   },
   "outputs": [
    {
     "name": "stdout",
     "output_type": "stream",
     "text": [
      "Step 1: cost = -0.10942017805789189\n",
      "Step 6: cost = -0.38998842264903155\n",
      "Step 11: cost = -0.6660191175815633\n",
      "Step 16: cost = -0.8550839212078478\n",
      "Step 21: cost = -0.9454459581664489\n",
      "Step 26: cost = -0.9805878247866402\n",
      "Step 31: cost = -0.9931371328342751\n",
      "Step 36: cost = -0.9974896764916592\n",
      "Step 41: cost = -0.9989863506630718\n",
      "Step 46: cost = -0.9995000463932011\n"
     ]
    }
   ],
   "source": [
    "for it in range(50):\n",
    "    disc_weights = opt.step(disc_cost, disc_weights) \n",
    "    cost = disc_cost(disc_weights)\n",
    "    if it % 5 == 0:\n",
    "        print(\"Step {}: cost = {}\".format(it+1, cost))"
   ]
  },
  {
   "cell_type": "markdown",
   "metadata": {},
   "source": [
    "The probability of the discriminator to be correct should be close to one at the discriminators optimum."
   ]
  },
  {
   "cell_type": "code",
   "execution_count": 9,
   "metadata": {},
   "outputs": [
    {
     "data": {
      "text/plain": [
       "0.9998971951842259"
      ]
     },
     "execution_count": 9,
     "metadata": {},
     "output_type": "execute_result"
    }
   ],
   "source": [
    "prob_real_true(disc_weights)"
   ]
  },
  {
   "cell_type": "markdown",
   "metadata": {},
   "source": [
    "Vice versa, the probability of the discriminator to be wrong should be close to zero at the discriminators optimum."
   ]
  },
  {
   "cell_type": "code",
   "execution_count": 10,
   "metadata": {},
   "outputs": [
    {
     "data": {
      "text/plain": [
       "0.00024278396179999717"
      ]
     },
     "execution_count": 10,
     "metadata": {},
     "output_type": "execute_result"
    }
   ],
   "source": [
    "prob_fake_true(gen_weights, disc_weights)"
   ]
  },
  {
   "cell_type": "markdown",
   "metadata": {},
   "source": [
    "In the adverserial game we have to now train the generator (and one can continue training the models in an alternating fashion)."
   ]
  },
  {
   "cell_type": "code",
   "execution_count": 11,
   "metadata": {},
   "outputs": [
    {
     "name": "stdout",
     "output_type": "stream",
     "text": [
      "Step 0: cost = 0.0002664691382995854\n",
      "Step 5: cost = 0.0004266200858930591\n",
      "Step 10: cost = 0.0006872486146978218\n",
      "Step 15: cost = 0.0011111626380135853\n",
      "Step 20: cost = 0.0018000510248329382\n",
      "Step 25: cost = 0.0029179304125440675\n",
      "Step 30: cost = 0.004727717539773968\n",
      "Step 35: cost = 0.007646628881031792\n",
      "Step 40: cost = 0.012325866735736435\n",
      "Step 45: cost = 0.019754518934527343\n",
      "Step 50: cost = 0.03136834673567157\n",
      "Step 55: cost = 0.049097345993078134\n",
      "Step 60: cost = 0.07520378135265438\n",
      "Step 65: cost = 0.11169015288702133\n",
      "Step 70: cost = 0.15917286333740954\n",
      "Step 75: cost = 0.2156603134394734\n",
      "Step 80: cost = 0.2763735721045272\n",
      "Step 85: cost = 0.33541691865274736\n",
      "Step 90: cost = 0.3883501266928646\n",
      "Step 95: cost = 0.43371772120148877\n",
      "Step 100: cost = 0.4728490188392858\n",
      "Step 105: cost = 0.5087778323625884\n",
      "Step 110: cost = 0.5451977336157738\n",
      "Step 115: cost = 0.585663291639799\n",
      "Step 120: cost = 0.6327897835085339\n",
      "Step 125: cost = 0.6872469221106772\n",
      "Step 130: cost = 0.7468453348018596\n",
      "Step 135: cost = 0.8066413637587811\n",
      "Step 140: cost = 0.8607353038575969\n",
      "Step 145: cost = 0.9048413990478943\n",
      "Step 150: cost = 0.9376687441862424\n",
      "Step 155: cost = 0.9604104860258145\n",
      "Step 160: cost = 0.9753711478478371\n",
      "Step 165: cost = 0.9848746701786011\n",
      "Step 170: cost = 0.9907765008479275\n",
      "Step 175: cost = 0.9943898535953375\n",
      "Step 180: cost = 0.9965827747752594\n",
      "Step 185: cost = 0.9979065439048107\n",
      "Step 190: cost = 0.9987030608439535\n",
      "Step 195: cost = 0.9991813935606387\n",
      "Step 200: cost = 0.9994683100927393\n",
      "Step 205: cost = 0.9996402890104501\n",
      "Step 210: cost = 0.9997433303406783\n",
      "Step 215: cost = 0.9998050520290219\n",
      "Step 220: cost = 0.9998420176747198\n",
      "Step 225: cost = 0.9998641547050422\n",
      "Step 230: cost = 0.999877410836606\n",
      "Step 235: cost = 0.9998853486358035\n",
      "Step 240: cost = 0.9998901017138104\n",
      "Step 245: cost = 0.9998929477780881\n",
      "Step 250: cost = 0.9998946519422582\n",
      "Step 255: cost = 0.9998956723560917\n",
      "Step 260: cost = 0.9998962833546096\n",
      "Step 265: cost = 0.9998966492048311\n",
      "Step 270: cost = 0.9998968682663525\n",
      "Step 275: cost = 0.9998969994345781\n",
      "Step 280: cost = 0.999897077974605\n",
      "Step 285: cost = 0.9998971250022646\n",
      "Step 290: cost = 0.9998971531611611\n",
      "Step 295: cost = 0.9998971700219492\n"
     ]
    }
   ],
   "source": [
    "for it in range(300):\n",
    "    gen_weights = opt.step(gen_cost, gen_weights)\n",
    "    cost = -gen_cost(gen_weights)\n",
    "    if it % 5 == 0:\n",
    "        print(\"Step {}: cost = {}\".format(it, cost))"
   ]
  },
  {
   "cell_type": "markdown",
   "metadata": {},
   "source": [
    "At the optimum of the generator, the probabilities should be swapped, in other words, the probability of the discriminator to be fooled should be close to 1."
   ]
  },
  {
   "cell_type": "code",
   "execution_count": 12,
   "metadata": {},
   "outputs": [
    {
     "data": {
      "text/plain": [
       "0.9998971951842259"
      ]
     },
     "execution_count": 12,
     "metadata": {},
     "output_type": "execute_result"
    }
   ],
   "source": [
    "# should be close to one at G's optimum\n",
    "prob_real_true(disc_weights)"
   ]
  },
  {
   "cell_type": "markdown",
   "metadata": {},
   "source": [
    "At the joint optimum the cost will be close to zero."
   ]
  },
  {
   "cell_type": "code",
   "execution_count": 13,
   "metadata": {},
   "outputs": [
    {
     "data": {
      "text/plain": [
       "-1.669397242665127e-08"
      ]
     },
     "execution_count": 13,
     "metadata": {},
     "output_type": "execute_result"
    }
   ],
   "source": [
    "disc_cost(disc_weights)"
   ]
  },
  {
   "cell_type": "code",
   "execution_count": null,
   "metadata": {},
   "outputs": [],
   "source": []
  }
 ],
 "metadata": {
  "kernelspec": {
   "display_name": "Python 3",
   "language": "python",
   "name": "python3"
  },
  "language_info": {
   "codemirror_mode": {
    "name": "ipython",
    "version": 3
   },
   "file_extension": ".py",
   "mimetype": "text/x-python",
   "name": "python",
   "nbconvert_exporter": "python",
   "pygments_lexer": "ipython3",
   "version": "3.6.6"
  }
 },
 "nbformat": 4,
 "nbformat_minor": 2
}
