{
 "cells": [
  {
   "cell_type": "markdown",
   "metadata": {},
   "source": [
    "# Tutorial CV2 - Function fitting with a quantum neural network"
   ]
  },
  {
   "cell_type": "markdown",
   "metadata": {},
   "source": [
    "In this tutorial we show how a variational circuit can be used to extrapolate a one- or two-dimensional function when being trained with noisy samples from that function. \n",
    "\n",
    "The variational circuit we use is described in Killoran et al. 2018 (arxiv 1806.06871), where it was called a continuous-variable quantum neural network. The name stems from the fact that with a slight alternation of how to implement the nonlinear"
   ]
  },
  {
   "cell_type": "markdown",
   "metadata": {},
   "source": [
    "## 1. One dimension"
   ]
  },
  {
   "cell_type": "markdown",
   "metadata": {},
   "source": [
    "### Imports"
   ]
  },
  {
   "cell_type": "markdown",
   "metadata": {},
   "source": [
    "We execute the standard imports."
   ]
  },
  {
   "cell_type": "code",
   "execution_count": 1,
   "metadata": {},
   "outputs": [
    {
     "name": "stderr",
     "output_type": "stream",
     "text": [
      "12:53:41 WARNING No OpenQML configuration file found.\n"
     ]
    }
   ],
   "source": [
    "import openqml as qm\n",
    "from openqml import numpy as np\n",
    "from openqml._optimize import NesterovMomentumOptimizer"
   ]
  },
  {
   "cell_type": "markdown",
   "metadata": {},
   "source": [
    "The device is again the StrawberryFields simulator, this time with only one quantum mode or \"wire\"."
   ]
  },
  {
   "cell_type": "code",
   "execution_count": 2,
   "metadata": {},
   "outputs": [
    {
     "name": "stderr",
     "output_type": "stream",
     "text": [
      "12:53:43 WARNING /usr/lib/python3.6/importlib/_bootstrap.py:219: RuntimeWarning: numpy.dtype size changed, may indicate binary incompatibility. Expected 96, got 88\n",
      "  return f(*args, **kwds)\n",
      "\n",
      "12:53:43 WARNING /usr/lib/python3.6/importlib/_bootstrap.py:219: RuntimeWarning: numpy.dtype size changed, may indicate binary incompatibility. Expected 96, got 88\n",
      "  return f(*args, **kwds)\n",
      "\n"
     ]
    }
   ],
   "source": [
    "dev = qm.device('strawberryfields.fock', wires=1, cutoff_dim=10)"
   ]
  },
  {
   "cell_type": "markdown",
   "metadata": {},
   "source": [
    "### Quantum function\n",
    "\n",
    "According to (REF CVQNN) a (single mode) layer of the variational circuit is defined as:"
   ]
  },
  {
   "cell_type": "code",
   "execution_count": 3,
   "metadata": {},
   "outputs": [],
   "source": [
    "def layer(w):\n",
    "    \"\"\" Single layer of the continuous-variable quantum neural net.\"\"\"\n",
    "\n",
    "    # Matrix multiplication of input layer\n",
    "    qm.Rotation(w[0], [0])\n",
    "    qm.Squeezing(w[1], 0., [0])\n",
    "    qm.Rotation(w[2], [0])\n",
    "\n",
    "    # Bias\n",
    "    qm.Displacement(w[3], 0., [0])\n",
    "\n",
    "    # Element-wise nonlinear transformation\n",
    "    qm.Kerr(w[4], [0])"
   ]
  },
  {
   "cell_type": "markdown",
   "metadata": {},
   "source": [
    "The variational circuit in the quantum function first encodes the input into the displacement of the mode, and then executes the layers. The output is the expectation of the x-quadrature."
   ]
  },
  {
   "cell_type": "code",
   "execution_count": 4,
   "metadata": {},
   "outputs": [],
   "source": [
    "@qm.qfunc(dev)\n",
    "def quantum_neural_net(weights, x=None):\n",
    "    \"\"\"The quantum neural net variational circuit.\"\"\"\n",
    "\n",
    "    qm.Displacement(x[0], 0., [0])\n",
    "\n",
    "    for w in weights:\n",
    "        layer(w)\n",
    "\n",
    "    return qm.expectation.X(0)\n"
   ]
  },
  {
   "cell_type": "markdown",
   "metadata": {},
   "source": [
    "### Objective"
   ]
  },
  {
   "cell_type": "markdown",
   "metadata": {},
   "source": [
    "As an objective we take the square loss between target labels and model predictions."
   ]
  },
  {
   "cell_type": "code",
   "execution_count": 14,
   "metadata": {},
   "outputs": [],
   "source": [
    "def square_loss(labels, predictions):\n",
    "\n",
    "    loss = 0\n",
    "    for l, p in zip(labels, predictions):\n",
    "        loss += (l-p)**2\n",
    "    loss = loss/len(labels)\n",
    "\n",
    "    return loss"
   ]
  },
  {
   "cell_type": "markdown",
   "metadata": {},
   "source": [
    "In the cost function, we compute the outputs from the variational circuit. Function fitting is a regression problem, and we take the outputs as direct predictions (i.e. without applying a final sign, sigmoid or other function)."
   ]
  },
  {
   "cell_type": "code",
   "execution_count": 9,
   "metadata": {},
   "outputs": [],
   "source": [
    "def cost(weights, features, labels):\n",
    "\n",
    "    predictions = [quantum_neural_net(weights, x=x) for x in features]\n",
    "\n",
    "    return square_loss(labels, predictions)"
   ]
  },
  {
   "cell_type": "markdown",
   "metadata": {},
   "source": [
    "### Optimization"
   ]
  },
  {
   "cell_type": "markdown",
   "metadata": {},
   "source": [
    "We load noisy data samples of a sine function."
   ]
  },
  {
   "cell_type": "code",
   "execution_count": 10,
   "metadata": {},
   "outputs": [],
   "source": [
    "data = np.loadtxt(\"sine.txt\")\n",
    "X = data[:, :-1]\n",
    "Y = data[:, -1]"
   ]
  },
  {
   "cell_type": "markdown",
   "metadata": {},
   "source": [
    "The weights are initialized with values sampled from a normal distribution."
   ]
  },
  {
   "cell_type": "code",
   "execution_count": 11,
   "metadata": {},
   "outputs": [
    {
     "data": {
      "text/plain": [
       "array([-0.08001941, -0.36880224,  0.77710194, -0.91620406, -0.17532891])"
      ]
     },
     "execution_count": 11,
     "metadata": {},
     "output_type": "execute_result"
    }
   ],
   "source": [
    "num_layers = 10\n",
    "weights0 = np.random.randn(num_layers, 5)\n",
    "\n",
    "weights0[0]"
   ]
  },
  {
   "cell_type": "markdown",
   "metadata": {},
   "source": [
    "We choose a Nestrov Momentum Optimizer and update the weights for 100 steps."
   ]
  },
  {
   "cell_type": "code",
   "execution_count": 15,
   "metadata": {},
   "outputs": [
    {
     "name": "stdout",
     "output_type": "stream",
     "text": [
      "Iter:     0 | Cost: 0.6302817\n",
      "Iter:     1 | Cost: 0.6273696\n",
      "Iter:     2 | Cost: 0.6272546\n",
      "Iter:     3 | Cost: 0.6308791\n",
      "Iter:     4 | Cost: 0.6307181\n",
      "Iter:     5 | Cost: 0.6267591\n",
      "Iter:     6 | Cost: 0.6268291\n",
      "Iter:     7 | Cost: 0.6267627\n",
      "Iter:     8 | Cost: 0.6267586\n",
      "Iter:     9 | Cost: 0.6267586\n",
      "Iter:    10 | Cost: 0.6267586\n",
      "Iter:    11 | Cost: 0.6267586\n",
      "Iter:    12 | Cost: 0.6267586\n",
      "Iter:    13 | Cost: 0.6267586\n",
      "Iter:    14 | Cost: 0.6267586\n"
     ]
    }
   ],
   "source": [
    "o = NesterovMomentumOptimizer(0.1)\n",
    "\n",
    "weights = weights0\n",
    "for iteration in range(10):\n",
    "\n",
    "    weights = o.step(lambda w: cost(w, X, Y), weights)\n",
    "    print(\"Iter: {:5d} | Cost: {:0.7f}\".format(iteration, cost(weights, X, Y)))\n"
   ]
  },
  {
   "cell_type": "markdown",
   "metadata": {},
   "source": [
    "Finally, we collect the predictions of the trained model for a x values between $[-1,1]$..."
   ]
  },
  {
   "cell_type": "code",
   "execution_count": 19,
   "metadata": {},
   "outputs": [],
   "source": [
    "x_axis = np.linspace(-1, 1, 50)\n",
    "predictions = [quantum_neural_net(weights, x=x) for x in x_axis]"
   ]
  },
  {
   "cell_type": "markdown",
   "metadata": {},
   "source": [
    "...import a plotting library..."
   ]
  },
  {
   "cell_type": "code",
   "execution_count": 17,
   "metadata": {},
   "outputs": [],
   "source": [
    "import matplotlib.pyplot as plt"
   ]
  },
  {
   "cell_type": "markdown",
   "metadata": {},
   "source": [
    "...and plot the noisy data (red) and predictions (green)."
   ]
  },
  {
   "cell_type": "code",
   "execution_count": 23,
   "metadata": {},
   "outputs": [
    {
     "data": {
      "image/png": "[encoded data removed]",
      "text/plain": [
       "<Figure size 432x288 with 1 Axes>"
      ]
     },
     "metadata": {},
     "output_type": "display_data"
    }
   ],
   "source": [
    "plt.figure()\n",
    "\n",
    "plt.plot(x_axis, predictions, color='#3f9b0b', marker='o',zorder=1)\n",
    "plt.scatter(X, Y, color='#fb2943', marker='o', zorder=2)\n",
    "plt.xlabel('Input')\n",
    "plt.ylabel('Output')\n",
    "plt.tick_params(axis='both', which='major')\n",
    "plt.tick_params(axis='both', which='minor')\n",
    "plt.show()"
   ]
  },
  {
   "cell_type": "markdown",
   "metadata": {},
   "source": [
    "## 2. Fitting higher dimensional functions"
   ]
  },
  {
   "cell_type": "markdown",
   "metadata": {},
   "source": [
    "If the function input/output is of higher dimensions, we can adapt the layer structure, initial weights, and quantum function accordingly. TEST!"
   ]
  },
  {
   "cell_type": "code",
   "execution_count": null,
   "metadata": {},
   "outputs": [],
   "source": [
    "def layer(W, b):\n",
    "\n",
    "    U, d, V = np.linalg.grad_svd(W)\n",
    "\n",
    "    # Matrix multiplication of input layer\n",
    "    qm.Interferometer(U, [0, 1])\n",
    "    qm.Squeezing(-np.log(d[0]), [0])\n",
    "    qm.Interferometer(V, [0, 1])\n",
    "\n",
    "    # Bias\n",
    "    qm.Displacement(b[0], [0])\n",
    "\n",
    "    # Element-wise nonlinear transformation\n",
    "    qm.Kerr(0.1, [0])"
   ]
  },
  {
   "cell_type": "code",
   "execution_count": null,
   "metadata": {},
   "outputs": [],
   "source": [
    "@qm.qfunc(dev)\n",
    "def quantum_neural_net(weights, x=None):\n",
    "\n",
    "        \n",
    "    for idx in range(len(x)):\n",
    "        qm.Displacement(x[i], [idx])\n",
    "\n",
    "    for W, b in weights:\n",
    "        layer(W, b)\n",
    "        \n",
    "    \n",
    "    expectations = [qm.expectation.X(idx) for idx in range(len(x))]\n",
    "\n",
    "    return tuple(expectations)"
   ]
  },
  {
   "cell_type": "code",
   "execution_count": null,
   "metadata": {},
   "outputs": [],
   "source": [
    "def make_random_layer(num_modes):\n",
    "    W = np.random.randn(num_modes, num_modes)\n",
    "    b = np.random.randn(num_modes)\n",
    "    return W, b\n",
    "\n",
    "num_modes = ...\n",
    "weights0 = [make_random_layer(num_modes)]"
   ]
  }
 ],
 "metadata": {
  "kernelspec": {
   "display_name": "Python 3",
   "language": "python",
   "name": "python3"
  },
  "language_info": {
   "codemirror_mode": {
    "name": "ipython",
    "version": 3
   },
   "file_extension": ".py",
   "mimetype": "text/x-python",
   "name": "python",
   "nbconvert_exporter": "python",
   "pygments_lexer": "ipython3",
   "version": "3.6.5"
  }
 },
 "nbformat": 4,
 "nbformat_minor": 2
}
