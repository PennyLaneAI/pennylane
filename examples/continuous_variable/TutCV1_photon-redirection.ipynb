{
 "cells": [
  {
   "cell_type": "markdown",
   "metadata": {},
   "source": [
    "# Tutorial CV1 - Photon redirection"
   ]
  },
  {
   "cell_type": "markdown",
   "metadata": {},
   "source": [
    "This tutorial demonstrates the basic working principles of openqml for continuous-variable backends. Starting with a photon in Mode 1, the goal is to optimize a beam splitter to redirect the photon to Mode 2 that was initially in vacuum (no photons). \n",
    "\n"
   ]
  },
  {
   "cell_type": "markdown",
   "metadata": {},
   "source": [
    "### Imports"
   ]
  },
  {
   "cell_type": "markdown",
   "metadata": {},
   "source": [
    "First we need to import openqml, as well as openqml's version of numpy. This allows us to automatically compute gradients for functions that manipulate numpy arrays, including quantum functions."
   ]
  },
  {
   "cell_type": "code",
   "execution_count": 1,
   "metadata": {},
   "outputs": [
    {
     "name": "stderr",
     "output_type": "stream",
     "text": [
      "09:24:23 WARNING No OpenQML configuration file found.\n"
     ]
    }
   ],
   "source": [
    "import openqml as qm\n",
    "from openqml import numpy as np\n",
    "from openqml._optimize import GradientDescentOptimizer, MomentumOptimizer"
   ]
  },
  {
   "cell_type": "markdown",
   "metadata": {},
   "source": [
    "Next, create a \"device\" to run the quantum node. We use StrawberryFields to simulate a photonic quantum processor with two quantum modes."
   ]
  },
  {
   "cell_type": "code",
   "execution_count": 2,
   "metadata": {},
   "outputs": [
    {
     "name": "stderr",
     "output_type": "stream",
     "text": [
      "09:24:25 WARNING /usr/lib/python3.6/importlib/_bootstrap.py:219: RuntimeWarning: numpy.dtype size changed, may indicate binary incompatibility. Expected 96, got 88\n",
      "  return f(*args, **kwds)\n",
      "\n",
      "09:24:25 WARNING /usr/lib/python3.6/importlib/_bootstrap.py:219: RuntimeWarning: numpy.dtype size changed, may indicate binary incompatibility. Expected 96, got 88\n",
      "  return f(*args, **kwds)\n",
      "\n"
     ]
    }
   ],
   "source": [
    "dev = qm.device('strawberryfields.fock', wires=2, cutoff_dim=10)"
   ]
  },
  {
   "cell_type": "markdown",
   "metadata": {},
   "source": [
    "### Quantum function\n",
    "\n",
    "We define a quantum function which \"puts\" one photon into the first mode and sends both modes through a beam splitter. "
   ]
  },
  {
   "cell_type": "code",
   "execution_count": 3,
   "metadata": {},
   "outputs": [],
   "source": [
    "@qm.qfunc(dev)\n",
    "def circuit(weights):\n",
    "\n",
    "    qm.FockState(1, [0])\n",
    "    qm.Beamsplitter(weights[0], weights[1], [0, 1])\n",
    "\n",
    "    return qm.expectation.Fock(1)"
   ]
  },
  {
   "cell_type": "markdown",
   "metadata": {},
   "source": [
    "This function uses openqml to run the following quantum circuit:"
   ]
  },
  {
   "cell_type": "markdown",
   "metadata": {},
   "source": [
    "<img src=\"figures/redirection_circuit.png\">"
   ]
  },
  {
   "cell_type": "markdown",
   "metadata": {},
   "source": [
    "Depending on the transmission parameter $w_0$, the photon remains in the first mode (i.e., $w_1 = n \\pi$ with integer $n$), gets redirected to the second mode (i.e., $w_1 = n\\pi / 2$) or is in a superposition of being in both modes. The phase parameter $w_2$ does not have any influence on the result, so we expect it to have a zero gradient and not to get updated at all."
   ]
  },
  {
   "cell_type": "markdown",
   "metadata": {},
   "source": [
    "### Objective"
   ]
  },
  {
   "cell_type": "markdown",
   "metadata": {},
   "source": [
    "Next, we define a cost that quantifies whether the redirection is successful. Since we want to maximize the expectation of the Fock measurement in the second mode, we minize the negative of the circuit output."
   ]
  },
  {
   "cell_type": "code",
   "execution_count": 4,
   "metadata": {},
   "outputs": [],
   "source": [
    "def objective(weights):\n",
    "    return -circuit(weights)"
   ]
  },
  {
   "cell_type": "markdown",
   "metadata": {},
   "source": [
    "This objective has the following optimization landscape: \n",
    " \n",
    " <img src=\"figures/redirection_landscape.png\" width=\"450\">\n",
    "\n",
    "As stated above, the gradient does not depend on the phase parameter $w_2$. "
   ]
  },
  {
   "cell_type": "markdown",
   "metadata": {},
   "source": [
    "### Optimization"
   ]
  },
  {
   "cell_type": "markdown",
   "metadata": {},
   "source": [
    "The initial values of the transmission and phase parameters are set to near-zero. This corresponds to an identity gate, in other words, the circuit leaves the photon in the first mode. *Note that at zero exactly the gradient is zero and the optimization algorithm will not descent from the maximum.*"
   ]
  },
  {
   "cell_type": "code",
   "execution_count": 5,
   "metadata": {},
   "outputs": [
    {
     "name": "stdout",
     "output_type": "stream",
     "text": [
      "Initial rotation angles: [0.01 0.01]\n"
     ]
    }
   ],
   "source": [
    "weights0 = np.array([0.01, 0.01])\n",
    "print('Initial rotation angles:', weights0)"
   ]
  },
  {
   "cell_type": "markdown",
   "metadata": {},
   "source": [
    "We choose a simple Gradient Descent Optimizer and update the weights for 10 steps."
   ]
  },
  {
   "cell_type": "code",
   "execution_count": 6,
   "metadata": {},
   "outputs": [
    {
     "name": "stdout",
     "output_type": "stream",
     "text": [
      "Objective after step     5: -0.0001000\n",
      "Objective after step    10: -0.0001000\n",
      "Objective after step    15: -0.0001000\n",
      "Objective after step    20: -0.0001000\n",
      "Objective after step    25: -0.0001000\n",
      "Objective after step    30: -0.0001000\n",
      "Objective after step    35: -0.0001000\n",
      "Objective after step    40: -0.0001000\n",
      "Objective after step    45: -0.0001000\n",
      "Objective after step    50: -0.0001000\n",
      "Objective after step    55: -0.0001000\n",
      "Objective after step    60: -0.0001000\n",
      "Objective after step    65: -0.0001000\n",
      "Objective after step    70: -0.0001000\n",
      "Objective after step    75: -0.0001000\n",
      "Objective after step    80: -0.0001000\n",
      "Objective after step    85: -0.0001000\n",
      "Objective after step    90: -0.0001000\n",
      "Objective after step    95: -0.0001000\n",
      "Objective after step   100: -0.0001000\n",
      "\n",
      "Optimized rotation angles: [0.01 0.01]\n"
     ]
    }
   ],
   "source": [
    "o = GradientDescentOptimizer(0.5)\n",
    "\n",
    "weights = weights0\n",
    "for step in np.arange(1, 101):\n",
    "    weights = o.step(objective, weights)\n",
    "    if step%5==0:\n",
    "        print('Objective after step {:5d}: {:.7f}'.format(step, objective(weights)) )\n",
    "\n",
    "print()\n",
    "print('Optimized rotation angles:', weights)"
   ]
  },
  {
   "cell_type": "markdown",
   "metadata": {},
   "source": [
    "Starting at a different offset, we train the MomentumOptimizer, which improves on gradient descent by making an update dependent on the previous gradient."
   ]
  },
  {
   "cell_type": "code",
   "execution_count": 7,
   "metadata": {},
   "outputs": [
    {
     "name": "stdout",
     "output_type": "stream",
     "text": [
      "Initial rotation angles: [-0.01  0.01]\n",
      "Objective after step     5: -0.0001000\n",
      "Objective after step    10: -0.0001000\n",
      "Objective after step    15: -0.0001000\n",
      "Objective after step    20: -0.0001000\n",
      "Objective after step    25: -0.0001000\n",
      "Objective after step    30: -0.0001000\n",
      "Objective after step    35: -0.0001000\n",
      "Objective after step    40: -0.0001000\n",
      "Objective after step    45: -0.0001000\n",
      "Objective after step    50: -0.0001000\n",
      "Objective after step    55: -0.0001000\n",
      "Objective after step    60: -0.0001000\n",
      "Objective after step    65: -0.0001000\n",
      "Objective after step    70: -0.0001000\n",
      "Objective after step    75: -0.0001000\n",
      "Objective after step    80: -0.0001000\n",
      "Objective after step    85: -0.0001000\n",
      "Objective after step    90: -0.0001000\n",
      "Objective after step    95: -0.0001000\n",
      "Objective after step   100: -0.0001000\n",
      "\n",
      "Optimized rotation angles: [-0.01  0.01]\n"
     ]
    }
   ],
   "source": [
    "weights0 = np.array([-0.01, 0.01])\n",
    "print('Initial rotation angles:', weights0)\n",
    "\n",
    "o = MomentumOptimizer(0.5)\n",
    "\n",
    "weights = weights0\n",
    "for step in np.arange(1, 101):\n",
    "    weights = o.step(objective, weights)\n",
    "    if step%5==0:\n",
    "        print('Objective after step {:5d}: {:.7f}'.format(step, objective(weights)) )\n",
    "\n",
    "print()\n",
    "print('Optimized rotation angles:', weights)"
   ]
  },
  {
   "cell_type": "markdown",
   "metadata": {},
   "source": [
    "(PLOT OPTIMIZER STEPS)"
   ]
  }
 ],
 "metadata": {
  "kernelspec": {
   "display_name": "Python 3",
   "language": "python",
   "name": "python3"
  },
  "language_info": {
   "codemirror_mode": {
    "name": "ipython",
    "version": 3
   },
   "file_extension": ".py",
   "mimetype": "text/x-python",
   "name": "python",
   "nbconvert_exporter": "python",
   "pygments_lexer": "ipython3",
   "version": "3.6.5"
  }
 },
 "nbformat": 4,
 "nbformat_minor": 2
}
