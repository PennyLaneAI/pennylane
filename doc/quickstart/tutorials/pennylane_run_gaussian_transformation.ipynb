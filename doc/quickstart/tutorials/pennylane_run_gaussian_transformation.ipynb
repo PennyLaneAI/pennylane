{
  "cells": [
    {
      "cell_type": "code",
      "execution_count": null,
      "metadata": {
        "collapsed": false
      },
      "outputs": [],
      "source": [
        "%matplotlib inline"
      ]
    },
    {
      "cell_type": "markdown",
      "metadata": {},
      "source": [
        "\n\nGaussian transformation\n=======================\n\nThis tutorial demonstrates the basic working principles of PennyLane for\ncontinuous-variable (CV) photonic devices. For more details about photonic\nquantum computing, the\n`Strawberry Fields documentation <https://strawberryfields.readthedocs.io/en/latest/>`_\nis a great starting point.\n\nThe quantum circuit\n-------------------\n\nFor this basic tutorial, we will consider a special subset of CV operations:\nthe *Gaussian transformations*. We work with the following simple Gaussian circuit:\n\n.. figure:: ../../examples/figures/gaussian_transformation.svg\n    :align: center\n    :width: 40%\n    :target: javascript:void(0);\n\nWhat is this circuit doing?\n\n1. **We begin with one wire (qumode) in the vacuum state**. Note that we use the same\n   notation $|0\\rangle$ for the initial state as the previous qubit tutorial.\n   In a photonic CV system, this state is the *vacuum state*, i.e., the state with no\n   photons in the wire.\n\n2. **We displace the qumode**. The displacement gate linearly shifts the state of the\n   qumode in phase space. The vacuum state is centered at the origin in phase space,\n   while the displaced state will be centered at the point $\\alpha$.\n\n3. **We rotate the qumode**. This is another linear transformation in phase space,\n   albeit a rotation (by angle $\\phi$) instead of a displacement.\n\n4. **Finally, we measure the mean photon number** $\\langle\\hat{n}\\rangle =\n   \\langle\\hat{a}^\\dagger \\hat{a}\\rangle$. This quantity, which tells us the average amount of photons in the final state, is proportional to the energy of the photonic system.\n\nThe aim of this tutorial is to optimize the circuit parameters $(\\alpha, \\phi)$\nsuch that the mean photon number is equal to one. The rotation gate is actually a\n*passive transformation*, meaning that it does not change the energy of the system.\nThe displacement gate is an *active transformation*, which modifies the energy of the\nphotonic system.\n\n"
      ]
    },
    {
      "cell_type": "markdown",
      "metadata": {},
      "source": [
        "Constructing the QNode\n----------------------\n\nAs before, we import PennyLane, as well as the wrapped version of NumPy provided\nby PennyLane:\n\n"
      ]
    },
    {
      "cell_type": "code",
      "execution_count": null,
      "metadata": {
        "collapsed": false
      },
      "outputs": [],
      "source": [
        "import pennylane as qml\nfrom pennylane import numpy as np"
      ]
    },
    {
      "cell_type": "markdown",
      "metadata": {},
      "source": [
        "Next, we instantiate a device which will be used to evaluate the circuit.\nBecause our circuit contains only Gaussian operations, we can make use of the\nbuilt-in ``default.gaussian`` device.\n\n"
      ]
    },
    {
      "cell_type": "code",
      "execution_count": null,
      "metadata": {
        "collapsed": false
      },
      "outputs": [],
      "source": [
        "dev_gaussian = qml.device(\"default.gaussian\", wires=1)"
      ]
    },
    {
      "cell_type": "markdown",
      "metadata": {},
      "source": [
        "After initializing the device, we can construct our quantum node. As before, we use the\n:mod:`qnode decorator <pennylane.decorator>` to convert our quantum function\n(encoded by the circuit above) into a quantum node running on the ``default.gaussian``\ndevice.\n\n"
      ]
    },
    {
      "cell_type": "code",
      "execution_count": null,
      "metadata": {
        "collapsed": false
      },
      "outputs": [],
      "source": [
        "@qml.qnode(dev_gaussian)\ndef mean_photon_gaussian(mag_alpha, phase_alpha, phi):\n    qml.Displacement(mag_alpha, phase_alpha, wires=0)\n    qml.Rotation(phi, wires=0)\n    return qml.expval(qml.NumberOperator(0))"
      ]
    },
    {
      "cell_type": "markdown",
      "metadata": {},
      "source": [
        "Notice that we have broken up the complex number $\\alpha$ into two real\nnumbers ``mag_alpha`` and ``phase_alpha``, which form a polar representation of\n$\\alpha$. This is so that the notion of a gradient is clear and well-defined.\n\n"
      ]
    },
    {
      "cell_type": "markdown",
      "metadata": {},
      "source": [
        "Optimization\n------------\n\nAs in the `qubit rotation <qubit_rotation>` tutorial, let's now use one\nof the built-in PennyLane optimizers in order to optimize the quantum circuit\ntowards the desired output. We want the mean photon number to be exactly one,\nso we will use a squared-difference cost function:\n\n"
      ]
    },
    {
      "cell_type": "code",
      "execution_count": null,
      "metadata": {
        "collapsed": false
      },
      "outputs": [],
      "source": [
        "def cost(params):\n    return (mean_photon_gaussian(params[0], params[1], params[2]) - 1.0) ** 2"
      ]
    },
    {
      "cell_type": "markdown",
      "metadata": {},
      "source": [
        "At the beginning of the optimization, we choose arbitrary small initial parameters:\n\n"
      ]
    },
    {
      "cell_type": "code",
      "execution_count": null,
      "metadata": {
        "collapsed": false
      },
      "outputs": [],
      "source": [
        "init_params = [0.015, 0.02, 0.005]\nprint(cost(init_params))"
      ]
    },
    {
      "cell_type": "markdown",
      "metadata": {},
      "source": [
        "When the gate parameters are near to zero, the gates are close to the\nidentity transformation, which leaves the initial state largely unchanged.\nSince the initial state contains no photons, the mean photon number of the\ncircuit output is approximately zero, and the cost is close to one.\n\n"
      ]
    },
    {
      "cell_type": "markdown",
      "metadata": {},
      "source": [
        "<div class=\"alert alert-info\"><h4>Note</h4><p>We avoided initial parameters which are exactly zero because that\n    corresponds to a critical point with zero gradient.</p></div>\n\nNow, let's use the :class:`~.GradientDescentOptimizer`, and update the circuit\nparameters over 100 optimization steps.\n\n"
      ]
    },
    {
      "cell_type": "code",
      "execution_count": null,
      "metadata": {
        "collapsed": false
      },
      "outputs": [],
      "source": [
        "# initialise the optimizer\nopt = qml.GradientDescentOptimizer(stepsize=0.1)\n\n# set the number of steps\nsteps = 20\n# set the initial parameter values\nparams = init_params\n\nfor i in range(steps):\n    # update the circuit parameters\n    params = opt.step(cost, params)\n\n    print(\"Cost after step {:5d}: {:8f}\".format(i + 1, cost(params)))\n\nprint(\"Optimized mag_alpha:{:8f}\".format(params[0]))\nprint(\"Optimized phase_alpha:{:8f}\".format(params[1]))\nprint(\"Optimized phi:{:8f}\".format(params[2]))"
      ]
    },
    {
      "cell_type": "markdown",
      "metadata": {},
      "source": [
        "The optimization converges after about 20 steps to a cost function value\nof zero.\n\nWe observe that the two angular parameters ``phase_alpha`` and ``phi``\ndo not change during the optimization. Only the magnitude of the complex\ndisplacement $|\\alpha|$ affects the mean photon number of the circuit.\n\nContinue on to the next tutorial, `plugins_hybrid`, to learn how to\nutilize the extensive plugin ecosystem of PennyLane,\nbuild continuous-variable (CV) quantum nodes, and to see an example of a\nhybrid qubit-CV-classical computation using PennyLane.\n\n"
      ]
    }
  ],
  "metadata": {
    "kernelspec": {
      "display_name": "Python 3",
      "language": "python",
      "name": "python3"
    },
    "language_info": {
      "codemirror_mode": {
        "name": "ipython",
        "version": 3
      },
      "file_extension": ".py",
      "mimetype": "text/x-python",
      "name": "python",
      "nbconvert_exporter": "python",
      "pygments_lexer": "ipython3",
      "version": "3.6.7"
    }
  },
  "nbformat": 4,
  "nbformat_minor": 0
}