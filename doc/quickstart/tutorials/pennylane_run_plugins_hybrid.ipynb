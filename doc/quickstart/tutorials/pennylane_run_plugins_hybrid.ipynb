{
  "cells": [
    {
      "cell_type": "code",
      "execution_count": null,
      "metadata": {
        "collapsed": false
      },
      "outputs": [],
      "source": [
        "%matplotlib inline"
      ]
    },
    {
      "cell_type": "markdown",
      "metadata": {},
      "source": [
        "\n\nPlugins and Hybrid computation\n==============================\n\nThis tutorial introduces the notion of hybrid computation by combining several PennyLane\nplugins. We first introduce PennyLane's `Strawberry Fields plugin <https://pennylane-sf.readthedocs.io>`_\nand use it to explore a non-Gaussian photonic circuit. We then combine this photonic circuit with a\nqubit circuit \u2014 along with some classical processing \u2014 to create and optimize a fully hybrid computation.\nBe sure to read through the introductory `qubit rotation <qubit_rotation>` and\n`Gaussian transformation <gaussian_transformation>` tutorials before attempting this tutorial.\n\n<div class=\"alert alert-info\"><h4>Note</h4><p>To follow along with this tutorial on your own computer, you will require the\n    `PennyLane-SF plugin <https://pennylane-sf.readthedocs.io>`_, in order to access the\n    `Strawberry Fields <https://strawberryfields.readthedocs.io>`_ Fock backend using\n    PennyLane. It can be installed via pip:\n\n    .. code-block:: bash\n\n        pip install pennylane-sf</p></div>\n\n\n\nA non-Gaussian circuit\n----------------------\n\nWe first consider a photonic circuit which is similar in spirit to the\n`qubit rotation <qubit_rotation>` circuit:\n\n.. figure:: ../../examples/figures/photon_redirection.png\n    :align: center\n    :width: 30%\n    :target: javascript:void(0);\n\nBreaking this down, step-by-step:\n\n1. **We start the computation with two qumode subsystems**. In PennyLane, we use the\n   shorthand 'wires' to refer to quantum subsystems, whether they are qumodes, qubits, or\n   any other kind of quantum register.\n\n2. **Prepare the state** $\\left|1,0\\right\\rangle$. That is, the first wire (wire 0) is prepared\n   in a single-photon state, while the second\n   wire (wire 1) is prepared in the vacuum state. The former state is non-Gaussian,\n   necessitating the use of the ``'strawberryfields.fock'`` backend device.\n\n3. **Both wires are then incident on a beamsplitter**, with free parameters $\\theta$and $\\phi$.\n   Here, we have the convention that the beamsplitter transmission amplitude is $t=\\cos\\theta$,\n   and the reflection amplitude is\n   $r=e^{i\\phi}\\sin\\theta$. See `operations` for a full list of operation conventions.\n\n4. **Finally, we measure the mean photon number** $\\left\\langle \\hat{n}\\right\\rangle$ of the second wire, where\n\n   .. math:: \\hat{n} = \\ad\\a\n\n   is the number operator, acting on the Fock basis number states, such that $\\hat{n}\\left|n\\right\\rangle = n\\left|n\\right\\rangle$.\n\nThe aim of this tutorial is to optimize the beamsplitter parameters $(\\theta, \\phi)$ such\nthat the expected photon number of the second wire is **maximized**. Since the beamsplitter\nis a passive optical element that preserves the total photon number, this to the output\nstate $\\left|0,1\\right\\rangle$ \u2014 i.e., when the incident photon from the first wire has been\n'redirected' to the second wire.\n\n\nExact calculation\n~~~~~~~~~~~~~~~~~\n\nTo compare with later numerical results, we can first consider what happens analytically.\nThe initial state of the circuit is $\\left|\\psi_0\\right\\rangle=\\left|1,0\\right\\rangle$, and the output state\nof the system is of the form $\\left|\\psi\\right\\rangle = a\\left|1, 0\\right\\rangle + b\\left|0,1\\right\\rangle$, where\n$|a|^2+|b|^2=1$. We may thus write the output state as a vector in this\ncomputational basis, $\\left|\\psi\\right\\rangle = \\begin{bmatrix}a & b\\end{bmatrix}^T$.\n\nThe beamsplitter acts on this two-dimensional subspace as follows:\n\n\\begin{align}\\left|\\psi\\right\\rangle = B(\\theta, \\phi)\\left|1, 0\\right\\rangle = \\begin{bmatrix}\n        \\cos\\theta & -e^{-i\\phi}\\sin\\theta\\\\\n        e^{i\\phi}\\sin\\theta & \\cos\\theta\n    \\end{bmatrix}\\begin{bmatrix} 1\\\\ 0\\end{bmatrix} = \\begin{bmatrix}\n        \\cos\\theta\\\\\n        e^{i\\phi} \\sin\\theta\n    \\end{bmatrix}\\end{align}\n\nFurthermore, the mean photon number of the second wire is\n\n\\begin{align}\\left\\langle{\\hat{n}_1}\\right\\rangle = \\langle{\\psi}\\mid{\\hat{n}_1}\\mid{\\psi}\\rangle = |e^{i\\phi} \\sin\\theta|^2\n    \\langle{0,1}\\mid{\\hat{n}_1}\\mid{0,1}\\rangle = \\sin^2 \\theta.\\end{align}\n\nTherefore, we can see that:\n\n1. $0\\leq \\left\\langle \\hat{n}_1\\right\\rangle\\leq 1$: the output of the quantum circuit is\n   bound between 0 and 1;\n\n2. $\\frac{\\partial}{\\partial \\phi} \\left\\langle \\hat{n}_1\\right\\rangle=0$: the output of the\n   quantum circuit is independent of the beamsplitter phase $\\phi$;\n\n3. The output of the quantum circuit above is maximised when $\\theta=(2m+1)\\pi/2$\n   for $m\\in\\mathbb{Z}_0$.\n\n"
      ]
    },
    {
      "cell_type": "markdown",
      "metadata": {},
      "source": [
        "Loading the plugin device\n-------------------------\n\nWhile PennyLane provides a basic qubit simulator (``'default.qubit'``) and a basic CV\nGaussian simulator (``'default.gaussian'``), the true power of PennyLane comes from its\n`plugin ecosystem <plugins>`, allowing quantum computations to be run on a variety\nof quantum simulator and hardware devices.\n\nFor this circuit, we will be using the ``'strawberryfields.fock'`` device to construct\na QNode. This allows the underlying quantum computation to be performed using the\n`Strawberry Fields <https://strawberryfields.readthedocs.io>`_ Fock backend.\n\nAs usual, we begin by importing PennyLane and the wrapped version of NumPy provided by PennyLane:\n\n"
      ]
    },
    {
      "cell_type": "code",
      "execution_count": null,
      "metadata": {
        "collapsed": false
      },
      "outputs": [],
      "source": [
        "import pennylane as qml\nfrom pennylane import numpy as np"
      ]
    },
    {
      "cell_type": "markdown",
      "metadata": {},
      "source": [
        "Next, we create a device to run the quantum node. This is easy in PennyLane; as soon as\nthe PennyLane-SF plugin is installed, the ``'strawberryfields.fock'`` device can be loaded\n\u2014 no additional commands or library imports required.\n\n"
      ]
    },
    {
      "cell_type": "code",
      "execution_count": null,
      "metadata": {
        "collapsed": false
      },
      "outputs": [],
      "source": [
        "dev_fock = qml.device(\"strawberryfields.fock\", wires=2, cutoff_dim=2)"
      ]
    },
    {
      "cell_type": "markdown",
      "metadata": {},
      "source": [
        "Compared to the default devices provided with PennyLane, the ``'strawberryfields.fock'``\ndevice requires the additional keyword argument:\n\n* ``cutoff_dim``: the Fock space truncation used to perform the quantum simulation\n\n<div class=\"alert alert-info\"><h4>Note</h4><p>Devices provided by external plugins may require additional arguments and keyword arguments\n    \u2014 consult the plugin documentation for more details.</p></div>\n\n"
      ]
    },
    {
      "cell_type": "markdown",
      "metadata": {},
      "source": [
        "Constructing the QNode\n----------------------\n\nNow that we have initialized the device, we can construct our quantum node. Like\nthe other tutorials, we use the :mod:`qnode decorator <pennylane.decorator>`\nto convert our quantum function (encoded by the circuit above) into a quantum node\nrunning on Strawberry Fields.\n\n"
      ]
    },
    {
      "cell_type": "code",
      "execution_count": null,
      "metadata": {
        "collapsed": false
      },
      "outputs": [],
      "source": [
        "@qml.qnode(dev_fock)\ndef photon_redirection(params):\n    qml.FockState(1, wires=0)\n    qml.Beamsplitter(params[0], params[1], wires=[0, 1])\n    return qml.expval(qml.NumberOperator(1))"
      ]
    },
    {
      "cell_type": "markdown",
      "metadata": {},
      "source": [
        "The ``'strawberryfields.fock'`` device supports all CV objects provided by PennyLane;\nsee `CV operations <cv_ops>`.\n\n"
      ]
    },
    {
      "cell_type": "markdown",
      "metadata": {},
      "source": [
        "Optimization\n------------\n\nLet's now use one of the built-in PennyLane optimizers in order to\ncarry out photon redirection. Since we wish to maximize the mean photon number of\nthe second wire, we can define our cost function to minimize the *negative* of the circuit output.\n\n"
      ]
    },
    {
      "cell_type": "code",
      "execution_count": null,
      "metadata": {
        "collapsed": false
      },
      "outputs": [],
      "source": [
        "def cost(params):\n    return -photon_redirection(params)"
      ]
    },
    {
      "cell_type": "markdown",
      "metadata": {},
      "source": [
        "To begin our optimization, let's choose the following small initial values of\n$\\theta$ and $\\phi$:\n\n"
      ]
    },
    {
      "cell_type": "code",
      "execution_count": null,
      "metadata": {
        "collapsed": false
      },
      "outputs": [],
      "source": [
        "init_params = np.array([0.01, 0.01])\nprint(cost(init_params))"
      ]
    },
    {
      "cell_type": "markdown",
      "metadata": {},
      "source": [
        "Here, we choose the values of $\\theta$ and $\\phi$ to be very close to zero;\nthis results in $B(\\theta,\\phi)\\approx I$, and the output of the quantum\ncircuit will be very close to $\\left|1, 0\\right\\rangle$ \u2014 i.e., the circuit leaves the photon in the first mode.\n\nWhy don't we choose $\\theta=0$ and $\\phi=0$?\n\nAt this point in the parameter space, $\\left\\langle \\hat{n}_1\\right\\rangle = 0$, and\n$\\frac{d}{d\\theta}\\left\\langle{\\hat{n}_1}\\right\\rangle|_{\\theta=0}=2\\sin\\theta\\cos\\theta|_{\\theta=0}=0$.\nSince the gradient is zero at those initial parameter values, the optimization\nalgorithm would never descend from the maximum.\n\nThis can also be verified directly using PennyLane:\n\n"
      ]
    },
    {
      "cell_type": "code",
      "execution_count": null,
      "metadata": {
        "collapsed": false
      },
      "outputs": [],
      "source": [
        "dphoton_redirection = qml.grad(photon_redirection, argnum=0)\nprint(dphoton_redirection([0.0, 0.0]))"
      ]
    },
    {
      "cell_type": "markdown",
      "metadata": {},
      "source": [
        "Now, let's use the :class:`~.GradientDescentOptimizer`, and update the circuit\nparameters over 100 optimization steps.\n\n"
      ]
    },
    {
      "cell_type": "code",
      "execution_count": null,
      "metadata": {
        "collapsed": false
      },
      "outputs": [],
      "source": [
        "# initialise the optimizer\nopt = qml.GradientDescentOptimizer(stepsize=0.4)\n\n# set the number of steps\nsteps = 100\n# set the initial parameter values\nparams = init_params\n\nfor i in range(steps):\n    # update the circuit parameters\n    params = opt.step(cost, params)\n\n    if (i + 1) % 5 == 0:\n        print(\"Cost after step {:5d}: {: .7f}\".format(i + 1, cost(params)))\n\nprint(\"Optimized rotation angles: {}\".format(params))"
      ]
    },
    {
      "cell_type": "markdown",
      "metadata": {},
      "source": [
        "Comparing this to the `exact calculation <photon_redirection_calc>` above,\nthis is close to the optimum value of $\\theta=\\pi/2$, while the value of\n$\\phi$ has not changed \u2014 consistent with the fact that $\\left\\langle \\hat{n}_1\\right\\rangle$\nis independent of $\\phi$.\n\n\nHybrid computation\n------------------\n\nTo really highlight the capabilities of PennyLane, let's now combine the qubit-rotation QNode\nfrom the `qubit rotation tutorial <qubit_rotation>` with the CV photon-redirection\nQNode from above, as well as some classical processing, to produce a truly hybrid\ncomputational model.\n\nFirst, we define a computation consisting of three steps: two quantum nodes (the qubit rotation\nand photon redirection circuits, running on the ``'default.qubit'`` and\n``'strawberryfields.fock'`` devices, respectively), along with a classical function, that simply\nreturns the squared difference of its two inputs using NumPy:\n\n"
      ]
    },
    {
      "cell_type": "code",
      "execution_count": null,
      "metadata": {
        "collapsed": false
      },
      "outputs": [],
      "source": [
        "# create the devices\ndev_qubit = qml.device(\"default.qubit\", wires=1)\ndev_fock = qml.device(\"strawberryfields.fock\", wires=2, cutoff_dim=10)\n\n\n@qml.qnode(dev_qubit)\ndef qubit_rotation(phi1, phi2):\n    \"\"\"Qubit rotation QNode\"\"\"\n    qml.RX(phi1, wires=0)\n    qml.RY(phi2, wires=0)\n    return qml.expval(qml.PauliZ(0))\n\n\n@qml.qnode(dev_fock)\ndef photon_redirection(params):\n    \"\"\"The photon redirection QNode\"\"\"\n    qml.FockState(1, wires=0)\n    qml.Beamsplitter(params[0], params[1], wires=[0, 1])\n    return qml.expval(qml.NumberOperator(1))\n\n\ndef squared_difference(x, y):\n    \"\"\"Classical node to compute the squared\n    difference between two inputs\"\"\"\n    return np.abs(x - y) ** 2"
      ]
    },
    {
      "cell_type": "markdown",
      "metadata": {},
      "source": [
        "Now, we can define an objective function associated with the optimization, linking together\nour three subcomponents. Here, we wish to\nperform the following hybrid quantum-classical optimization:\n\n.. figure:: ../../examples/figures/hybrid_graph.png\n    :align: center\n    :width: 70%\n    :target: javascript:void(0);\n\n1. The qubit-rotation circuit will contain fixed rotation angles $\\phi_1$ and $\\phi_2$.\n\n2. The photon-redirection circuit will contain two free parameters, the beamsplitter angles\n   $\\theta$ and $\\phi$, which are to be optimized.\n\n3. The outputs of both QNodes will then be fed into the classical node, returning the\n   squared difference of the two quantum functions.\n\n4. Finally, the optimizer will calculate the gradient of the entire computation with\n   respect to the free parameters $\\theta$ and $\\phi$, and update their values.\n\nIn essence, we are optimizing the photon-redirection circuit to return the **same expectation value**\nas the qubit-rotation circuit, even though they are two completely independent quantum systems.\n\nWe can translate this computational graph to the following function, which combines the three\nnodes into a single hybrid computation. Below, we choose default values\n$\\phi_1=0.5$, $\\phi_2=0.1$:\n\n"
      ]
    },
    {
      "cell_type": "code",
      "execution_count": null,
      "metadata": {
        "collapsed": false
      },
      "outputs": [],
      "source": [
        "def cost(params, phi1=0.5, phi2=0.1):\n    \"\"\"Returns the squared difference between\n    the photon-redirection and qubit-rotation QNodes, for\n    fixed values of the qubit rotation angles phi1 and phi2\"\"\"\n    qubit_result = qubit_rotation(phi1, phi2)\n    photon_result = photon_redirection(params)\n    return squared_difference(qubit_result, photon_result)"
      ]
    },
    {
      "cell_type": "markdown",
      "metadata": {},
      "source": [
        "Now, we use the built-in :class:`~.GradientDescentOptimizer` to perform the optimization\nfor 100 steps. As before, we choose initial beamsplitter parameters of\n$\\theta=0.01$, $\\phi=0.01$.\n\n"
      ]
    },
    {
      "cell_type": "code",
      "execution_count": null,
      "metadata": {
        "collapsed": false
      },
      "outputs": [],
      "source": [
        "# initialise the optimizer\nopt = qml.GradientDescentOptimizer(stepsize=0.4)\n\n# set the number of steps\nsteps = 100\n# set the initial parameter values\nparams = np.array([0.01, 0.01])\n\nfor i in range(steps):\n    # update the circuit parameters\n    params = opt.step(cost, params)\n\n    if (i + 1) % 5 == 0:\n        print(\"Cost after step {:5d}: {: .7f}\".format(i + 1, cost(params)))\n\nprint(\"Optimized rotation angles: {}\".format(params))"
      ]
    },
    {
      "cell_type": "markdown",
      "metadata": {},
      "source": [
        "Substituting this into the photon redirection QNode shows that it now produces\nthe same output as the qubit rotation QNode:\n\n"
      ]
    },
    {
      "cell_type": "code",
      "execution_count": null,
      "metadata": {
        "collapsed": false
      },
      "outputs": [],
      "source": [
        "result = [1.20671364, 0.01]\nprint(photon_redirection(result))\nprint(qubit_rotation(0.5, 0.1))"
      ]
    },
    {
      "cell_type": "markdown",
      "metadata": {},
      "source": [
        "This is just a simple example of the kind of hybrid computation that can be carried\nout in PennyLane. Quantum nodes (bound to different devices) and classical\nfunctions can be combined in many different and interesting ways.\n\n"
      ]
    }
  ],
  "metadata": {
    "kernelspec": {
      "display_name": "Python 3",
      "language": "python",
      "name": "python3"
    },
    "language_info": {
      "codemirror_mode": {
        "name": "ipython",
        "version": 3
      },
      "file_extension": ".py",
      "mimetype": "text/x-python",
      "name": "python",
      "nbconvert_exporter": "python",
      "pygments_lexer": "ipython3",
      "version": "3.6.7"
    }
  },
  "nbformat": 4,
  "nbformat_minor": 0
}