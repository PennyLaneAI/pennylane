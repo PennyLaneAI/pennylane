{
  "cells": [
    {
      "cell_type": "code",
      "execution_count": null,
      "metadata": {
        "collapsed": false
      },
      "outputs": [],
      "source": [
        "%matplotlib inline"
      ]
    },
    {
      "cell_type": "markdown",
      "metadata": {},
      "source": [
        "\n\nState preparation tutorial\n==========================\n\nIn this notebook, we build and optimize a circuit to prepare arbitrary\nsingle-qubit states, including mixed states. Along the way, we also show\nhow to:\n\n1. Construct compact expressions for circuits composed of many layers.\n2. Succintly evaluate expectation values of many observables.\n3. Estimate expectation values from repeated measurements, as in real\n   hardware.\n\n"
      ]
    },
    {
      "cell_type": "markdown",
      "metadata": {},
      "source": [
        "The most general state of a qubit is represented in terms of a positive\nsemi-definite density matrix $\\rho$ with unit trace. The density\nmatrix can be uniquely described in terms of its three-dimensional\n*Bloch vector* $\\vec{a}=(a_x, a_y, a_z)$ as:\n\n\\begin{align}\\rho=\\frac{1}{2}(\\mathbb{1}+a_x\\sigma_x+a_y\\sigma_y+a_z\\sigma_z),\\end{align}\n\nwhere $\\sigma_x, \\sigma_y, \\sigma_z$ are the Pauli matrices. Any\nBloch vector corresponds to a valid density matrix as long as\n$\\|\\vec{a}\\|\\leq 1$.\n\nThe *purity* of a state is defined as $p=\\text{Tr}(\\rho^2)$, which\nfor a qubit is bounded as $1/2\\leq p\\geq 1$. The state is pure if\n$p=1$ and maximally mixed if $p=1/2$. In this example, we\nselect the target state by choosing a random Bloch vector and\nrenormalizing it to have a specified purity.\n\n"
      ]
    },
    {
      "cell_type": "code",
      "execution_count": null,
      "metadata": {
        "collapsed": false
      },
      "outputs": [],
      "source": [
        "import pennylane as qml\nfrom pennylane import numpy as np\n\n# we generate a three-dimensional random vector by sampling\n# each entry from a standard normal distribution\nv = np.random.normal(0, 1, 3)\n\n# purity of the target state\npurity = 0.66\n\n# create a random Bloch vector with the specified purity\nbloch_v = np.sqrt(2 * purity - 1) * v / np.sqrt(np.sum(v ** 2))\n\n# array of Pauli matrices (will be useful later)\nPaulis = np.zeros((3, 2, 2), dtype=complex)\nPaulis[0] = [[0, 1], [1, 0]]\nPaulis[1] = [[0, -1j], [1j, 0]]\nPaulis[2] = [[1, 0], [0, -1]]"
      ]
    },
    {
      "cell_type": "markdown",
      "metadata": {},
      "source": [
        "Unitary operations map pure states to pure states. So how can we prepare\nmixed states using unitary circuits? The trick is to introduce\nadditional qubits and perform a unitary transformation on this larger\nsystem. By \"tracing out\" the ancilla qubits, we can prepare mixed states\nin the target register. In this example, we introduce two additional\nqubits, which suffices to prepare arbitrary states.\n\nThe ansatz circuit is composed of repeated layers, each of which\nconsists of single-qubit rotations along the $x, y,$ and $z$\naxes, followed by three CNOT gates entangling all qubits. Initial gate\nparameters are chosen at random from a normal distribution. Importantly,\nwhen declaring the layer function, we introduce an input parameter\n$j$, which allows us to later call each layer individually.\n\n"
      ]
    },
    {
      "cell_type": "code",
      "execution_count": null,
      "metadata": {
        "collapsed": false
      },
      "outputs": [],
      "source": [
        "# number of qubits in the circuit\nnr_qubits = 3\n# number of layers in the circuit\nnr_layers = 2\n\n# randomly initialize parameteres from a normal distribution\nparams = np.random.normal(0, np.pi, (nr_qubits, nr_layers, 3))\n\n# a layer of the circuit ansatz\ndef layer(params, j):\n    for i in range(nr_qubits):\n        qml.RX(params[i, j, 0], wires=i)\n        qml.RY(params[i, j, 1], wires=i)\n        qml.RZ(params[i, j, 2], wires=i)\n\n    qml.CNOT(wires=[0, 1])\n    qml.CNOT(wires=[0, 2])\n    qml.CNOT(wires=[1, 2])"
      ]
    },
    {
      "cell_type": "markdown",
      "metadata": {},
      "source": [
        "To set up the device, we select a plugin that is compatible with\nevaluating expectations through sampling: the ``forest.qvm`` plugin. The\nsyntax is slightly different than for other plugins, we need to also\nfeed a ``device`` keyword specifying the number of qubits in the format\n``[number of qubits]q-pyqvm``. The keyword ``shots`` indicates the\nnumber of samples used to estimate expectation values.\n\n\n"
      ]
    },
    {
      "cell_type": "code",
      "execution_count": null,
      "metadata": {
        "collapsed": false
      },
      "outputs": [],
      "source": [
        "dev = qml.device(\"forest.qvm\", device=\"3q-pyqvm\", shots=1000)"
      ]
    },
    {
      "cell_type": "markdown",
      "metadata": {},
      "source": [
        "When defining the qnode, we introduce as input a Hermitian operator\n$A$ that specifies the expectation value being evaluated. This\nchoice later allows us to easily evaluate several expectation values\nwithout having to define a new qnode each time.\n\n"
      ]
    },
    {
      "cell_type": "code",
      "execution_count": null,
      "metadata": {
        "collapsed": false
      },
      "outputs": [],
      "source": [
        "@qml.qnode(dev)\ndef circuit(params, A=None):\n\n    # repeatedly apply each layer in the circuit\n    for j in range(nr_layers):\n        layer(params, j)\n\n    # returns the expectation of the input matrix A on the first qubit\n    return qml.expval(qml.Hermitian(A, wires=0))"
      ]
    },
    {
      "cell_type": "markdown",
      "metadata": {},
      "source": [
        "Our goal is to prepare a state with the same Bloch vector as the target\nstate. Therefore, we define a simple cost function\n\n\\begin{align}C = \\sum_{i=1}^3 \\left|a_i-a'_i\\right|,\\end{align}\n\nwhere $\\vec{a}=(a_1, a_2, a_3)$ is the target vector and\n$\\vec{a}'=(a'_1, a'_2, a'_3)$ is the vector of the state prepared\nby the circuit. Optimization is carried out using the Adam optimizer.\nFinally, we compare the Bloch vectors of the target and output state.\n\n"
      ]
    },
    {
      "cell_type": "code",
      "execution_count": null,
      "metadata": {
        "collapsed": false
      },
      "outputs": [],
      "source": [
        "# cost function\ndef cost_fn(params):\n    cost = 0\n    for k in range(3):\n        cost += np.abs(circuit(params, A=Paulis[k]) - bloch_v[k])\n\n    return cost\n\n# set up the optimizer\nopt = qml.AdamOptimizer()\n\n# number of steps in the optimization routine\nsteps = 200\n\n# the final stage of optimization isn't always the best, so we keep track of\n# the best parameters along the way\nbest_cost = cost_fn(params)\nbest_params = np.zeros((nr_qubits, nr_layers, 3))\n\nprint(\"Cost after 0 steps is {:.4f}\".format(cost_fn(params)))\n\n# optimization begins\nfor n in range(steps):\n    params = opt.step(cost_fn, params)\n    current_cost = cost_fn(params)\n\n    # keeps track of best parameters\n    if current_cost < best_cost:\n        best_params = params\n\n    # Keep track of progress every 10 steps\n    if n % 10 == 9 or n == steps - 1:\n        print(\"Cost after {} steps is {:.4f}\".format(n + 1, current_cost))\n\n# calculate the Bloch vector of the output state\noutput_bloch_v = np.zeros(3)\nfor l in range(3):\n    output_bloch_v[l] = circuit(best_params, A=Paulis[l])\n\n# print results\nprint(\"Target Bloch vector = \", bloch_v)\nprint(\"Output Bloch vector = \", output_bloch_v)"
      ]
    }
  ],
  "metadata": {
    "kernelspec": {
      "display_name": "Python 3",
      "language": "python",
      "name": "python3"
    },
    "language_info": {
      "codemirror_mode": {
        "name": "ipython",
        "version": 3
      },
      "file_extension": ".py",
      "mimetype": "text/x-python",
      "name": "python",
      "nbconvert_exporter": "python",
      "pygments_lexer": "ipython3",
      "version": "3.6.7"
    }
  },
  "nbformat": 4,
  "nbformat_minor": 0
}