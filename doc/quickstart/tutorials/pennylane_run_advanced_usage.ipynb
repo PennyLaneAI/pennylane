{
  "cells": [
    {
      "cell_type": "code",
      "execution_count": null,
      "metadata": {
        "collapsed": false
      },
      "outputs": [],
      "source": [
        "%matplotlib inline"
      ]
    },
    {
      "cell_type": "markdown",
      "metadata": {},
      "source": [
        "\n\n\nAdvanced Usage\n==============\n\nIn the previous three introductory tutorials (`qubit rotation <qubit_rotation>`,\n`Gaussian transformation <gaussian_transformation>`, and\n`plugins & hybrid computation <plugins_hybrid>`) we explored the basic concepts of\nPennyLane, including qubit- and CV-model quantum computations, gradient-based optimization,\nand the construction of hybrid classical-quantum computations.\n\nIn this tutorial, we will highlight some of the more advanced features of Pennylane.\n\n"
      ]
    },
    {
      "cell_type": "markdown",
      "metadata": {},
      "source": [
        "Multiple measurements\n---------------------\n\nIn all the previous examples, we considered quantum functions with only single expectation values.\nIn fact, PennyLane supports the return of multiple measurements, up to one per wire.\n\nAs usual, we begin by importing PennyLane and the PennyLane-provided version of NumPy, and\nset up a 2-wire qubit device for computations:\n\n"
      ]
    },
    {
      "cell_type": "code",
      "execution_count": null,
      "metadata": {
        "collapsed": false
      },
      "outputs": [],
      "source": [
        "import pennylane as qml\nfrom pennylane import numpy as np\n\ndev = qml.device(\"default.qubit\", wires=2)"
      ]
    },
    {
      "cell_type": "markdown",
      "metadata": {},
      "source": [
        "We will start with a simple example circuit, which generates a two-qubit entangled state,\nthen evaluates the expectation value of the Pauli Z operator on each wire.\n\n"
      ]
    },
    {
      "cell_type": "code",
      "execution_count": null,
      "metadata": {
        "collapsed": false
      },
      "outputs": [],
      "source": [
        "@qml.qnode(dev)\ndef circuit1(param):\n    qml.RX(param, wires=0)\n    qml.CNOT(wires=[0, 1])\n    return qml.expval(qml.PauliZ(0)), qml.expval(qml.PauliZ(1))"
      ]
    },
    {
      "cell_type": "markdown",
      "metadata": {},
      "source": [
        "The degree of entanglement of the qubits is determined by the value of ``param``. For a value of\n$\\frac{\\pi}{2}$, they are maximally entangled. In this case, the reduced states on each\nsubsystem are completely mixed, and local expectation values \u2014 like those we are measuring \u2014\nwill average to zero.\n\n"
      ]
    },
    {
      "cell_type": "code",
      "execution_count": null,
      "metadata": {
        "collapsed": false
      },
      "outputs": [],
      "source": [
        "print(circuit1(np.pi / 2))"
      ]
    },
    {
      "cell_type": "markdown",
      "metadata": {},
      "source": [
        "Notice that the output of the circuit is a NumPy array with ``shape=(2,)``, i.e., a two-dimensional\nvector. These two dimensions match the number of expectation values returned in our quantum\nfunction ``circuit1``.\n\n<div class=\"alert alert-info\"><h4>Note</h4><p>It is important to emphasize that the expectation values in ``circuit`` are both **local**,\n    i.e., this circuit is evaluating $\\left\\langle \\sigma_z\\right\\rangle_0$ and $\\left\\langle \\sigma_z\\right\\rangle_1$,\n    not $\\left\\langle \\sigma_z\\otimes \\sigma_z\\right\\rangle_{01}$ (where the subscript denotes which wires the\n    observable is located on).</p></div>\n\nWe may even mix different return types, for example expectation values and variances:\n\n"
      ]
    },
    {
      "cell_type": "code",
      "execution_count": null,
      "metadata": {
        "collapsed": false
      },
      "outputs": [],
      "source": [
        "@qml.qnode(dev)\ndef circuit1(param):\n    qml.RX(param, wires=0)\n    qml.CNOT(wires=[0, 1])\n    return qml.expval(qml.PauliZ(0)), qml.var(qml.PauliZ(1))"
      ]
    },
    {
      "cell_type": "markdown",
      "metadata": {},
      "source": [
        "Keyword arguments\n-----------------\n\nWhile automatic differentiation is a handy feature, sometimes we want certain parts of our\ncomputational pipeline (e.g., the inputs $x$ to a parameterized quantum function\n$f(x;\\bf{\\theta})$ or the training data for a machine learning model) to not be\ndifferentiated.\n\nPennyLane uses the pattern that *all positional arguments to quantum functions are available\nto be differentiated*, while *keyword arguments are never differentiated*. Thus, when using the\ngradient-descent-based `optimizers <optimization_methods>` included in PennyLane, all\nnumerical parameters appearing in non-keyword arguments will be updated, while all numerical\nvalues included as keyword arguments will not be updated.\n\n<div class=\"alert alert-info\"><h4>Note</h4><p>When constructing the circuit, keyword arguments are defined by providing a\n    **default value** in the function signature. If you would prefer that the keyword argument\n    value be passed every time the quantum circuit function is called, the default value\n    can be set to ``None``.</p></div>\n\nFor example, let's create a quantum node that accepts two arguments; a differentiable\ncircuit parameter ``param``, and a fixed circuit parameter ``fixed``:\n\n"
      ]
    },
    {
      "cell_type": "code",
      "execution_count": null,
      "metadata": {
        "collapsed": false
      },
      "outputs": [],
      "source": [
        "@qml.qnode(dev)\ndef circuit3(param, fixed=None):\n    qml.RX(fixed, wires=0)\n    qml.RX(param, wires=1)\n    qml.CNOT(wires=[0, 1])\n    return qml.expval(qml.PauliZ(0)), qml.expval(qml.PauliZ(1))"
      ]
    },
    {
      "cell_type": "markdown",
      "metadata": {},
      "source": [
        "Calling the circuit, we can feed values to the keyword argument ``fixed``:\n\n"
      ]
    },
    {
      "cell_type": "code",
      "execution_count": null,
      "metadata": {
        "collapsed": false
      },
      "outputs": [],
      "source": [
        "print(circuit3(0.1, fixed=-0.2))\n\nprint(circuit3(0.1, fixed=1.2))"
      ]
    },
    {
      "cell_type": "markdown",
      "metadata": {},
      "source": [
        "Since keyword arguments do not get considered when computing gradients, the\nJacobian will still be a 2-dimensional vector.\n\n"
      ]
    },
    {
      "cell_type": "code",
      "execution_count": null,
      "metadata": {
        "collapsed": false
      },
      "outputs": [],
      "source": [
        "j3 = qml.jacobian(circuit3, argnum=0)\nprint(j3(2.5, fixed=3.2))"
      ]
    },
    {
      "cell_type": "markdown",
      "metadata": {},
      "source": [
        "Once defined, keyword arguments must *always* be passed as keyword arguments. PennyLane does\nnot support passing keyword argument values as positional arguments.\n\nFor example, the following circuit evaluation will correctly update the value of the fixed parameter:\n\n"
      ]
    },
    {
      "cell_type": "code",
      "execution_count": null,
      "metadata": {
        "collapsed": false
      },
      "outputs": [],
      "source": [
        "print(circuit3(0.1, fixed=0.4))"
      ]
    },
    {
      "cell_type": "markdown",
      "metadata": {},
      "source": [
        "However, attempting to pass the fixed parameter as a positional argument will\nnot work, and PennyLane will attempt to use the default value (``None``) instead:\n\n>>> circuit3(0.1, 0.4)\n---------------------------------------------------------------------------\nTypeError                                 Traceback (most recent call last)\n<ipython-input-6-949e31911afa> in <module>()\n----> 1 circuit3(0.1, 0.4)\n~/pennylane/variable.py in val(self)\n    134\n    135         # The variable is a placeholder for a keyword argument\n--> 136         value = self.kwarg_values[self.name][self.idx] * self.mult\n    137         return value\nTypeError: unsupported operand type(s) for *: 'NoneType' and 'int'\n\n"
      ]
    }
  ],
  "metadata": {
    "kernelspec": {
      "display_name": "Python 3",
      "language": "python",
      "name": "python3"
    },
    "language_info": {
      "codemirror_mode": {
        "name": "ipython",
        "version": 3
      },
      "file_extension": ".py",
      "mimetype": "text/x-python",
      "name": "python",
      "nbconvert_exporter": "python",
      "pygments_lexer": "ipython3",
      "version": "3.6.7"
    }
  },
  "nbformat": 4,
  "nbformat_minor": 0
}