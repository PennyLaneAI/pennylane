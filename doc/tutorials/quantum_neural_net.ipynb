{
 "cells": [
  {
   "cell_type": "markdown",
   "metadata": {},
   "source": [
    "# Quantum neural networks"
   ]
  },
  {
   "cell_type": "markdown",
   "metadata": {},
   "source": [
    "In this tutorial, we show how a variational circuit can be used to extrapolate a one- or two-dimensional function when being trained with noisy samples from that function. \n",
    "\n",
    "The variational circuit we use is described in Killoran et al. 2018 ([arXiv 1806.06871](https://arxiv.org/abs/1806.06871)), where it was called a continuous-variable quantum neural network. The name stems from the fact that, with a slight alternation of how to implement the nonlinear"
   ]
  },
  {
   "cell_type": "raw",
   "metadata": {
    "raw_mimetype": "text/restructuredtext"
   },
   "source": [
    ".. note:: This tutorial requires the `OpenQML-SF plugin <https://github.com/XanaduAI/openqml-sf>`_, in order to access the `Strawberry Fields <https://github.com/XanaduAI/strawberryfields>`_ Fock devices using OpenQML. It can be installed via pip: ``pip install openqml-sf``."
   ]
  },
  {
   "cell_type": "markdown",
   "metadata": {},
   "source": [
    "## Function fitting"
   ]
  },
  {
   "cell_type": "markdown",
   "metadata": {},
   "source": [
    "To start with, we execute the standard imports."
   ]
  },
  {
   "cell_type": "code",
   "execution_count": null,
   "metadata": {},
   "outputs": [],
   "source": [
    "import openqml as qm\n",
    "from openqml import numpy as np\n",
    "from openqml.optimize import NesterovMomentumOptimizer"
   ]
  },
  {
   "cell_type": "markdown",
   "metadata": {},
   "source": [
    "The device is again the StrawberryFields simulator, this time with only one quantum mode or \"wire\"."
   ]
  },
  {
   "cell_type": "code",
   "execution_count": 2,
   "metadata": {},
   "outputs": [],
   "source": [
    "dev = qm.device('strawberryfields.fock', wires=1, cutoff_dim=10)"
   ]
  },
  {
   "cell_type": "markdown",
   "metadata": {},
   "source": [
    "### Define the quantum function\n",
    "\n",
    "According to Killoran et al., a single mode layer of the variational circuit is defined as:"
   ]
  },
  {
   "cell_type": "code",
   "execution_count": 3,
   "metadata": {},
   "outputs": [],
   "source": [
    "def layer(w):\n",
    "    \"\"\" Single layer of the continuous-variable quantum neural net.\"\"\"\n",
    "\n",
    "    # Matrix multiplication of input layer\n",
    "    qm.Rotation(w[0], [0])\n",
    "    qm.Squeezing(w[1], 0., [0])\n",
    "    qm.Rotation(w[2], [0])\n",
    "\n",
    "    # Bias\n",
    "    qm.Displacement(w[3], 0., [0])\n",
    "\n",
    "    # Element-wise nonlinear transformation\n",
    "    qm.Kerr(w[4], [0])"
   ]
  },
  {
   "cell_type": "markdown",
   "metadata": {},
   "source": [
    "The variational circuit in the quantum function first encodes the input into the displacement of the mode, and then executes the layers. The output is the expectation of the x-quadrature."
   ]
  },
  {
   "cell_type": "code",
   "execution_count": 5,
   "metadata": {},
   "outputs": [],
   "source": [
    "@qm.qfunc(dev)\n",
    "def quantum_neural_net(weights, x):\n",
    "    \"\"\"The quantum neural net variational circuit.\"\"\"\n",
    "\n",
    "    qm.Displacement(x[0], 0., [0])\n",
    "\n",
    "    for w in weights:\n",
    "        layer(w)\n",
    "\n",
    "    return qm.expectation.X(0)"
   ]
  },
  {
   "cell_type": "markdown",
   "metadata": {},
   "source": [
    "### Define the objective"
   ]
  },
  {
   "cell_type": "markdown",
   "metadata": {},
   "source": [
    "As an objective we take the square loss between target labels and model predictions."
   ]
  },
  {
   "cell_type": "code",
   "execution_count": 6,
   "metadata": {},
   "outputs": [],
   "source": [
    "def square_loss(labels, predictions):\n",
    "\n",
    "    loss = 0\n",
    "    for l, p in zip(labels, predictions):\n",
    "        loss += (l-p)**2\n",
    "    loss = loss/len(labels)\n",
    "\n",
    "    return loss"
   ]
  },
  {
   "cell_type": "markdown",
   "metadata": {},
   "source": [
    "In the cost function, we compute the outputs from the variational circuit. Function fitting is a regression problem, and we take the outputs as direct predictions (i.e. without applying a final sign, sigmoid or other function)."
   ]
  },
  {
   "cell_type": "code",
   "execution_count": 7,
   "metadata": {},
   "outputs": [],
   "source": [
    "def cost(weights, features, labels):\n",
    "\n",
    "    predictions = [quantum_neural_net(weights, x) for x in features]\n",
    "\n",
    "    return square_loss(labels, predictions)"
   ]
  },
  {
   "cell_type": "markdown",
   "metadata": {},
   "source": [
    "### Performing the optimization"
   ]
  },
  {
   "cell_type": "markdown",
   "metadata": {},
   "source": [
    "We load noisy data samples of a sine function."
   ]
  },
  {
   "cell_type": "code",
   "execution_count": 8,
   "metadata": {},
   "outputs": [],
   "source": [
    "data = np.loadtxt(\"sine.txt\")\n",
    "X = data[:, :-1]\n",
    "Y = data[:, -1]"
   ]
  },
  {
   "cell_type": "markdown",
   "metadata": {},
   "source": [
    "The weights are initialized with values sampled from a normal distribution."
   ]
  },
  {
   "cell_type": "code",
   "execution_count": 9,
   "metadata": {},
   "outputs": [
    {
     "data": {
      "text/plain": [
       "array([ 2.62214048, -1.33994135,  0.74478322,  1.00675837, -0.09589233])"
      ]
     },
     "execution_count": 9,
     "metadata": {},
     "output_type": "execute_result"
    }
   ],
   "source": [
    "num_layers = 10\n",
    "weights0 = np.random.randn(num_layers, 5)\n",
    "\n",
    "weights0[0]"
   ]
  },
  {
   "cell_type": "markdown",
   "metadata": {},
   "source": [
    "We choose a [Nestrov Momentum Optimizer](../API/optimize.rst#openqml.optimize.NesterovMomentumOptimizer) and update the weights for 100 steps."
   ]
  },
  {
   "cell_type": "code",
   "execution_count": 10,
   "metadata": {},
   "outputs": [
    {
     "name": "stdout",
     "output_type": "stream",
     "text": [
      "Iter:     0 | Cost: 0.6266594\n",
      "Iter:     1 | Cost: 0.6243033\n",
      "Iter:     2 | Cost: 0.6190423\n",
      "Iter:     3 | Cost: 0.6140807\n",
      "Iter:     4 | Cost: 0.6206143\n",
      "Iter:     5 | Cost: 0.6203376\n",
      "Iter:     6 | Cost: 0.6162007\n",
      "Iter:     7 | Cost: 0.6219263\n",
      "Iter:     8 | Cost: 0.6228528\n",
      "Iter:     9 | Cost: 0.6300442\n"
     ]
    }
   ],
   "source": [
    "o = NesterovMomentumOptimizer(0.1)\n",
    "\n",
    "weights = weights0\n",
    "for iteration in range(10):\n",
    "\n",
    "    weights = o.step(lambda w: cost(w, X, Y), weights)\n",
    "    print(\"Iter: {:5d} | Cost: {:0.7f}\".format(iteration, cost(weights, X, Y)))"
   ]
  },
  {
   "cell_type": "markdown",
   "metadata": {},
   "source": [
    "Finally, we collect the predictions of the trained model for a x values between $[-1,1]$,"
   ]
  },
  {
   "cell_type": "code",
   "execution_count": 11,
   "metadata": {},
   "outputs": [],
   "source": [
    "x_axis = np.linspace(-1, 1, 50)\n",
    "predictions = [quantum_neural_net(weights, x) for x in x_axis]"
   ]
  },
  {
   "cell_type": "markdown",
   "metadata": {},
   "source": [
    "Import a plotting library,"
   ]
  },
  {
   "cell_type": "code",
   "execution_count": 12,
   "metadata": {},
   "outputs": [],
   "source": [
    "import matplotlib.pyplot as plt"
   ]
  },
  {
   "cell_type": "markdown",
   "metadata": {},
   "source": [
    "and plot the noisy data (red) and predictions (green)."
   ]
  },
  {
   "cell_type": "code",
   "execution_count": 13,
   "metadata": {},
   "outputs": [
    {
     "data": {
      "image/png": "[encoded data removed]",
      "text/plain": [
       "<matplotlib.figure.Figure at 0x7f9075ca80b8>"
      ]
     },
     "metadata": {},
     "output_type": "display_data"
    }
   ],
   "source": [
    "plt.figure()\n",
    "\n",
    "plt.plot(x_axis, predictions, color='#3f9b0b', marker='o',zorder=1)\n",
    "plt.scatter(X, Y, color='#fb2943', marker='o', zorder=2)\n",
    "plt.xlabel('Input')\n",
    "plt.ylabel('Output')\n",
    "plt.tick_params(axis='both', which='major')\n",
    "plt.tick_params(axis='both', which='minor')\n",
    "plt.show()"
   ]
  },
  {
   "cell_type": "markdown",
   "metadata": {},
   "source": [
    "## Fitting higher dimensional functions"
   ]
  },
  {
   "cell_type": "markdown",
   "metadata": {},
   "source": [
    "If the function input/output is of higher dimensions, we can adapt the layer structure, initial weights, and quantum function accordingly. TEST!"
   ]
  },
  {
   "cell_type": "code",
   "execution_count": null,
   "metadata": {},
   "outputs": [],
   "source": [
    "def layer(W, b):\n",
    "\n",
    "    U, d, V = np.linalg.grad_svd(W)\n",
    "\n",
    "    # Matrix multiplication of input layer\n",
    "    qm.Interferometer(U, [0, 1])\n",
    "    qm.Squeezing(-np.log(d[0]), [0])\n",
    "    qm.Interferometer(V, [0, 1])\n",
    "\n",
    "    # Bias\n",
    "    qm.Displacement(b[0], [0])\n",
    "\n",
    "    # Element-wise nonlinear transformation\n",
    "    qm.Kerr(0.1, [0])"
   ]
  },
  {
   "cell_type": "code",
   "execution_count": null,
   "metadata": {},
   "outputs": [],
   "source": [
    "@qm.qfunc(dev)\n",
    "def quantum_neural_net(weights, x=None):\n",
    "\n",
    "        \n",
    "    for idx in range(len(x)):\n",
    "        qm.Displacement(x[i], [idx])\n",
    "\n",
    "    for W, b in weights:\n",
    "        layer(W, b)\n",
    "        \n",
    "    \n",
    "    expectations = [qm.expectation.X(idx) for idx in range(len(x))]\n",
    "\n",
    "    return tuple(expectations)"
   ]
  },
  {
   "cell_type": "code",
   "execution_count": null,
   "metadata": {},
   "outputs": [],
   "source": [
    "def make_random_layer(num_modes):\n",
    "    W = np.random.randn(num_modes, num_modes)\n",
    "    b = np.random.randn(num_modes)\n",
    "    return W, b\n",
    "\n",
    "num_modes = ...\n",
    "weights0 = [make_random_layer(num_modes)]"
   ]
  }
 ],
 "metadata": {
  "celltoolbar": "Raw Cell Format",
  "kernelspec": {
   "display_name": "Python 3",
   "language": "python",
   "name": "python3"
  },
  "language_info": {
   "codemirror_mode": {
    "name": "ipython",
    "version": 3
   },
   "file_extension": ".py",
   "mimetype": "text/x-python",
   "name": "python",
   "nbconvert_exporter": "python",
   "pygments_lexer": "ipython3",
   "version": "3.6.0"
  }
 },
 "nbformat": 4,
 "nbformat_minor": 2
}
