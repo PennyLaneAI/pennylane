{
 "cells": [
  {
   "cell_type": "markdown",
   "metadata": {},
   "source": [
    "# Photon redirection"
   ]
  },
  {
   "cell_type": "markdown",
   "metadata": {},
   "source": [
    "This tutorial demonstrates the basic working principles of OpenQML for continuous-variable backends. Starting with a photon in mode 1, the goal is to optimize a beam splitter to redirect the photon to mode 2 that was initially in vacuum (no photons)."
   ]
  },
  {
   "cell_type": "raw",
   "metadata": {
    "raw_mimetype": "text/restructuredtext"
   },
   "source": [
    ".. note:: This tutorial requires the `OpenQML-SF plugin <https://github.com/XanaduAI/openqml-sf>`_, in order to access the `Strawberry Fields <https://github.com/XanaduAI/strawberryfields>`_ Fock devices using OpenQML. It can be installed via pip: ``pip install openqml-sf``."
   ]
  },
  {
   "cell_type": "markdown",
   "metadata": {},
   "source": [
    "### Creating the device"
   ]
  },
  {
   "cell_type": "markdown",
   "metadata": {},
   "source": [
    "First we need to import OpenQML, as well as OpenQML's version of NumPy. This allows us to automatically compute gradients for functions that manipulate NumPy arrays, including quantum functions."
   ]
  },
  {
   "cell_type": "code",
   "execution_count": null,
   "metadata": {},
   "outputs": [],
   "source": [
    "import openqml as qm\n",
    "from openqml import numpy as np\n",
    "from openqml.optimize import GradientDescentOptimizer, MomentumOptimizer"
   ]
  },
  {
   "cell_type": "markdown",
   "metadata": {},
   "source": [
    "Next, create a \"device\" to run the quantum node. We use StrawberryFields to simulate a photonic quantum processor with two quantum modes."
   ]
  },
  {
   "cell_type": "code",
   "execution_count": 2,
   "metadata": {},
   "outputs": [],
   "source": [
    "dev = qm.device('strawberryfields.fock', wires=2, cutoff_dim=10)"
   ]
  },
  {
   "cell_type": "markdown",
   "metadata": {},
   "source": [
    "### Defining the quantum function\n",
    "\n",
    "[Quantum functions](../concepts/qfuncs.rst) are a restricted subset of Python functions that must abide by the following restrictions:\n",
    "\n",
    "1. Every line within the function contains a OpenQML quantum operation.\n",
    "2. No classical processing of function parameters is allowed (i.e., no multiplication/addition/subtraction must be applied to or between parameters. This includes applying other non-quantum functions, such as NumPy functions!).\n",
    "3. The function ends by returning a single OpenQML expectation value, or a list of OpenQML expectation values.\n",
    "\n",
    "In this example, let's define a quantum function which places one photon into the first mode, before sending both modes through a beamsplitter."
   ]
  },
  {
   "cell_type": "code",
   "execution_count": 3,
   "metadata": {},
   "outputs": [],
   "source": [
    "@qm.qnode(dev)\n",
    "def circuit(weights):\n",
    "\n",
    "    qm.FockState(1, [0])\n",
    "    qm.Beamsplitter(weights[0], weights[1], [0, 1])\n",
    "\n",
    "    return qm.expectation.PhotonNumber(1)"
   ]
  },
  {
   "cell_type": "markdown",
   "metadata": {},
   "source": [
    "In addition to the quantum function above following the three points specified above, note that we also include a [qnode decorator](../API/qfunc.rst) above the quantum function. This instructs OpenQML to create a [quantum node](../concepts/quantum_nodes.rst) on the computational graph using device ``dev`` (our Strawberry Fields Fock device defined above) to run this quantum function."
   ]
  },
  {
   "cell_type": "markdown",
   "metadata": {},
   "source": [
    "This function uses OpenQML to run the following quantum circuit:"
   ]
  },
  {
   "cell_type": "markdown",
   "metadata": {},
   "source": [
    "<img src=\"figures/redirection_circuit.png\">"
   ]
  },
  {
   "cell_type": "markdown",
   "metadata": {},
   "source": [
    "Depending on the transmission parameter $w_0$, the photon remains in the first mode (i.e., $w_1 = n \\pi$ with integer $n$), gets redirected to the second mode (i.e., $w_1 = n\\pi / 2$) or is in a superposition of being in both modes. The phase parameter $w_2$ does not have any influence on the result, so we expect it to have a zero gradient and not to get updated at all."
   ]
  },
  {
   "cell_type": "markdown",
   "metadata": {},
   "source": [
    "### Defining the objective"
   ]
  },
  {
   "cell_type": "markdown",
   "metadata": {},
   "source": [
    "Next, we define a cost that quantifies whether the redirection is successful. Since we want to maximize the expectation of the Fock measurement in the second mode, we minimize the negative of the circuit output."
   ]
  },
  {
   "cell_type": "code",
   "execution_count": 4,
   "metadata": {},
   "outputs": [],
   "source": [
    "def objective(weights):\n",
    "    return -circuit(weights)"
   ]
  },
  {
   "cell_type": "markdown",
   "metadata": {},
   "source": [
    "This objective has the following optimization landscape: \n",
    " \n",
    " <img src=\"figures/redirection_landscape.png\" width=\"450\">\n",
    "\n",
    "As stated above, the gradient does not depend on the phase parameter $w_2$. "
   ]
  },
  {
   "cell_type": "markdown",
   "metadata": {},
   "source": [
    "### Running the optimization"
   ]
  },
  {
   "cell_type": "markdown",
   "metadata": {},
   "source": [
    "The initial values of the transmission and phase parameters are set to near-zero. This corresponds to an identity gate, in other words, the circuit leaves the photon in the first mode."
   ]
  },
  {
   "cell_type": "raw",
   "metadata": {
    "raw_mimetype": "text/restructuredtext"
   },
   "source": [
    "Note that at zero exactly the gradient is zero and the optimization algorithm will not descent from the maximum."
   ]
  },
  {
   "cell_type": "code",
   "execution_count": 5,
   "metadata": {},
   "outputs": [
    {
     "name": "stdout",
     "output_type": "stream",
     "text": [
      "Initial rotation angles: [ 0.01  0.01]\n"
     ]
    }
   ],
   "source": [
    "weights0 = np.array([0.01, 0.01])\n",
    "print('Initial rotation angles:', weights0)"
   ]
  },
  {
   "cell_type": "raw",
   "metadata": {
    "raw_mimetype": "text/restructuredtext"
   },
   "source": [
    "We choose a simple :class:`~.GradientDescentOptimizer` and update the weights for 10 steps."
   ]
  },
  {
   "cell_type": "code",
   "execution_count": 6,
   "metadata": {},
   "outputs": [
    {
     "name": "stdout",
     "output_type": "stream",
     "text": [
      "Objective after step     5: -0.0968138\n",
      "Objective after step    10: -1.0000000\n",
      "Objective after step    15: -1.0000000\n",
      "Objective after step    20: -1.0000000\n",
      "Objective after step    25: -1.0000000\n",
      "Objective after step    30: -1.0000000\n",
      "Objective after step    35: -1.0000000\n",
      "Objective after step    40: -1.0000000\n",
      "Objective after step    45: -1.0000000\n",
      "Objective after step    50: -1.0000000\n",
      "Objective after step    55: -1.0000000\n",
      "Objective after step    60: -1.0000000\n",
      "Objective after step    65: -1.0000000\n",
      "Objective after step    70: -1.0000000\n",
      "Objective after step    75: -1.0000000\n",
      "Objective after step    80: -1.0000000\n",
      "Objective after step    85: -1.0000000\n",
      "Objective after step    90: -1.0000000\n",
      "Objective after step    95: -1.0000000\n",
      "Objective after step   100: -1.0000000\n",
      "\n",
      "Optimized rotation angles: [ 1.57079633  0.01      ]\n"
     ]
    }
   ],
   "source": [
    "o = GradientDescentOptimizer(0.5)\n",
    "\n",
    "weights = weights0\n",
    "for step in np.arange(1, 101):\n",
    "    weights = o.step(objective, weights)\n",
    "    if step%5==0:\n",
    "        print('Objective after step {:5d}: {:.7f}'.format(step, objective(weights)) )\n",
    "\n",
    "print()\n",
    "print('Optimized rotation angles:', weights)"
   ]
  },
  {
   "cell_type": "raw",
   "metadata": {
    "raw_mimetype": "text/restructuredtext"
   },
   "source": [
    "Starting at a different offset, we train the :class:`~.MomentumOptimizer`, which improves on gradient descent by making an update dependent on the previous gradient."
   ]
  },
  {
   "cell_type": "code",
   "execution_count": 7,
   "metadata": {},
   "outputs": [
    {
     "name": "stdout",
     "output_type": "stream",
     "text": [
      "Initial rotation angles: [-0.01  0.01]\n",
      "Objective after step     5: -0.4940222\n",
      "Objective after step    10: -0.9698984\n",
      "Objective after step    15: -0.6473168\n",
      "Objective after step    20: -0.9803264\n",
      "Objective after step    25: -0.9186031\n",
      "Objective after step    30: -0.9320061\n",
      "Objective after step    35: -0.9980251\n",
      "Objective after step    40: -0.9870548\n",
      "Objective after step    45: -0.9839137\n",
      "Objective after step    50: -0.9974440\n",
      "Objective after step    55: -0.9992436\n",
      "Objective after step    60: -0.9969115\n",
      "Objective after step    65: -0.9986680\n",
      "Objective after step    70: -0.9999964\n",
      "Objective after step    75: -0.9996112\n",
      "Objective after step    80: -0.9996030\n",
      "Objective after step    85: -0.9999457\n",
      "Objective after step    90: -0.9999776\n",
      "Objective after step    95: -0.9999214\n",
      "Objective after step   100: -0.9999678\n",
      "\n",
      "Optimized rotation angles: [-1.56512222  0.01000004]\n"
     ]
    }
   ],
   "source": [
    "weights0 = np.array([-0.01, 0.01])\n",
    "print('Initial rotation angles:', weights0)\n",
    "\n",
    "o = MomentumOptimizer(0.5)\n",
    "\n",
    "weights = weights0\n",
    "for step in np.arange(1, 101):\n",
    "    weights = o.step(objective, weights)\n",
    "    if step%5==0:\n",
    "        print('Objective after step {:5d}: {:.7f}'.format(step, objective(weights)) )\n",
    "\n",
    "print()\n",
    "print('Optimized rotation angles:', weights)"
   ]
  },
  {
   "cell_type": "markdown",
   "metadata": {},
   "source": [
    "(PLOT OPTIMIZER STEPS)"
   ]
  }
 ],
 "metadata": {
  "celltoolbar": "Raw Cell Format",
  "kernelspec": {
   "display_name": "Python 3",
   "language": "python",
   "name": "python3"
  },
  "language_info": {
   "codemirror_mode": {
    "name": "ipython",
    "version": 3
   },
   "file_extension": ".py",
   "mimetype": "text/x-python",
   "name": "python",
   "nbconvert_exporter": "python",
   "pygments_lexer": "ipython3",
   "version": "3.6.0"
  }
 },
 "nbformat": 4,
 "nbformat_minor": 2
}
