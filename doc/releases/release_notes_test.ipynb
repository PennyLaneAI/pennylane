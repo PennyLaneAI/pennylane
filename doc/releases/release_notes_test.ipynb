{
 "cells": [
  {
   "cell_type": "code",
   "execution_count": 2,
   "metadata": {},
   "outputs": [
    {
     "name": "stdout",
     "output_type": "stream",
     "text": [
      "[-2.84061284]\n"
     ]
    }
   ],
   "source": [
    "import pennylane as qml\n",
    "from pennylane import numpy as np\n",
    "import torch\n",
    "\n",
    "symbols = [\"H\", \"He\"] \n",
    "geometry = np.array([[1.0, 0.0, 0.0], [0.0, 0.0, 0.0]], requires_grad=False)\n",
    "charge = 1\n",
    "basis_name = \"CC-PVDZ\" \n",
    "mol = qml.qchem.Molecule(symbols, geometry, charge=charge, basis_name=basis_name)\n",
    "print(qml.qchem.hf_energy(mol)())"
   ]
  },
  {
   "cell_type": "code",
   "execution_count": 3,
   "metadata": {},
   "outputs": [
    {
     "data": {
      "text/plain": [
       "-0.42264973081037416"
      ]
     },
     "execution_count": 3,
     "metadata": {},
     "output_type": "execute_result"
    }
   ],
   "source": [
    "\n",
    "\n",
    "\n",
    "dev = qml.device(\"default.qutrit\", wires=3)\n",
    "\n",
    "@qml.qnode(dev)\n",
    "def test_qnode():\n",
    "    qml.TClock(wires=0)\n",
    "    qml.TShift(wires=1)\n",
    "    qml.TAdd(wires=[0, 1])\n",
    "    return qml.expval(qml.GellMann(wires=0, index=8) + qml.GellMann(wires=1, index=3))\n",
    "\n",
    "test_qnode()"
   ]
  },
  {
   "cell_type": "code",
   "execution_count": 4,
   "metadata": {},
   "outputs": [
    {
     "data": {
      "text/plain": [
       "array([0.+0.j, 0.+0.j, 0.+0.j, 0.+0.j, 0.+0.j, 0.+0.j, 0.+0.j, 0.+0.j,\n",
       "       0.+0.j, 0.+0.j, 0.+0.j, 0.+0.j, 1.+0.j, 0.+0.j, 0.+0.j, 0.+0.j,\n",
       "       0.+0.j, 0.+0.j, 0.+0.j, 0.+0.j, 0.+0.j, 0.+0.j, 0.+0.j, 0.+0.j,\n",
       "       0.+0.j, 0.+0.j, 0.+0.j])"
      ]
     },
     "execution_count": 4,
     "metadata": {},
     "output_type": "execute_result"
    }
   ],
   "source": [
    "@qml.qnode(dev)\n",
    "def circuit(U):\n",
    "    qml.TShift(wires=0)\n",
    "    qml.TAdd(wires=[0, 1])\n",
    "    qml.ControlledQutritUnitary(U, control_wires=[0, 1], control_values='12', wires=2)\n",
    "    return qml.state()\n",
    "\n",
    "U = np.array([[1, 1, 0], [1, -1, 0], [0, 0, np.sqrt(2)]]) / np.sqrt(2)\n",
    "\n",
    "circuit(U)"
   ]
  },
  {
   "cell_type": "code",
   "execution_count": 5,
   "metadata": {},
   "outputs": [
    {
     "data": {
      "text/plain": [
       "[tensor([[-1.00000000e+00, -4.56642674e-13],\n",
       "         [ 4.56642674e-13, -1.00000000e+00]], requires_grad=True),\n",
       " tensor([[-1.00000000e+00,  2.65781595e-14],\n",
       "         [-2.65781595e-14, -1.00000000e+00]], requires_grad=True),\n",
       " tensor([[-0.70710678, -0.70710678],\n",
       "         [-0.70710678,  0.70710678]], requires_grad=True),\n",
       " tensor([[ 2.16137551e-11,  1.00000000e+00],\n",
       "         [-1.00000000e+00,  2.16137551e-11]], requires_grad=True)]"
      ]
     },
     "execution_count": 5,
     "metadata": {},
     "output_type": "execute_result"
    }
   ],
   "source": [
    "symbols  = ['H', 'H']\n",
    "geometry = np.array([[0.0, 0.0, 0.0], [1.398397361, 0.0, 0.0]], requires_grad = False)\n",
    "mol = qml.qchem.Molecule(symbols, geometry)\n",
    "\n",
    "core, one, two = qml.qchem.electron_integrals(mol)()\n",
    "coeffs, ops, unitaries = qml.qchem.basis_rotation(one, two, tol_factor=1.0e-5)\n",
    "\n",
    "unitaries"
   ]
  },
  {
   "cell_type": "code",
   "execution_count": 6,
   "metadata": {},
   "outputs": [],
   "source": [
    "dev = qml.device(\"default.qubit\", wires=[\"A\", \"B\", \"C\", \"D\"])\n",
    "\n",
    "@qml.qnode(dev) \n",
    "def circuit():\n",
    "    qml.RX(0.54, wires=0)\n",
    "    qml.PauliX(1)\n",
    "    qml.PauliZ(2)\n",
    "    qml.RY(1.23, wires=3)\n",
    "    return qml.probs(wires=0)\n",
    "\n",
    "wire_map = {0: \"A\", 1: \"B\", 2: \"C\", 3: \"D\"}"
   ]
  },
  {
   "cell_type": "code",
   "execution_count": 7,
   "metadata": {},
   "outputs": [
    {
     "name": "stdout",
     "output_type": "stream",
     "text": [
      "A: ──RX(0.54)─┤  Probs\n",
      "B: ──X────────┤       \n",
      "C: ──Z────────┤       \n",
      "D: ──RY(1.23)─┤       \n"
     ]
    }
   ],
   "source": [
    "mapped_circuit = qml.map_wires(circuit, wire_map)\n",
    "mapped_circuit()\n",
    "print(qml.draw(mapped_circuit)())"
   ]
  },
  {
   "cell_type": "code",
   "execution_count": null,
   "metadata": {},
   "outputs": [],
   "source": []
  }
 ],
 "metadata": {
  "kernelspec": {
   "display_name": "Python 3.8.13",
   "language": "python",
   "name": "python3"
  },
  "language_info": {
   "codemirror_mode": {
    "name": "ipython",
    "version": 3
   },
   "file_extension": ".py",
   "mimetype": "text/x-python",
   "name": "python",
   "nbconvert_exporter": "python",
   "pygments_lexer": "ipython3",
   "version": "3.8.13"
  },
  "orig_nbformat": 4,
  "vscode": {
   "interpreter": {
    "hash": "8ab6f7cf2cf459a6d85441128c915e87ccd46fdbdbbd33136a947db0d70aa37c"
   }
  }
 },
 "nbformat": 4,
 "nbformat_minor": 2
}
