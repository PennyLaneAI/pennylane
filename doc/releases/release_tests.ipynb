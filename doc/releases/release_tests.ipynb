{
 "cells": [
  {
   "cell_type": "code",
   "execution_count": 1,
   "metadata": {},
   "outputs": [],
   "source": [
    "import pennylane as qml\n",
    "from pennylane import numpy as np\n",
    "\n",
    "import pyzx"
   ]
  },
  {
   "cell_type": "code",
   "execution_count": 2,
   "metadata": {},
   "outputs": [],
   "source": [
    "dev = qml.device(\"default.qubit\", wires=2)\n",
    "\n",
    "@qml.transforms.to_zx\n",
    "@qml.qnode(device=dev)\n",
    "def circuit(p):\n",
    "    qml.RZ(p[0], wires=1),\n",
    "    qml.RZ(p[1], wires=1),\n",
    "    qml.RX(p[2], wires=0),\n",
    "    qml.PauliZ(wires=0),\n",
    "    qml.RZ(p[3], wires=1),\n",
    "    qml.PauliX(wires=1),\n",
    "    qml.CNOT(wires=[0, 1]),\n",
    "    qml.CNOT(wires=[1, 0]),\n",
    "    qml.SWAP(wires=[0, 1]),\n",
    "    return qml.expval(qml.PauliZ(0) @ qml.PauliZ(1))"
   ]
  },
  {
   "cell_type": "code",
   "execution_count": 3,
   "metadata": {},
   "outputs": [
    {
     "name": "stdout",
     "output_type": "stream",
     "text": [
      "Graph(20 vertices, 23 edges) <class 'pyzx.graph.graph_s.GraphS'>\n",
      "{'scalar': Scalar(5.66+0.00i = sqrt(2)^5), 'track_phases': False, 'phase_index': {}, 'phase_master': None, 'phase_mult': {}, 'max_phase_index': -1, 'merge_vdata': None, 'graph': {0: {2: 1}, 1: {4: 1}, 2: {0: 1, 3: 1}, 3: {2: 1, 6: 1}, 4: {1: 1, 5: 1}, 5: {4: 1, 9: 1}, 6: {3: 1, 7: 1}, 7: {6: 1, 8: 1}, 8: {7: 1, 9: 1, 11: 1}, 9: {5: 1, 8: 1, 10: 1}, 10: {9: 1, 11: 1, 13: 1}, 11: {8: 1, 10: 1, 12: 1}, 12: {11: 1, 13: 1, 15: 1}, 13: {10: 1, 12: 1, 14: 1}, 14: {13: 1, 15: 1, 17: 1}, 15: {12: 1, 14: 1, 16: 1}, 16: {15: 1, 17: 1, 18: 1}, 17: {14: 1, 16: 1, 19: 1}, 18: {16: 1}, 19: {17: 1}}, '_vindex': 20, 'nedges': 23, 'ty': {0: 0, 1: 0, 2: 1, 3: 1, 4: 2, 5: 1, 6: 1, 7: 2, 8: 2, 9: 1, 10: 2, 11: 1, 12: 2, 13: 1, 14: 2, 15: 1, 16: 2, 17: 1, 18: 0, 19: 0}, '_phase': {0: 0, 1: 0, 2: Fraction(5, 4), 3: Fraction(3, 4), 4: Fraction(4587328911378127, 144115188075855872), 5: Fraction(1, 1), 6: Fraction(3440496683533595, 36028797018963968), 7: Fraction(1, 1), 8: 0, 9: 0, 10: 0, 11: 0, 12: 0, 13: 0, 14: 0, 15: 0, 16: 0, 17: 0, 18: 0, 19: 0}, '_qindex': {0: 0, 1: 1, 2: 0, 3: 0, 4: 1, 5: 1, 6: 0, 7: 0, 8: 0, 9: 1, 10: 1, 11: 0, 12: 0, 13: 1, 14: 1, 15: 0, 16: 0, 17: 1, 18: 0, 19: 1}, '_maxq': 1, '_rindex': {0: 0, 1: 0, 2: 1, 3: 2, 4: 1, 5: 2, 6: 3, 7: 4, 8: 5, 9: 5, 10: 6, 11: 6, 12: 7, 13: 7, 14: 8, 15: 8, 16: 9, 17: 9, 18: 10, 19: 10}, '_maxr': 10, '_grounds': set(), '_vdata': {}, '_inputs': (0, 1), '_outputs': (18, 19)}\n"
     ]
    }
   ],
   "source": [
    "params = [5 / 4 * np.pi, 3 / 4 * np.pi, 0.1, 0.3]\n",
    "out = circuit(params)\n",
    "print(out, type(out))\n",
    "print(out.__dict__)"
   ]
  },
  {
   "cell_type": "code",
   "execution_count": 4,
   "metadata": {},
   "outputs": [
    {
     "data": {
      "text/plain": [
       "tensor(0.70710678, requires_grad=True)"
      ]
     },
     "execution_count": 4,
     "metadata": {},
     "output_type": "execute_result"
    }
   ],
   "source": [
    "dev = qml.device('default.qubit', wires=2)\n",
    "\n",
    "@qml.qnode(dev, diff_method=qml.gradients.param_shift)\n",
    "def circuit(phi):\n",
    "    qml.ops.op_math.Evolution(qml.PauliX(0), -.5 * phi)\n",
    "    return qml.expval(qml.PauliZ(0))\n",
    "\n",
    "circuit(np.pi/4)"
   ]
  },
  {
   "cell_type": "code",
   "execution_count": 22,
   "metadata": {},
   "outputs": [
    {
     "data": {
      "text/plain": [
       "tensor([0.+0.j, 0.+0.j, 1.+0.j, 0.+0.j, 0.+0.j, 0.+0.j, 0.+0.j, 0.+0.j], requires_grad=True)"
      ]
     },
     "execution_count": 22,
     "metadata": {},
     "output_type": "execute_result"
    }
   ],
   "source": [
    "dev = qml.device(\"default.qubit\", wires=3)\n",
    "@qml.qnode(dev)\n",
    "def circuit():\n",
    "    qml.PauliX(wires=1)\n",
    "    qml.CH([0, 1])\n",
    "    qml.CPhaseShift01(phi=1.23, wires=[0, 2])\n",
    "    qml.CCZ([0, 1, 2])\n",
    "    return qml.state()\n",
    "\n",
    "circuit()"
   ]
  },
  {
   "cell_type": "code",
   "execution_count": null,
   "metadata": {},
   "outputs": [],
   "source": []
  }
 ],
 "metadata": {
  "kernelspec": {
   "display_name": "Python 3.8.13",
   "language": "python",
   "name": "python3"
  },
  "language_info": {
   "codemirror_mode": {
    "name": "ipython",
    "version": 3
   },
   "file_extension": ".py",
   "mimetype": "text/x-python",
   "name": "python",
   "nbconvert_exporter": "python",
   "pygments_lexer": "ipython3",
   "version": "3.8.13"
  },
  "orig_nbformat": 4,
  "vscode": {
   "interpreter": {
    "hash": "8ab6f7cf2cf459a6d85441128c915e87ccd46fdbdbbd33136a947db0d70aa37c"
   }
  }
 },
 "nbformat": 4,
 "nbformat_minor": 2
}
