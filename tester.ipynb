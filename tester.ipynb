{
 "cells": [
  {
   "cell_type": "code",
   "execution_count": 1,
   "metadata": {},
   "outputs": [
    {
     "name": "stdout",
     "output_type": "stream",
     "text": [
      "Block-encoded matrix:\n",
      "[[0.1 0.2]\n",
      " [0.2 0.1]] \n",
      "\n"
     ]
    }
   ],
   "source": [
    "import pennylane as qml\n",
    "import numpy as np\n",
    "\n",
    "input_matrix= np.array([[0.1,0.2],[0.2,0.1]])\n",
    "dev = qml.device('default.qubit')\n",
    "@qml.qnode(dev)\n",
    "def example_circuit():\n",
    "    qml.FABLE(input_matrix, wires=range(3), tol=0)\n",
    "    return qml.state()\n",
    "\n",
    "ancilla = [0]\n",
    "s = int(qml.math.log2(qml.math.shape(input_matrix)[0]))\n",
    "wires_i = list(range(1, 1 + s))\n",
    "wires_j = list(range(1 + s, 1 + 2 * s))\n",
    "wire_order = ancilla + wires_i[::-1] + wires_j[::-1]\n",
    "expected = (\n",
    "    len(input_matrix)\n",
    "    * qml.matrix(example_circuit, wire_order=wire_order)().real[0 : len(input_matrix), 0 : len(input_matrix)]\n",
    ")\n",
    "print(f\"Block-encoded matrix:\\n{expected}\", \"\\n\")"
   ]
  },
  {
   "cell_type": "code",
   "execution_count": 3,
   "metadata": {},
   "outputs": [
    {
     "name": "stdout",
     "output_type": "stream",
     "text": [
      "Block-encoded matrix:\n",
      "[[ 1.00000000e-01  2.00000000e-01 -4.95026117e-17 -5.19543589e-17]\n",
      " [-3.00000000e-01  2.00000000e-01 -4.80685641e-17 -4.35814175e-17]\n",
      " [ 1.00000000e-01  2.00000000e-01 -5.45553407e-17 -4.76165734e-17]\n",
      " [-2.50656204e-17 -2.07289384e-17 -3.89431188e-17 -4.06778242e-17]] \n",
      "\n"
     ]
    }
   ],
   "source": [
    "import pennylane as qml\n",
    "import numpy as np\n",
    "\n",
    "input_matrix = np.array([[0.1, 0.2],[-0.3, 0.2], [0.1, 0.2]])\n",
    "dev = qml.device('default.qubit')\n",
    "@qml.qnode(dev)\n",
    "def example_circuit():\n",
    "    qml.FABLE(input_matrix, wires=range(5), tol=0)\n",
    "    return qml.state()\n",
    "\n",
    "ancilla = [0]\n",
    "s = int(qml.math.ceil(qml.math.log2(max(len(input_matrix), len(input_matrix[0])))))\n",
    "wires_i = list(range(1, 1 + s))\n",
    "wires_j = list(range(1 + s, 1 + 2 * s))\n",
    "wire_order = ancilla + wires_i[::-1] + wires_j[::-1]\n",
    "expected = (\n",
    "    2**s\n",
    "    * qml.matrix(example_circuit, wire_order=wire_order)().real[0 : 2**s, 0 : 2**s]\n",
    ")\n",
    "\n",
    "print(f\"Block-encoded matrix:\\n{expected}\", \"\\n\")"
   ]
  },
  {
   "cell_type": "code",
   "execution_count": 4,
   "metadata": {},
   "outputs": [
    {
     "name": "stdout",
     "output_type": "stream",
     "text": [
      "Block-encoded matrix:\n",
      "[[ 1.00000000e-01  2.00000000e-01  3.00000000e-01  6.13798977e-17]\n",
      " [-3.00000000e-01  2.00000000e-01  1.00000000e-01  6.13798977e-17]\n",
      " [ 6.83901117e-17  9.61210470e-17  6.14413617e-17  6.83901117e-17]\n",
      " [ 7.53191495e-17  1.98375666e-17  1.98375666e-17  6.83851836e-17]] \n",
      "\n"
     ]
    },
    {
     "name": "stderr",
     "output_type": "stream",
     "text": [
      "/Users/austin.huang/pennylane/pennylane_fork/pennylane/pennylane/templates/subroutines/fable.py:103: UserWarning: The input matrix should be of shape NxN, got (2, 3).Zeroes were padded automatically.\n",
      "  warnings.warn(\n",
      "/Users/austin.huang/pennylane/pennylane_fork/pennylane/pennylane/templates/subroutines/fable.py:116: UserWarning: The input matrix should be of shape NxN, where N is a power of 2.Zeroes were padded automatically. Input is now of shape (4, 4).\n",
      "  warnings.warn(\n"
     ]
    }
   ],
   "source": [
    "import pennylane as qml\n",
    "import numpy as np\n",
    "\n",
    "input_matrix = np.array([[0.1, 0.2, 0.3],[-0.3, 0.2, 0.1]])\n",
    "dev = qml.device('default.qubit')\n",
    "@qml.qnode(dev)\n",
    "def example_circuit():\n",
    "    qml.FABLE(input_matrix, wires=range(5), tol=0)\n",
    "    return qml.state()\n",
    "\n",
    "ancilla = [0]\n",
    "s = int(qml.math.ceil(qml.math.log2(max(len(input_matrix), len(input_matrix[0])))))\n",
    "wires_i = list(range(1, 1 + s))\n",
    "wires_j = list(range(1 + s, 1 + 2 * s))\n",
    "wire_order = ancilla + wires_i[::-1] + wires_j[::-1]\n",
    "expected = (\n",
    "    2**s\n",
    "    * qml.matrix(example_circuit, wire_order=wire_order)().real[0 : 2**s, 0 : 2**s]\n",
    ")\n",
    "\n",
    "print(f\"Block-encoded matrix:\\n{expected}\", \"\\n\")"
   ]
  },
  {
   "cell_type": "code",
   "execution_count": 5,
   "metadata": {},
   "outputs": [
    {
     "name": "stdout",
     "output_type": "stream",
     "text": [
      "Block-encoded matrix:\n",
      "[[ 1.00000000e-01  2.00000000e-01  3.00000000e-01  8.66745168e-17]\n",
      " [-3.00000000e-01  2.00000000e-01  1.00000000e-01  4.50411534e-17]\n",
      " [-3.00000000e-01  2.00000000e-01  1.00000000e-01  3.80773597e-17]\n",
      " [ 5.19451876e-17  9.35486712e-17  1.00487565e-16  6.58080355e-17]] \n",
      "\n"
     ]
    }
   ],
   "source": [
    "import pennylane as qml\n",
    "import numpy as np\n",
    "\n",
    "input_matrix = np.array([[0.1, 0.2, 0.3],[-0.3, 0.2, 0.1],[-0.3, 0.2, 0.1]])\n",
    "dev = qml.device('default.qubit')\n",
    "@qml.qnode(dev)\n",
    "def example_circuit():\n",
    "    qml.FABLE(input_matrix, wires=range(5), tol=0)\n",
    "    return qml.state()\n",
    "\n",
    "ancilla = [0]\n",
    "s = int(qml.math.ceil(qml.math.log2(max(len(input_matrix), len(input_matrix[0])))))\n",
    "wires_i = list(range(1, 1 + s))\n",
    "wires_j = list(range(1 + s, 1 + 2 * s))\n",
    "wire_order = ancilla + wires_i[::-1] + wires_j[::-1]\n",
    "expected = (\n",
    "    2**s\n",
    "    * qml.matrix(example_circuit, wire_order=wire_order)().real[0 : 2**s, 0 : 2**s]\n",
    ")\n",
    "\n",
    "print(f\"Block-encoded matrix:\\n{expected}\", \"\\n\")"
   ]
  },
  {
   "cell_type": "code",
   "execution_count": 6,
   "metadata": {},
   "outputs": [
    {
     "name": "stdout",
     "output_type": "stream",
     "text": [
      "Block-encoded matrix:\n",
      "[[ 1.00000000e-01  2.00000000e-01  3.00000000e-01  6.05644390e-17]\n",
      " [-3.00000000e-01  2.00000000e-01  1.00000000e-01  6.05644390e-17]\n",
      " [-3.00000000e-01  2.00000000e-01  1.00000000e-01  5.12144676e-17]\n",
      " [-3.00000000e-01  2.00000000e-01  1.00000000e-01  5.12094355e-17]] \n",
      "\n"
     ]
    },
    {
     "name": "stderr",
     "output_type": "stream",
     "text": [
      "/Users/austin.huang/pennylane/pennylane_fork/pennylane/pennylane/templates/subroutines/fable.py:103: UserWarning: The input matrix should be of shape NxN, got (4, 3).Zeroes were padded automatically.\n",
      "  warnings.warn(\n"
     ]
    }
   ],
   "source": [
    "import pennylane as qml\n",
    "import numpy as np\n",
    "\n",
    "input_matrix = np.array([[0.1, 0.2, 0.3],[-0.3, 0.2, 0.1],[-0.3, 0.2, 0.1],[-0.3, 0.2, 0.1]])\n",
    "dev = qml.device('default.qubit')\n",
    "@qml.qnode(dev)\n",
    "def example_circuit():\n",
    "    qml.FABLE(input_matrix, wires=range(5), tol=0)\n",
    "    return qml.state()\n",
    "\n",
    "ancilla = [0]\n",
    "s = int(qml.math.ceil(qml.math.log2(max(len(input_matrix), len(input_matrix[0])))))\n",
    "wires_i = list(range(1, 1 + s))\n",
    "wires_j = list(range(1 + s, 1 + 2 * s))\n",
    "wire_order = ancilla + wires_i[::-1] + wires_j[::-1]\n",
    "expected = (\n",
    "    2**s\n",
    "    * qml.matrix(example_circuit, wire_order=wire_order)().real[0 : 2**s, 0 : 2**s]\n",
    ")\n",
    "\n",
    "print(f\"Block-encoded matrix:\\n{expected}\", \"\\n\")"
   ]
  },
  {
   "cell_type": "code",
   "execution_count": 8,
   "metadata": {},
   "outputs": [
    {
     "name": "stdout",
     "output_type": "stream",
     "text": [
      "Block-encoded matrix:\n",
      "[[ 1.00000000e-01  2.00000000e-01  3.00000000e-01 -4.90653893e-17\n",
      "   7.11448145e-17  6.37850061e-17  5.64251977e-17  5.88784672e-17]\n",
      " [-3.00000000e-01  2.00000000e-01  1.00000000e-01 -4.41588504e-17\n",
      "   7.11448145e-17  6.37850061e-17  5.64251977e-17  5.39719283e-17]\n",
      " [-3.00000000e-01  2.00000000e-01  1.00000000e-01 -4.41588504e-17\n",
      "   7.11448145e-17  6.37850061e-17  5.64251977e-17  5.39719283e-17]\n",
      " [-3.00000000e-01  2.00000000e-01  1.00000000e-01 -4.41588504e-17\n",
      "   6.13317367e-17  9.32242397e-17  6.62382756e-17  7.35980840e-17]\n",
      " [-3.00000000e-01  2.00000000e-01  1.00000000e-01 -4.90653893e-17\n",
      "   7.60513535e-17  5.39719283e-17  8.09578924e-17  5.39719283e-17]\n",
      " [ 1.00584048e-16 -4.17055809e-17 -4.66121199e-17 -5.39719283e-17\n",
      "   6.62382756e-17  6.86915451e-17  7.11448145e-17  5.88784672e-17]\n",
      " [ 7.35980840e-18 -1.12850395e-16 -1.74182132e-16 -4.90653893e-17\n",
      "   7.60513535e-17  7.35980840e-17  8.09578924e-17  5.39719283e-17]\n",
      " [-1.71728863e-17  9.81307787e-18 -8.58644313e-17 -4.90653893e-17\n",
      "   7.60513535e-17  5.88784672e-17  6.13317367e-17  5.39719283e-17]] \n",
      "\n"
     ]
    }
   ],
   "source": [
    "import pennylane as qml\n",
    "import numpy as np\n",
    "\n",
    "input_matrix = np.array([[0.1, 0.2, 0.3],[-0.3, 0.2, 0.1],[-0.3, 0.2, 0.1],[-0.3, 0.2, 0.1],[-0.3, 0.2, 0.1]])\n",
    "dev = qml.device('default.qubit')\n",
    "@qml.qnode(dev)\n",
    "def example_circuit():\n",
    "    qml.FABLE(input_matrix, wires=range(7), tol=0)\n",
    "    return qml.state()\n",
    "\n",
    "ancilla = [0]\n",
    "s = int(qml.math.ceil(qml.math.log2(max(len(input_matrix), len(input_matrix[0])))))\n",
    "wires_i = list(range(1, 1 + s))\n",
    "wires_j = list(range(1 + s, 1 + 2 * s))\n",
    "wire_order = ancilla + wires_i[::-1] + wires_j[::-1]\n",
    "expected = (\n",
    "    2**s\n",
    "    * qml.matrix(example_circuit, wire_order=wire_order)().real[0 : 2**s, 0 : 2**s]\n",
    ")\n",
    "\n",
    "print(f\"Block-encoded matrix:\\n{expected}\", \"\\n\")"
   ]
  },
  {
   "cell_type": "code",
   "execution_count": 9,
   "metadata": {},
   "outputs": [
    {
     "name": "stdout",
     "output_type": "stream",
     "text": [
      "Block-encoded matrix:\n",
      "[[ 1.00000000e-01  2.00000000e-01  3.00000000e-01 -3.00000000e-01\n",
      "   2.00000000e-01  1.51489390e-16  2.20794252e-16  1.63142420e-16]\n",
      " [-3.00000000e-01  2.00000000e-01  1.00000000e-01 -3.00000000e-01\n",
      "   2.00000000e-01  1.51489390e-16  2.22634204e-16  1.63142420e-16]\n",
      " [-3.00000000e-01  2.00000000e-01  1.00000000e-01 -3.00000000e-01\n",
      "   2.00000000e-01  1.51489390e-16  2.42260360e-16  1.63142420e-16]\n",
      " [ 3.89456528e-16  2.74152863e-16  3.83323354e-16  2.69246324e-16\n",
      "   2.78446084e-16  1.51489390e-16  2.44100312e-16  1.82768575e-16]\n",
      " [ 3.39777821e-16  2.01168096e-16  3.55724073e-16  3.58790660e-16\n",
      "   1.85835162e-16  1.87061797e-16  2.23860839e-16  1.70502228e-16]\n",
      " [ 3.75350228e-16  2.36127186e-16  3.18311713e-16  3.35484600e-16\n",
      "   2.54526707e-16  1.62529102e-16  2.25700791e-16  1.41062994e-16]\n",
      " [ 3.18311713e-16  3.81483402e-16  3.18311713e-16  4.36068648e-16\n",
      "   1.72955497e-16  1.67435641e-16  2.35513869e-16  1.50876072e-16]\n",
      " [ 3.17085079e-16  2.65566420e-16  3.16471761e-16  3.82710037e-16\n",
      "   2.49006851e-16  1.72342180e-16  2.29994013e-16  1.50876072e-16]] \n",
      "\n"
     ]
    },
    {
     "name": "stderr",
     "output_type": "stream",
     "text": [
      "/Users/austin.huang/pennylane/pennylane_fork/pennylane/pennylane/templates/subroutines/fable.py:103: UserWarning: The input matrix should be of shape NxN, got (3, 5).Zeroes were padded automatically.\n",
      "  warnings.warn(\n",
      "/Users/austin.huang/pennylane/pennylane_fork/pennylane/pennylane/templates/subroutines/fable.py:116: UserWarning: The input matrix should be of shape NxN, where N is a power of 2.Zeroes were padded automatically. Input is now of shape (8, 8).\n",
      "  warnings.warn(\n"
     ]
    }
   ],
   "source": [
    "import pennylane as qml\n",
    "import numpy as np\n",
    "\n",
    "input_matrix = np.array([[0.1, 0.2, 0.3,-0.3, 0.2,],[-0.3, 0.2, 0.1, -0.3, 0.2,],[-0.3, 0.2, 0.1, -0.3, 0.2,]])\n",
    "dev = qml.device('default.qubit')\n",
    "@qml.qnode(dev)\n",
    "def example_circuit():\n",
    "    qml.FABLE(input_matrix, wires=range(7), tol=0)\n",
    "    return qml.state()\n",
    "\n",
    "ancilla = [0]\n",
    "s = int(qml.math.ceil(qml.math.log2(max(len(input_matrix), len(input_matrix[0])))))\n",
    "wires_i = list(range(1, 1 + s))\n",
    "wires_j = list(range(1 + s, 1 + 2 * s))\n",
    "wire_order = ancilla + wires_i[::-1] + wires_j[::-1]\n",
    "expected = (\n",
    "    2**s\n",
    "    * qml.matrix(example_circuit, wire_order=wire_order)().real[0 : 2**s, 0 : 2**s]\n",
    ")\n",
    "\n",
    "print(f\"Block-encoded matrix:\\n{expected}\", \"\\n\")"
   ]
  },
  {
   "cell_type": "code",
   "execution_count": null,
   "metadata": {},
   "outputs": [],
   "source": []
  }
 ],
 "metadata": {
  "kernelspec": {
   "display_name": "venv",
   "language": "python",
   "name": "python3"
  },
  "language_info": {
   "codemirror_mode": {
    "name": "ipython",
    "version": 3
   },
   "file_extension": ".py",
   "mimetype": "text/x-python",
   "name": "python",
   "nbconvert_exporter": "python",
   "pygments_lexer": "ipython3",
   "version": "3.12.2"
  }
 },
 "nbformat": 4,
 "nbformat_minor": 2
}
