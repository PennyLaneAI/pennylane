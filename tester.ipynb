{
 "cells": [
  {
   "cell_type": "code",
   "execution_count": 8,
   "metadata": {},
   "outputs": [
    {
     "name": "stdout",
     "output_type": "stream",
     "text": [
      "input: \n",
      "[[-0.51192128 -0.51192127  0.6237114   0.6237114 ]\n",
      " [ 0.97041007  0.97041007  0.99999329  0.99999329]\n",
      " [ 0.82429855  0.82429855  0.98175843  0.98175843]\n",
      " [ 0.99675093  0.99675093  0.83514837  0.83514837]] \n",
      "\n",
      "Block-encoded matrix:\n",
      "[[-0.51192128 -0.51192127  0.6237114   0.6237114 ]\n",
      " [ 0.97041007  0.97041007  0.99999329  0.99999329]\n",
      " [ 0.82429855  0.82429855  0.98175843  0.98175843]\n",
      " [ 0.99675093  0.99675093  0.83514837  0.83514837]] \n",
      "\n"
     ]
    }
   ],
   "source": [
    "import pennylane as qml\n",
    "import numpy as np\n",
    "\n",
    "input_matrix= np.array(\n",
    "            [\n",
    "                [-0.51192128, -0.51192127, 0.6237114, 0.6237114],\n",
    "                [0.97041007, 0.97041007, 0.99999329, 0.99999329],\n",
    "                [0.82429855, 0.82429855, 0.98175843, 0.98175843],\n",
    "                [0.99675093, 0.99675093, 0.83514837, 0.83514837],\n",
    "            ]\n",
    "        )\n",
    "dev = qml.device('default.qubit', wires=5)\n",
    "@qml.qnode(dev)\n",
    "def example_circuit():\n",
    "    qml.FABLE(input_matrix, wires=range(5), tol=0)\n",
    "    return qml.state()\n",
    "\n",
    "s = int(qml.math.ceil(qml.math.log2(max(len(input_matrix), len(input_matrix[0])))))\n",
    "expected = (\n",
    "    2**s\n",
    "    * qml.matrix(example_circuit)().real[0 : 2**s, 0 : 2**s]\n",
    ")\n",
    "print(f\"input: \\n{input_matrix}\", \"\\n\")\n",
    "print(f\"Block-encoded matrix:\\n{expected}\", \"\\n\")"
   ]
  },
  {
   "cell_type": "code",
   "execution_count": 9,
   "metadata": {},
   "outputs": [
    {
     "name": "stdout",
     "output_type": "stream",
     "text": [
      "input: \n",
      "[[ 0.1  0.2]\n",
      " [ 0.3 -0.2]] \n",
      "\n",
      "Block-encoded matrix:\n",
      "[[ 0.1  0.2]\n",
      " [ 0.3 -0.2]] \n",
      "\n"
     ]
    }
   ],
   "source": [
    "import pennylane as qml\n",
    "import numpy as np\n",
    "\n",
    "input_matrix= np.array([[0.1, 0.2],[0.3, -0.2]])\n",
    "dev = qml.device('default.qubit', wires=3)\n",
    "@qml.qnode(dev)\n",
    "def example_circuit():\n",
    "    qml.FABLE(input_matrix, wires=range(3), tol=0)\n",
    "    return qml.state()\n",
    "\n",
    "s = int(qml.math.ceil(qml.math.log2(max(len(input_matrix), len(input_matrix[0])))))\n",
    "expected = (\n",
    "    2**s\n",
    "    * qml.matrix(example_circuit)().real[0 : 2**s, 0 : 2**s]\n",
    ")\n",
    "print(f\"input: \\n{input_matrix}\", \"\\n\")\n",
    "print(f\"Block-encoded matrix:\\n{expected}\", \"\\n\")"
   ]
  },
  {
   "cell_type": "code",
   "execution_count": 10,
   "metadata": {},
   "outputs": [
    {
     "name": "stderr",
     "output_type": "stream",
     "text": [
      "/Users/austin.huang/pennylane/pennylane_fork/pennylane/pennylane/templates/subroutines/fable.py:108: UserWarning: The input matrix should be of shape NxN, got (3, 2).Zeroes were padded automatically.\n",
      "  warnings.warn(\n",
      "/Users/austin.huang/pennylane/pennylane_fork/pennylane/pennylane/templates/subroutines/fable.py:121: UserWarning: The input matrix should be of shape NxN, where N is a power of 2.Zeroes were padded automatically. Input is now of shape (4, 4).\n",
      "  warnings.warn(\n"
     ]
    },
    {
     "ename": "ValueError",
     "evalue": "Number of wires is incorrect, expected 5 but got 3",
     "output_type": "error",
     "traceback": [
      "\u001b[0;31m---------------------------------------------------------------------------\u001b[0m",
      "\u001b[0;31mValueError\u001b[0m                                Traceback (most recent call last)",
      "Cell \u001b[0;32mIn[10], line 14\u001b[0m\n\u001b[1;32m      9\u001b[0m     \u001b[38;5;28;01mreturn\u001b[39;00m qml\u001b[38;5;241m.\u001b[39mstate()\n\u001b[1;32m     11\u001b[0m s \u001b[38;5;241m=\u001b[39m \u001b[38;5;28mint\u001b[39m(qml\u001b[38;5;241m.\u001b[39mmath\u001b[38;5;241m.\u001b[39mceil(qml\u001b[38;5;241m.\u001b[39mmath\u001b[38;5;241m.\u001b[39mlog2(\u001b[38;5;28mmax\u001b[39m(\u001b[38;5;28mlen\u001b[39m(input_matrix), \u001b[38;5;28mlen\u001b[39m(input_matrix[\u001b[38;5;241m0\u001b[39m])))))\n\u001b[1;32m     12\u001b[0m expected \u001b[38;5;241m=\u001b[39m (\n\u001b[1;32m     13\u001b[0m     \u001b[38;5;241m2\u001b[39m\u001b[38;5;241m*\u001b[39m\u001b[38;5;241m*\u001b[39ms\n\u001b[0;32m---> 14\u001b[0m     \u001b[38;5;241m*\u001b[39m \u001b[43mqml\u001b[49m\u001b[38;5;241;43m.\u001b[39;49m\u001b[43mmatrix\u001b[49m\u001b[43m(\u001b[49m\u001b[43mexample_circuit\u001b[49m\u001b[43m)\u001b[49m\u001b[43m(\u001b[49m\u001b[43m)\u001b[49m\u001b[38;5;241m.\u001b[39mreal[\u001b[38;5;241m0\u001b[39m : \u001b[38;5;241m2\u001b[39m\u001b[38;5;241m*\u001b[39m\u001b[38;5;241m*\u001b[39ms, \u001b[38;5;241m0\u001b[39m : \u001b[38;5;241m2\u001b[39m\u001b[38;5;241m*\u001b[39m\u001b[38;5;241m*\u001b[39ms]\n\u001b[1;32m     15\u001b[0m )\n\u001b[1;32m     16\u001b[0m \u001b[38;5;28mprint\u001b[39m(\u001b[38;5;124mf\u001b[39m\u001b[38;5;124m\"\u001b[39m\u001b[38;5;124minput: \u001b[39m\u001b[38;5;130;01m\\n\u001b[39;00m\u001b[38;5;132;01m{\u001b[39;00minput_matrix\u001b[38;5;132;01m}\u001b[39;00m\u001b[38;5;124m\"\u001b[39m, \u001b[38;5;124m\"\u001b[39m\u001b[38;5;130;01m\\n\u001b[39;00m\u001b[38;5;124m\"\u001b[39m)\n\u001b[1;32m     17\u001b[0m \u001b[38;5;28mprint\u001b[39m(\u001b[38;5;124mf\u001b[39m\u001b[38;5;124m\"\u001b[39m\u001b[38;5;124mBlock-encoded matrix:\u001b[39m\u001b[38;5;130;01m\\n\u001b[39;00m\u001b[38;5;132;01m{\u001b[39;00mexpected\u001b[38;5;132;01m}\u001b[39;00m\u001b[38;5;124m\"\u001b[39m, \u001b[38;5;124m\"\u001b[39m\u001b[38;5;130;01m\\n\u001b[39;00m\u001b[38;5;124m\"\u001b[39m)\n",
      "File \u001b[0;32m~/pennylane/pennylane_fork/pennylane/pennylane/workflow/qnode.py:1079\u001b[0m, in \u001b[0;36mQNode.__call__\u001b[0;34m(self, *args, **kwargs)\u001b[0m\n\u001b[1;32m   1076\u001b[0m     override_shots \u001b[38;5;241m=\u001b[39m kwargs[\u001b[38;5;124m\"\u001b[39m\u001b[38;5;124mshots\u001b[39m\u001b[38;5;124m\"\u001b[39m]\n\u001b[1;32m   1078\u001b[0m \u001b[38;5;66;03m# construct the tape\u001b[39;00m\n\u001b[0;32m-> 1079\u001b[0m \u001b[38;5;28;43mself\u001b[39;49m\u001b[38;5;241;43m.\u001b[39;49m\u001b[43mconstruct\u001b[49m\u001b[43m(\u001b[49m\u001b[43margs\u001b[49m\u001b[43m,\u001b[49m\u001b[43m \u001b[49m\u001b[43mkwargs\u001b[49m\u001b[43m)\u001b[49m\n\u001b[1;32m   1081\u001b[0m original_grad_fn \u001b[38;5;241m=\u001b[39m [\u001b[38;5;28mself\u001b[39m\u001b[38;5;241m.\u001b[39mgradient_fn, \u001b[38;5;28mself\u001b[39m\u001b[38;5;241m.\u001b[39mgradient_kwargs, \u001b[38;5;28mself\u001b[39m\u001b[38;5;241m.\u001b[39mdevice]\n\u001b[1;32m   1082\u001b[0m \u001b[38;5;28mself\u001b[39m\u001b[38;5;241m.\u001b[39m_update_gradient_fn(shots\u001b[38;5;241m=\u001b[39moverride_shots, tape\u001b[38;5;241m=\u001b[39m\u001b[38;5;28mself\u001b[39m\u001b[38;5;241m.\u001b[39m_tape)\n",
      "File \u001b[0;32m~/pennylane/pennylane_fork/pennylane/pennylane/workflow/qnode.py:916\u001b[0m, in \u001b[0;36mQNode.construct\u001b[0;34m(self, args, kwargs)\u001b[0m\n\u001b[1;32m    913\u001b[0m     \u001b[38;5;28mself\u001b[39m\u001b[38;5;241m.\u001b[39minterface \u001b[38;5;241m=\u001b[39m qml\u001b[38;5;241m.\u001b[39mmath\u001b[38;5;241m.\u001b[39mget_interface(\u001b[38;5;241m*\u001b[39margs, \u001b[38;5;241m*\u001b[39m\u001b[38;5;28mlist\u001b[39m(kwargs\u001b[38;5;241m.\u001b[39mvalues()))\n\u001b[1;32m    915\u001b[0m \u001b[38;5;28;01mwith\u001b[39;00m qml\u001b[38;5;241m.\u001b[39mqueuing\u001b[38;5;241m.\u001b[39mAnnotatedQueue() \u001b[38;5;28;01mas\u001b[39;00m q:\n\u001b[0;32m--> 916\u001b[0m     \u001b[38;5;28mself\u001b[39m\u001b[38;5;241m.\u001b[39m_qfunc_output \u001b[38;5;241m=\u001b[39m \u001b[38;5;28;43mself\u001b[39;49m\u001b[38;5;241;43m.\u001b[39;49m\u001b[43mfunc\u001b[49m\u001b[43m(\u001b[49m\u001b[38;5;241;43m*\u001b[39;49m\u001b[43margs\u001b[49m\u001b[43m,\u001b[49m\u001b[43m \u001b[49m\u001b[38;5;241;43m*\u001b[39;49m\u001b[38;5;241;43m*\u001b[39;49m\u001b[43mkwargs\u001b[49m\u001b[43m)\u001b[49m\n\u001b[1;32m    918\u001b[0m \u001b[38;5;28mself\u001b[39m\u001b[38;5;241m.\u001b[39m_tape \u001b[38;5;241m=\u001b[39m QuantumScript\u001b[38;5;241m.\u001b[39mfrom_queue(q, shots)\n\u001b[1;32m    920\u001b[0m params \u001b[38;5;241m=\u001b[39m \u001b[38;5;28mself\u001b[39m\u001b[38;5;241m.\u001b[39mtape\u001b[38;5;241m.\u001b[39mget_parameters(trainable_only\u001b[38;5;241m=\u001b[39m\u001b[38;5;28;01mFalse\u001b[39;00m)\n",
      "Cell \u001b[0;32mIn[10], line 8\u001b[0m, in \u001b[0;36mexample_circuit\u001b[0;34m()\u001b[0m\n\u001b[1;32m      6\u001b[0m \u001b[38;5;129m@qml\u001b[39m\u001b[38;5;241m.\u001b[39mqnode(dev)\n\u001b[1;32m      7\u001b[0m \u001b[38;5;28;01mdef\u001b[39;00m \u001b[38;5;21mexample_circuit\u001b[39m():\n\u001b[0;32m----> 8\u001b[0m     \u001b[43mqml\u001b[49m\u001b[38;5;241;43m.\u001b[39;49m\u001b[43mFABLE\u001b[49m\u001b[43m(\u001b[49m\u001b[43minput_matrix\u001b[49m\u001b[43m,\u001b[49m\u001b[43m \u001b[49m\u001b[43mwires\u001b[49m\u001b[38;5;241;43m=\u001b[39;49m\u001b[38;5;28;43mrange\u001b[39;49m\u001b[43m(\u001b[49m\u001b[38;5;241;43m3\u001b[39;49m\u001b[43m)\u001b[49m\u001b[43m,\u001b[49m\u001b[43m \u001b[49m\u001b[43mtol\u001b[49m\u001b[38;5;241;43m=\u001b[39;49m\u001b[38;5;241;43m0\u001b[39;49m\u001b[43m)\u001b[49m\n\u001b[1;32m      9\u001b[0m     \u001b[38;5;28;01mreturn\u001b[39;00m qml\u001b[38;5;241m.\u001b[39mstate()\n",
      "File \u001b[0;32m~/pennylane/pennylane_fork/pennylane/pennylane/templates/subroutines/fable.py:127\u001b[0m, in \u001b[0;36mFABLE.__init__\u001b[0;34m(self, input_matrix, wires, tol, id)\u001b[0m\n\u001b[1;32m    121\u001b[0m     warnings\u001b[38;5;241m.\u001b[39mwarn(\n\u001b[1;32m    122\u001b[0m         \u001b[38;5;124m\"\u001b[39m\u001b[38;5;124mThe input matrix should be of shape NxN, where N is a power of 2.\u001b[39m\u001b[38;5;124m\"\u001b[39m\n\u001b[1;32m    123\u001b[0m         \u001b[38;5;241m+\u001b[39m \u001b[38;5;124mf\u001b[39m\u001b[38;5;124m\"\u001b[39m\u001b[38;5;124mZeroes were padded automatically. Input is now of shape \u001b[39m\u001b[38;5;132;01m{\u001b[39;00minput_matrix\u001b[38;5;241m.\u001b[39mshape\u001b[38;5;132;01m}\u001b[39;00m\u001b[38;5;124m.\u001b[39m\u001b[38;5;124m\"\u001b[39m\n\u001b[1;32m    124\u001b[0m     )\n\u001b[1;32m    126\u001b[0m \u001b[38;5;28;01mif\u001b[39;00m \u001b[38;5;28mlen\u001b[39m(wires) \u001b[38;5;241m!=\u001b[39m \u001b[38;5;241m2\u001b[39m \u001b[38;5;241m*\u001b[39m n \u001b[38;5;241m+\u001b[39m \u001b[38;5;241m1\u001b[39m:\n\u001b[0;32m--> 127\u001b[0m     \u001b[38;5;28;01mraise\u001b[39;00m \u001b[38;5;167;01mValueError\u001b[39;00m(\u001b[38;5;124mf\u001b[39m\u001b[38;5;124m\"\u001b[39m\u001b[38;5;124mNumber of wires is incorrect, expected \u001b[39m\u001b[38;5;132;01m{\u001b[39;00m\u001b[38;5;241m2\u001b[39m\u001b[38;5;241m*\u001b[39mn\u001b[38;5;241m+\u001b[39m\u001b[38;5;241m1\u001b[39m\u001b[38;5;132;01m}\u001b[39;00m\u001b[38;5;124m but got \u001b[39m\u001b[38;5;132;01m{\u001b[39;00m\u001b[38;5;28mlen\u001b[39m(wires)\u001b[38;5;132;01m}\u001b[39;00m\u001b[38;5;124m\"\u001b[39m)\n\u001b[1;32m    129\u001b[0m \u001b[38;5;28mself\u001b[39m\u001b[38;5;241m.\u001b[39m_hyperparameters \u001b[38;5;241m=\u001b[39m {\u001b[38;5;124m\"\u001b[39m\u001b[38;5;124mtol\u001b[39m\u001b[38;5;124m\"\u001b[39m: tol}\n\u001b[1;32m    131\u001b[0m \u001b[38;5;28msuper\u001b[39m()\u001b[38;5;241m.\u001b[39m\u001b[38;5;21m__init__\u001b[39m(input_matrix, wires\u001b[38;5;241m=\u001b[39mwires, \u001b[38;5;28mid\u001b[39m\u001b[38;5;241m=\u001b[39m\u001b[38;5;28mid\u001b[39m)\n",
      "\u001b[0;31mValueError\u001b[0m: Number of wires is incorrect, expected 5 but got 3"
     ]
    }
   ],
   "source": [
    "import pennylane as qml\n",
    "import numpy as np\n",
    "\n",
    "input_matrix= np.array([[0.1, 0.2],[0.3, -0.2],[0.6, -0.7]])\n",
    "dev = qml.device('default.qubit', wires=5)\n",
    "@qml.qnode(dev)\n",
    "def example_circuit():\n",
    "    qml.FABLE(input_matrix, wires=range(5), tol=0)\n",
    "    return qml.state()\n",
    "\n",
    "s = int(qml.math.ceil(qml.math.log2(max(len(input_matrix), len(input_matrix[0])))))\n",
    "expected = (\n",
    "    2**s\n",
    "    * qml.matrix(example_circuit)().real[0 : 2**s, 0 : 2**s]\n",
    ")\n",
    "print(f\"input: \\n{input_matrix}\", \"\\n\")\n",
    "print(f\"Block-encoded matrix:\\n{expected}\", \"\\n\")"
   ]
  },
  {
   "cell_type": "code",
   "execution_count": null,
   "metadata": {},
   "outputs": [],
   "source": []
  }
 ],
 "metadata": {
  "kernelspec": {
   "display_name": "venv",
   "language": "python",
   "name": "python3"
  },
  "language_info": {
   "codemirror_mode": {
    "name": "ipython",
    "version": 3
   },
   "file_extension": ".py",
   "mimetype": "text/x-python",
   "name": "python",
   "nbconvert_exporter": "python",
   "pygments_lexer": "ipython3",
   "version": "3.12.2"
  }
 },
 "nbformat": 4,
 "nbformat_minor": 2
}
