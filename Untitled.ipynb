{
 "cells": [
  {
   "cell_type": "code",
   "execution_count": 8,
   "id": "54f0fa02",
   "metadata": {},
   "outputs": [],
   "source": [
    "from enum import Enum\n",
    "import pennylane as qml"
   ]
  },
  {
   "cell_type": "code",
   "execution_count": 11,
   "id": "71f66661",
   "metadata": {},
   "outputs": [
    {
     "name": "stdout",
     "output_type": "stream",
     "text": [
      "0\n"
     ]
    }
   ],
   "source": [
    "## Idea 1: \n",
    "    \n",
    "map_ops_index = {\"Identity\": 0, \"PauliX\": 1, \"PauliY\": 2, \"PauliZ\": 3}\n",
    "    \n",
    "class PauliSentence():\n",
    "    \n",
    "    def __init__(self, coeffs, ops):\n",
    "        self.reduced_representation = generate_representation(coeffs, ops)\n",
    "\n",
    "    \n",
    "    def __add__(self, other):\n",
    "        \n",
    "        if not isinstance(other, self.__class__):\n",
    "            other_reduced_representation = PauliSentence([1.0], other).reduced_representation\n",
    "        else: \n",
    "            other_reduced_representation = other.reduced_representation\n",
    "        \n",
    "        num_terms_self = len(self.reduced_representation)\n",
    "        num_terms_other = len(other_reduced_representation)\n",
    "        \n",
    "        if num_terms_self < num_terms_other:\n",
    "            smaller_rep, larger_rep = (self.reduced_representation, other_reduced_representation)\n",
    "        else: \n",
    "            smaller_rep, larger_rep = (other_reduced_representation, self.reduced_representation)\n",
    "            \n",
    "        for key, val in smaller_rep:\n",
    "            try:\n",
    "                larger_rep[key] += val \n",
    "            except KeyError:\n",
    "                larger_rep[key] = val\n",
    "    \n",
    "    \n",
    "    def __mult__(self, other):\n",
    "        ...\n",
    "        return\n",
    "        \n",
    "    \n",
    "    \n",
    "    @staticmethod\n",
    "    def generate_representation(coeffs, terms):   # coeffs = [1.0, 2.0], terms = [qml.PauliX(0),\n",
    "        rep_dict = {}                                                        #qml.PauliX(0)@qml.PauliZ(1)]\n",
    "        for coeff, op in zip(coeffs, ops):\n",
    "            \n",
    "            if isinstance(op, (qml.Identity, qml.PaulIX, qml.PauliY, qml.PauliZ)):\n",
    "                key = [(), (), (), ()]\n",
    "                key[map_ops[op.name]] = (str(op.wires.label),)\n",
    "                key = tuple(key)\n",
    "                \n",
    "                    \n",
    "            elif isinstance(op, qml.Tensor):\n",
    "                temp_key = [[], [], [], []]\n",
    "                \n",
    "                for obs in op.obs:\n",
    "                    temp_key[map_ops[obs.name]].append(str(obs.wires.label))\n",
    "                \n",
    "                key = sorted(tuple([tuple(sub_lst) for sub_lst in temp_key]))\n",
    "                \n",
    "            try:\n",
    "                rep_dict[key] += coeff \n",
    "            except KeyError:\n",
    "                rep_dict[key] = coeff \n",
    "        \n",
    "        return rep_dict\n",
    "    \n",
    "    @staticmethod\n",
    "    def matrix(reduced_rep):\n",
    "        \n",
    "        "
   ]
  },
  {
   "cell_type": "code",
   "execution_count": 3,
   "id": "6a0cedf9",
   "metadata": {},
   "outputs": [
    {
     "ename": "NameError",
     "evalue": "name 'pauli_group' is not defined",
     "output_type": "error",
     "traceback": [
      "\u001b[0;31m---------------------------------------------------------------------------\u001b[0m",
      "\u001b[0;31mNameError\u001b[0m                                 Traceback (most recent call last)",
      "\u001b[0;32m/var/folders/jw/g_vj1z8n3kv1plht6lndy8fh0000gs/T/ipykernel_26162/159039287.py\u001b[0m in \u001b[0;36m<module>\u001b[0;34m\u001b[0m\n\u001b[0;32m----> 1\u001b[0;31m \u001b[0mpauli_group\u001b[0m\u001b[0;34m.\u001b[0m\u001b[0mI\u001b[0m\u001b[0;34m\u001b[0m\u001b[0;34m\u001b[0m\u001b[0m\n\u001b[0m",
      "\u001b[0;31mNameError\u001b[0m: name 'pauli_group' is not defined"
     ]
    }
   ],
   "source": [
    "\n"
   ]
  },
  {
   "cell_type": "code",
   "execution_count": null,
   "id": "c8067fbd",
   "metadata": {},
   "outputs": [],
   "source": []
  }
 ],
 "metadata": {
  "kernelspec": {
   "display_name": "Python 3 (ipykernel)",
   "language": "python",
   "name": "python3"
  },
  "language_info": {
   "codemirror_mode": {
    "name": "ipython",
    "version": 3
   },
   "file_extension": ".py",
   "mimetype": "text/x-python",
   "name": "python",
   "nbconvert_exporter": "python",
   "pygments_lexer": "ipython3",
   "version": "3.9.7"
  }
 },
 "nbformat": 4,
 "nbformat_minor": 5
}
