{
 "cells": [
  {
   "cell_type": "code",
   "execution_count": 1,
   "id": "ef19ed91-2225-41c6-96ea-59a790ab1db7",
   "metadata": {},
   "outputs": [],
   "source": [
    "import pennylane as qml"
   ]
  },
  {
   "cell_type": "code",
   "execution_count": 2,
   "id": "84401d28-38d4-4cc0-a7b6-aaca72787147",
   "metadata": {},
   "outputs": [],
   "source": [
    "        with qml.queuing.AnnotatedQueue() as q:\n",
    "            # we assign operations to variables here so we can compare them below\n",
    "            a = qml.PauliX(wires=0)\n",
    "            b = qml.PauliY(wires=1)\n",
    "            c = qml.Identity(wires=2)\n",
    "            T = qml.operation.Tensor(a, b, c)\n",
    "            T_pruned = T.prune()\n",
    "            m = qml.expval(T_pruned)\n"
   ]
  },
  {
   "cell_type": "code",
   "execution_count": 3,
   "id": "8e5ddfd4-3621-4eb4-9d72-88df6a4d7e06",
   "metadata": {},
   "outputs": [
    {
     "data": {
      "text/plain": [
       "AnnotatedQueue([(expval(PauliX(wires=[0]) @ PauliY(wires=[1])), {})])"
      ]
     },
     "execution_count": 3,
     "metadata": {},
     "output_type": "execute_result"
    }
   ],
   "source": [
    "q"
   ]
  },
  {
   "cell_type": "code",
   "execution_count": 3,
   "id": "3bfccbcb-e6f4-4b5e-91fb-bfe47761fd5c",
   "metadata": {},
   "outputs": [
    {
     "data": {
      "text/plain": [
       "3.0 * X(0)"
      ]
     },
     "execution_count": 3,
     "metadata": {},
     "output_type": "execute_result"
    }
   ],
   "source": [
    "qml.ops.dot([1, 2], [qml.PauliX(0), qml.PauliX(0)], pauli=True)"
   ]
  },
  {
   "cell_type": "code",
   "execution_count": 2,
   "id": "8ac11895-ad0a-4d00-9a14-52b9f15da72d",
   "metadata": {},
   "outputs": [
    {
     "data": {
      "text/plain": [
       "3.0*(PauliX(wires=[0]))"
      ]
     },
     "execution_count": 2,
     "metadata": {},
     "output_type": "execute_result"
    }
   ],
   "source": [
    "qml.ops.dot([1, 2], [qml.PauliX(0), qml.PauliX(0)], pauli=True).operation()"
   ]
  },
  {
   "cell_type": "code",
   "execution_count": 4,
   "id": "6d7234b5-96c6-4bfa-b049-165609bbb02d",
   "metadata": {},
   "outputs": [],
   "source": [
    "x = int | float\n",
    "y = x | str"
   ]
  },
  {
   "cell_type": "code",
   "execution_count": 5,
   "id": "df754059-0829-49bd-ae55-b242953e8239",
   "metadata": {},
   "outputs": [
    {
     "data": {
      "text/plain": [
       "int | float | str"
      ]
     },
     "execution_count": 5,
     "metadata": {},
     "output_type": "execute_result"
    }
   ],
   "source": [
    "y"
   ]
  },
  {
   "cell_type": "code",
   "execution_count": null,
   "id": "35715e7d-0af1-4e0e-9a82-69cdd5c2a591",
   "metadata": {},
   "outputs": [],
   "source": []
  }
 ],
 "metadata": {
  "kernelspec": {
   "display_name": "Python 3.10.7 ('pl310')",
   "language": "python",
   "name": "python3107jvsc74a57bd0d7abcdde6cf588699ea141d5cb29fd40e22affd9f5aea5cda367ff961bc7685e"
  },
  "language_info": {
   "codemirror_mode": {
    "name": "ipython",
    "version": 3
   },
   "file_extension": ".py",
   "mimetype": "text/x-python",
   "name": "python",
   "nbconvert_exporter": "python",
   "pygments_lexer": "ipython3",
   "version": "3.10.7"
  }
 },
 "nbformat": 4,
 "nbformat_minor": 5
}
