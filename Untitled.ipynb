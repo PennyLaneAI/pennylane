{
 "cells": [
  {
   "cell_type": "markdown",
   "id": "f1c81ebe",
   "metadata": {},
   "source": [
    "# A Crash-Coures in Operator Arithmetic \n",
    "\n",
    "In this demo we will show you how to use the power of arithmetic with operators in PennyLane!"
   ]
  },
  {
   "cell_type": "code",
   "execution_count": 3,
   "id": "d77d5d14",
   "metadata": {},
   "outputs": [],
   "source": [
    "import pennylane as qml\n",
    "from pennylane import numpy as np\n",
    "\n",
    "qml.operation.enable_new_opmath()  # activate operator arithmetic! <This should be default in future releases>\n",
    "\n",
    "def op_display(op, name):\n",
    "    print(f\"{name}:\")\n",
    "    print(op, \"\\n\")\n",
    "    \n",
    "    print(f\"{name}'s matrix:\")\n",
    "    print(qml.matrix(op), \"\\n\")"
   ]
  },
  {
   "cell_type": "markdown",
   "id": "81522e77",
   "metadata": {},
   "source": [
    "## 1. Addition"
   ]
  },
  {
   "cell_type": "code",
   "execution_count": 4,
   "id": "0b1ae144",
   "metadata": {},
   "outputs": [
    {
     "name": "stdout",
     "output_type": "stream",
     "text": [
      "op:\n",
      "PauliX(wires=[0]) + PauliZ(wires=[0]) \n",
      "\n",
      "op's matrix:\n",
      "[[ 1  1]\n",
      " [ 1 -1]] \n",
      "\n",
      "new_op:\n",
      "(PauliX(wires=[0]) + PauliZ(wires=[0])) + (-1*(PauliY(wires=[0]))) \n",
      "\n",
      "new_op's matrix:\n",
      "[[ 1.+0.j  1.+1.j]\n",
      " [ 1.-1.j -1.+0.j]] \n",
      "\n"
     ]
    }
   ],
   "source": [
    "# We can add and subtract operators \n",
    "\n",
    "op = qml.PauliX(wires=0) + qml.PauliZ(wires=0)\n",
    "\n",
    "op_display(op, \"op\")\n",
    "\n",
    "new_op = op - qml.PauliY(0)  # we can subtract operators \n",
    "\n",
    "op_display(new_op, \"new_op\")"
   ]
  },
  {
   "cell_type": "markdown",
   "id": "6bb94c6c",
   "metadata": {},
   "source": [
    "## 2. Tensor Product and Scalar Product"
   ]
  },
  {
   "cell_type": "code",
   "execution_count": null,
   "id": "1c172471",
   "metadata": {},
   "outputs": [],
   "source": []
  },
  {
   "cell_type": "markdown",
   "id": "500f9d4f",
   "metadata": {},
   "source": [
    "### 2.1) Commutators and Anti-Commutators"
   ]
  },
  {
   "cell_type": "code",
   "execution_count": null,
   "id": "113c77c7",
   "metadata": {},
   "outputs": [],
   "source": []
  },
  {
   "cell_type": "markdown",
   "id": "a79551f5",
   "metadata": {},
   "source": [
    "## 3. Power and Exp"
   ]
  },
  {
   "cell_type": "code",
   "execution_count": null,
   "id": "514025b4",
   "metadata": {},
   "outputs": [],
   "source": []
  },
  {
   "cell_type": "markdown",
   "id": "fb02cb7a",
   "metadata": {},
   "source": [
    "### 3.1) Time evolution in the Heisenberg picture"
   ]
  },
  {
   "cell_type": "code",
   "execution_count": null,
   "id": "92d619a1",
   "metadata": {},
   "outputs": [],
   "source": []
  },
  {
   "cell_type": "markdown",
   "id": "fbf28934",
   "metadata": {},
   "source": [
    "## 4. Simplify"
   ]
  },
  {
   "cell_type": "code",
   "execution_count": null,
   "id": "b3928d92",
   "metadata": {},
   "outputs": [],
   "source": []
  },
  {
   "cell_type": "markdown",
   "id": "b408a626",
   "metadata": {},
   "source": [
    "## 5. Differentiability"
   ]
  },
  {
   "cell_type": "code",
   "execution_count": null,
   "id": "58b1d65e",
   "metadata": {},
   "outputs": [],
   "source": []
  }
 ],
 "metadata": {
  "kernelspec": {
   "display_name": "Python 3 (ipykernel)",
   "language": "python",
   "name": "python3"
  },
  "language_info": {
   "codemirror_mode": {
    "name": "ipython",
    "version": 3
   },
   "file_extension": ".py",
   "mimetype": "text/x-python",
   "name": "python",
   "nbconvert_exporter": "python",
   "pygments_lexer": "ipython3",
   "version": "3.9.13"
  }
 },
 "nbformat": 4,
 "nbformat_minor": 5
}
