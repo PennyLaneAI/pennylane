{
 "cells": [
  {
   "cell_type": "code",
   "execution_count": 1,
   "id": "dressed-lunch",
   "metadata": {},
   "outputs": [],
   "source": []
  },
  {
   "cell_type": "code",
   "execution_count": 5,
   "id": "extreme-procurement",
   "metadata": {},
   "outputs": [
    {
     "data": {
      "text/plain": [
       "(array(1.59181269), array(0.68558591))"
      ]
     },
     "execution_count": 5,
     "metadata": {},
     "output_type": "execute_result"
    }
   ],
   "source": [
    "import pennylane as qml\n",
    "from pennylane import numpy as np\n",
    "import numpy as onp\n",
    "\n",
    "dev = qml.device('default.qubit', wires=2)\n",
    "\n",
    "theta = 0.432\n",
    "phi = 0.123\n",
    "A_ = np.array(\n",
    "    [\n",
    "        [-6, 2 + 1j, -3, -5 + 2j],\n",
    "        [2 - 1j, 0, 2 - 1j, -5 + 4j],\n",
    "        [-3, 2 + 1j, 0, -4 + 3j],\n",
    "        [-5 - 2j, -5 - 4j, -4 - 3j, -6],\n",
    "    ]\n",
    ")\n",
    "\n",
    "@qml.qnode(dev, diff_method='finite-diff')\n",
    "def circuit(theta, phi):\n",
    "    qml.RX(theta, wires=[0])\n",
    "    qml.RX(phi, wires=[1])\n",
    "    qml.CNOT(wires=[0, 1])\n",
    "    return qml.expval(qml.Hermitian(A_, wires=[0, 1]))\n",
    "\n",
    "qml.grad(circuit, argnum=[0,1])(theta, phi)"
   ]
  },
  {
   "cell_type": "code",
   "execution_count": 6,
   "id": "hourly-rebound",
   "metadata": {},
   "outputs": [
    {
     "data": {
      "text/plain": [
       "tensor(-5.09592586, requires_grad=True)"
      ]
     },
     "execution_count": 6,
     "metadata": {},
     "output_type": "execute_result"
    }
   ],
   "source": [
    "circuit(theta, phi)"
   ]
  },
  {
   "cell_type": "code",
   "execution_count": 7,
   "id": "handy-bikini",
   "metadata": {},
   "outputs": [
    {
     "name": "stderr",
     "output_type": "stream",
     "text": [
      "<ipython-input-7-588e845bf1d8>:1: VisibleDeprecationWarning: Creating an ndarray from ragged nested sequences (which is a list-or-tuple of lists-or-tuples-or ndarrays with different lengths or shapes) is deprecated. If you meant to do this, you must specify 'dtype=object' when creating the ndarray\n",
      "  p = onp.array(circuit.qtape.get_parameters())\n"
     ]
    }
   ],
   "source": [
    "p = onp.array(circuit.qtape.get_parameters())"
   ]
  },
  {
   "cell_type": "code",
   "execution_count": 8,
   "id": "marine-cleaner",
   "metadata": {},
   "outputs": [
    {
     "data": {
      "text/plain": [
       "array([tensor(0.432, requires_grad=True),\n",
       "       tensor(0.123, requires_grad=True),\n",
       "       tensor([[-6.+0.j,  2.+1.j, -3.+0.j, -5.+2.j],\n",
       "        [ 2.-1.j,  0.+0.j,  2.-1.j, -5.+4.j],\n",
       "        [-3.+0.j,  2.+1.j,  0.+0.j, -4.+3.j],\n",
       "        [-5.-2.j, -5.-4.j, -4.-3.j, -6.+0.j]], requires_grad=True)],\n",
       "      dtype=object)"
      ]
     },
     "execution_count": 8,
     "metadata": {},
     "output_type": "execute_result"
    }
   ],
   "source": [
    "p"
   ]
  },
  {
   "cell_type": "code",
   "execution_count": 11,
   "id": "surgical-fiber",
   "metadata": {},
   "outputs": [
    {
     "data": {
      "text/plain": [
       "array([0., 0., 0.])"
      ]
     },
     "execution_count": 11,
     "metadata": {},
     "output_type": "execute_result"
    }
   ],
   "source": [
    "onp.zeros_like(p, dtype=np.float64)"
   ]
  },
  {
   "cell_type": "code",
   "execution_count": null,
   "id": "adaptive-reality",
   "metadata": {},
   "outputs": [],
   "source": []
  },
  {
   "cell_type": "code",
   "execution_count": 5,
   "id": "joint-fellowship",
   "metadata": {},
   "outputs": [
    {
     "name": "stderr",
     "output_type": "stream",
     "text": [
      "/mnt/c/Users/chris/Prog/xanadu/pennylane/pennylane/tape/jacobian_tape.py:515: VisibleDeprecationWarning: Creating an ndarray from ragged nested sequences (which is a list-or-tuple of lists-or-tuples-or ndarrays with different lengths or shapes) is deprecated. If you meant to do this, you must specify 'dtype=object' when creating the ndarray\n",
      "  params = np.array(params)\n"
     ]
    },
    {
     "data": {
      "text/plain": [
       "(array(1.59181269), array(0.68558591))"
      ]
     },
     "execution_count": 5,
     "metadata": {},
     "output_type": "execute_result"
    }
   ],
   "source": [
    "qml.grad(circuit, argnum=[0,1])(theta, phi)"
   ]
  },
  {
   "cell_type": "code",
   "execution_count": null,
   "id": "present-skiing",
   "metadata": {},
   "outputs": [],
   "source": []
  }
 ],
 "metadata": {
  "kernelspec": {
   "display_name": "Python 3",
   "language": "python",
   "name": "python3"
  },
  "language_info": {
   "codemirror_mode": {
    "name": "ipython",
    "version": 3
   },
   "file_extension": ".py",
   "mimetype": "text/x-python",
   "name": "python",
   "nbconvert_exporter": "python",
   "pygments_lexer": "ipython3",
   "version": "3.8.5"
  }
 },
 "nbformat": 4,
 "nbformat_minor": 5
}
