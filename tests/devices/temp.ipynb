{
 "cells": [
  {
   "cell_type": "code",
   "execution_count": 1,
   "metadata": {},
   "outputs": [],
   "source": [
    "import pytest\n",
    "import pennylane as qml\n",
    "from pennylane import QubitStateVector, BasisState, DeviceError\n",
    "from pennylane.devices import DefaultMixed\n",
    "from pennylane.ops import (\n",
    "    Identity,\n",
    "    PauliZ,\n",
    "    CZ,\n",
    "    PauliX,\n",
    "    Hadamard,\n",
    "    CNOT,\n",
    "    ISWAP,\n",
    "    AmplitudeDamping,\n",
    "    DepolarizingChannel,\n",
    "    ResetError,\n",
    "    PauliError,\n",
    ")\n",
    "from pennylane.wires import Wires\n",
    "\n",
    "import numpy as np"
   ]
  },
  {
   "cell_type": "code",
   "execution_count": 17,
   "metadata": {},
   "outputs": [],
   "source": [
    "def root_state(nr_wires):\n",
    "    \"\"\"Pure state with equal amplitudes but phases equal to roots of unity\"\"\"\n",
    "    dim = 2**nr_wires\n",
    "    ket = [np.exp(1j * 2 * np.pi * n / dim) / np.sqrt(dim) for n in range(dim)]\n",
    "    return np.outer(ket, np.conj(ket))\n",
    "\n",
    "def test(x):\n",
    "    nr_wires = x[0]\n",
    "    op = x[1]\n",
    "    target_state = np.reshape(x[2], [2] * 2 * nr_wires)\n",
    "    dev = qml.device(\"default.mixed\", wires=nr_wires)\n",
    "    root = np.reshape(root_state(nr_wires), [2] * 2 * nr_wires)\n",
    "    dev._state = root\n",
    "    kraus = dev._get_kraus(op)\n",
    "    dev._apply_channel(kraus, wires=Wires([0, 1]))\n",
    "\n",
    "    print(dev._state)\n",
    "\n",
    "    return np.allclose(dev._state, target_state, atol=1e-3, rtol=0)"
   ]
  },
  {
   "cell_type": "code",
   "execution_count": 22,
   "metadata": {},
   "outputs": [],
   "source": [
    "x = [2, ISWAP(wires=[0, 1]), \n",
    "    np.array(\n",
    "        [\n",
    "            [0.25 + 0.0j, 0.0 + 0.25j, -0.25 + 0.0, 0.0 + 0.25j],\n",
    "            [0.0 - 0.25j, 0.25 + 0.0j, 0.0 + 0.25j, 0.25 + 0.0j],\n",
    "            [-0.25 - 0.0j, 0.0 - 0.25j, 0.25 + 0.0j, 0.0 - 0.25j],\n",
    "            [0.0 - 0.25j, 0.25 + 0.0j, 0.0 + 0.25j, 0.25 + 0.0j],\n",
    "        ]\n",
    "    )]"
   ]
  },
  {
   "cell_type": "code",
   "execution_count": 23,
   "metadata": {},
   "outputs": [
    {
     "name": "stdout",
     "output_type": "stream",
     "text": [
      "[[[[ 2.5000000e-01+0.0000000e+00j -3.0616170e-17+2.5000000e-01j]\n",
      "   [-2.5000000e-01-1.5308085e-17j -4.5924255e-17+2.5000000e-01j]]\n",
      "\n",
      "  [[-3.0616170e-17-2.5000000e-01j  2.5000000e-01+0.0000000e+00j]\n",
      "   [ 1.5308085e-17+2.5000000e-01j  2.5000000e-01+1.5308085e-17j]]]\n",
      "\n",
      "\n",
      " [[[-2.5000000e-01+1.5308085e-17j  1.5308085e-17-2.5000000e-01j]\n",
      "   [ 2.5000000e-01+0.0000000e+00j  3.0616170e-17-2.5000000e-01j]]\n",
      "\n",
      "  [[-4.5924255e-17-2.5000000e-01j  2.5000000e-01-1.5308085e-17j]\n",
      "   [ 3.0616170e-17+2.5000000e-01j  2.5000000e-01+0.0000000e+00j]]]]\n"
     ]
    },
    {
     "data": {
      "text/plain": [
       "array([[[[ 0.0000000e+00+0.0000000e+00j, -3.0616170e-17+0.0000000e+00j],\n",
       "         [ 0.0000000e+00-1.5308085e-17j, -4.5924255e-17+0.0000000e+00j]],\n",
       "\n",
       "        [[-3.0616170e-17+0.0000000e+00j,  0.0000000e+00+0.0000000e+00j],\n",
       "         [ 1.5308085e-17+0.0000000e+00j,  0.0000000e+00+1.5308085e-17j]]],\n",
       "\n",
       "\n",
       "       [[[ 0.0000000e+00+1.5308085e-17j,  1.5308085e-17+0.0000000e+00j],\n",
       "         [ 0.0000000e+00+0.0000000e+00j,  3.0616170e-17+0.0000000e+00j]],\n",
       "\n",
       "        [[-4.5924255e-17+0.0000000e+00j,  0.0000000e+00-1.5308085e-17j],\n",
       "         [ 3.0616170e-17+0.0000000e+00j,  0.0000000e+00+0.0000000e+00j]]]])"
      ]
     },
     "execution_count": 23,
     "metadata": {},
     "output_type": "execute_result"
    }
   ],
   "source": [
    "test(x)"
   ]
  },
  {
   "cell_type": "code",
   "execution_count": null,
   "metadata": {},
   "outputs": [],
   "source": []
  }
 ],
 "metadata": {
  "kernelspec": {
   "display_name": "Python 3.9.15",
   "language": "python",
   "name": "python3"
  },
  "language_info": {
   "codemirror_mode": {
    "name": "ipython",
    "version": 3
   },
   "file_extension": ".py",
   "mimetype": "text/x-python",
   "name": "python",
   "nbconvert_exporter": "python",
   "pygments_lexer": "ipython3",
   "version": "3.9.15"
  },
  "orig_nbformat": 4,
  "vscode": {
   "interpreter": {
    "hash": "78331b1082c439670270938a06ad7ce72bbf78a4347789de47b5c8783a7030e4"
   }
  }
 },
 "nbformat": 4,
 "nbformat_minor": 2
}
