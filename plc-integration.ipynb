{
 "cells": [
  {
   "cell_type": "code",
   "execution_count": 1,
   "metadata": {},
   "outputs": [],
   "source": [
    "import pennylane as qml\n",
    "import numpy as np"
   ]
  },
  {
   "cell_type": "code",
   "execution_count": 2,
   "metadata": {},
   "outputs": [
    {
     "data": {
      "text/plain": [
       "array(0.87758256)"
      ]
     },
     "execution_count": 2,
     "metadata": {},
     "output_type": "execute_result"
    }
   ],
   "source": [
    "dev = qml.device('lightning.qubit', wires=2)\n",
    "\n",
    "@qml.qjit\n",
    "@qml.qnode(dev)\n",
    "def circuit1(x):\n",
    "    qml.RX(x, wires=0)\n",
    "    qml.RX(x**2, wires=1)\n",
    "    return qml.expval(qml.PauliZ(0))\n",
    "\n",
    "circuit1(0.5)"
   ]
  },
  {
   "cell_type": "code",
   "execution_count": 3,
   "metadata": {},
   "outputs": [
    {
     "name": "stdout",
     "output_type": "stream",
     "text": [
      "Help on function qjit in module pennylane.qjit_compile:\n",
      "\n",
      "qjit(*args, **kwargs)\n",
      "    A just-in-time decorator for PennyLane and JAX programs using Catalyst.\n",
      "    \n",
      "    This decorator enables both just-in-time and ahead-of-time compilation,\n",
      "    depending on whether function argument type hints are provided.\n",
      "    \n",
      "    .. note::\n",
      "    \n",
      "        Currently, ``lightning.qubit`` is the only supported backend device\n",
      "        for Catalyst compilation. For a list of supported operations, observables,\n",
      "        and measurements, please see the :doc:`/dev/quick_start`.\n",
      "    \n",
      "    Args:\n",
      "        fn (Callable): the quantum or classical function\n",
      "        autograph (bool): support imperative Python code via AutoGraph source transformations\n",
      "                          (requires tensorflow package)\n",
      "        target (str): the compilation target\n",
      "        keep_intermediate (bool): Whether or not to store the intermediate files throughout the\n",
      "            compilation. If ``True``, intermediate representations are available via the\n",
      "            :attr:`~.QJIT.mlir`, :attr:`~.QJIT.jaxpr`, and :attr:`~.QJIT.qir`, representing\n",
      "            different stages in the optimization process.\n",
      "        verbosity (bool): If ``True``, the tools and flags used by Catalyst behind the scenes are\n",
      "            printed out.\n",
      "        logfile (Optional[TextIOWrapper]): File object to write verbose messages to (default -\n",
      "            ``sys.stderr``).\n",
      "        pipelines (Optional(List[AnyType]): A list of pipelines to be executed. The elements of\n",
      "            the list are asked to implement a run method which takes the output of the previous run\n",
      "            as an input to the next element, and so on.\n",
      "    \n",
      "    Returns:\n",
      "        QJIT object.\n",
      "    \n",
      "    Raises:\n",
      "        FileExistsError: Unable to create temporary directory\n",
      "        PermissionError: Problems creating temporary directory\n",
      "        OSError: Problems while creating folder for intermediate files\n",
      "        AutoGraphError: Raised if there was an issue converting the given the function(s).\n",
      "        ImportError: Raised if AutoGraph is turned on and TensorFlow could not be found.\n",
      "    \n",
      "    **Example**\n",
      "    \n",
      "    In just-in-time (JIT) mode, the compilation is triggered at the call site the\n",
      "    first time the quantum function is executed. For example, ``circuit`` is\n",
      "    compiled as early as the first call.\n",
      "    \n",
      "    .. code-block:: python\n",
      "    \n",
      "        @qjit\n",
      "        @qml.qnode(qml.device(\"lightning.qubit\", wires=2))\n",
      "        def circuit(theta):\n",
      "            qml.Hadamard(wires=0)\n",
      "            qml.RX(theta, wires=1)\n",
      "            qml.CNOT(wires=[0,1])\n",
      "            return qml.expval(qml.PauliZ(wires=1))\n",
      "    \n",
      "    >>> circuit(0.5)  # the first call, compilation occurs here\n",
      "    array(0.)\n",
      "    >>> circuit(0.5)  # the precompiled quantum function is called\n",
      "    array(0.)\n",
      "    \n",
      "    Alternatively, if argument type hints are provided, compilation\n",
      "    can occur 'ahead of time' when the function is decorated.\n",
      "    \n",
      "    .. code-block:: python\n",
      "    \n",
      "        from jax.core import ShapedArray\n",
      "    \n",
      "        @qjit  # compilation happens at definition\n",
      "        @qml.qnode(qml.device(\"lightning.qubit\", wires=2))\n",
      "        def circuit(x: complex, z: ShapedArray(shape=(3,), dtype=jnp.float64)):\n",
      "            theta = jnp.abs(x)\n",
      "            qml.RY(theta, wires=0)\n",
      "            qml.Rot(z[0], z[1], z[2], wires=0)\n",
      "            return qml.state()\n",
      "    \n",
      "    >>> circuit(0.2j, jnp.array([0.3, 0.6, 0.9]))  # calls precompiled function\n",
      "    array([0.75634905-0.52801002j, 0. +0.j,\n",
      "           0.35962678+0.14074839j, 0. +0.j])\n",
      "    \n",
      "    Catalyst also supports capturing imperative Python control flow in compiled programs. You can\n",
      "    enable this feature via the ``autograph=True`` parameter. Note that it does come with some\n",
      "    restrictions, in particular whenever global state is involved. Refer to the documentation page\n",
      "    for a complete discussion of the supported and unsupported use-cases.\n",
      "    \n",
      "    .. code-block:: python\n",
      "    \n",
      "        @qjit(autograph=True)\n",
      "        @qml.qnode(qml.device(\"lightning.qubit\", wires=2))\n",
      "        def circuit(x: int):\n",
      "    \n",
      "            if x < 5:\n",
      "                qml.Hadamard(wires=0)\n",
      "            else:\n",
      "                qml.T(wires=0)\n",
      "    \n",
      "            return qml.expval(qml.PauliZ(0))\n",
      "    \n",
      "    >>> circuit(3)\n",
      "    array(0.)\n",
      "    \n",
      "    >>> circuit(5)\n",
      "    array(1.)\n",
      "    \n",
      "    Note that imperative control flow will still work in Catalyst even when the AutoGraph feature is\n",
      "    turned off, it just won't be captured in the compiled program and cannot involve traced values.\n",
      "    The example above would then raise a tracing error, as there is no value for ``x`` yet than can\n",
      "    be compared in the if statement. A loop like ``for i in range(5)`` would be unrolled during\n",
      "    tracing, \"copy-pasting\" the body 5 times into the program rather than appearing as is.\n",
      "    \n",
      "    .. important::\n",
      "    \n",
      "        Most decomposition logic will be equivalent to PennyLane's decomposition.\n",
      "        However, decomposition logic will differ in the following cases:\n",
      "    \n",
      "        1. All :class:`qml.Controlled <pennylane.ops.op_math.Controlled>` operations will decompose\n",
      "            to :class:`qml.QubitUnitary <pennylane.QubitUnitary>` operations.\n",
      "    \n",
      "        2. :class:`qml.ControlledQubitUnitary <pennylane.ControlledQubitUnitary>` operations will\n",
      "            decompose to :class:`qml.QubitUnitary <pennylane.QubitUnitary>` operations.\n",
      "    \n",
      "        3. The list of device-supported gates employed by Catalyst is currently different than that\n",
      "            of the ``lightning.qubit`` device, as defined by the\n",
      "            :class:`~.pennylane_extensions.QJITDevice`.\n",
      "\n"
     ]
    }
   ],
   "source": [
    "help(qml.qjit)"
   ]
  },
  {
   "cell_type": "code",
   "execution_count": 4,
   "metadata": {},
   "outputs": [
    {
     "name": "stdout",
     "output_type": "stream",
     "text": [
      "module @circuit1 {\n",
      "  func.func public @jit_circuit1(%arg0: tensor<f64>) -> tensor<f64> attributes {llvm.emit_c_interface} {\n",
      "    %0 = call @circuit1(%arg0) : (tensor<f64>) -> tensor<f64>\n",
      "    return %0 : tensor<f64>\n",
      "  }\n",
      "  func.func private @circuit1(%arg0: tensor<f64>) -> tensor<f64> attributes {diff_method = \"finite-diff\", llvm.linkage = #llvm.linkage<internal>, qnode} {\n",
      "    \"quantum.device\"() {specs = [\"kwargs\", \"{'shots': 0}\"]} : () -> ()\n",
      "    \"quantum.device\"() {specs = [\"backend\", \"lightning.qubit\"]} : () -> ()\n",
      "    %0 = stablehlo.constant dense<2> : tensor<i64>\n",
      "    %1 = \"quantum.alloc\"() {nqubits_attr = 2 : i64} : () -> !quantum.reg\n",
      "    %2 = stablehlo.multiply %arg0, %arg0 : tensor<f64>\n",
      "    %3 = stablehlo.constant dense<0> : tensor<i64>\n",
      "    %4 = \"tensor.extract\"(%3) : (tensor<i64>) -> i64\n",
      "    %5 = \"quantum.extract\"(%1, %4) : (!quantum.reg, i64) -> !quantum.bit\n",
      "    %6 = \"tensor.extract\"(%arg0) : (tensor<f64>) -> f64\n",
      "    %7 = \"quantum.custom\"(%6, %5) {gate_name = \"RX\", operand_segment_sizes = array<i32: 1, 1>} : (f64, !quantum.bit) -> !quantum.bit\n",
      "    %8 = stablehlo.constant dense<1> : tensor<i64>\n",
      "    %9 = \"tensor.extract\"(%8) : (tensor<i64>) -> i64\n",
      "    %10 = \"quantum.extract\"(%1, %9) : (!quantum.reg, i64) -> !quantum.bit\n",
      "    %11 = \"tensor.extract\"(%2) : (tensor<f64>) -> f64\n",
      "    %12 = \"quantum.custom\"(%11, %10) {gate_name = \"RX\", operand_segment_sizes = array<i32: 1, 1>} : (f64, !quantum.bit) -> !quantum.bit\n",
      "    %13 = \"quantum.namedobs\"(%7) {type = #quantum<named_observable PauliZ>} : (!quantum.bit) -> !quantum.obs\n",
      "    %14 = \"quantum.expval\"(%13) : (!quantum.obs) -> f64\n",
      "    %15 = \"tensor.from_elements\"(%14) : (f64) -> tensor<f64>\n",
      "    \"quantum.dealloc\"(%1) : (!quantum.reg) -> ()\n",
      "    return %15 : tensor<f64>\n",
      "  }\n",
      "  func.func @setup() {\n",
      "    \"quantum.init\"() : () -> ()\n",
      "    return\n",
      "  }\n",
      "  func.func @teardown() {\n",
      "    \"quantum.finalize\"() : () -> ()\n",
      "    return\n",
      "  }\n",
      "}\n",
      "\n"
     ]
    }
   ],
   "source": [
    "# Compilation options\n",
    "dev = qml.device('lightning.qubit', wires=2)\n",
    "\n",
    "@qml.qjit(target=\"mlir\")\n",
    "@qml.qnode(dev)\n",
    "def circuit1(x: float):\n",
    "    qml.RX(x, wires=0)\n",
    "    qml.RX(x**2, wires=1)\n",
    "    return qml.expval(qml.PauliZ(0))\n",
    "\n",
    "print(circuit1.mlir)"
   ]
  },
  {
   "cell_type": "code",
   "execution_count": 5,
   "metadata": {},
   "outputs": [
    {
     "name": "stdout",
     "output_type": "stream",
     "text": [
      "3.3306690738754696e-16\n"
     ]
    }
   ],
   "source": [
    "# Control-flow\n",
    "dev = qml.device('lightning.qubit', wires=2)\n",
    "\n",
    "@qml.qjit\n",
    "@qml.qnode(dev)\n",
    "def circuit2(n: int):\n",
    "    @qml.for_loop(0, n, 1)\n",
    "    def loop_fn(_, x):\n",
    "        qml.RY(x, wires=0)\n",
    "        return x + np.pi / 4\n",
    "\n",
    "    loop_fn(0.0)\n",
    "    return qml.expval(qml.PauliZ(0))\n",
    "\n",
    "print(circuit2(5))"
   ]
  },
  {
   "cell_type": "code",
   "execution_count": 6,
   "metadata": {},
   "outputs": [],
   "source": [
    "# Control-flow\n",
    "dev = qml.device('lightning.qubit', wires=1)\n",
    "\n",
    "@qml.qjit\n",
    "@qml.qnode(dev)\n",
    "def circuit(x):\n",
    "    @qml.cond(x > 4.8)\n",
    "    def cond_fn():\n",
    "        return x * 8\n",
    "\n",
    "    @cond_fn.else_if(x > 2.7)\n",
    "    def cond_elif():\n",
    "        return x * 4\n",
    "\n",
    "    @cond_fn.else_if(x > 1.4)\n",
    "    def cond_elif2():\n",
    "        return x * 2\n",
    "\n",
    "    @cond_fn.otherwise\n",
    "    def cond_else():\n",
    "        return x\n",
    "\n",
    "    return cond_fn()\n",
    "\n",
    "assert circuit(5) == 40\n"
   ]
  },
  {
   "cell_type": "code",
   "execution_count": 7,
   "metadata": {},
   "outputs": [
    {
     "data": {
      "text/plain": [
       "array([0., 1.])"
      ]
     },
     "execution_count": 7,
     "metadata": {},
     "output_type": "execute_result"
    }
   ],
   "source": [
    "# Measure\n",
    "\n",
    "dev = qml.device(\"lightning.qubit\", wires=3)\n",
    "\n",
    "@qml.qjit\n",
    "@qml.qnode(dev)\n",
    "def func():\n",
    "    qml.PauliX(1)\n",
    "    m_0 = qml.measure(1)\n",
    "    return qml.probs(wires=[1])\n",
    "\n",
    "func()"
   ]
  },
  {
   "cell_type": "code",
   "execution_count": 8,
   "metadata": {},
   "outputs": [],
   "source": [
    "# Measure\n",
    "from jax import numpy as jnp\n",
    "\n",
    "@qml.qjit\n",
    "@qml.qnode(qml.device(\"lightning.qubit\", wires=2))\n",
    "def circuit(x: float):\n",
    "    qml.RX(x, wires=0)\n",
    "    m1 = qml.measure(wires=0)\n",
    "    maybe_pi = m1 * jnp.pi\n",
    "    qml.RX(maybe_pi, wires=1)\n",
    "    m2 = qml.measure(wires=1)\n",
    "    return m2\n",
    "\n",
    "assert circuit(jnp.pi)\n",
    "assert not circuit(0.0)\n"
   ]
  },
  {
   "cell_type": "code",
   "execution_count": 9,
   "metadata": {},
   "outputs": [
    {
     "data": {
      "text/plain": [
       "array(-0.86482227)"
      ]
     },
     "execution_count": 9,
     "metadata": {},
     "output_type": "execute_result"
    }
   ],
   "source": [
    "# Gradient\n",
    "def f(x):\n",
    "    qml.RX(x, wires=0)\n",
    "    return qml.expval(qml.PauliY(0))\n",
    "\n",
    "@qml.qjit\n",
    "def grad_fn(x: float):\n",
    "    g = qml.qnode(qml.device(\"lightning.qubit\", wires=1))(f)\n",
    "    h = qml.grad(g, argnum=0)\n",
    "    return h(x)\n",
    "\n",
    "grad_fn(0.526)"
   ]
  },
  {
   "cell_type": "code",
   "execution_count": 15,
   "metadata": {},
   "outputs": [
    {
     "data": {
      "text/plain": [
       "array([-0.25103904,  0.25103904])"
      ]
     },
     "execution_count": 15,
     "metadata": {},
     "output_type": "execute_result"
    }
   ],
   "source": [
    "# Jacobian\n",
    "@qml.qnode(qml.device(\"lightning.qubit\", wires=1), diff_method=\"parameter-shift\")\n",
    "def func(p):\n",
    "    qml.RY(p, wires=0)\n",
    "    return qml.probs(wires=0)\n",
    "\n",
    "@qml.qjit\n",
    "def workflow(p: float):\n",
    "    return qml.jacobian(func, argnum=0, method=\"defer\")(p)\n",
    "\n",
    "workflow(0.526)"
   ]
  },
  {
   "cell_type": "code",
   "execution_count": 1,
   "metadata": {},
   "outputs": [
    {
     "data": {
      "text/plain": [
       "array([0.5, 0.5])"
      ]
     },
     "execution_count": 1,
     "metadata": {},
     "output_type": "execute_result"
    }
   ],
   "source": [
    "# Adjoint\n",
    "@qml.qjit\n",
    "@qml.qnode(qml.device(\"lightning.qubit\", wires=1))\n",
    "def workflow(theta):\n",
    "    qml.adjoint(qml.RZ)(theta, wires=0)\n",
    "    qml.adjoint(qml.RZ(theta, wires=0))\n",
    "    def func():\n",
    "        qml.RX(theta, wires=0)\n",
    "        qml.RY(theta, wires=0)\n",
    "    qml.adjoint(func)()\n",
    "    return qml.probs()\n",
    "\n",
    "workflow(jnp.pi/2)\n"
   ]
  },
  {
   "cell_type": "code",
   "execution_count": null,
   "metadata": {},
   "outputs": [],
   "source": []
  },
  {
   "cell_type": "code",
   "execution_count": null,
   "metadata": {},
   "outputs": [],
   "source": []
  }
 ],
 "metadata": {
  "kernelspec": {
   "display_name": "py310",
   "language": "python",
   "name": "python3"
  },
  "language_info": {
   "codemirror_mode": {
    "name": "ipython",
    "version": 3
   },
   "file_extension": ".py",
   "mimetype": "text/x-python",
   "name": "python",
   "nbconvert_exporter": "python",
   "pygments_lexer": "ipython3",
   "version": "3.10.12"
  },
  "orig_nbformat": 4
 },
 "nbformat": 4,
 "nbformat_minor": 2
}
