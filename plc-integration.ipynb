{
 "cells": [
  {
   "cell_type": "code",
   "execution_count": 1,
   "metadata": {},
   "outputs": [],
   "source": [
    "import pennylane as qml\n",
    "import numpy as np"
   ]
  },
  {
   "cell_type": "code",
   "execution_count": 2,
   "metadata": {},
   "outputs": [
    {
     "data": {
      "text/plain": [
       "array(0.87758256)"
      ]
     },
     "execution_count": 2,
     "metadata": {},
     "output_type": "execute_result"
    }
   ],
   "source": [
    "dev = qml.device('lightning.qubit', wires=2)\n",
    "\n",
    "@qml.qjit\n",
    "@qml.qnode(dev)\n",
    "def circuit1(x):\n",
    "    qml.RX(x, wires=0)\n",
    "    qml.RX(x**2, wires=1)\n",
    "    return qml.expval(qml.PauliZ(0))\n",
    "\n",
    "circuit1(0.5)"
   ]
  },
  {
   "cell_type": "code",
   "execution_count": 5,
   "metadata": {},
   "outputs": [
    {
     "name": "stdout",
     "output_type": "stream",
     "text": [
      "Help on function for_loop in module pennylane.qjit_compile:\n",
      "\n",
      "for_loop(*args, **kwargs)\n",
      "    A :func:`~.qjit` compatible for-loop decorator for PennyLane/Catalyst.\n",
      "    \n",
      "    This for-loop representation is a functional version of the traditional\n",
      "    for-loop, similar to ``jax.cond.fori_loop``. That is, any variables that\n",
      "    are modified across iterations need to be provided as inputs/outputs to\n",
      "    the loop body function:\n",
      "    \n",
      "    - Input arguments contain the value of a variable at the start of an\n",
      "      iteration.\n",
      "    \n",
      "    - output arguments contain the value at the end of the iteration. The\n",
      "      outputs are then fed back as inputs to the next iteration.\n",
      "    \n",
      "    The final iteration values are also returned from the transformed\n",
      "    function.\n",
      "    \n",
      "    This form of control flow can also be called from the Python interpreter without needing to use\n",
      "    :func:`~.qjit`.\n",
      "    \n",
      "    The semantics of ``for_loop`` are given by the following Python pseudo-code:\n",
      "    \n",
      "    .. code-block:: python\n",
      "    \n",
      "        def for_loop(lower_bound, upper_bound, step, loop_fn, *args):\n",
      "            for i in range(lower_bound, upper_bound, step):\n",
      "                args = loop_fn(i, *args)\n",
      "            return args\n",
      "    \n",
      "    Unlike ``jax.cond.fori_loop``, the step can be negative if it is known at tracing time\n",
      "    (i.e. constant). If a non-constant negative step is used, the loop will produce no iterations.\n",
      "    \n",
      "    Args:\n",
      "        lower_bound (int): starting value of the iteration index\n",
      "        upper_bound (int): (exclusive) upper bound of the iteration index\n",
      "        step (int): increment applied to the iteration index at the end of each iteration\n",
      "    \n",
      "    Returns:\n",
      "        Callable[[int, ...], ...]: A wrapper around the loop body function.\n",
      "        Note that the loop body function must always have the iteration index as its first argument,\n",
      "        which can be used arbitrarily inside the loop body. As the value of the index across\n",
      "        iterations is handled automatically by the provided loop bounds, it must not be returned\n",
      "        from the function.\n",
      "    \n",
      "    **Example**\n",
      "    \n",
      "    \n",
      "    .. code-block:: python\n",
      "    \n",
      "        dev = qml.device(\"lightning.qubit\", wires=1)\n",
      "    \n",
      "        @qjit\n",
      "        @qml.qnode(dev)\n",
      "        def circuit(n: int, x: float):\n",
      "    \n",
      "            def loop_rx(i, x):\n",
      "                # perform some work and update (some of) the arguments\n",
      "                qml.RX(x, wires=0)\n",
      "    \n",
      "                # update the value of x for the next iteration\n",
      "                return jnp.sin(x)\n",
      "    \n",
      "            # apply the for loop\n",
      "            final_x = for_loop(0, n, 1)(loop_rx)(x)\n",
      "    \n",
      "            return qml.expval(qml.PauliZ(0)), final_x\n",
      "    \n",
      "    >>> circuit(7, 1.6)\n",
      "    [array(0.97926626), array(0.55395718)]\n",
      "\n"
     ]
    }
   ],
   "source": [
    "help(qml.qjit)"
   ]
  },
  {
   "cell_type": "code",
   "execution_count": 2,
   "metadata": {},
   "outputs": [
    {
     "name": "stdout",
     "output_type": "stream",
     "text": [
      "module @circuit1 {\n",
      "  func.func public @jit_circuit1(%arg0: tensor<f64>) -> tensor<f64> attributes {llvm.emit_c_interface} {\n",
      "    %0 = call @circuit1(%arg0) : (tensor<f64>) -> tensor<f64>\n",
      "    return %0 : tensor<f64>\n",
      "  }\n",
      "  func.func private @circuit1(%arg0: tensor<f64>) -> tensor<f64> attributes {diff_method = \"finite-diff\", llvm.linkage = #llvm.linkage<internal>, qnode} {\n",
      "    \"quantum.device\"() {specs = [\"kwargs\", \"{'shots': 0}\"]} : () -> ()\n",
      "    \"quantum.device\"() {specs = [\"backend\", \"lightning.qubit\"]} : () -> ()\n",
      "    %0 = stablehlo.constant dense<2> : tensor<i64>\n",
      "    %1 = \"quantum.alloc\"() {nqubits_attr = 2 : i64} : () -> !quantum.reg\n",
      "    %2 = stablehlo.multiply %arg0, %arg0 : tensor<f64>\n",
      "    %3 = stablehlo.constant dense<0> : tensor<i64>\n",
      "    %4 = \"tensor.extract\"(%3) : (tensor<i64>) -> i64\n",
      "    %5 = \"quantum.extract\"(%1, %4) : (!quantum.reg, i64) -> !quantum.bit\n",
      "    %6 = \"tensor.extract\"(%arg0) : (tensor<f64>) -> f64\n",
      "    %7 = \"quantum.custom\"(%6, %5) {gate_name = \"RX\", operand_segment_sizes = array<i32: 1, 1>} : (f64, !quantum.bit) -> !quantum.bit\n",
      "    %8 = stablehlo.constant dense<1> : tensor<i64>\n",
      "    %9 = \"tensor.extract\"(%8) : (tensor<i64>) -> i64\n",
      "    %10 = \"quantum.extract\"(%1, %9) : (!quantum.reg, i64) -> !quantum.bit\n",
      "    %11 = \"tensor.extract\"(%2) : (tensor<f64>) -> f64\n",
      "    %12 = \"quantum.custom\"(%11, %10) {gate_name = \"RX\", operand_segment_sizes = array<i32: 1, 1>} : (f64, !quantum.bit) -> !quantum.bit\n",
      "    %13 = \"quantum.namedobs\"(%7) {type = #quantum<named_observable PauliZ>} : (!quantum.bit) -> !quantum.obs\n",
      "    %14 = \"quantum.expval\"(%13) : (!quantum.obs) -> f64\n",
      "    %15 = \"tensor.from_elements\"(%14) : (f64) -> tensor<f64>\n",
      "    \"quantum.dealloc\"(%1) : (!quantum.reg) -> ()\n",
      "    return %15 : tensor<f64>\n",
      "  }\n",
      "  func.func @setup() {\n",
      "    \"quantum.init\"() : () -> ()\n",
      "    return\n",
      "  }\n",
      "  func.func @teardown() {\n",
      "    \"quantum.finalize\"() : () -> ()\n",
      "    return\n",
      "  }\n",
      "}\n",
      "\n"
     ]
    }
   ],
   "source": [
    "dev = qml.device('lightning.qubit', wires=2)\n",
    "\n",
    "@qml.qjit(target=\"mlir\")\n",
    "@qml.qnode(dev)\n",
    "def circuit1(x: float):\n",
    "    qml.RX(x, wires=0)\n",
    "    qml.RX(x**2, wires=1)\n",
    "    return qml.expval(qml.PauliZ(0))\n",
    "\n",
    "print(circuit1.mlir)"
   ]
  },
  {
   "cell_type": "code",
   "execution_count": 3,
   "metadata": {},
   "outputs": [
    {
     "name": "stdout",
     "output_type": "stream",
     "text": [
      "3.3306690738754696e-16\n"
     ]
    }
   ],
   "source": [
    "dev = qml.device('lightning.qubit', wires=2)\n",
    "\n",
    "@qml.qjit\n",
    "@qml.qnode(dev)\n",
    "def circuit2(n: int):\n",
    "    @qml.for_loop(0, n, 1)\n",
    "    def loop_fn(_, x):\n",
    "        qml.RY(x, wires=0)\n",
    "        return x + np.pi / 4\n",
    "\n",
    "    loop_fn(0.0)\n",
    "    return qml.expval(qml.PauliZ(0))\n",
    "\n",
    "print(circuit2(5))"
   ]
  },
  {
   "cell_type": "code",
   "execution_count": 4,
   "metadata": {},
   "outputs": [],
   "source": [
    "dev = qml.device('lightning.qubit', wires=1)\n",
    "\n",
    "@qml.qjit\n",
    "@qml.qnode(dev)\n",
    "def circuit(x):\n",
    "    @qml.cond(x > 4.8)\n",
    "    def cond_fn():\n",
    "        return x * 8\n",
    "\n",
    "    @cond_fn.else_if(x > 2.7)\n",
    "    def cond_elif():\n",
    "        return x * 4\n",
    "\n",
    "    @cond_fn.else_if(x > 1.4)\n",
    "    def cond_elif2():\n",
    "        return x * 2\n",
    "\n",
    "    @cond_fn.otherwise\n",
    "    def cond_else():\n",
    "        return x\n",
    "\n",
    "    return cond_fn()\n",
    "\n",
    "assert circuit(5) == 40\n"
   ]
  },
  {
   "cell_type": "code",
   "execution_count": 7,
   "metadata": {},
   "outputs": [
    {
     "data": {
      "text/plain": [
       "array([0., 1.])"
      ]
     },
     "execution_count": 7,
     "metadata": {},
     "output_type": "execute_result"
    }
   ],
   "source": [
    "# Measure Test\n",
    "\n",
    "dev = qml.device(\"lightning.qubit\", wires=3)\n",
    "\n",
    "@qml.qjit\n",
    "@qml.qnode(dev)\n",
    "def func():\n",
    "    qml.PauliX(1)\n",
    "    m_0 = qml.measure(1)\n",
    "    return qml.probs(wires=[1])\n",
    "\n",
    "func()"
   ]
  },
  {
   "cell_type": "code",
   "execution_count": 10,
   "metadata": {},
   "outputs": [],
   "source": [
    "# Measure Test\n",
    "from jax import numpy as jnp\n",
    "\n",
    "@qml.qjit\n",
    "@qml.qnode(qml.device(\"lightning.qubit\", wires=2))\n",
    "def circuit(x: float):\n",
    "    qml.RX(x, wires=0)\n",
    "    m1 = qml.measure(wires=0)\n",
    "    maybe_pi = m1 * jnp.pi\n",
    "    qml.RX(maybe_pi, wires=1)\n",
    "    m2 = qml.measure(wires=1)\n",
    "    return m2\n",
    "\n",
    "assert circuit(jnp.pi)\n",
    "assert not circuit(0.0)\n"
   ]
  },
  {
   "cell_type": "code",
   "execution_count": 3,
   "metadata": {},
   "outputs": [
    {
     "data": {
      "text/plain": [
       "array(-0.86482227)"
      ]
     },
     "execution_count": 3,
     "metadata": {},
     "output_type": "execute_result"
    }
   ],
   "source": [
    "import pennylane as qml\n",
    "\n",
    "# Gradient Test\n",
    "def f(x):\n",
    "    qml.RX(x, wires=0)\n",
    "    return qml.expval(qml.PauliY(0))\n",
    "\n",
    "@qml.qjit\n",
    "def grad_fn(x: float):\n",
    "    g = qml.qnode(qml.device(\"lightning.qubit\", wires=1))(f)\n",
    "    h = qml.grad(g, argnum=0)\n",
    "    return h(x)\n",
    "\n",
    "grad_fn(0.526)"
   ]
  },
  {
   "cell_type": "code",
   "execution_count": null,
   "metadata": {},
   "outputs": [],
   "source": []
  },
  {
   "cell_type": "code",
   "execution_count": null,
   "metadata": {},
   "outputs": [],
   "source": []
  },
  {
   "cell_type": "code",
   "execution_count": null,
   "metadata": {},
   "outputs": [],
   "source": []
  },
  {
   "cell_type": "code",
   "execution_count": null,
   "metadata": {},
   "outputs": [],
   "source": []
  }
 ],
 "metadata": {
  "kernelspec": {
   "display_name": "py310",
   "language": "python",
   "name": "python3"
  },
  "language_info": {
   "codemirror_mode": {
    "name": "ipython",
    "version": 3
   },
   "file_extension": ".py",
   "mimetype": "text/x-python",
   "name": "python",
   "nbconvert_exporter": "python",
   "pygments_lexer": "ipython3",
   "version": "3.10.12"
  },
  "orig_nbformat": 4
 },
 "nbformat": 4,
 "nbformat_minor": 2
}
